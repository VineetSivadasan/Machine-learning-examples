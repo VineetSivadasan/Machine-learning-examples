{
 "cells": [
  {
   "cell_type": "code",
   "execution_count": 1,
   "id": "777d987a-3d0b-4d99-86be-6858636e0720",
   "metadata": {
    "tags": []
   },
   "outputs": [],
   "source": [
    "#pip install tensorflow"
   ]
  },
  {
   "cell_type": "code",
   "execution_count": 2,
   "id": "f4b6c837-646e-4c31-aa28-b325170355ab",
   "metadata": {
    "tags": []
   },
   "outputs": [],
   "source": [
    "import numpy as np\n",
    "import pandas as pd\n",
    "import matplotlib.pyplot as plt"
   ]
  },
  {
   "cell_type": "code",
   "execution_count": 3,
   "id": "f5c3823a-ded0-4e19-ad27-9648def16050",
   "metadata": {
    "tags": []
   },
   "outputs": [
    {
     "name": "stdout",
     "output_type": "stream",
     "text": [
      "WARNING:tensorflow:From C:\\Users\\vineetsivadasan\\anaconda3\\Lib\\site-packages\\keras\\src\\losses.py:2976: The name tf.losses.sparse_softmax_cross_entropy is deprecated. Please use tf.compat.v1.losses.sparse_softmax_cross_entropy instead.\n",
      "\n"
     ]
    }
   ],
   "source": [
    "from keras.models import Sequential\n",
    "from keras.layers import Dense, Dropout, Activation"
   ]
  },
  {
   "cell_type": "code",
   "execution_count": 4,
   "id": "97ba8136-3c85-4f09-bfd6-f8691ad23edc",
   "metadata": {
    "tags": []
   },
   "outputs": [],
   "source": [
    "from sklearn.metrics import confusion_matrix\n",
    "from sklearn.metrics import precision_score\n",
    "from sklearn.metrics import recall_score\n",
    "from sklearn.metrics import f1_score\n",
    "from sklearn.metrics import classification_report"
   ]
  },
  {
   "cell_type": "code",
   "execution_count": 5,
   "id": "2422c460-cc36-48cd-a83e-dc2e9b1c0165",
   "metadata": {
    "tags": []
   },
   "outputs": [],
   "source": [
    "import seaborn as sns"
   ]
  },
  {
   "cell_type": "code",
   "execution_count": 6,
   "id": "990ee364-0e59-48ed-8abf-90c8f4b0262c",
   "metadata": {},
   "outputs": [],
   "source": [
    "import imblearn\n",
    "from imblearn.over_sampling import SMOTE"
   ]
  },
  {
   "cell_type": "code",
   "execution_count": 7,
   "id": "0a5acbd7-9648-4525-abbf-db722b99dd11",
   "metadata": {},
   "outputs": [],
   "source": [
    "from collections import Counter"
   ]
  },
  {
   "cell_type": "code",
   "execution_count": 8,
   "id": "af3a130f-c9c5-42d7-a6b1-510384e4a882",
   "metadata": {
    "tags": []
   },
   "outputs": [],
   "source": [
    "import pickle"
   ]
  },
  {
   "cell_type": "code",
   "execution_count": 9,
   "id": "b9af43e3-835a-496c-9ad5-89c060406e6c",
   "metadata": {
    "tags": []
   },
   "outputs": [],
   "source": [
    "df = pd.read_csv(\"log_dataset.csv\")"
   ]
  },
  {
   "cell_type": "code",
   "execution_count": 10,
   "id": "47976ae5-5ce8-4e05-88e7-0c6d585d891b",
   "metadata": {
    "tags": []
   },
   "outputs": [
    {
     "data": {
      "text/html": [
       "<div>\n",
       "<style scoped>\n",
       "    .dataframe tbody tr th:only-of-type {\n",
       "        vertical-align: middle;\n",
       "    }\n",
       "\n",
       "    .dataframe tbody tr th {\n",
       "        vertical-align: top;\n",
       "    }\n",
       "\n",
       "    .dataframe thead th {\n",
       "        text-align: right;\n",
       "    }\n",
       "</style>\n",
       "<table border=\"1\" class=\"dataframe\">\n",
       "  <thead>\n",
       "    <tr style=\"text-align: right;\">\n",
       "      <th></th>\n",
       "      <th>username</th>\n",
       "      <th>log_entry</th>\n",
       "    </tr>\n",
       "  </thead>\n",
       "  <tbody>\n",
       "    <tr>\n",
       "      <th>0</th>\n",
       "      <td>george</td>\n",
       "      <td>14.94.217.222 - - [27/Dec/2037:12:00:00 +0000] \"['GET'] ['/usr'] HTTP/1.0\" ['303'] 5041 \"['http://morgan.biz/wp-contentcategory.htm']\" \"['Mozilla/5.0 (Linux; Android 10; ONEPLUS A6000) AppleWebKit/537.36 (KHTML, like Gecko) Chrome/86.0.4240.198 Mobile Safari/537.36 OPR/61.2.3076.56749']\" 4077\\n</td>\n",
       "    </tr>\n",
       "    <tr>\n",
       "      <th>1</th>\n",
       "      <td>paul</td>\n",
       "      <td>193.223.88.250 - - [27/Dec/2037:12:00:00 +0000] \"['GET'] ['/usr/register'] HTTP/1.0\" ['502'] 5063 \"['-']\" \"['Mozilla/5.0 (Linux; Android 10; ONEPLUS A6000) AppleWebKit/537.36 (KHTML, like Gecko) Chrome/86.0.4240.198 Mobile Safari/537.36 OPR/61.2.3076.56749']\" 2491\\n</td>\n",
       "    </tr>\n",
       "    <tr>\n",
       "      <th>2</th>\n",
       "      <td>george</td>\n",
       "      <td>111.75.113.143 - - [27/Dec/2037:12:00:00 +0000] \"['GET'] ['/usr/admin'] HTTP/1.0\" ['304'] 5055 \"['http://morgan.biz/wp-contentcategory.htm']\" \"['Mozilla/5.0 (Linux; Android 10; ONEPLUS A6000) AppleWebKit/537.36 (KHTML, like Gecko) Chrome/87.0.4280.141 Mobile Safari/537.36']\" 2646\\n</td>\n",
       "    </tr>\n",
       "    <tr>\n",
       "      <th>3</th>\n",
       "      <td>george</td>\n",
       "      <td>129.185.58.19 - - [27/Dec/2037:12:00:00 +0000] \"['POST'] ['/usr/admin'] HTTP/1.0\" ['403'] 4931 \"['http://morgan.biz/wp-contentcategory.htm']\" \"['Mozilla/5.0 (Windows NT 10.0; Win64; x64; rv:84.0) Gecko/20100101 Firefox/84.0']\" 834\\n</td>\n",
       "    </tr>\n",
       "    <tr>\n",
       "      <th>4</th>\n",
       "      <td>john</td>\n",
       "      <td>40.181.173.69 - - [27/Dec/2037:12:00:00 +0000] \"['POST'] ['/usr'] HTTP/1.0\" ['304'] 5014 \"['-']\" \"['Mozilla/5.0 (iPhone; CPU iPhone OS 12_4_9 like Mac OS X) AppleWebKit/605.1.15 (KHTML, like Gecko) Version/12.1.2 Mobile/15E148 Safari/604.1']\" 3221\\n</td>\n",
       "    </tr>\n",
       "  </tbody>\n",
       "</table>\n",
       "</div>"
      ],
      "text/plain": [
       "  username  \\\n",
       "0   george   \n",
       "1     paul   \n",
       "2   george   \n",
       "3   george   \n",
       "4     john   \n",
       "\n",
       "                                                                                                                                                                                                                                                                                                 log_entry  \n",
       "0  14.94.217.222 - - [27/Dec/2037:12:00:00 +0000] \"['GET'] ['/usr'] HTTP/1.0\" ['303'] 5041 \"['http://morgan.biz/wp-contentcategory.htm']\" \"['Mozilla/5.0 (Linux; Android 10; ONEPLUS A6000) AppleWebKit/537.36 (KHTML, like Gecko) Chrome/86.0.4240.198 Mobile Safari/537.36 OPR/61.2.3076.56749']\" 4077\\n  \n",
       "1                               193.223.88.250 - - [27/Dec/2037:12:00:00 +0000] \"['GET'] ['/usr/register'] HTTP/1.0\" ['502'] 5063 \"['-']\" \"['Mozilla/5.0 (Linux; Android 10; ONEPLUS A6000) AppleWebKit/537.36 (KHTML, like Gecko) Chrome/86.0.4240.198 Mobile Safari/537.36 OPR/61.2.3076.56749']\" 2491\\n  \n",
       "2               111.75.113.143 - - [27/Dec/2037:12:00:00 +0000] \"['GET'] ['/usr/admin'] HTTP/1.0\" ['304'] 5055 \"['http://morgan.biz/wp-contentcategory.htm']\" \"['Mozilla/5.0 (Linux; Android 10; ONEPLUS A6000) AppleWebKit/537.36 (KHTML, like Gecko) Chrome/87.0.4280.141 Mobile Safari/537.36']\" 2646\\n  \n",
       "3                                                                 129.185.58.19 - - [27/Dec/2037:12:00:00 +0000] \"['POST'] ['/usr/admin'] HTTP/1.0\" ['403'] 4931 \"['http://morgan.biz/wp-contentcategory.htm']\" \"['Mozilla/5.0 (Windows NT 10.0; Win64; x64; rv:84.0) Gecko/20100101 Firefox/84.0']\" 834\\n  \n",
       "4                                                40.181.173.69 - - [27/Dec/2037:12:00:00 +0000] \"['POST'] ['/usr'] HTTP/1.0\" ['304'] 5014 \"['-']\" \"['Mozilla/5.0 (iPhone; CPU iPhone OS 12_4_9 like Mac OS X) AppleWebKit/605.1.15 (KHTML, like Gecko) Version/12.1.2 Mobile/15E148 Safari/604.1']\" 3221\\n  "
      ]
     },
     "execution_count": 10,
     "metadata": {},
     "output_type": "execute_result"
    }
   ],
   "source": [
    "pd.set_option(\"display.max_colwidth\", None)\n",
    "df.head()"
   ]
  },
  {
   "cell_type": "markdown",
   "id": "d0eb9bae-cf83-49f8-8c85-3c70e214d791",
   "metadata": {},
   "source": [
    "# **Clean the data**"
   ]
  },
  {
   "cell_type": "code",
   "execution_count": 11,
   "id": "e9e270b3-542a-4018-9bbb-4400608b7f09",
   "metadata": {
    "tags": []
   },
   "outputs": [
    {
     "data": {
      "text/html": [
       "<div>\n",
       "<style scoped>\n",
       "    .dataframe tbody tr th:only-of-type {\n",
       "        vertical-align: middle;\n",
       "    }\n",
       "\n",
       "    .dataframe tbody tr th {\n",
       "        vertical-align: top;\n",
       "    }\n",
       "\n",
       "    .dataframe thead th {\n",
       "        text-align: right;\n",
       "    }\n",
       "</style>\n",
       "<table border=\"1\" class=\"dataframe\">\n",
       "  <thead>\n",
       "    <tr style=\"text-align: right;\">\n",
       "      <th></th>\n",
       "      <th>username</th>\n",
       "      <th>IP and Event Time</th>\n",
       "      <th>Request Type and Endpoint</th>\n",
       "      <th>Status Code</th>\n",
       "      <th>Referrer</th>\n",
       "      <th>4</th>\n",
       "      <th>User Agent</th>\n",
       "      <th>6</th>\n",
       "    </tr>\n",
       "  </thead>\n",
       "  <tbody>\n",
       "    <tr>\n",
       "      <th>0</th>\n",
       "      <td>george</td>\n",
       "      <td>14.94.217.222 - - [27/Dec/2037:12:00:00 +0000]</td>\n",
       "      <td>['GET'] ['/usr'] HTTP/1.0</td>\n",
       "      <td>['303'] 5041</td>\n",
       "      <td>['http://morgan.biz/wp-contentcategory.htm']</td>\n",
       "      <td></td>\n",
       "      <td>['Mozilla/5.0 (Linux; Android 10; ONEPLUS A6000) AppleWebKit/537.36 (KHTML, like Gecko) Chrome/86.0.4240.198 Mobile Safari/537.36 OPR/61.2.3076.56749']</td>\n",
       "      <td>4077\\n</td>\n",
       "    </tr>\n",
       "    <tr>\n",
       "      <th>1</th>\n",
       "      <td>paul</td>\n",
       "      <td>193.223.88.250 - - [27/Dec/2037:12:00:00 +0000]</td>\n",
       "      <td>['GET'] ['/usr/register'] HTTP/1.0</td>\n",
       "      <td>['502'] 5063</td>\n",
       "      <td>['-']</td>\n",
       "      <td></td>\n",
       "      <td>['Mozilla/5.0 (Linux; Android 10; ONEPLUS A6000) AppleWebKit/537.36 (KHTML, like Gecko) Chrome/86.0.4240.198 Mobile Safari/537.36 OPR/61.2.3076.56749']</td>\n",
       "      <td>2491\\n</td>\n",
       "    </tr>\n",
       "    <tr>\n",
       "      <th>2</th>\n",
       "      <td>george</td>\n",
       "      <td>111.75.113.143 - - [27/Dec/2037:12:00:00 +0000]</td>\n",
       "      <td>['GET'] ['/usr/admin'] HTTP/1.0</td>\n",
       "      <td>['304'] 5055</td>\n",
       "      <td>['http://morgan.biz/wp-contentcategory.htm']</td>\n",
       "      <td></td>\n",
       "      <td>['Mozilla/5.0 (Linux; Android 10; ONEPLUS A6000) AppleWebKit/537.36 (KHTML, like Gecko) Chrome/87.0.4280.141 Mobile Safari/537.36']</td>\n",
       "      <td>2646\\n</td>\n",
       "    </tr>\n",
       "    <tr>\n",
       "      <th>3</th>\n",
       "      <td>george</td>\n",
       "      <td>129.185.58.19 - - [27/Dec/2037:12:00:00 +0000]</td>\n",
       "      <td>['POST'] ['/usr/admin'] HTTP/1.0</td>\n",
       "      <td>['403'] 4931</td>\n",
       "      <td>['http://morgan.biz/wp-contentcategory.htm']</td>\n",
       "      <td></td>\n",
       "      <td>['Mozilla/5.0 (Windows NT 10.0; Win64; x64; rv:84.0) Gecko/20100101 Firefox/84.0']</td>\n",
       "      <td>834\\n</td>\n",
       "    </tr>\n",
       "    <tr>\n",
       "      <th>4</th>\n",
       "      <td>john</td>\n",
       "      <td>40.181.173.69 - - [27/Dec/2037:12:00:00 +0000]</td>\n",
       "      <td>['POST'] ['/usr'] HTTP/1.0</td>\n",
       "      <td>['304'] 5014</td>\n",
       "      <td>['-']</td>\n",
       "      <td></td>\n",
       "      <td>['Mozilla/5.0 (iPhone; CPU iPhone OS 12_4_9 like Mac OS X) AppleWebKit/605.1.15 (KHTML, like Gecko) Version/12.1.2 Mobile/15E148 Safari/604.1']</td>\n",
       "      <td>3221\\n</td>\n",
       "    </tr>\n",
       "  </tbody>\n",
       "</table>\n",
       "</div>"
      ],
      "text/plain": [
       "  username                                 IP and Event Time  \\\n",
       "0   george   14.94.217.222 - - [27/Dec/2037:12:00:00 +0000]    \n",
       "1     paul  193.223.88.250 - - [27/Dec/2037:12:00:00 +0000]    \n",
       "2   george  111.75.113.143 - - [27/Dec/2037:12:00:00 +0000]    \n",
       "3   george   129.185.58.19 - - [27/Dec/2037:12:00:00 +0000]    \n",
       "4     john   40.181.173.69 - - [27/Dec/2037:12:00:00 +0000]    \n",
       "\n",
       "            Request Type and Endpoint     Status Code  \\\n",
       "0           ['GET'] ['/usr'] HTTP/1.0   ['303'] 5041    \n",
       "1  ['GET'] ['/usr/register'] HTTP/1.0   ['502'] 5063    \n",
       "2     ['GET'] ['/usr/admin'] HTTP/1.0   ['304'] 5055    \n",
       "3    ['POST'] ['/usr/admin'] HTTP/1.0   ['403'] 4931    \n",
       "4          ['POST'] ['/usr'] HTTP/1.0   ['304'] 5014    \n",
       "\n",
       "                                       Referrer  4  \\\n",
       "0  ['http://morgan.biz/wp-contentcategory.htm']      \n",
       "1                                         ['-']      \n",
       "2  ['http://morgan.biz/wp-contentcategory.htm']      \n",
       "3  ['http://morgan.biz/wp-contentcategory.htm']      \n",
       "4                                         ['-']      \n",
       "\n",
       "                                                                                                                                                User Agent  \\\n",
       "0  ['Mozilla/5.0 (Linux; Android 10; ONEPLUS A6000) AppleWebKit/537.36 (KHTML, like Gecko) Chrome/86.0.4240.198 Mobile Safari/537.36 OPR/61.2.3076.56749']   \n",
       "1  ['Mozilla/5.0 (Linux; Android 10; ONEPLUS A6000) AppleWebKit/537.36 (KHTML, like Gecko) Chrome/86.0.4240.198 Mobile Safari/537.36 OPR/61.2.3076.56749']   \n",
       "2                      ['Mozilla/5.0 (Linux; Android 10; ONEPLUS A6000) AppleWebKit/537.36 (KHTML, like Gecko) Chrome/87.0.4280.141 Mobile Safari/537.36']   \n",
       "3                                                                       ['Mozilla/5.0 (Windows NT 10.0; Win64; x64; rv:84.0) Gecko/20100101 Firefox/84.0']   \n",
       "4          ['Mozilla/5.0 (iPhone; CPU iPhone OS 12_4_9 like Mac OS X) AppleWebKit/605.1.15 (KHTML, like Gecko) Version/12.1.2 Mobile/15E148 Safari/604.1']   \n",
       "\n",
       "         6  \n",
       "0   4077\\n  \n",
       "1   2491\\n  \n",
       "2   2646\\n  \n",
       "3    834\\n  \n",
       "4   3221\\n  "
      ]
     },
     "execution_count": 11,
     "metadata": {},
     "output_type": "execute_result"
    }
   ],
   "source": [
    "# Split the 'log_entry\" column into multiple columns wherever the '\"' character appears. Give the new columns, new names\n",
    "df[['IP and Event Time','Request Type and Endpoint','Status Code','Referrer','4','User Agent','6']] = df['log_entry'].str.split('\"', expand=True)\n",
    "df.drop(columns=['log_entry'], inplace=True)\n",
    "df.head()"
   ]
  },
  {
   "cell_type": "code",
   "execution_count": 12,
   "id": "2d026276-de07-4ef8-afcc-9ff99fad642d",
   "metadata": {},
   "outputs": [],
   "source": [
    "# Split the 'IP and Event Time column into IP and Event Time. Drop the original columnn\n",
    "df[['IP','Event Time']] = df['IP and Event Time'].str.split('- -', expand=True)\n",
    "df.drop(columns=['IP and Event Time'], inplace=True)"
   ]
  },
  {
   "cell_type": "code",
   "execution_count": 13,
   "id": "94ccebb3-1af1-4304-a99c-99604577a142",
   "metadata": {
    "tags": []
   },
   "outputs": [],
   "source": [
    "# In the 'Request Type and Endpoint' column drop the 'HTTP/1.0' string\n",
    "df['Request Type and Endpoint'] = df['Request Type and Endpoint'].str.replace('HTTP/1.0', '')"
   ]
  },
  {
   "cell_type": "code",
   "execution_count": 14,
   "id": "13e06321-3a2f-4cb4-b73f-525478b5024b",
   "metadata": {
    "tags": []
   },
   "outputs": [
    {
     "data": {
      "text/plain": [
       "array([' '], dtype=object)"
      ]
     },
     "execution_count": 14,
     "metadata": {},
     "output_type": "execute_result"
    }
   ],
   "source": [
    "# Check what's in column '4'\n",
    "df['4'].unique()"
   ]
  },
  {
   "cell_type": "code",
   "execution_count": 15,
   "id": "431d4934-8ed7-4a16-abba-8aa2890e4d37",
   "metadata": {
    "tags": []
   },
   "outputs": [],
   "source": [
    "# Since there's nothing in column '4', drop it\n",
    "df.drop(columns=['4'],inplace=True)"
   ]
  },
  {
   "cell_type": "code",
   "execution_count": 16,
   "id": "b62c5490-1ff0-4b00-bdad-440fe7405ab3",
   "metadata": {
    "tags": []
   },
   "outputs": [],
   "source": [
    "# remove square brackets in every column\n",
    "for c in df.columns:\n",
    "    df[c] = df[c].str.replace(\"]\",\"\")\n",
    "    df[c] = df[c].str.replace(\"[\",\"\")"
   ]
  },
  {
   "cell_type": "code",
   "execution_count": 17,
   "id": "3b49f831-9bca-4143-9031-a37a92e6ed00",
   "metadata": {
    "tags": []
   },
   "outputs": [],
   "source": [
    "# Split the 'Request Type and Endpoint' column into separate 'Request Type' and 'Endpoint' columns\n",
    "df[['Request Type','Endpoint']] = df['Request Type and Endpoint'].str.split(' ', expand=True).drop(columns=[2])\n",
    "df.drop(columns=['Request Type and Endpoint'], inplace=True)"
   ]
  },
  {
   "cell_type": "code",
   "execution_count": 18,
   "id": "8c3950ed-6d98-4527-91d6-b50059fee10b",
   "metadata": {
    "tags": []
   },
   "outputs": [
    {
     "data": {
      "text/plain": [
       "0         '303' 5041 \n",
       "1         '502' 5063 \n",
       "2         '304' 5055 \n",
       "3         '403' 4931 \n",
       "4         '304' 5014 \n",
       "             ...     \n",
       "99995     '403' 4948 \n",
       "99996     '500' 4983 \n",
       "99997     '500' 5016 \n",
       "99998     '304' 5084 \n",
       "99999     '502' 5066 \n",
       "Name: Status Code, Length: 100000, dtype: object"
      ]
     },
     "execution_count": 18,
     "metadata": {},
     "output_type": "execute_result"
    }
   ],
   "source": [
    "df['Status Code']"
   ]
  },
  {
   "cell_type": "code",
   "execution_count": 19,
   "id": "370c51f5-4591-4d3e-9860-7c43dceea9ae",
   "metadata": {
    "tags": []
   },
   "outputs": [],
   "source": [
    "# Split the 'Status Code' column into a column for the 'Status Code' and another one for the 'Status Code Number'\n",
    "df[['Status Code','Status Code Number']] = df['Status Code'].str.split(\" \", expand=True).drop(columns=[0,3])\n"
   ]
  },
  {
   "cell_type": "code",
   "execution_count": 20,
   "id": "348666f8-6091-42aa-aeb6-197825186eee",
   "metadata": {
    "tags": []
   },
   "outputs": [
    {
     "data": {
      "text/html": [
       "<div>\n",
       "<style scoped>\n",
       "    .dataframe tbody tr th:only-of-type {\n",
       "        vertical-align: middle;\n",
       "    }\n",
       "\n",
       "    .dataframe tbody tr th {\n",
       "        vertical-align: top;\n",
       "    }\n",
       "\n",
       "    .dataframe thead th {\n",
       "        text-align: right;\n",
       "    }\n",
       "</style>\n",
       "<table border=\"1\" class=\"dataframe\">\n",
       "  <thead>\n",
       "    <tr style=\"text-align: right;\">\n",
       "      <th></th>\n",
       "      <th>username</th>\n",
       "      <th>Status Code</th>\n",
       "      <th>Referrer</th>\n",
       "      <th>User Agent</th>\n",
       "      <th>6</th>\n",
       "      <th>IP</th>\n",
       "      <th>Event Time</th>\n",
       "      <th>Request Type</th>\n",
       "      <th>Endpoint</th>\n",
       "      <th>Status Code Number</th>\n",
       "    </tr>\n",
       "  </thead>\n",
       "  <tbody>\n",
       "    <tr>\n",
       "      <th>0</th>\n",
       "      <td>george</td>\n",
       "      <td>'303'</td>\n",
       "      <td>'http://morgan.biz/wp-contentcategory.htm'</td>\n",
       "      <td>'Mozilla/5.0 (Linux; Android 10; ONEPLUS A6000) AppleWebKit/537.36 (KHTML, like Gecko) Chrome/86.0.4240.198 Mobile Safari/537.36 OPR/61.2.3076.56749'</td>\n",
       "      <td>4077\\n</td>\n",
       "      <td>14.94.217.222</td>\n",
       "      <td>27/Dec/2037:12:00:00 +0000</td>\n",
       "      <td>'GET'</td>\n",
       "      <td>'/usr'</td>\n",
       "      <td>5041</td>\n",
       "    </tr>\n",
       "    <tr>\n",
       "      <th>1</th>\n",
       "      <td>paul</td>\n",
       "      <td>'502'</td>\n",
       "      <td>'-'</td>\n",
       "      <td>'Mozilla/5.0 (Linux; Android 10; ONEPLUS A6000) AppleWebKit/537.36 (KHTML, like Gecko) Chrome/86.0.4240.198 Mobile Safari/537.36 OPR/61.2.3076.56749'</td>\n",
       "      <td>2491\\n</td>\n",
       "      <td>193.223.88.250</td>\n",
       "      <td>27/Dec/2037:12:00:00 +0000</td>\n",
       "      <td>'GET'</td>\n",
       "      <td>'/usr/register'</td>\n",
       "      <td>5063</td>\n",
       "    </tr>\n",
       "    <tr>\n",
       "      <th>2</th>\n",
       "      <td>george</td>\n",
       "      <td>'304'</td>\n",
       "      <td>'http://morgan.biz/wp-contentcategory.htm'</td>\n",
       "      <td>'Mozilla/5.0 (Linux; Android 10; ONEPLUS A6000) AppleWebKit/537.36 (KHTML, like Gecko) Chrome/87.0.4280.141 Mobile Safari/537.36'</td>\n",
       "      <td>2646\\n</td>\n",
       "      <td>111.75.113.143</td>\n",
       "      <td>27/Dec/2037:12:00:00 +0000</td>\n",
       "      <td>'GET'</td>\n",
       "      <td>'/usr/admin'</td>\n",
       "      <td>5055</td>\n",
       "    </tr>\n",
       "    <tr>\n",
       "      <th>3</th>\n",
       "      <td>george</td>\n",
       "      <td>'403'</td>\n",
       "      <td>'http://morgan.biz/wp-contentcategory.htm'</td>\n",
       "      <td>'Mozilla/5.0 (Windows NT 10.0; Win64; x64; rv:84.0) Gecko/20100101 Firefox/84.0'</td>\n",
       "      <td>834\\n</td>\n",
       "      <td>129.185.58.19</td>\n",
       "      <td>27/Dec/2037:12:00:00 +0000</td>\n",
       "      <td>'POST'</td>\n",
       "      <td>'/usr/admin'</td>\n",
       "      <td>4931</td>\n",
       "    </tr>\n",
       "    <tr>\n",
       "      <th>4</th>\n",
       "      <td>john</td>\n",
       "      <td>'304'</td>\n",
       "      <td>'-'</td>\n",
       "      <td>'Mozilla/5.0 (iPhone; CPU iPhone OS 12_4_9 like Mac OS X) AppleWebKit/605.1.15 (KHTML, like Gecko) Version/12.1.2 Mobile/15E148 Safari/604.1'</td>\n",
       "      <td>3221\\n</td>\n",
       "      <td>40.181.173.69</td>\n",
       "      <td>27/Dec/2037:12:00:00 +0000</td>\n",
       "      <td>'POST'</td>\n",
       "      <td>'/usr'</td>\n",
       "      <td>5014</td>\n",
       "    </tr>\n",
       "  </tbody>\n",
       "</table>\n",
       "</div>"
      ],
      "text/plain": [
       "  username Status Code                                    Referrer  \\\n",
       "0   george       '303'  'http://morgan.biz/wp-contentcategory.htm'   \n",
       "1     paul       '502'                                         '-'   \n",
       "2   george       '304'  'http://morgan.biz/wp-contentcategory.htm'   \n",
       "3   george       '403'  'http://morgan.biz/wp-contentcategory.htm'   \n",
       "4     john       '304'                                         '-'   \n",
       "\n",
       "                                                                                                                                              User Agent  \\\n",
       "0  'Mozilla/5.0 (Linux; Android 10; ONEPLUS A6000) AppleWebKit/537.36 (KHTML, like Gecko) Chrome/86.0.4240.198 Mobile Safari/537.36 OPR/61.2.3076.56749'   \n",
       "1  'Mozilla/5.0 (Linux; Android 10; ONEPLUS A6000) AppleWebKit/537.36 (KHTML, like Gecko) Chrome/86.0.4240.198 Mobile Safari/537.36 OPR/61.2.3076.56749'   \n",
       "2                      'Mozilla/5.0 (Linux; Android 10; ONEPLUS A6000) AppleWebKit/537.36 (KHTML, like Gecko) Chrome/87.0.4280.141 Mobile Safari/537.36'   \n",
       "3                                                                       'Mozilla/5.0 (Windows NT 10.0; Win64; x64; rv:84.0) Gecko/20100101 Firefox/84.0'   \n",
       "4          'Mozilla/5.0 (iPhone; CPU iPhone OS 12_4_9 like Mac OS X) AppleWebKit/605.1.15 (KHTML, like Gecko) Version/12.1.2 Mobile/15E148 Safari/604.1'   \n",
       "\n",
       "         6               IP                    Event Time Request Type  \\\n",
       "0   4077\\n   14.94.217.222    27/Dec/2037:12:00:00 +0000         'GET'   \n",
       "1   2491\\n  193.223.88.250    27/Dec/2037:12:00:00 +0000         'GET'   \n",
       "2   2646\\n  111.75.113.143    27/Dec/2037:12:00:00 +0000         'GET'   \n",
       "3    834\\n   129.185.58.19    27/Dec/2037:12:00:00 +0000        'POST'   \n",
       "4   3221\\n   40.181.173.69    27/Dec/2037:12:00:00 +0000        'POST'   \n",
       "\n",
       "          Endpoint Status Code Number  \n",
       "0           '/usr'               5041  \n",
       "1  '/usr/register'               5063  \n",
       "2     '/usr/admin'               5055  \n",
       "3     '/usr/admin'               4931  \n",
       "4           '/usr'               5014  "
      ]
     },
     "execution_count": 20,
     "metadata": {},
     "output_type": "execute_result"
    }
   ],
   "source": [
    "df.head()"
   ]
  },
  {
   "cell_type": "code",
   "execution_count": 21,
   "id": "7a955893-a472-454f-bb5b-b6b87c7bb1d1",
   "metadata": {
    "tags": []
   },
   "outputs": [],
   "source": [
    "# Rearrange the columns in the dataframe \n",
    "df = df[['username','Event Time','Request Type','Endpoint','Status Code','Referrer','User Agent','IP','Status Code Number','6']]"
   ]
  },
  {
   "cell_type": "code",
   "execution_count": 22,
   "id": "5b457a81-1092-42a5-aa32-525b23380840",
   "metadata": {
    "tags": []
   },
   "outputs": [
    {
     "data": {
      "text/html": [
       "<div>\n",
       "<style scoped>\n",
       "    .dataframe tbody tr th:only-of-type {\n",
       "        vertical-align: middle;\n",
       "    }\n",
       "\n",
       "    .dataframe tbody tr th {\n",
       "        vertical-align: top;\n",
       "    }\n",
       "\n",
       "    .dataframe thead th {\n",
       "        text-align: right;\n",
       "    }\n",
       "</style>\n",
       "<table border=\"1\" class=\"dataframe\">\n",
       "  <thead>\n",
       "    <tr style=\"text-align: right;\">\n",
       "      <th></th>\n",
       "      <th>username</th>\n",
       "      <th>Event Time</th>\n",
       "      <th>Request Type</th>\n",
       "      <th>Endpoint</th>\n",
       "      <th>Status Code</th>\n",
       "      <th>Referrer</th>\n",
       "      <th>User Agent</th>\n",
       "      <th>IP</th>\n",
       "      <th>Status Code Number</th>\n",
       "      <th>6</th>\n",
       "    </tr>\n",
       "  </thead>\n",
       "  <tbody>\n",
       "    <tr>\n",
       "      <th>0</th>\n",
       "      <td>george</td>\n",
       "      <td>27/Dec/2037:12:00:00 +0000</td>\n",
       "      <td>'GET'</td>\n",
       "      <td>'/usr'</td>\n",
       "      <td>'303'</td>\n",
       "      <td>'http://morgan.biz/wp-contentcategory.htm'</td>\n",
       "      <td>'Mozilla/5.0 (Linux; Android 10; ONEPLUS A6000) AppleWebKit/537.36 (KHTML, like Gecko) Chrome/86.0.4240.198 Mobile Safari/537.36 OPR/61.2.3076.56749'</td>\n",
       "      <td>14.94.217.222</td>\n",
       "      <td>5041</td>\n",
       "      <td>4077\\n</td>\n",
       "    </tr>\n",
       "    <tr>\n",
       "      <th>1</th>\n",
       "      <td>paul</td>\n",
       "      <td>27/Dec/2037:12:00:00 +0000</td>\n",
       "      <td>'GET'</td>\n",
       "      <td>'/usr/register'</td>\n",
       "      <td>'502'</td>\n",
       "      <td>'-'</td>\n",
       "      <td>'Mozilla/5.0 (Linux; Android 10; ONEPLUS A6000) AppleWebKit/537.36 (KHTML, like Gecko) Chrome/86.0.4240.198 Mobile Safari/537.36 OPR/61.2.3076.56749'</td>\n",
       "      <td>193.223.88.250</td>\n",
       "      <td>5063</td>\n",
       "      <td>2491\\n</td>\n",
       "    </tr>\n",
       "    <tr>\n",
       "      <th>2</th>\n",
       "      <td>george</td>\n",
       "      <td>27/Dec/2037:12:00:00 +0000</td>\n",
       "      <td>'GET'</td>\n",
       "      <td>'/usr/admin'</td>\n",
       "      <td>'304'</td>\n",
       "      <td>'http://morgan.biz/wp-contentcategory.htm'</td>\n",
       "      <td>'Mozilla/5.0 (Linux; Android 10; ONEPLUS A6000) AppleWebKit/537.36 (KHTML, like Gecko) Chrome/87.0.4280.141 Mobile Safari/537.36'</td>\n",
       "      <td>111.75.113.143</td>\n",
       "      <td>5055</td>\n",
       "      <td>2646\\n</td>\n",
       "    </tr>\n",
       "    <tr>\n",
       "      <th>3</th>\n",
       "      <td>george</td>\n",
       "      <td>27/Dec/2037:12:00:00 +0000</td>\n",
       "      <td>'POST'</td>\n",
       "      <td>'/usr/admin'</td>\n",
       "      <td>'403'</td>\n",
       "      <td>'http://morgan.biz/wp-contentcategory.htm'</td>\n",
       "      <td>'Mozilla/5.0 (Windows NT 10.0; Win64; x64; rv:84.0) Gecko/20100101 Firefox/84.0'</td>\n",
       "      <td>129.185.58.19</td>\n",
       "      <td>4931</td>\n",
       "      <td>834\\n</td>\n",
       "    </tr>\n",
       "    <tr>\n",
       "      <th>4</th>\n",
       "      <td>john</td>\n",
       "      <td>27/Dec/2037:12:00:00 +0000</td>\n",
       "      <td>'POST'</td>\n",
       "      <td>'/usr'</td>\n",
       "      <td>'304'</td>\n",
       "      <td>'-'</td>\n",
       "      <td>'Mozilla/5.0 (iPhone; CPU iPhone OS 12_4_9 like Mac OS X) AppleWebKit/605.1.15 (KHTML, like Gecko) Version/12.1.2 Mobile/15E148 Safari/604.1'</td>\n",
       "      <td>40.181.173.69</td>\n",
       "      <td>5014</td>\n",
       "      <td>3221\\n</td>\n",
       "    </tr>\n",
       "  </tbody>\n",
       "</table>\n",
       "</div>"
      ],
      "text/plain": [
       "  username                    Event Time Request Type         Endpoint  \\\n",
       "0   george   27/Dec/2037:12:00:00 +0000         'GET'           '/usr'   \n",
       "1     paul   27/Dec/2037:12:00:00 +0000         'GET'  '/usr/register'   \n",
       "2   george   27/Dec/2037:12:00:00 +0000         'GET'     '/usr/admin'   \n",
       "3   george   27/Dec/2037:12:00:00 +0000        'POST'     '/usr/admin'   \n",
       "4     john   27/Dec/2037:12:00:00 +0000        'POST'           '/usr'   \n",
       "\n",
       "  Status Code                                    Referrer  \\\n",
       "0       '303'  'http://morgan.biz/wp-contentcategory.htm'   \n",
       "1       '502'                                         '-'   \n",
       "2       '304'  'http://morgan.biz/wp-contentcategory.htm'   \n",
       "3       '403'  'http://morgan.biz/wp-contentcategory.htm'   \n",
       "4       '304'                                         '-'   \n",
       "\n",
       "                                                                                                                                              User Agent  \\\n",
       "0  'Mozilla/5.0 (Linux; Android 10; ONEPLUS A6000) AppleWebKit/537.36 (KHTML, like Gecko) Chrome/86.0.4240.198 Mobile Safari/537.36 OPR/61.2.3076.56749'   \n",
       "1  'Mozilla/5.0 (Linux; Android 10; ONEPLUS A6000) AppleWebKit/537.36 (KHTML, like Gecko) Chrome/86.0.4240.198 Mobile Safari/537.36 OPR/61.2.3076.56749'   \n",
       "2                      'Mozilla/5.0 (Linux; Android 10; ONEPLUS A6000) AppleWebKit/537.36 (KHTML, like Gecko) Chrome/87.0.4280.141 Mobile Safari/537.36'   \n",
       "3                                                                       'Mozilla/5.0 (Windows NT 10.0; Win64; x64; rv:84.0) Gecko/20100101 Firefox/84.0'   \n",
       "4          'Mozilla/5.0 (iPhone; CPU iPhone OS 12_4_9 like Mac OS X) AppleWebKit/605.1.15 (KHTML, like Gecko) Version/12.1.2 Mobile/15E148 Safari/604.1'   \n",
       "\n",
       "                IP Status Code Number        6  \n",
       "0   14.94.217.222                5041   4077\\n  \n",
       "1  193.223.88.250                5063   2491\\n  \n",
       "2  111.75.113.143                5055   2646\\n  \n",
       "3   129.185.58.19                4931    834\\n  \n",
       "4   40.181.173.69                5014   3221\\n  "
      ]
     },
     "execution_count": 22,
     "metadata": {},
     "output_type": "execute_result"
    }
   ],
   "source": [
    "df.head()"
   ]
  },
  {
   "cell_type": "markdown",
   "id": "abc1843a-29b2-4ea1-89d2-cbc1e0abc037",
   "metadata": {},
   "source": [
    "## Event Time "
   ]
  },
  {
   "cell_type": "code",
   "execution_count": 23,
   "id": "932a6ccc-8c45-4ba1-a148-e2908712af0e",
   "metadata": {
    "tags": []
   },
   "outputs": [
    {
     "data": {
      "text/plain": [
       "array([' 27/Dec/2037:12:00:00 +0000 '], dtype=object)"
      ]
     },
     "execution_count": 23,
     "metadata": {},
     "output_type": "execute_result"
    }
   ],
   "source": [
    "df['Event Time'].unique()"
   ]
  },
  {
   "cell_type": "code",
   "execution_count": 24,
   "id": "a13dadd3-d719-4ed1-9a23-1402adf5909d",
   "metadata": {
    "tags": []
   },
   "outputs": [],
   "source": [
    "#In the Event Time column remove '+0000' \n",
    "df['Event Time'] = df['Event Time'].str.replace('+0000','')"
   ]
  },
  {
   "cell_type": "code",
   "execution_count": 25,
   "id": "2f89d193-3647-43ab-beb2-1db72cccd12c",
   "metadata": {
    "tags": []
   },
   "outputs": [],
   "source": [
    "#In the Event Time column change the year from '2037' to '2023'\n",
    "#df['Event Time'] = df['Event Time'].str.replace('2037','2017')"
   ]
  },
  {
   "cell_type": "code",
   "execution_count": 26,
   "id": "95d418e7-bcc6-4ab6-83d5-627dd7c63668",
   "metadata": {
    "tags": []
   },
   "outputs": [],
   "source": [
    "#remove empty spaces before and after the string\n",
    "df['Event Time'] = df['Event Time'].str.strip()"
   ]
  },
  {
   "cell_type": "markdown",
   "id": "925c199a-f312-4a20-9022-8ddd3e03d3a5",
   "metadata": {},
   "source": [
    "### Turn Event Time into a datetime variable and created another column for 'Elapsed time'"
   ]
  },
  {
   "cell_type": "code",
   "execution_count": 27,
   "id": "a0bdb29f-41be-4311-87a4-257843199be4",
   "metadata": {
    "tags": []
   },
   "outputs": [],
   "source": [
    "# Convert the 'Event Time' column to a date time format\n",
    "df['Event Time'] = pd.to_datetime(df['Event Time'], format= '%d/%b/%Y:%H:%M:%S')"
   ]
  },
  {
   "cell_type": "code",
   "execution_count": 28,
   "id": "d42ba6a6-2220-4efb-827e-d111dedb85f0",
   "metadata": {
    "tags": []
   },
   "outputs": [
    {
     "data": {
      "text/plain": [
       "<DatetimeArray>\n",
       "['2037-12-27 12:00:00']\n",
       "Length: 1, dtype: datetime64[ns]"
      ]
     },
     "execution_count": 28,
     "metadata": {},
     "output_type": "execute_result"
    }
   ],
   "source": [
    "df['Event Time'].unique()"
   ]
  },
  {
   "cell_type": "code",
   "execution_count": 29,
   "id": "71e503ed-5a56-4f7a-ac71-929c05cf3fd4",
   "metadata": {
    "tags": []
   },
   "outputs": [],
   "source": [
    "# create a new column in df that contains the starting time for each username\n",
    "df['starting date'] = df.groupby('username')['Event Time'].transform('min')"
   ]
  },
  {
   "cell_type": "code",
   "execution_count": 30,
   "id": "9dc5171c-00ce-441b-9831-e41ea3dc910d",
   "metadata": {
    "tags": []
   },
   "outputs": [],
   "source": [
    "# create a new column called Elapsed time, where the column values are calculated as being the difference between the instantaneous time and the starting time.\n",
    "df['Elapsed_time'] = pd.to_timedelta(df['Event Time'] - df['starting date']).dt.total_seconds()"
   ]
  },
  {
   "cell_type": "code",
   "execution_count": 31,
   "id": "61022b7e-7d87-4956-a7c7-65044e6312be",
   "metadata": {
    "tags": []
   },
   "outputs": [
    {
     "data": {
      "text/plain": [
       "(0.0, 0.0)"
      ]
     },
     "execution_count": 31,
     "metadata": {},
     "output_type": "execute_result"
    }
   ],
   "source": [
    "# get the min and max values from the Elapsed_time column\n",
    "df['Elapsed_time'].min(), df['Elapsed_time'].max()"
   ]
  },
  {
   "cell_type": "code",
   "execution_count": 32,
   "id": "c9a093e3-6aee-482a-a7be-53c41e50fffd",
   "metadata": {
    "tags": []
   },
   "outputs": [
    {
     "data": {
      "text/html": [
       "<div>\n",
       "<style scoped>\n",
       "    .dataframe tbody tr th:only-of-type {\n",
       "        vertical-align: middle;\n",
       "    }\n",
       "\n",
       "    .dataframe tbody tr th {\n",
       "        vertical-align: top;\n",
       "    }\n",
       "\n",
       "    .dataframe thead th {\n",
       "        text-align: right;\n",
       "    }\n",
       "</style>\n",
       "<table border=\"1\" class=\"dataframe\">\n",
       "  <thead>\n",
       "    <tr style=\"text-align: right;\">\n",
       "      <th></th>\n",
       "      <th>username</th>\n",
       "      <th>Event Time</th>\n",
       "      <th>Request Type</th>\n",
       "      <th>Endpoint</th>\n",
       "      <th>Status Code</th>\n",
       "      <th>Referrer</th>\n",
       "      <th>User Agent</th>\n",
       "      <th>IP</th>\n",
       "      <th>Status Code Number</th>\n",
       "      <th>6</th>\n",
       "      <th>starting date</th>\n",
       "      <th>Elapsed_time</th>\n",
       "    </tr>\n",
       "  </thead>\n",
       "  <tbody>\n",
       "    <tr>\n",
       "      <th>0</th>\n",
       "      <td>george</td>\n",
       "      <td>2037-12-27 12:00:00</td>\n",
       "      <td>'GET'</td>\n",
       "      <td>'/usr'</td>\n",
       "      <td>'303'</td>\n",
       "      <td>'http://morgan.biz/wp-contentcategory.htm'</td>\n",
       "      <td>'Mozilla/5.0 (Linux; Android 10; ONEPLUS A6000) AppleWebKit/537.36 (KHTML, like Gecko) Chrome/86.0.4240.198 Mobile Safari/537.36 OPR/61.2.3076.56749'</td>\n",
       "      <td>14.94.217.222</td>\n",
       "      <td>5041</td>\n",
       "      <td>4077\\n</td>\n",
       "      <td>2037-12-27 12:00:00</td>\n",
       "      <td>0.0</td>\n",
       "    </tr>\n",
       "    <tr>\n",
       "      <th>1</th>\n",
       "      <td>paul</td>\n",
       "      <td>2037-12-27 12:00:00</td>\n",
       "      <td>'GET'</td>\n",
       "      <td>'/usr/register'</td>\n",
       "      <td>'502'</td>\n",
       "      <td>'-'</td>\n",
       "      <td>'Mozilla/5.0 (Linux; Android 10; ONEPLUS A6000) AppleWebKit/537.36 (KHTML, like Gecko) Chrome/86.0.4240.198 Mobile Safari/537.36 OPR/61.2.3076.56749'</td>\n",
       "      <td>193.223.88.250</td>\n",
       "      <td>5063</td>\n",
       "      <td>2491\\n</td>\n",
       "      <td>2037-12-27 12:00:00</td>\n",
       "      <td>0.0</td>\n",
       "    </tr>\n",
       "    <tr>\n",
       "      <th>2</th>\n",
       "      <td>george</td>\n",
       "      <td>2037-12-27 12:00:00</td>\n",
       "      <td>'GET'</td>\n",
       "      <td>'/usr/admin'</td>\n",
       "      <td>'304'</td>\n",
       "      <td>'http://morgan.biz/wp-contentcategory.htm'</td>\n",
       "      <td>'Mozilla/5.0 (Linux; Android 10; ONEPLUS A6000) AppleWebKit/537.36 (KHTML, like Gecko) Chrome/87.0.4280.141 Mobile Safari/537.36'</td>\n",
       "      <td>111.75.113.143</td>\n",
       "      <td>5055</td>\n",
       "      <td>2646\\n</td>\n",
       "      <td>2037-12-27 12:00:00</td>\n",
       "      <td>0.0</td>\n",
       "    </tr>\n",
       "    <tr>\n",
       "      <th>3</th>\n",
       "      <td>george</td>\n",
       "      <td>2037-12-27 12:00:00</td>\n",
       "      <td>'POST'</td>\n",
       "      <td>'/usr/admin'</td>\n",
       "      <td>'403'</td>\n",
       "      <td>'http://morgan.biz/wp-contentcategory.htm'</td>\n",
       "      <td>'Mozilla/5.0 (Windows NT 10.0; Win64; x64; rv:84.0) Gecko/20100101 Firefox/84.0'</td>\n",
       "      <td>129.185.58.19</td>\n",
       "      <td>4931</td>\n",
       "      <td>834\\n</td>\n",
       "      <td>2037-12-27 12:00:00</td>\n",
       "      <td>0.0</td>\n",
       "    </tr>\n",
       "    <tr>\n",
       "      <th>4</th>\n",
       "      <td>john</td>\n",
       "      <td>2037-12-27 12:00:00</td>\n",
       "      <td>'POST'</td>\n",
       "      <td>'/usr'</td>\n",
       "      <td>'304'</td>\n",
       "      <td>'-'</td>\n",
       "      <td>'Mozilla/5.0 (iPhone; CPU iPhone OS 12_4_9 like Mac OS X) AppleWebKit/605.1.15 (KHTML, like Gecko) Version/12.1.2 Mobile/15E148 Safari/604.1'</td>\n",
       "      <td>40.181.173.69</td>\n",
       "      <td>5014</td>\n",
       "      <td>3221\\n</td>\n",
       "      <td>2037-12-27 12:00:00</td>\n",
       "      <td>0.0</td>\n",
       "    </tr>\n",
       "  </tbody>\n",
       "</table>\n",
       "</div>"
      ],
      "text/plain": [
       "  username          Event Time Request Type         Endpoint Status Code  \\\n",
       "0   george 2037-12-27 12:00:00        'GET'           '/usr'       '303'   \n",
       "1     paul 2037-12-27 12:00:00        'GET'  '/usr/register'       '502'   \n",
       "2   george 2037-12-27 12:00:00        'GET'     '/usr/admin'       '304'   \n",
       "3   george 2037-12-27 12:00:00       'POST'     '/usr/admin'       '403'   \n",
       "4     john 2037-12-27 12:00:00       'POST'           '/usr'       '304'   \n",
       "\n",
       "                                     Referrer  \\\n",
       "0  'http://morgan.biz/wp-contentcategory.htm'   \n",
       "1                                         '-'   \n",
       "2  'http://morgan.biz/wp-contentcategory.htm'   \n",
       "3  'http://morgan.biz/wp-contentcategory.htm'   \n",
       "4                                         '-'   \n",
       "\n",
       "                                                                                                                                              User Agent  \\\n",
       "0  'Mozilla/5.0 (Linux; Android 10; ONEPLUS A6000) AppleWebKit/537.36 (KHTML, like Gecko) Chrome/86.0.4240.198 Mobile Safari/537.36 OPR/61.2.3076.56749'   \n",
       "1  'Mozilla/5.0 (Linux; Android 10; ONEPLUS A6000) AppleWebKit/537.36 (KHTML, like Gecko) Chrome/86.0.4240.198 Mobile Safari/537.36 OPR/61.2.3076.56749'   \n",
       "2                      'Mozilla/5.0 (Linux; Android 10; ONEPLUS A6000) AppleWebKit/537.36 (KHTML, like Gecko) Chrome/87.0.4280.141 Mobile Safari/537.36'   \n",
       "3                                                                       'Mozilla/5.0 (Windows NT 10.0; Win64; x64; rv:84.0) Gecko/20100101 Firefox/84.0'   \n",
       "4          'Mozilla/5.0 (iPhone; CPU iPhone OS 12_4_9 like Mac OS X) AppleWebKit/605.1.15 (KHTML, like Gecko) Version/12.1.2 Mobile/15E148 Safari/604.1'   \n",
       "\n",
       "                IP Status Code Number        6       starting date  \\\n",
       "0   14.94.217.222                5041   4077\\n 2037-12-27 12:00:00   \n",
       "1  193.223.88.250                5063   2491\\n 2037-12-27 12:00:00   \n",
       "2  111.75.113.143                5055   2646\\n 2037-12-27 12:00:00   \n",
       "3   129.185.58.19                4931    834\\n 2037-12-27 12:00:00   \n",
       "4   40.181.173.69                5014   3221\\n 2037-12-27 12:00:00   \n",
       "\n",
       "   Elapsed_time  \n",
       "0           0.0  \n",
       "1           0.0  \n",
       "2           0.0  \n",
       "3           0.0  \n",
       "4           0.0  "
      ]
     },
     "execution_count": 32,
     "metadata": {},
     "output_type": "execute_result"
    }
   ],
   "source": [
    "df.head()"
   ]
  },
  {
   "cell_type": "markdown",
   "id": "9586a114-7405-4db1-8642-949d1cd6b184",
   "metadata": {
    "tags": []
   },
   "source": [
    "## username"
   ]
  },
  {
   "cell_type": "code",
   "execution_count": 33,
   "id": "28a08de5-3ebd-46c6-b303-90ac4d863c94",
   "metadata": {
    "tags": []
   },
   "outputs": [
    {
     "name": "stdout",
     "output_type": "stream",
     "text": [
      "number of unique usernames = 4\n",
      "usernames = ['george' 'paul' 'john' 'ringo']\n"
     ]
    }
   ],
   "source": [
    "# Check how many unique usernames there are and what those usernames are\n",
    "print(\"number of unique usernames =\", len(df['username'].unique()))\n",
    "print(\"usernames =\", df['username'].unique())"
   ]
  },
  {
   "cell_type": "code",
   "execution_count": 34,
   "id": "121019de-348d-4488-86c1-e4dcc9e9eb66",
   "metadata": {
    "tags": []
   },
   "outputs": [
    {
     "data": {
      "text/plain": [
       "username\n",
       "george    31340\n",
       "john      31421\n",
       "paul      31373\n",
       "ringo      5866\n",
       "dtype: int64"
      ]
     },
     "execution_count": 34,
     "metadata": {},
     "output_type": "execute_result"
    }
   ],
   "source": [
    "#Check for class imbalance\n",
    "df.groupby(df['username']).size()"
   ]
  },
  {
   "cell_type": "code",
   "execution_count": 35,
   "id": "207b78dc-7b64-4ef5-af6d-78685ef10e3b",
   "metadata": {
    "tags": []
   },
   "outputs": [
    {
     "data": {
      "text/plain": [
       "5866"
      ]
     },
     "execution_count": 35,
     "metadata": {},
     "output_type": "execute_result"
    }
   ],
   "source": [
    "ringo_number = len(df[df['username']=='ringo'])\n",
    "ringo_number"
   ]
  },
  {
   "cell_type": "code",
   "execution_count": 36,
   "id": "66ca9722-11ad-49cb-8bd9-a2446e7b4a0b",
   "metadata": {
    "tags": []
   },
   "outputs": [],
   "source": [
    "george_number = len(df[df['username']=='george'])\n",
    "john_number = len(df[df['username']=='john'])\n",
    "paul_number = len(df[df['username']=='paul'])"
   ]
  },
  {
   "cell_type": "code",
   "execution_count": 37,
   "id": "3c8cbaed-04ae-453c-96fe-6181d9496dfb",
   "metadata": {
    "tags": []
   },
   "outputs": [],
   "source": [
    "# drop entries under username for george, john and paul in order to match the number of entries for ringo\n",
    "\n",
    "#drop_indicies_george = np.random.choice(df[df['username']=='george'].index, (george_number - ringo_number), replace=False)\n",
    "#drop_indicies_john = np.random.choice(df[df['username']=='john'].index, (john_number - ringo_number), replace=False)\n",
    "#drop_indicies_paul = np.random.choice(df[df['username']=='paul'].index, (paul_number - ringo_number), replace=False)\n",
    "#df_subset_1 = df.drop(drop_indicies_george)\n",
    "#df_subset_2 = df_subset_1.drop(drop_indicies_john)\n",
    "#df_subset_3 = df_subset_2.drop(drop_indicies_paul)"
   ]
  },
  {
   "cell_type": "code",
   "execution_count": 38,
   "id": "50272193-ca81-4810-9af8-6752b882ba53",
   "metadata": {
    "tags": []
   },
   "outputs": [],
   "source": [
    "#Check for class imbalance\n",
    "#df_subset_3.groupby(df['username']).size()"
   ]
  },
  {
   "cell_type": "code",
   "execution_count": 39,
   "id": "8c6e104e-c3a9-480f-8b62-0d3177c72881",
   "metadata": {
    "tags": []
   },
   "outputs": [],
   "source": [
    "#df = df_subset_3"
   ]
  },
  {
   "cell_type": "code",
   "execution_count": 40,
   "id": "c668ec94-1afc-46dc-8c91-3970c503ec02",
   "metadata": {
    "tags": []
   },
   "outputs": [],
   "source": [
    "# Label encode the username\n",
    "#df['username encoded'] = df['username'].astype('category').cat.codes"
   ]
  },
  {
   "cell_type": "code",
   "execution_count": 41,
   "id": "4bc9d530-b974-4242-aa3b-f0c2d0950cb2",
   "metadata": {
    "tags": []
   },
   "outputs": [],
   "source": [
    "#get one hot encoding columns of Request Types column\n",
    "one_hot_usernames = pd.get_dummies(df['username'], prefix='username', dtype=int)\n",
    "\n",
    "#drop Request Types column from df\n",
    "df.drop(['username'], axis=1, inplace=True) \n",
    "\n",
    "# Join the encoded df\n",
    "df = df.join(one_hot_usernames)"
   ]
  },
  {
   "cell_type": "code",
   "execution_count": 42,
   "id": "ac51cc6e-b6f4-4373-a637-329e26bc0d5c",
   "metadata": {
    "tags": []
   },
   "outputs": [
    {
     "data": {
      "text/html": [
       "<div>\n",
       "<style scoped>\n",
       "    .dataframe tbody tr th:only-of-type {\n",
       "        vertical-align: middle;\n",
       "    }\n",
       "\n",
       "    .dataframe tbody tr th {\n",
       "        vertical-align: top;\n",
       "    }\n",
       "\n",
       "    .dataframe thead th {\n",
       "        text-align: right;\n",
       "    }\n",
       "</style>\n",
       "<table border=\"1\" class=\"dataframe\">\n",
       "  <thead>\n",
       "    <tr style=\"text-align: right;\">\n",
       "      <th></th>\n",
       "      <th>Event Time</th>\n",
       "      <th>Request Type</th>\n",
       "      <th>Endpoint</th>\n",
       "      <th>Status Code</th>\n",
       "      <th>Referrer</th>\n",
       "      <th>User Agent</th>\n",
       "      <th>IP</th>\n",
       "      <th>Status Code Number</th>\n",
       "      <th>6</th>\n",
       "      <th>starting date</th>\n",
       "      <th>Elapsed_time</th>\n",
       "      <th>username_george</th>\n",
       "      <th>username_john</th>\n",
       "      <th>username_paul</th>\n",
       "      <th>username_ringo</th>\n",
       "    </tr>\n",
       "  </thead>\n",
       "  <tbody>\n",
       "    <tr>\n",
       "      <th>0</th>\n",
       "      <td>2037-12-27 12:00:00</td>\n",
       "      <td>'GET'</td>\n",
       "      <td>'/usr'</td>\n",
       "      <td>'303'</td>\n",
       "      <td>'http://morgan.biz/wp-contentcategory.htm'</td>\n",
       "      <td>'Mozilla/5.0 (Linux; Android 10; ONEPLUS A6000) AppleWebKit/537.36 (KHTML, like Gecko) Chrome/86.0.4240.198 Mobile Safari/537.36 OPR/61.2.3076.56749'</td>\n",
       "      <td>14.94.217.222</td>\n",
       "      <td>5041</td>\n",
       "      <td>4077\\n</td>\n",
       "      <td>2037-12-27 12:00:00</td>\n",
       "      <td>0.0</td>\n",
       "      <td>1</td>\n",
       "      <td>0</td>\n",
       "      <td>0</td>\n",
       "      <td>0</td>\n",
       "    </tr>\n",
       "    <tr>\n",
       "      <th>1</th>\n",
       "      <td>2037-12-27 12:00:00</td>\n",
       "      <td>'GET'</td>\n",
       "      <td>'/usr/register'</td>\n",
       "      <td>'502'</td>\n",
       "      <td>'-'</td>\n",
       "      <td>'Mozilla/5.0 (Linux; Android 10; ONEPLUS A6000) AppleWebKit/537.36 (KHTML, like Gecko) Chrome/86.0.4240.198 Mobile Safari/537.36 OPR/61.2.3076.56749'</td>\n",
       "      <td>193.223.88.250</td>\n",
       "      <td>5063</td>\n",
       "      <td>2491\\n</td>\n",
       "      <td>2037-12-27 12:00:00</td>\n",
       "      <td>0.0</td>\n",
       "      <td>0</td>\n",
       "      <td>0</td>\n",
       "      <td>1</td>\n",
       "      <td>0</td>\n",
       "    </tr>\n",
       "    <tr>\n",
       "      <th>2</th>\n",
       "      <td>2037-12-27 12:00:00</td>\n",
       "      <td>'GET'</td>\n",
       "      <td>'/usr/admin'</td>\n",
       "      <td>'304'</td>\n",
       "      <td>'http://morgan.biz/wp-contentcategory.htm'</td>\n",
       "      <td>'Mozilla/5.0 (Linux; Android 10; ONEPLUS A6000) AppleWebKit/537.36 (KHTML, like Gecko) Chrome/87.0.4280.141 Mobile Safari/537.36'</td>\n",
       "      <td>111.75.113.143</td>\n",
       "      <td>5055</td>\n",
       "      <td>2646\\n</td>\n",
       "      <td>2037-12-27 12:00:00</td>\n",
       "      <td>0.0</td>\n",
       "      <td>1</td>\n",
       "      <td>0</td>\n",
       "      <td>0</td>\n",
       "      <td>0</td>\n",
       "    </tr>\n",
       "    <tr>\n",
       "      <th>3</th>\n",
       "      <td>2037-12-27 12:00:00</td>\n",
       "      <td>'POST'</td>\n",
       "      <td>'/usr/admin'</td>\n",
       "      <td>'403'</td>\n",
       "      <td>'http://morgan.biz/wp-contentcategory.htm'</td>\n",
       "      <td>'Mozilla/5.0 (Windows NT 10.0; Win64; x64; rv:84.0) Gecko/20100101 Firefox/84.0'</td>\n",
       "      <td>129.185.58.19</td>\n",
       "      <td>4931</td>\n",
       "      <td>834\\n</td>\n",
       "      <td>2037-12-27 12:00:00</td>\n",
       "      <td>0.0</td>\n",
       "      <td>1</td>\n",
       "      <td>0</td>\n",
       "      <td>0</td>\n",
       "      <td>0</td>\n",
       "    </tr>\n",
       "    <tr>\n",
       "      <th>4</th>\n",
       "      <td>2037-12-27 12:00:00</td>\n",
       "      <td>'POST'</td>\n",
       "      <td>'/usr'</td>\n",
       "      <td>'304'</td>\n",
       "      <td>'-'</td>\n",
       "      <td>'Mozilla/5.0 (iPhone; CPU iPhone OS 12_4_9 like Mac OS X) AppleWebKit/605.1.15 (KHTML, like Gecko) Version/12.1.2 Mobile/15E148 Safari/604.1'</td>\n",
       "      <td>40.181.173.69</td>\n",
       "      <td>5014</td>\n",
       "      <td>3221\\n</td>\n",
       "      <td>2037-12-27 12:00:00</td>\n",
       "      <td>0.0</td>\n",
       "      <td>0</td>\n",
       "      <td>1</td>\n",
       "      <td>0</td>\n",
       "      <td>0</td>\n",
       "    </tr>\n",
       "  </tbody>\n",
       "</table>\n",
       "</div>"
      ],
      "text/plain": [
       "           Event Time Request Type         Endpoint Status Code  \\\n",
       "0 2037-12-27 12:00:00        'GET'           '/usr'       '303'   \n",
       "1 2037-12-27 12:00:00        'GET'  '/usr/register'       '502'   \n",
       "2 2037-12-27 12:00:00        'GET'     '/usr/admin'       '304'   \n",
       "3 2037-12-27 12:00:00       'POST'     '/usr/admin'       '403'   \n",
       "4 2037-12-27 12:00:00       'POST'           '/usr'       '304'   \n",
       "\n",
       "                                     Referrer  \\\n",
       "0  'http://morgan.biz/wp-contentcategory.htm'   \n",
       "1                                         '-'   \n",
       "2  'http://morgan.biz/wp-contentcategory.htm'   \n",
       "3  'http://morgan.biz/wp-contentcategory.htm'   \n",
       "4                                         '-'   \n",
       "\n",
       "                                                                                                                                              User Agent  \\\n",
       "0  'Mozilla/5.0 (Linux; Android 10; ONEPLUS A6000) AppleWebKit/537.36 (KHTML, like Gecko) Chrome/86.0.4240.198 Mobile Safari/537.36 OPR/61.2.3076.56749'   \n",
       "1  'Mozilla/5.0 (Linux; Android 10; ONEPLUS A6000) AppleWebKit/537.36 (KHTML, like Gecko) Chrome/86.0.4240.198 Mobile Safari/537.36 OPR/61.2.3076.56749'   \n",
       "2                      'Mozilla/5.0 (Linux; Android 10; ONEPLUS A6000) AppleWebKit/537.36 (KHTML, like Gecko) Chrome/87.0.4280.141 Mobile Safari/537.36'   \n",
       "3                                                                       'Mozilla/5.0 (Windows NT 10.0; Win64; x64; rv:84.0) Gecko/20100101 Firefox/84.0'   \n",
       "4          'Mozilla/5.0 (iPhone; CPU iPhone OS 12_4_9 like Mac OS X) AppleWebKit/605.1.15 (KHTML, like Gecko) Version/12.1.2 Mobile/15E148 Safari/604.1'   \n",
       "\n",
       "                IP Status Code Number        6       starting date  \\\n",
       "0   14.94.217.222                5041   4077\\n 2037-12-27 12:00:00   \n",
       "1  193.223.88.250                5063   2491\\n 2037-12-27 12:00:00   \n",
       "2  111.75.113.143                5055   2646\\n 2037-12-27 12:00:00   \n",
       "3   129.185.58.19                4931    834\\n 2037-12-27 12:00:00   \n",
       "4   40.181.173.69                5014   3221\\n 2037-12-27 12:00:00   \n",
       "\n",
       "   Elapsed_time  username_george  username_john  username_paul  username_ringo  \n",
       "0           0.0                1              0              0               0  \n",
       "1           0.0                0              0              1               0  \n",
       "2           0.0                1              0              0               0  \n",
       "3           0.0                1              0              0               0  \n",
       "4           0.0                0              1              0               0  "
      ]
     },
     "execution_count": 42,
     "metadata": {},
     "output_type": "execute_result"
    }
   ],
   "source": [
    "df.head()"
   ]
  },
  {
   "cell_type": "markdown",
   "id": "6474aef4-fa01-4ca8-9a7b-68e785f07989",
   "metadata": {},
   "source": [
    "## Request Types"
   ]
  },
  {
   "cell_type": "code",
   "execution_count": 43,
   "id": "e50fb5b7-444f-4c04-bd9f-2566d46060b4",
   "metadata": {
    "tags": []
   },
   "outputs": [
    {
     "name": "stdout",
     "output_type": "stream",
     "text": [
      "number of unique Request Types = 4\n",
      "Types of Request Types = [\"'GET'\" \"'POST'\" \"'DELETE'\" \"'PUT'\"]\n"
     ]
    }
   ],
   "source": [
    "# Check how many unique Request Types there are and what those Request Types are\n",
    "print(\"number of unique Request Types =\", len(df['Request Type'].unique()))\n",
    "print(\"Types of Request Types =\", df['Request Type'].unique())"
   ]
  },
  {
   "cell_type": "code",
   "execution_count": 44,
   "id": "88f46b47-ee55-4f90-84eb-56a13d3587e9",
   "metadata": {
    "tags": []
   },
   "outputs": [],
   "source": [
    "#since the labels in Request Types are non-ordinal and there are only four of them, best to use one-hot encoding here\n",
    "\n",
    "#get one hot encoding columns of Request Types column\n",
    "one_hot_request_types = pd.get_dummies(df['Request Type'], prefix='Request_Type', dtype=int)\n",
    "\n",
    "#drop Request Types column from df\n",
    "df.drop(['Request Type'], axis=1, inplace=True) \n",
    "\n",
    "# Join the encoded df\n",
    "df = df.join(one_hot_request_types)"
   ]
  },
  {
   "cell_type": "markdown",
   "id": "c15471cb-ea84-4e29-b49c-27dc0d58a7d2",
   "metadata": {},
   "source": [
    "## Endpoint"
   ]
  },
  {
   "cell_type": "code",
   "execution_count": 45,
   "id": "db91dc65-2523-4140-a337-9d807a59f25b",
   "metadata": {
    "tags": []
   },
   "outputs": [
    {
     "name": "stdout",
     "output_type": "stream",
     "text": [
      "number of unique Endpoints = 5\n"
     ]
    }
   ],
   "source": [
    "# Check how many unique Endpoints there are \n",
    "print(\"number of unique Endpoints =\", len(df['Endpoint'].unique()))\n"
   ]
  },
  {
   "cell_type": "code",
   "execution_count": 46,
   "id": "4fa19288-a142-43a0-b981-9447ba7c5001",
   "metadata": {
    "tags": []
   },
   "outputs": [],
   "source": [
    "#since the labels in Endpoint are non-ordinal and there are only 5 of them, best to use one-hot encoding here\n",
    "\n",
    "#get one hot encoding columns of Request Types column\n",
    "one_hot_endpoints = pd.get_dummies(df['Endpoint'], prefix='Endpoint', dtype=int)\n",
    "\n",
    "#drop Request Types column from df\n",
    "df.drop(['Endpoint'], axis=1, inplace=True) \n",
    "\n",
    "# Join the encoded df\n",
    "df = df.join(one_hot_endpoints)"
   ]
  },
  {
   "cell_type": "markdown",
   "id": "87d22f93-68e8-4ef3-b7eb-ab3af43b82eb",
   "metadata": {},
   "source": [
    "## Status Codes"
   ]
  },
  {
   "cell_type": "code",
   "execution_count": 47,
   "id": "7d9f034d-cb23-4b6b-8f8a-cb2ed874ff58",
   "metadata": {
    "tags": []
   },
   "outputs": [
    {
     "name": "stdout",
     "output_type": "stream",
     "text": [
      "number of unique Status Codes = 7\n"
     ]
    }
   ],
   "source": [
    "# Check how many unique Status Codes there are too.\n",
    "print(\"number of unique Status Codes =\", len(df['Status Code'].unique()))"
   ]
  },
  {
   "cell_type": "code",
   "execution_count": 48,
   "id": "14fa4bcf-f9c1-4312-a4a1-4ecfeb05f046",
   "metadata": {
    "tags": []
   },
   "outputs": [],
   "source": [
    "#since the labels in Status Code are non-ordinal and there are only 7 of them, best to use one-hot encoding here\n",
    "\n",
    "#get one hot encoding columns of Request Types column\n",
    "one_hot_status_code = pd.get_dummies(df['Status Code'], prefix='Status_Code', dtype=int)\n",
    "\n",
    "#drop Request Types column from df\n",
    "df.drop(['Status Code'], axis=1, inplace=True) \n",
    "\n",
    "# Join the encoded df\n",
    "df = df.join(one_hot_status_code)"
   ]
  },
  {
   "cell_type": "markdown",
   "id": "df80f1c7-db52-49ca-940f-5505d2f79f01",
   "metadata": {},
   "source": [
    "## Referrers"
   ]
  },
  {
   "cell_type": "code",
   "execution_count": 49,
   "id": "f5e21b6d-e973-44b9-9cbb-ac4f49d92499",
   "metadata": {},
   "outputs": [
    {
     "name": "stdout",
     "output_type": "stream",
     "text": [
      "2\n"
     ]
    }
   ],
   "source": [
    "# Get number of unique Referrers\n",
    "print(len(df['Referrer'].unique()))"
   ]
  },
  {
   "cell_type": "code",
   "execution_count": 50,
   "id": "7961bd52-ac99-43e8-818d-a2187293804e",
   "metadata": {
    "tags": []
   },
   "outputs": [
    {
     "name": "stdout",
     "output_type": "stream",
     "text": [
      "Types of Referrer = [\"'http://morgan.biz/wp-contentcategory.htm'\" \"'-'\"]\n"
     ]
    }
   ],
   "source": [
    "# Get unique Referrers\n",
    "print(\"Types of Referrer =\", df['Referrer'].unique())"
   ]
  },
  {
   "cell_type": "code",
   "execution_count": 51,
   "id": "2887b0e6-0dd6-409a-bed3-934246f0ef74",
   "metadata": {
    "tags": []
   },
   "outputs": [],
   "source": [
    "#since the labels in Referrer are non-ordinal and there are only 2 of them, best to use one-hot encoding here\n",
    "\n",
    "#get one hot encoding columns of Referrer column\n",
    "one_hot_referrer = pd.get_dummies(df['Referrer'], prefix='Referrer', dtype=int)\n",
    "\n",
    "#drop Request Types column from df\n",
    "df.drop(['Referrer'], axis=1, inplace=True) \n",
    "\n",
    "# Join the encoded df\n",
    "df = df.join(one_hot_referrer)"
   ]
  },
  {
   "cell_type": "markdown",
   "id": "aebf574f-8387-4488-9b8a-4c3c9d70bc6c",
   "metadata": {},
   "source": [
    "## User Agents"
   ]
  },
  {
   "cell_type": "code",
   "execution_count": 52,
   "id": "b719fbfc-3cb5-4c5d-a130-6e0363ed8385",
   "metadata": {
    "tags": []
   },
   "outputs": [
    {
     "data": {
      "text/plain": [
       "10"
      ]
     },
     "execution_count": 52,
     "metadata": {},
     "output_type": "execute_result"
    }
   ],
   "source": [
    "# Get unique User Agents\n",
    "len(df['User Agent'].unique())"
   ]
  },
  {
   "cell_type": "code",
   "execution_count": 53,
   "id": "054c320c-60af-432a-bed9-bc3dafdfc82e",
   "metadata": {
    "tags": []
   },
   "outputs": [],
   "source": [
    "#since the labels in User Agent are non-ordinal and there are only 10 of them, best to use one-hot encoding here\n",
    "\n",
    "#get one hot encoding columns of Request Types column\n",
    "one_hot_user_agents = pd.get_dummies(df['User Agent'], prefix='User_Agent', dtype=int)\n",
    "\n",
    "#drop Request Types column from df\n",
    "df.drop(['User Agent'], axis=1, inplace=True) \n",
    "\n",
    "# Join the encoded df\n",
    "df = df.join(one_hot_user_agents)"
   ]
  },
  {
   "cell_type": "code",
   "execution_count": 54,
   "id": "ededbbd7-a31c-4c8e-b2c9-1fa7359810cd",
   "metadata": {
    "tags": []
   },
   "outputs": [
    {
     "data": {
      "text/html": [
       "<div>\n",
       "<style scoped>\n",
       "    .dataframe tbody tr th:only-of-type {\n",
       "        vertical-align: middle;\n",
       "    }\n",
       "\n",
       "    .dataframe tbody tr th {\n",
       "        vertical-align: top;\n",
       "    }\n",
       "\n",
       "    .dataframe thead th {\n",
       "        text-align: right;\n",
       "    }\n",
       "</style>\n",
       "<table border=\"1\" class=\"dataframe\">\n",
       "  <thead>\n",
       "    <tr style=\"text-align: right;\">\n",
       "      <th></th>\n",
       "      <th>Event Time</th>\n",
       "      <th>IP</th>\n",
       "      <th>Status Code Number</th>\n",
       "      <th>6</th>\n",
       "      <th>starting date</th>\n",
       "      <th>Elapsed_time</th>\n",
       "      <th>username_george</th>\n",
       "      <th>username_john</th>\n",
       "      <th>username_paul</th>\n",
       "      <th>username_ringo</th>\n",
       "      <th>...</th>\n",
       "      <th>User_Agent_'Mozilla/5.0 (Android 10; Mobile; rv:84.0) Gecko/84.0 Firefox/84.0'</th>\n",
       "      <th>User_Agent_'Mozilla/5.0 (Linux; Android 10; ONEPLUS A6000) AppleWebKit/537.36 (KHTML, like Gecko) Chrome/77.0.3865.116 Mobile Safari/537.36 EdgA/45.12.4.5121'</th>\n",
       "      <th>User_Agent_'Mozilla/5.0 (Linux; Android 10; ONEPLUS A6000) AppleWebKit/537.36 (KHTML, like Gecko) Chrome/86.0.4240.198 Mobile Safari/537.36 OPR/61.2.3076.56749'</th>\n",
       "      <th>User_Agent_'Mozilla/5.0 (Linux; Android 10; ONEPLUS A6000) AppleWebKit/537.36 (KHTML, like Gecko) Chrome/87.0.4280.141 Mobile Safari/537.36'</th>\n",
       "      <th>User_Agent_'Mozilla/5.0 (Macintosh; Intel Mac OS X 10_9_3) AppleWebKit/537.75.14 (KHTML, like Gecko) Version/7.0.3 Safari/7046A194A'</th>\n",
       "      <th>User_Agent_'Mozilla/5.0 (Windows NT 10.0; Win64; x64) AppleWebKit/537.36 (KHTML, like Gecko) Chrome/87.0.4280.141 Safari/537.36'</th>\n",
       "      <th>User_Agent_'Mozilla/5.0 (Windows NT 10.0; Win64; x64) AppleWebKit/537.36 (KHTML, like Gecko) Chrome/87.0.4280.88 Safari/537.36 OPR/73.0.3856.329'</th>\n",
       "      <th>User_Agent_'Mozilla/5.0 (Windows NT 10.0; Win64; x64) AppleWebKit/537.36 (KHTML, like Gecko) Chrome/89.0.4380.0 Safari/537.36 Edg/89.0.759.0'</th>\n",
       "      <th>User_Agent_'Mozilla/5.0 (Windows NT 10.0; Win64; x64; rv:84.0) Gecko/20100101 Firefox/84.0'</th>\n",
       "      <th>User_Agent_'Mozilla/5.0 (iPhone; CPU iPhone OS 12_4_9 like Mac OS X) AppleWebKit/605.1.15 (KHTML, like Gecko) Version/12.1.2 Mobile/15E148 Safari/604.1'</th>\n",
       "    </tr>\n",
       "  </thead>\n",
       "  <tbody>\n",
       "    <tr>\n",
       "      <th>0</th>\n",
       "      <td>2037-12-27 12:00:00</td>\n",
       "      <td>14.94.217.222</td>\n",
       "      <td>5041</td>\n",
       "      <td>4077\\n</td>\n",
       "      <td>2037-12-27 12:00:00</td>\n",
       "      <td>0.0</td>\n",
       "      <td>1</td>\n",
       "      <td>0</td>\n",
       "      <td>0</td>\n",
       "      <td>0</td>\n",
       "      <td>...</td>\n",
       "      <td>0</td>\n",
       "      <td>0</td>\n",
       "      <td>1</td>\n",
       "      <td>0</td>\n",
       "      <td>0</td>\n",
       "      <td>0</td>\n",
       "      <td>0</td>\n",
       "      <td>0</td>\n",
       "      <td>0</td>\n",
       "      <td>0</td>\n",
       "    </tr>\n",
       "    <tr>\n",
       "      <th>1</th>\n",
       "      <td>2037-12-27 12:00:00</td>\n",
       "      <td>193.223.88.250</td>\n",
       "      <td>5063</td>\n",
       "      <td>2491\\n</td>\n",
       "      <td>2037-12-27 12:00:00</td>\n",
       "      <td>0.0</td>\n",
       "      <td>0</td>\n",
       "      <td>0</td>\n",
       "      <td>1</td>\n",
       "      <td>0</td>\n",
       "      <td>...</td>\n",
       "      <td>0</td>\n",
       "      <td>0</td>\n",
       "      <td>1</td>\n",
       "      <td>0</td>\n",
       "      <td>0</td>\n",
       "      <td>0</td>\n",
       "      <td>0</td>\n",
       "      <td>0</td>\n",
       "      <td>0</td>\n",
       "      <td>0</td>\n",
       "    </tr>\n",
       "    <tr>\n",
       "      <th>2</th>\n",
       "      <td>2037-12-27 12:00:00</td>\n",
       "      <td>111.75.113.143</td>\n",
       "      <td>5055</td>\n",
       "      <td>2646\\n</td>\n",
       "      <td>2037-12-27 12:00:00</td>\n",
       "      <td>0.0</td>\n",
       "      <td>1</td>\n",
       "      <td>0</td>\n",
       "      <td>0</td>\n",
       "      <td>0</td>\n",
       "      <td>...</td>\n",
       "      <td>0</td>\n",
       "      <td>0</td>\n",
       "      <td>0</td>\n",
       "      <td>1</td>\n",
       "      <td>0</td>\n",
       "      <td>0</td>\n",
       "      <td>0</td>\n",
       "      <td>0</td>\n",
       "      <td>0</td>\n",
       "      <td>0</td>\n",
       "    </tr>\n",
       "    <tr>\n",
       "      <th>3</th>\n",
       "      <td>2037-12-27 12:00:00</td>\n",
       "      <td>129.185.58.19</td>\n",
       "      <td>4931</td>\n",
       "      <td>834\\n</td>\n",
       "      <td>2037-12-27 12:00:00</td>\n",
       "      <td>0.0</td>\n",
       "      <td>1</td>\n",
       "      <td>0</td>\n",
       "      <td>0</td>\n",
       "      <td>0</td>\n",
       "      <td>...</td>\n",
       "      <td>0</td>\n",
       "      <td>0</td>\n",
       "      <td>0</td>\n",
       "      <td>0</td>\n",
       "      <td>0</td>\n",
       "      <td>0</td>\n",
       "      <td>0</td>\n",
       "      <td>0</td>\n",
       "      <td>1</td>\n",
       "      <td>0</td>\n",
       "    </tr>\n",
       "    <tr>\n",
       "      <th>4</th>\n",
       "      <td>2037-12-27 12:00:00</td>\n",
       "      <td>40.181.173.69</td>\n",
       "      <td>5014</td>\n",
       "      <td>3221\\n</td>\n",
       "      <td>2037-12-27 12:00:00</td>\n",
       "      <td>0.0</td>\n",
       "      <td>0</td>\n",
       "      <td>1</td>\n",
       "      <td>0</td>\n",
       "      <td>0</td>\n",
       "      <td>...</td>\n",
       "      <td>0</td>\n",
       "      <td>0</td>\n",
       "      <td>0</td>\n",
       "      <td>0</td>\n",
       "      <td>0</td>\n",
       "      <td>0</td>\n",
       "      <td>0</td>\n",
       "      <td>0</td>\n",
       "      <td>0</td>\n",
       "      <td>1</td>\n",
       "    </tr>\n",
       "  </tbody>\n",
       "</table>\n",
       "<p>5 rows × 38 columns</p>\n",
       "</div>"
      ],
      "text/plain": [
       "           Event Time               IP Status Code Number        6  \\\n",
       "0 2037-12-27 12:00:00   14.94.217.222                5041   4077\\n   \n",
       "1 2037-12-27 12:00:00  193.223.88.250                5063   2491\\n   \n",
       "2 2037-12-27 12:00:00  111.75.113.143                5055   2646\\n   \n",
       "3 2037-12-27 12:00:00   129.185.58.19                4931    834\\n   \n",
       "4 2037-12-27 12:00:00   40.181.173.69                5014   3221\\n   \n",
       "\n",
       "        starting date  Elapsed_time  username_george  username_john  \\\n",
       "0 2037-12-27 12:00:00           0.0                1              0   \n",
       "1 2037-12-27 12:00:00           0.0                0              0   \n",
       "2 2037-12-27 12:00:00           0.0                1              0   \n",
       "3 2037-12-27 12:00:00           0.0                1              0   \n",
       "4 2037-12-27 12:00:00           0.0                0              1   \n",
       "\n",
       "   username_paul  username_ringo  ...  \\\n",
       "0              0               0  ...   \n",
       "1              1               0  ...   \n",
       "2              0               0  ...   \n",
       "3              0               0  ...   \n",
       "4              0               0  ...   \n",
       "\n",
       "   User_Agent_'Mozilla/5.0 (Android 10; Mobile; rv:84.0) Gecko/84.0 Firefox/84.0'  \\\n",
       "0                                                                               0   \n",
       "1                                                                               0   \n",
       "2                                                                               0   \n",
       "3                                                                               0   \n",
       "4                                                                               0   \n",
       "\n",
       "   User_Agent_'Mozilla/5.0 (Linux; Android 10; ONEPLUS A6000) AppleWebKit/537.36 (KHTML, like Gecko) Chrome/77.0.3865.116 Mobile Safari/537.36 EdgA/45.12.4.5121'  \\\n",
       "0                                                                                                                                                               0   \n",
       "1                                                                                                                                                               0   \n",
       "2                                                                                                                                                               0   \n",
       "3                                                                                                                                                               0   \n",
       "4                                                                                                                                                               0   \n",
       "\n",
       "   User_Agent_'Mozilla/5.0 (Linux; Android 10; ONEPLUS A6000) AppleWebKit/537.36 (KHTML, like Gecko) Chrome/86.0.4240.198 Mobile Safari/537.36 OPR/61.2.3076.56749'  \\\n",
       "0                                                                                                                                                                 1   \n",
       "1                                                                                                                                                                 1   \n",
       "2                                                                                                                                                                 0   \n",
       "3                                                                                                                                                                 0   \n",
       "4                                                                                                                                                                 0   \n",
       "\n",
       "   User_Agent_'Mozilla/5.0 (Linux; Android 10; ONEPLUS A6000) AppleWebKit/537.36 (KHTML, like Gecko) Chrome/87.0.4280.141 Mobile Safari/537.36'  \\\n",
       "0                                                                                                                                             0   \n",
       "1                                                                                                                                             0   \n",
       "2                                                                                                                                             1   \n",
       "3                                                                                                                                             0   \n",
       "4                                                                                                                                             0   \n",
       "\n",
       "   User_Agent_'Mozilla/5.0 (Macintosh; Intel Mac OS X 10_9_3) AppleWebKit/537.75.14 (KHTML, like Gecko) Version/7.0.3 Safari/7046A194A'  \\\n",
       "0                                                                                                                                     0   \n",
       "1                                                                                                                                     0   \n",
       "2                                                                                                                                     0   \n",
       "3                                                                                                                                     0   \n",
       "4                                                                                                                                     0   \n",
       "\n",
       "   User_Agent_'Mozilla/5.0 (Windows NT 10.0; Win64; x64) AppleWebKit/537.36 (KHTML, like Gecko) Chrome/87.0.4280.141 Safari/537.36'  \\\n",
       "0                                                                                                                                 0   \n",
       "1                                                                                                                                 0   \n",
       "2                                                                                                                                 0   \n",
       "3                                                                                                                                 0   \n",
       "4                                                                                                                                 0   \n",
       "\n",
       "   User_Agent_'Mozilla/5.0 (Windows NT 10.0; Win64; x64) AppleWebKit/537.36 (KHTML, like Gecko) Chrome/87.0.4280.88 Safari/537.36 OPR/73.0.3856.329'  \\\n",
       "0                                                                                                                                                  0   \n",
       "1                                                                                                                                                  0   \n",
       "2                                                                                                                                                  0   \n",
       "3                                                                                                                                                  0   \n",
       "4                                                                                                                                                  0   \n",
       "\n",
       "   User_Agent_'Mozilla/5.0 (Windows NT 10.0; Win64; x64) AppleWebKit/537.36 (KHTML, like Gecko) Chrome/89.0.4380.0 Safari/537.36 Edg/89.0.759.0'  \\\n",
       "0                                                                                                                                              0   \n",
       "1                                                                                                                                              0   \n",
       "2                                                                                                                                              0   \n",
       "3                                                                                                                                              0   \n",
       "4                                                                                                                                              0   \n",
       "\n",
       "   User_Agent_'Mozilla/5.0 (Windows NT 10.0; Win64; x64; rv:84.0) Gecko/20100101 Firefox/84.0'  \\\n",
       "0                                                                                            0   \n",
       "1                                                                                            0   \n",
       "2                                                                                            0   \n",
       "3                                                                                            1   \n",
       "4                                                                                            0   \n",
       "\n",
       "   User_Agent_'Mozilla/5.0 (iPhone; CPU iPhone OS 12_4_9 like Mac OS X) AppleWebKit/605.1.15 (KHTML, like Gecko) Version/12.1.2 Mobile/15E148 Safari/604.1'  \n",
       "0                                                                                                                                                         0  \n",
       "1                                                                                                                                                         0  \n",
       "2                                                                                                                                                         0  \n",
       "3                                                                                                                                                         0  \n",
       "4                                                                                                                                                         1  \n",
       "\n",
       "[5 rows x 38 columns]"
      ]
     },
     "execution_count": 54,
     "metadata": {},
     "output_type": "execute_result"
    }
   ],
   "source": [
    "df.head()"
   ]
  },
  {
   "cell_type": "markdown",
   "id": "48926412-cb85-426f-a92b-8c68c5c0cb60",
   "metadata": {},
   "source": [
    "## IP"
   ]
  },
  {
   "cell_type": "code",
   "execution_count": 55,
   "id": "b5612e09-0b91-4c65-8da5-1ee97cfd3982",
   "metadata": {},
   "outputs": [
    {
     "name": "stdout",
     "output_type": "stream",
     "text": [
      "99999\n"
     ]
    }
   ],
   "source": [
    "# Get number of unique IP\n",
    "print(len(df['IP'].unique()))"
   ]
  },
  {
   "cell_type": "code",
   "execution_count": 56,
   "id": "27c13ec8-c085-49fd-895d-79ec93156be3",
   "metadata": {},
   "outputs": [
    {
     "data": {
      "text/plain": [
       "False"
      ]
     },
     "execution_count": 56,
     "metadata": {},
     "output_type": "execute_result"
    }
   ],
   "source": [
    "# Check for duplicates\n",
    "df.duplicated().any()"
   ]
  },
  {
   "cell_type": "code",
   "execution_count": 57,
   "id": "5b45cb2f-de03-4c98-b880-1f25679c4728",
   "metadata": {
    "tags": []
   },
   "outputs": [],
   "source": [
    "#Get any IP addresses that appear more than once\n",
    "#df['IP'].value_counts()[df['IP'].value_counts() > 1].index[0]"
   ]
  },
  {
   "cell_type": "code",
   "execution_count": 58,
   "id": "4b5e31c9-103e-4adb-81af-241289a7afc7",
   "metadata": {
    "tags": []
   },
   "outputs": [
    {
     "data": {
      "text/html": [
       "<div>\n",
       "<style scoped>\n",
       "    .dataframe tbody tr th:only-of-type {\n",
       "        vertical-align: middle;\n",
       "    }\n",
       "\n",
       "    .dataframe tbody tr th {\n",
       "        vertical-align: top;\n",
       "    }\n",
       "\n",
       "    .dataframe thead th {\n",
       "        text-align: right;\n",
       "    }\n",
       "</style>\n",
       "<table border=\"1\" class=\"dataframe\">\n",
       "  <thead>\n",
       "    <tr style=\"text-align: right;\">\n",
       "      <th></th>\n",
       "      <th>Event Time</th>\n",
       "      <th>IP</th>\n",
       "      <th>Status Code Number</th>\n",
       "      <th>6</th>\n",
       "      <th>starting date</th>\n",
       "      <th>Elapsed_time</th>\n",
       "      <th>username_george</th>\n",
       "      <th>username_john</th>\n",
       "      <th>username_paul</th>\n",
       "      <th>username_ringo</th>\n",
       "      <th>...</th>\n",
       "      <th>User_Agent_'Mozilla/5.0 (Android 10; Mobile; rv:84.0) Gecko/84.0 Firefox/84.0'</th>\n",
       "      <th>User_Agent_'Mozilla/5.0 (Linux; Android 10; ONEPLUS A6000) AppleWebKit/537.36 (KHTML, like Gecko) Chrome/77.0.3865.116 Mobile Safari/537.36 EdgA/45.12.4.5121'</th>\n",
       "      <th>User_Agent_'Mozilla/5.0 (Linux; Android 10; ONEPLUS A6000) AppleWebKit/537.36 (KHTML, like Gecko) Chrome/86.0.4240.198 Mobile Safari/537.36 OPR/61.2.3076.56749'</th>\n",
       "      <th>User_Agent_'Mozilla/5.0 (Linux; Android 10; ONEPLUS A6000) AppleWebKit/537.36 (KHTML, like Gecko) Chrome/87.0.4280.141 Mobile Safari/537.36'</th>\n",
       "      <th>User_Agent_'Mozilla/5.0 (Macintosh; Intel Mac OS X 10_9_3) AppleWebKit/537.75.14 (KHTML, like Gecko) Version/7.0.3 Safari/7046A194A'</th>\n",
       "      <th>User_Agent_'Mozilla/5.0 (Windows NT 10.0; Win64; x64) AppleWebKit/537.36 (KHTML, like Gecko) Chrome/87.0.4280.141 Safari/537.36'</th>\n",
       "      <th>User_Agent_'Mozilla/5.0 (Windows NT 10.0; Win64; x64) AppleWebKit/537.36 (KHTML, like Gecko) Chrome/87.0.4280.88 Safari/537.36 OPR/73.0.3856.329'</th>\n",
       "      <th>User_Agent_'Mozilla/5.0 (Windows NT 10.0; Win64; x64) AppleWebKit/537.36 (KHTML, like Gecko) Chrome/89.0.4380.0 Safari/537.36 Edg/89.0.759.0'</th>\n",
       "      <th>User_Agent_'Mozilla/5.0 (Windows NT 10.0; Win64; x64; rv:84.0) Gecko/20100101 Firefox/84.0'</th>\n",
       "      <th>User_Agent_'Mozilla/5.0 (iPhone; CPU iPhone OS 12_4_9 like Mac OS X) AppleWebKit/605.1.15 (KHTML, like Gecko) Version/12.1.2 Mobile/15E148 Safari/604.1'</th>\n",
       "    </tr>\n",
       "  </thead>\n",
       "  <tbody>\n",
       "    <tr>\n",
       "      <th>20495</th>\n",
       "      <td>2037-12-27 12:00:00</td>\n",
       "      <td>172.68.193.171</td>\n",
       "      <td>4964</td>\n",
       "      <td>2669\\n</td>\n",
       "      <td>2037-12-27 12:00:00</td>\n",
       "      <td>0.0</td>\n",
       "      <td>0</td>\n",
       "      <td>1</td>\n",
       "      <td>0</td>\n",
       "      <td>0</td>\n",
       "      <td>...</td>\n",
       "      <td>0</td>\n",
       "      <td>0</td>\n",
       "      <td>0</td>\n",
       "      <td>0</td>\n",
       "      <td>0</td>\n",
       "      <td>0</td>\n",
       "      <td>1</td>\n",
       "      <td>0</td>\n",
       "      <td>0</td>\n",
       "      <td>0</td>\n",
       "    </tr>\n",
       "    <tr>\n",
       "      <th>59848</th>\n",
       "      <td>2037-12-27 12:00:00</td>\n",
       "      <td>172.68.193.171</td>\n",
       "      <td>5019</td>\n",
       "      <td>3705\\n</td>\n",
       "      <td>2037-12-27 12:00:00</td>\n",
       "      <td>0.0</td>\n",
       "      <td>0</td>\n",
       "      <td>1</td>\n",
       "      <td>0</td>\n",
       "      <td>0</td>\n",
       "      <td>...</td>\n",
       "      <td>0</td>\n",
       "      <td>0</td>\n",
       "      <td>0</td>\n",
       "      <td>0</td>\n",
       "      <td>0</td>\n",
       "      <td>0</td>\n",
       "      <td>1</td>\n",
       "      <td>0</td>\n",
       "      <td>0</td>\n",
       "      <td>0</td>\n",
       "    </tr>\n",
       "  </tbody>\n",
       "</table>\n",
       "<p>2 rows × 38 columns</p>\n",
       "</div>"
      ],
      "text/plain": [
       "               Event Time               IP Status Code Number        6  \\\n",
       "20495 2037-12-27 12:00:00  172.68.193.171                4964   2669\\n   \n",
       "59848 2037-12-27 12:00:00  172.68.193.171                5019   3705\\n   \n",
       "\n",
       "            starting date  Elapsed_time  username_george  username_john  \\\n",
       "20495 2037-12-27 12:00:00           0.0                0              1   \n",
       "59848 2037-12-27 12:00:00           0.0                0              1   \n",
       "\n",
       "       username_paul  username_ringo  ...  \\\n",
       "20495              0               0  ...   \n",
       "59848              0               0  ...   \n",
       "\n",
       "       User_Agent_'Mozilla/5.0 (Android 10; Mobile; rv:84.0) Gecko/84.0 Firefox/84.0'  \\\n",
       "20495                                                                               0   \n",
       "59848                                                                               0   \n",
       "\n",
       "       User_Agent_'Mozilla/5.0 (Linux; Android 10; ONEPLUS A6000) AppleWebKit/537.36 (KHTML, like Gecko) Chrome/77.0.3865.116 Mobile Safari/537.36 EdgA/45.12.4.5121'  \\\n",
       "20495                                                                                                                                                               0   \n",
       "59848                                                                                                                                                               0   \n",
       "\n",
       "       User_Agent_'Mozilla/5.0 (Linux; Android 10; ONEPLUS A6000) AppleWebKit/537.36 (KHTML, like Gecko) Chrome/86.0.4240.198 Mobile Safari/537.36 OPR/61.2.3076.56749'  \\\n",
       "20495                                                                                                                                                                 0   \n",
       "59848                                                                                                                                                                 0   \n",
       "\n",
       "       User_Agent_'Mozilla/5.0 (Linux; Android 10; ONEPLUS A6000) AppleWebKit/537.36 (KHTML, like Gecko) Chrome/87.0.4280.141 Mobile Safari/537.36'  \\\n",
       "20495                                                                                                                                             0   \n",
       "59848                                                                                                                                             0   \n",
       "\n",
       "       User_Agent_'Mozilla/5.0 (Macintosh; Intel Mac OS X 10_9_3) AppleWebKit/537.75.14 (KHTML, like Gecko) Version/7.0.3 Safari/7046A194A'  \\\n",
       "20495                                                                                                                                     0   \n",
       "59848                                                                                                                                     0   \n",
       "\n",
       "       User_Agent_'Mozilla/5.0 (Windows NT 10.0; Win64; x64) AppleWebKit/537.36 (KHTML, like Gecko) Chrome/87.0.4280.141 Safari/537.36'  \\\n",
       "20495                                                                                                                                 0   \n",
       "59848                                                                                                                                 0   \n",
       "\n",
       "       User_Agent_'Mozilla/5.0 (Windows NT 10.0; Win64; x64) AppleWebKit/537.36 (KHTML, like Gecko) Chrome/87.0.4280.88 Safari/537.36 OPR/73.0.3856.329'  \\\n",
       "20495                                                                                                                                                  1   \n",
       "59848                                                                                                                                                  1   \n",
       "\n",
       "       User_Agent_'Mozilla/5.0 (Windows NT 10.0; Win64; x64) AppleWebKit/537.36 (KHTML, like Gecko) Chrome/89.0.4380.0 Safari/537.36 Edg/89.0.759.0'  \\\n",
       "20495                                                                                                                                              0   \n",
       "59848                                                                                                                                              0   \n",
       "\n",
       "       User_Agent_'Mozilla/5.0 (Windows NT 10.0; Win64; x64; rv:84.0) Gecko/20100101 Firefox/84.0'  \\\n",
       "20495                                                                                            0   \n",
       "59848                                                                                            0   \n",
       "\n",
       "       User_Agent_'Mozilla/5.0 (iPhone; CPU iPhone OS 12_4_9 like Mac OS X) AppleWebKit/605.1.15 (KHTML, like Gecko) Version/12.1.2 Mobile/15E148 Safari/604.1'  \n",
       "20495                                                                                                                                                         0  \n",
       "59848                                                                                                                                                         0  \n",
       "\n",
       "[2 rows x 38 columns]"
      ]
     },
     "execution_count": 58,
     "metadata": {},
     "output_type": "execute_result"
    }
   ],
   "source": [
    "#Get rows where IP address appears more than once\n",
    "df[df['IP'].map(df['IP'].value_counts()) > 1]"
   ]
  },
  {
   "cell_type": "code",
   "execution_count": 59,
   "id": "91ed587c-14d5-48e7-b587-b0da0ede924f",
   "metadata": {
    "tags": []
   },
   "outputs": [],
   "source": [
    "# Label encode the IP column\n",
    "df['IP encoded'] = df['IP'].astype('category').cat.codes"
   ]
  },
  {
   "cell_type": "code",
   "execution_count": 60,
   "id": "555d1dd2-4843-4cec-9183-3806e5bb0f89",
   "metadata": {
    "tags": []
   },
   "outputs": [
    {
     "data": {
      "text/html": [
       "<div>\n",
       "<style scoped>\n",
       "    .dataframe tbody tr th:only-of-type {\n",
       "        vertical-align: middle;\n",
       "    }\n",
       "\n",
       "    .dataframe tbody tr th {\n",
       "        vertical-align: top;\n",
       "    }\n",
       "\n",
       "    .dataframe thead th {\n",
       "        text-align: right;\n",
       "    }\n",
       "</style>\n",
       "<table border=\"1\" class=\"dataframe\">\n",
       "  <thead>\n",
       "    <tr style=\"text-align: right;\">\n",
       "      <th></th>\n",
       "      <th>Event Time</th>\n",
       "      <th>IP</th>\n",
       "      <th>Status Code Number</th>\n",
       "      <th>6</th>\n",
       "      <th>starting date</th>\n",
       "      <th>Elapsed_time</th>\n",
       "      <th>username_george</th>\n",
       "      <th>username_john</th>\n",
       "      <th>username_paul</th>\n",
       "      <th>username_ringo</th>\n",
       "      <th>...</th>\n",
       "      <th>User_Agent_'Mozilla/5.0 (Linux; Android 10; ONEPLUS A6000) AppleWebKit/537.36 (KHTML, like Gecko) Chrome/77.0.3865.116 Mobile Safari/537.36 EdgA/45.12.4.5121'</th>\n",
       "      <th>User_Agent_'Mozilla/5.0 (Linux; Android 10; ONEPLUS A6000) AppleWebKit/537.36 (KHTML, like Gecko) Chrome/86.0.4240.198 Mobile Safari/537.36 OPR/61.2.3076.56749'</th>\n",
       "      <th>User_Agent_'Mozilla/5.0 (Linux; Android 10; ONEPLUS A6000) AppleWebKit/537.36 (KHTML, like Gecko) Chrome/87.0.4280.141 Mobile Safari/537.36'</th>\n",
       "      <th>User_Agent_'Mozilla/5.0 (Macintosh; Intel Mac OS X 10_9_3) AppleWebKit/537.75.14 (KHTML, like Gecko) Version/7.0.3 Safari/7046A194A'</th>\n",
       "      <th>User_Agent_'Mozilla/5.0 (Windows NT 10.0; Win64; x64) AppleWebKit/537.36 (KHTML, like Gecko) Chrome/87.0.4280.141 Safari/537.36'</th>\n",
       "      <th>User_Agent_'Mozilla/5.0 (Windows NT 10.0; Win64; x64) AppleWebKit/537.36 (KHTML, like Gecko) Chrome/87.0.4280.88 Safari/537.36 OPR/73.0.3856.329'</th>\n",
       "      <th>User_Agent_'Mozilla/5.0 (Windows NT 10.0; Win64; x64) AppleWebKit/537.36 (KHTML, like Gecko) Chrome/89.0.4380.0 Safari/537.36 Edg/89.0.759.0'</th>\n",
       "      <th>User_Agent_'Mozilla/5.0 (Windows NT 10.0; Win64; x64; rv:84.0) Gecko/20100101 Firefox/84.0'</th>\n",
       "      <th>User_Agent_'Mozilla/5.0 (iPhone; CPU iPhone OS 12_4_9 like Mac OS X) AppleWebKit/605.1.15 (KHTML, like Gecko) Version/12.1.2 Mobile/15E148 Safari/604.1'</th>\n",
       "      <th>IP encoded</th>\n",
       "    </tr>\n",
       "  </thead>\n",
       "  <tbody>\n",
       "    <tr>\n",
       "      <th>0</th>\n",
       "      <td>2037-12-27 12:00:00</td>\n",
       "      <td>14.94.217.222</td>\n",
       "      <td>5041</td>\n",
       "      <td>4077\\n</td>\n",
       "      <td>2037-12-27 12:00:00</td>\n",
       "      <td>0.0</td>\n",
       "      <td>1</td>\n",
       "      <td>0</td>\n",
       "      <td>0</td>\n",
       "      <td>0</td>\n",
       "      <td>...</td>\n",
       "      <td>0</td>\n",
       "      <td>1</td>\n",
       "      <td>0</td>\n",
       "      <td>0</td>\n",
       "      <td>0</td>\n",
       "      <td>0</td>\n",
       "      <td>0</td>\n",
       "      <td>0</td>\n",
       "      <td>0</td>\n",
       "      <td>20290</td>\n",
       "    </tr>\n",
       "    <tr>\n",
       "      <th>1</th>\n",
       "      <td>2037-12-27 12:00:00</td>\n",
       "      <td>193.223.88.250</td>\n",
       "      <td>5063</td>\n",
       "      <td>2491\\n</td>\n",
       "      <td>2037-12-27 12:00:00</td>\n",
       "      <td>0.0</td>\n",
       "      <td>0</td>\n",
       "      <td>0</td>\n",
       "      <td>1</td>\n",
       "      <td>0</td>\n",
       "      <td>...</td>\n",
       "      <td>0</td>\n",
       "      <td>1</td>\n",
       "      <td>0</td>\n",
       "      <td>0</td>\n",
       "      <td>0</td>\n",
       "      <td>0</td>\n",
       "      <td>0</td>\n",
       "      <td>0</td>\n",
       "      <td>0</td>\n",
       "      <td>46496</td>\n",
       "    </tr>\n",
       "    <tr>\n",
       "      <th>2</th>\n",
       "      <td>2037-12-27 12:00:00</td>\n",
       "      <td>111.75.113.143</td>\n",
       "      <td>5055</td>\n",
       "      <td>2646\\n</td>\n",
       "      <td>2037-12-27 12:00:00</td>\n",
       "      <td>0.0</td>\n",
       "      <td>1</td>\n",
       "      <td>0</td>\n",
       "      <td>0</td>\n",
       "      <td>0</td>\n",
       "      <td>...</td>\n",
       "      <td>0</td>\n",
       "      <td>0</td>\n",
       "      <td>1</td>\n",
       "      <td>0</td>\n",
       "      <td>0</td>\n",
       "      <td>0</td>\n",
       "      <td>0</td>\n",
       "      <td>0</td>\n",
       "      <td>0</td>\n",
       "      <td>6704</td>\n",
       "    </tr>\n",
       "    <tr>\n",
       "      <th>3</th>\n",
       "      <td>2037-12-27 12:00:00</td>\n",
       "      <td>129.185.58.19</td>\n",
       "      <td>4931</td>\n",
       "      <td>834\\n</td>\n",
       "      <td>2037-12-27 12:00:00</td>\n",
       "      <td>0.0</td>\n",
       "      <td>1</td>\n",
       "      <td>0</td>\n",
       "      <td>0</td>\n",
       "      <td>0</td>\n",
       "      <td>...</td>\n",
       "      <td>0</td>\n",
       "      <td>0</td>\n",
       "      <td>0</td>\n",
       "      <td>0</td>\n",
       "      <td>0</td>\n",
       "      <td>0</td>\n",
       "      <td>0</td>\n",
       "      <td>1</td>\n",
       "      <td>0</td>\n",
       "      <td>14637</td>\n",
       "    </tr>\n",
       "    <tr>\n",
       "      <th>4</th>\n",
       "      <td>2037-12-27 12:00:00</td>\n",
       "      <td>40.181.173.69</td>\n",
       "      <td>5014</td>\n",
       "      <td>3221\\n</td>\n",
       "      <td>2037-12-27 12:00:00</td>\n",
       "      <td>0.0</td>\n",
       "      <td>0</td>\n",
       "      <td>1</td>\n",
       "      <td>0</td>\n",
       "      <td>0</td>\n",
       "      <td>...</td>\n",
       "      <td>0</td>\n",
       "      <td>0</td>\n",
       "      <td>0</td>\n",
       "      <td>0</td>\n",
       "      <td>0</td>\n",
       "      <td>0</td>\n",
       "      <td>0</td>\n",
       "      <td>0</td>\n",
       "      <td>1</td>\n",
       "      <td>70548</td>\n",
       "    </tr>\n",
       "  </tbody>\n",
       "</table>\n",
       "<p>5 rows × 39 columns</p>\n",
       "</div>"
      ],
      "text/plain": [
       "           Event Time               IP Status Code Number        6  \\\n",
       "0 2037-12-27 12:00:00   14.94.217.222                5041   4077\\n   \n",
       "1 2037-12-27 12:00:00  193.223.88.250                5063   2491\\n   \n",
       "2 2037-12-27 12:00:00  111.75.113.143                5055   2646\\n   \n",
       "3 2037-12-27 12:00:00   129.185.58.19                4931    834\\n   \n",
       "4 2037-12-27 12:00:00   40.181.173.69                5014   3221\\n   \n",
       "\n",
       "        starting date  Elapsed_time  username_george  username_john  \\\n",
       "0 2037-12-27 12:00:00           0.0                1              0   \n",
       "1 2037-12-27 12:00:00           0.0                0              0   \n",
       "2 2037-12-27 12:00:00           0.0                1              0   \n",
       "3 2037-12-27 12:00:00           0.0                1              0   \n",
       "4 2037-12-27 12:00:00           0.0                0              1   \n",
       "\n",
       "   username_paul  username_ringo  ...  \\\n",
       "0              0               0  ...   \n",
       "1              1               0  ...   \n",
       "2              0               0  ...   \n",
       "3              0               0  ...   \n",
       "4              0               0  ...   \n",
       "\n",
       "   User_Agent_'Mozilla/5.0 (Linux; Android 10; ONEPLUS A6000) AppleWebKit/537.36 (KHTML, like Gecko) Chrome/77.0.3865.116 Mobile Safari/537.36 EdgA/45.12.4.5121'  \\\n",
       "0                                                                                                                                                               0   \n",
       "1                                                                                                                                                               0   \n",
       "2                                                                                                                                                               0   \n",
       "3                                                                                                                                                               0   \n",
       "4                                                                                                                                                               0   \n",
       "\n",
       "   User_Agent_'Mozilla/5.0 (Linux; Android 10; ONEPLUS A6000) AppleWebKit/537.36 (KHTML, like Gecko) Chrome/86.0.4240.198 Mobile Safari/537.36 OPR/61.2.3076.56749'  \\\n",
       "0                                                                                                                                                                 1   \n",
       "1                                                                                                                                                                 1   \n",
       "2                                                                                                                                                                 0   \n",
       "3                                                                                                                                                                 0   \n",
       "4                                                                                                                                                                 0   \n",
       "\n",
       "   User_Agent_'Mozilla/5.0 (Linux; Android 10; ONEPLUS A6000) AppleWebKit/537.36 (KHTML, like Gecko) Chrome/87.0.4280.141 Mobile Safari/537.36'  \\\n",
       "0                                                                                                                                             0   \n",
       "1                                                                                                                                             0   \n",
       "2                                                                                                                                             1   \n",
       "3                                                                                                                                             0   \n",
       "4                                                                                                                                             0   \n",
       "\n",
       "   User_Agent_'Mozilla/5.0 (Macintosh; Intel Mac OS X 10_9_3) AppleWebKit/537.75.14 (KHTML, like Gecko) Version/7.0.3 Safari/7046A194A'  \\\n",
       "0                                                                                                                                     0   \n",
       "1                                                                                                                                     0   \n",
       "2                                                                                                                                     0   \n",
       "3                                                                                                                                     0   \n",
       "4                                                                                                                                     0   \n",
       "\n",
       "   User_Agent_'Mozilla/5.0 (Windows NT 10.0; Win64; x64) AppleWebKit/537.36 (KHTML, like Gecko) Chrome/87.0.4280.141 Safari/537.36'  \\\n",
       "0                                                                                                                                 0   \n",
       "1                                                                                                                                 0   \n",
       "2                                                                                                                                 0   \n",
       "3                                                                                                                                 0   \n",
       "4                                                                                                                                 0   \n",
       "\n",
       "   User_Agent_'Mozilla/5.0 (Windows NT 10.0; Win64; x64) AppleWebKit/537.36 (KHTML, like Gecko) Chrome/87.0.4280.88 Safari/537.36 OPR/73.0.3856.329'  \\\n",
       "0                                                                                                                                                  0   \n",
       "1                                                                                                                                                  0   \n",
       "2                                                                                                                                                  0   \n",
       "3                                                                                                                                                  0   \n",
       "4                                                                                                                                                  0   \n",
       "\n",
       "   User_Agent_'Mozilla/5.0 (Windows NT 10.0; Win64; x64) AppleWebKit/537.36 (KHTML, like Gecko) Chrome/89.0.4380.0 Safari/537.36 Edg/89.0.759.0'  \\\n",
       "0                                                                                                                                              0   \n",
       "1                                                                                                                                              0   \n",
       "2                                                                                                                                              0   \n",
       "3                                                                                                                                              0   \n",
       "4                                                                                                                                              0   \n",
       "\n",
       "   User_Agent_'Mozilla/5.0 (Windows NT 10.0; Win64; x64; rv:84.0) Gecko/20100101 Firefox/84.0'  \\\n",
       "0                                                                                            0   \n",
       "1                                                                                            0   \n",
       "2                                                                                            0   \n",
       "3                                                                                            1   \n",
       "4                                                                                            0   \n",
       "\n",
       "   User_Agent_'Mozilla/5.0 (iPhone; CPU iPhone OS 12_4_9 like Mac OS X) AppleWebKit/605.1.15 (KHTML, like Gecko) Version/12.1.2 Mobile/15E148 Safari/604.1'  \\\n",
       "0                                                                                                                                                         0   \n",
       "1                                                                                                                                                         0   \n",
       "2                                                                                                                                                         0   \n",
       "3                                                                                                                                                         0   \n",
       "4                                                                                                                                                         1   \n",
       "\n",
       "   IP encoded  \n",
       "0       20290  \n",
       "1       46496  \n",
       "2        6704  \n",
       "3       14637  \n",
       "4       70548  \n",
       "\n",
       "[5 rows x 39 columns]"
      ]
     },
     "execution_count": 60,
     "metadata": {},
     "output_type": "execute_result"
    }
   ],
   "source": [
    "df.head()"
   ]
  },
  {
   "cell_type": "code",
   "execution_count": 61,
   "id": "428ff8ea-d03a-455e-acea-eab1120e4fc2",
   "metadata": {
    "tags": []
   },
   "outputs": [
    {
     "data": {
      "text/html": [
       "<div>\n",
       "<style scoped>\n",
       "    .dataframe tbody tr th:only-of-type {\n",
       "        vertical-align: middle;\n",
       "    }\n",
       "\n",
       "    .dataframe tbody tr th {\n",
       "        vertical-align: top;\n",
       "    }\n",
       "\n",
       "    .dataframe thead th {\n",
       "        text-align: right;\n",
       "    }\n",
       "</style>\n",
       "<table border=\"1\" class=\"dataframe\">\n",
       "  <thead>\n",
       "    <tr style=\"text-align: right;\">\n",
       "      <th></th>\n",
       "      <th>Event Time</th>\n",
       "      <th>IP</th>\n",
       "      <th>Status Code Number</th>\n",
       "      <th>6</th>\n",
       "      <th>starting date</th>\n",
       "      <th>Elapsed_time</th>\n",
       "      <th>username_george</th>\n",
       "      <th>username_john</th>\n",
       "      <th>username_paul</th>\n",
       "      <th>username_ringo</th>\n",
       "      <th>...</th>\n",
       "      <th>User_Agent_'Mozilla/5.0 (Linux; Android 10; ONEPLUS A6000) AppleWebKit/537.36 (KHTML, like Gecko) Chrome/77.0.3865.116 Mobile Safari/537.36 EdgA/45.12.4.5121'</th>\n",
       "      <th>User_Agent_'Mozilla/5.0 (Linux; Android 10; ONEPLUS A6000) AppleWebKit/537.36 (KHTML, like Gecko) Chrome/86.0.4240.198 Mobile Safari/537.36 OPR/61.2.3076.56749'</th>\n",
       "      <th>User_Agent_'Mozilla/5.0 (Linux; Android 10; ONEPLUS A6000) AppleWebKit/537.36 (KHTML, like Gecko) Chrome/87.0.4280.141 Mobile Safari/537.36'</th>\n",
       "      <th>User_Agent_'Mozilla/5.0 (Macintosh; Intel Mac OS X 10_9_3) AppleWebKit/537.75.14 (KHTML, like Gecko) Version/7.0.3 Safari/7046A194A'</th>\n",
       "      <th>User_Agent_'Mozilla/5.0 (Windows NT 10.0; Win64; x64) AppleWebKit/537.36 (KHTML, like Gecko) Chrome/87.0.4280.141 Safari/537.36'</th>\n",
       "      <th>User_Agent_'Mozilla/5.0 (Windows NT 10.0; Win64; x64) AppleWebKit/537.36 (KHTML, like Gecko) Chrome/87.0.4280.88 Safari/537.36 OPR/73.0.3856.329'</th>\n",
       "      <th>User_Agent_'Mozilla/5.0 (Windows NT 10.0; Win64; x64) AppleWebKit/537.36 (KHTML, like Gecko) Chrome/89.0.4380.0 Safari/537.36 Edg/89.0.759.0'</th>\n",
       "      <th>User_Agent_'Mozilla/5.0 (Windows NT 10.0; Win64; x64; rv:84.0) Gecko/20100101 Firefox/84.0'</th>\n",
       "      <th>User_Agent_'Mozilla/5.0 (iPhone; CPU iPhone OS 12_4_9 like Mac OS X) AppleWebKit/605.1.15 (KHTML, like Gecko) Version/12.1.2 Mobile/15E148 Safari/604.1'</th>\n",
       "      <th>IP encoded</th>\n",
       "    </tr>\n",
       "  </thead>\n",
       "  <tbody>\n",
       "    <tr>\n",
       "      <th>20495</th>\n",
       "      <td>2037-12-27 12:00:00</td>\n",
       "      <td>172.68.193.171</td>\n",
       "      <td>4964</td>\n",
       "      <td>2669\\n</td>\n",
       "      <td>2037-12-27 12:00:00</td>\n",
       "      <td>0.0</td>\n",
       "      <td>0</td>\n",
       "      <td>1</td>\n",
       "      <td>0</td>\n",
       "      <td>0</td>\n",
       "      <td>...</td>\n",
       "      <td>0</td>\n",
       "      <td>0</td>\n",
       "      <td>0</td>\n",
       "      <td>0</td>\n",
       "      <td>0</td>\n",
       "      <td>1</td>\n",
       "      <td>0</td>\n",
       "      <td>0</td>\n",
       "      <td>0</td>\n",
       "      <td>36381</td>\n",
       "    </tr>\n",
       "    <tr>\n",
       "      <th>59848</th>\n",
       "      <td>2037-12-27 12:00:00</td>\n",
       "      <td>172.68.193.171</td>\n",
       "      <td>5019</td>\n",
       "      <td>3705\\n</td>\n",
       "      <td>2037-12-27 12:00:00</td>\n",
       "      <td>0.0</td>\n",
       "      <td>0</td>\n",
       "      <td>1</td>\n",
       "      <td>0</td>\n",
       "      <td>0</td>\n",
       "      <td>...</td>\n",
       "      <td>0</td>\n",
       "      <td>0</td>\n",
       "      <td>0</td>\n",
       "      <td>0</td>\n",
       "      <td>0</td>\n",
       "      <td>1</td>\n",
       "      <td>0</td>\n",
       "      <td>0</td>\n",
       "      <td>0</td>\n",
       "      <td>36381</td>\n",
       "    </tr>\n",
       "  </tbody>\n",
       "</table>\n",
       "<p>2 rows × 39 columns</p>\n",
       "</div>"
      ],
      "text/plain": [
       "               Event Time               IP Status Code Number        6  \\\n",
       "20495 2037-12-27 12:00:00  172.68.193.171                4964   2669\\n   \n",
       "59848 2037-12-27 12:00:00  172.68.193.171                5019   3705\\n   \n",
       "\n",
       "            starting date  Elapsed_time  username_george  username_john  \\\n",
       "20495 2037-12-27 12:00:00           0.0                0              1   \n",
       "59848 2037-12-27 12:00:00           0.0                0              1   \n",
       "\n",
       "       username_paul  username_ringo  ...  \\\n",
       "20495              0               0  ...   \n",
       "59848              0               0  ...   \n",
       "\n",
       "       User_Agent_'Mozilla/5.0 (Linux; Android 10; ONEPLUS A6000) AppleWebKit/537.36 (KHTML, like Gecko) Chrome/77.0.3865.116 Mobile Safari/537.36 EdgA/45.12.4.5121'  \\\n",
       "20495                                                                                                                                                               0   \n",
       "59848                                                                                                                                                               0   \n",
       "\n",
       "       User_Agent_'Mozilla/5.0 (Linux; Android 10; ONEPLUS A6000) AppleWebKit/537.36 (KHTML, like Gecko) Chrome/86.0.4240.198 Mobile Safari/537.36 OPR/61.2.3076.56749'  \\\n",
       "20495                                                                                                                                                                 0   \n",
       "59848                                                                                                                                                                 0   \n",
       "\n",
       "       User_Agent_'Mozilla/5.0 (Linux; Android 10; ONEPLUS A6000) AppleWebKit/537.36 (KHTML, like Gecko) Chrome/87.0.4280.141 Mobile Safari/537.36'  \\\n",
       "20495                                                                                                                                             0   \n",
       "59848                                                                                                                                             0   \n",
       "\n",
       "       User_Agent_'Mozilla/5.0 (Macintosh; Intel Mac OS X 10_9_3) AppleWebKit/537.75.14 (KHTML, like Gecko) Version/7.0.3 Safari/7046A194A'  \\\n",
       "20495                                                                                                                                     0   \n",
       "59848                                                                                                                                     0   \n",
       "\n",
       "       User_Agent_'Mozilla/5.0 (Windows NT 10.0; Win64; x64) AppleWebKit/537.36 (KHTML, like Gecko) Chrome/87.0.4280.141 Safari/537.36'  \\\n",
       "20495                                                                                                                                 0   \n",
       "59848                                                                                                                                 0   \n",
       "\n",
       "       User_Agent_'Mozilla/5.0 (Windows NT 10.0; Win64; x64) AppleWebKit/537.36 (KHTML, like Gecko) Chrome/87.0.4280.88 Safari/537.36 OPR/73.0.3856.329'  \\\n",
       "20495                                                                                                                                                  1   \n",
       "59848                                                                                                                                                  1   \n",
       "\n",
       "       User_Agent_'Mozilla/5.0 (Windows NT 10.0; Win64; x64) AppleWebKit/537.36 (KHTML, like Gecko) Chrome/89.0.4380.0 Safari/537.36 Edg/89.0.759.0'  \\\n",
       "20495                                                                                                                                              0   \n",
       "59848                                                                                                                                              0   \n",
       "\n",
       "       User_Agent_'Mozilla/5.0 (Windows NT 10.0; Win64; x64; rv:84.0) Gecko/20100101 Firefox/84.0'  \\\n",
       "20495                                                                                            0   \n",
       "59848                                                                                            0   \n",
       "\n",
       "       User_Agent_'Mozilla/5.0 (iPhone; CPU iPhone OS 12_4_9 like Mac OS X) AppleWebKit/605.1.15 (KHTML, like Gecko) Version/12.1.2 Mobile/15E148 Safari/604.1'  \\\n",
       "20495                                                                                                                                                         0   \n",
       "59848                                                                                                                                                         0   \n",
       "\n",
       "       IP encoded  \n",
       "20495       36381  \n",
       "59848       36381  \n",
       "\n",
       "[2 rows x 39 columns]"
      ]
     },
     "execution_count": 61,
     "metadata": {},
     "output_type": "execute_result"
    }
   ],
   "source": [
    "#Check that the IP column label encoding was done properly, i.e. the same repeating IP should also have repeating encoded IPs\n",
    "df[df['IP'].map(df['IP'].value_counts()) > 1]"
   ]
  },
  {
   "cell_type": "markdown",
   "id": "d1ec457c-27d8-4b55-b0f1-81542128aa5d",
   "metadata": {},
   "source": [
    "# **EDA**"
   ]
  },
  {
   "cell_type": "code",
   "execution_count": 62,
   "id": "12d8ed36-0c04-4bda-8795-31ed52ee2444",
   "metadata": {
    "tags": []
   },
   "outputs": [
    {
     "data": {
      "text/plain": [
       "Event Time                                                                                                                                                          datetime64[ns]\n",
       "IP                                                                                                                                                                          object\n",
       "Status Code Number                                                                                                                                                          object\n",
       "6                                                                                                                                                                           object\n",
       "starting date                                                                                                                                                       datetime64[ns]\n",
       "Elapsed_time                                                                                                                                                               float64\n",
       "username_george                                                                                                                                                              int32\n",
       "username_john                                                                                                                                                                int32\n",
       "username_paul                                                                                                                                                                int32\n",
       "username_ringo                                                                                                                                                               int32\n",
       "Request_Type_'DELETE'                                                                                                                                                        int32\n",
       "Request_Type_'GET'                                                                                                                                                           int32\n",
       "Request_Type_'POST'                                                                                                                                                          int32\n",
       "Request_Type_'PUT'                                                                                                                                                           int32\n",
       "Endpoint_'/usr'                                                                                                                                                              int32\n",
       "Endpoint_'/usr/admin'                                                                                                                                                        int32\n",
       "Endpoint_'/usr/admin/developer'                                                                                                                                              int32\n",
       "Endpoint_'/usr/login'                                                                                                                                                        int32\n",
       "Endpoint_'/usr/register'                                                                                                                                                     int32\n",
       "Status_Code_'200'                                                                                                                                                            int32\n",
       "Status_Code_'303'                                                                                                                                                            int32\n",
       "Status_Code_'304'                                                                                                                                                            int32\n",
       "Status_Code_'403'                                                                                                                                                            int32\n",
       "Status_Code_'404'                                                                                                                                                            int32\n",
       "Status_Code_'500'                                                                                                                                                            int32\n",
       "Status_Code_'502'                                                                                                                                                            int32\n",
       "Referrer_'-'                                                                                                                                                                 int32\n",
       "Referrer_'http://morgan.biz/wp-contentcategory.htm'                                                                                                                          int32\n",
       "User_Agent_'Mozilla/5.0 (Android 10; Mobile; rv:84.0) Gecko/84.0 Firefox/84.0'                                                                                               int32\n",
       "User_Agent_'Mozilla/5.0 (Linux; Android 10; ONEPLUS A6000) AppleWebKit/537.36 (KHTML, like Gecko) Chrome/77.0.3865.116 Mobile Safari/537.36 EdgA/45.12.4.5121'               int32\n",
       "User_Agent_'Mozilla/5.0 (Linux; Android 10; ONEPLUS A6000) AppleWebKit/537.36 (KHTML, like Gecko) Chrome/86.0.4240.198 Mobile Safari/537.36 OPR/61.2.3076.56749'             int32\n",
       "User_Agent_'Mozilla/5.0 (Linux; Android 10; ONEPLUS A6000) AppleWebKit/537.36 (KHTML, like Gecko) Chrome/87.0.4280.141 Mobile Safari/537.36'                                 int32\n",
       "User_Agent_'Mozilla/5.0 (Macintosh; Intel Mac OS X 10_9_3) AppleWebKit/537.75.14 (KHTML, like Gecko) Version/7.0.3 Safari/7046A194A'                                         int32\n",
       "User_Agent_'Mozilla/5.0 (Windows NT 10.0; Win64; x64) AppleWebKit/537.36 (KHTML, like Gecko) Chrome/87.0.4280.141 Safari/537.36'                                             int32\n",
       "User_Agent_'Mozilla/5.0 (Windows NT 10.0; Win64; x64) AppleWebKit/537.36 (KHTML, like Gecko) Chrome/87.0.4280.88 Safari/537.36 OPR/73.0.3856.329'                            int32\n",
       "User_Agent_'Mozilla/5.0 (Windows NT 10.0; Win64; x64) AppleWebKit/537.36 (KHTML, like Gecko) Chrome/89.0.4380.0 Safari/537.36 Edg/89.0.759.0'                                int32\n",
       "User_Agent_'Mozilla/5.0 (Windows NT 10.0; Win64; x64; rv:84.0) Gecko/20100101 Firefox/84.0'                                                                                  int32\n",
       "User_Agent_'Mozilla/5.0 (iPhone; CPU iPhone OS 12_4_9 like Mac OS X) AppleWebKit/605.1.15 (KHTML, like Gecko) Version/12.1.2 Mobile/15E148 Safari/604.1'                     int32\n",
       "IP encoded                                                                                                                                                                   int32\n",
       "dtype: object"
      ]
     },
     "execution_count": 62,
     "metadata": {},
     "output_type": "execute_result"
    }
   ],
   "source": [
    "df.dtypes"
   ]
  },
  {
   "cell_type": "code",
   "execution_count": 63,
   "id": "8b0feaa0-90eb-40c0-9f26-7cc809436165",
   "metadata": {
    "tags": []
   },
   "outputs": [],
   "source": [
    "df_2 = df.drop(columns=['Status Code Number','Elapsed_time','Event Time','IP','6','starting date','IP encoded'])"
   ]
  },
  {
   "cell_type": "code",
   "execution_count": 64,
   "id": "36c3386f-e16b-43f6-97c5-bc7aec2880fa",
   "metadata": {
    "tags": []
   },
   "outputs": [
    {
     "data": {
      "text/html": [
       "<style type=\"text/css\">\n",
       "#T_0b514_row0_col0, #T_0b514_row1_col1, #T_0b514_row2_col2, #T_0b514_row3_col3, #T_0b514_row4_col4, #T_0b514_row5_col5, #T_0b514_row6_col6, #T_0b514_row7_col7, #T_0b514_row8_col8, #T_0b514_row9_col9, #T_0b514_row10_col10, #T_0b514_row11_col11, #T_0b514_row12_col12, #T_0b514_row13_col13, #T_0b514_row14_col14, #T_0b514_row15_col15, #T_0b514_row16_col16, #T_0b514_row17_col17, #T_0b514_row18_col18, #T_0b514_row19_col19, #T_0b514_row20_col20, #T_0b514_row21_col21, #T_0b514_row22_col22, #T_0b514_row23_col23, #T_0b514_row24_col24, #T_0b514_row25_col25, #T_0b514_row26_col26, #T_0b514_row27_col27, #T_0b514_row28_col28, #T_0b514_row29_col29, #T_0b514_row30_col30, #T_0b514_row31_col31 {\n",
       "  background-color: #b40426;\n",
       "  color: #f1f1f1;\n",
       "}\n",
       "#T_0b514_row0_col1, #T_0b514_row0_col2, #T_0b514_row0_col3, #T_0b514_row0_col29, #T_0b514_row0_col31, #T_0b514_row1_col0, #T_0b514_row1_col2, #T_0b514_row1_col3, #T_0b514_row1_col22, #T_0b514_row1_col23, #T_0b514_row2_col0, #T_0b514_row2_col1, #T_0b514_row2_col3, #T_0b514_row2_col24, #T_0b514_row2_col26, #T_0b514_row2_col30, #T_0b514_row4_col5, #T_0b514_row4_col6, #T_0b514_row4_col7, #T_0b514_row5_col4, #T_0b514_row11_col12, #T_0b514_row12_col8, #T_0b514_row12_col9, #T_0b514_row12_col10, #T_0b514_row12_col11, #T_0b514_row16_col13, #T_0b514_row16_col14, #T_0b514_row16_col15, #T_0b514_row16_col17, #T_0b514_row16_col18, #T_0b514_row16_col19, #T_0b514_row18_col13, #T_0b514_row18_col14, #T_0b514_row18_col15, #T_0b514_row18_col16, #T_0b514_row18_col17, #T_0b514_row18_col19, #T_0b514_row20_col21, #T_0b514_row21_col20, #T_0b514_row23_col25, #T_0b514_row23_col27, #T_0b514_row31_col23, #T_0b514_row31_col25, #T_0b514_row31_col27, #T_0b514_row31_col28 {\n",
       "  background-color: #3b4cc0;\n",
       "  color: #f1f1f1;\n",
       "}\n",
       "#T_0b514_row0_col4, #T_0b514_row1_col5, #T_0b514_row3_col6, #T_0b514_row3_col7, #T_0b514_row4_col0, #T_0b514_row5_col1, #T_0b514_row12_col5, #T_0b514_row16_col2, #T_0b514_row17_col0, #T_0b514_row22_col4, #T_0b514_row28_col5, #T_0b514_row29_col11 {\n",
       "  background-color: #a1c0ff;\n",
       "  color: #000000;\n",
       "}\n",
       "#T_0b514_row0_col5, #T_0b514_row0_col22, #T_0b514_row2_col11, #T_0b514_row5_col0 {\n",
       "  background-color: #b5cdfa;\n",
       "  color: #000000;\n",
       "}\n",
       "#T_0b514_row0_col6, #T_0b514_row3_col5, #T_0b514_row8_col6, #T_0b514_row13_col4, #T_0b514_row15_col5, #T_0b514_row16_col4, #T_0b514_row26_col5, #T_0b514_row29_col4 {\n",
       "  background-color: #a6c4fe;\n",
       "  color: #000000;\n",
       "}\n",
       "#T_0b514_row0_col7, #T_0b514_row1_col15, #T_0b514_row3_col31, #T_0b514_row8_col25, #T_0b514_row9_col25, #T_0b514_row9_col28, #T_0b514_row9_col31, #T_0b514_row12_col3, #T_0b514_row14_col27, #T_0b514_row20_col27, #T_0b514_row21_col27, #T_0b514_row24_col13, #T_0b514_row27_col13 {\n",
       "  background-color: #5a78e4;\n",
       "  color: #f1f1f1;\n",
       "}\n",
       "#T_0b514_row0_col8, #T_0b514_row8_col5, #T_0b514_row9_col5, #T_0b514_row25_col0, #T_0b514_row27_col1, #T_0b514_row27_col2, #T_0b514_row30_col5, #T_0b514_row31_col4 {\n",
       "  background-color: #a7c5fe;\n",
       "  color: #000000;\n",
       "}\n",
       "#T_0b514_row0_col9, #T_0b514_row1_col8 {\n",
       "  background-color: #b1cbfc;\n",
       "  color: #000000;\n",
       "}\n",
       "#T_0b514_row0_col10, #T_0b514_row1_col26, #T_0b514_row3_col14, #T_0b514_row3_col22, #T_0b514_row3_col30, #T_0b514_row5_col16, #T_0b514_row5_col30, #T_0b514_row6_col16, #T_0b514_row6_col18, #T_0b514_row7_col19, #T_0b514_row12_col16, #T_0b514_row14_col10, #T_0b514_row19_col10, #T_0b514_row20_col16, #T_0b514_row21_col16, #T_0b514_row21_col18, #T_0b514_row22_col3, #T_0b514_row22_col7, #T_0b514_row22_col14, #T_0b514_row27_col3, #T_0b514_row27_col10, #T_0b514_row28_col16, #T_0b514_row29_col0, #T_0b514_row29_col9, #T_0b514_row29_col10, #T_0b514_row30_col16, #T_0b514_row31_col9 {\n",
       "  background-color: #779af7;\n",
       "  color: #f1f1f1;\n",
       "}\n",
       "#T_0b514_row0_col11, #T_0b514_row9_col8, #T_0b514_row22_col26, #T_0b514_row23_col30, #T_0b514_row28_col30, #T_0b514_row30_col22 {\n",
       "  background-color: #516ddb;\n",
       "  color: #f1f1f1;\n",
       "}\n",
       "#T_0b514_row0_col12, #T_0b514_row4_col11, #T_0b514_row10_col6, #T_0b514_row13_col12, #T_0b514_row14_col12, #T_0b514_row15_col12, #T_0b514_row16_col12, #T_0b514_row17_col11, #T_0b514_row19_col12, #T_0b514_row21_col12, #T_0b514_row22_col12, #T_0b514_row24_col8, #T_0b514_row24_col11, #T_0b514_row25_col1, #T_0b514_row27_col0 {\n",
       "  background-color: #94b6ff;\n",
       "  color: #000000;\n",
       "}\n",
       "#T_0b514_row0_col13, #T_0b514_row4_col28, #T_0b514_row6_col3, #T_0b514_row6_col10, #T_0b514_row7_col17, #T_0b514_row10_col28, #T_0b514_row10_col29, #T_0b514_row14_col24, #T_0b514_row16_col22, #T_0b514_row17_col24, #T_0b514_row19_col24, #T_0b514_row20_col24, #T_0b514_row21_col24, #T_0b514_row22_col18, #T_0b514_row24_col3, #T_0b514_row30_col3, #T_0b514_row30_col10 {\n",
       "  background-color: #6c8ff1;\n",
       "  color: #f1f1f1;\n",
       "}\n",
       "#T_0b514_row0_col14, #T_0b514_row1_col4, #T_0b514_row2_col19, #T_0b514_row4_col1, #T_0b514_row8_col7, #T_0b514_row10_col7, #T_0b514_row14_col7, #T_0b514_row18_col0, #T_0b514_row19_col9, #T_0b514_row20_col7, #T_0b514_row23_col1, #T_0b514_row25_col9, #T_0b514_row28_col7, #T_0b514_row29_col8, #T_0b514_row29_col18 {\n",
       "  background-color: #7ea1fa;\n",
       "  color: #f1f1f1;\n",
       "}\n",
       "#T_0b514_row0_col15, #T_0b514_row3_col10, #T_0b514_row3_col12, #T_0b514_row7_col8, #T_0b514_row18_col8, #T_0b514_row20_col8, #T_0b514_row22_col2, #T_0b514_row28_col1, #T_0b514_row29_col7 {\n",
       "  background-color: #86a9fc;\n",
       "  color: #f1f1f1;\n",
       "}\n",
       "#T_0b514_row0_col16, #T_0b514_row5_col12, #T_0b514_row6_col11, #T_0b514_row7_col12, #T_0b514_row13_col11, #T_0b514_row14_col11, #T_0b514_row19_col0, #T_0b514_row30_col9 {\n",
       "  background-color: #90b2fe;\n",
       "  color: #000000;\n",
       "}\n",
       "#T_0b514_row0_col17, #T_0b514_row4_col22, #T_0b514_row4_col30, #T_0b514_row11_col0, #T_0b514_row13_col26, #T_0b514_row13_col28, #T_0b514_row13_col31, #T_0b514_row14_col23, #T_0b514_row14_col28, #T_0b514_row16_col26, #T_0b514_row17_col31, #T_0b514_row19_col26, #T_0b514_row20_col22, #T_0b514_row20_col28, #T_0b514_row21_col31, #T_0b514_row23_col17, #T_0b514_row28_col3, #T_0b514_row28_col17 {\n",
       "  background-color: #6485ec;\n",
       "  color: #f1f1f1;\n",
       "}\n",
       "#T_0b514_row0_col18, #T_0b514_row6_col5, #T_0b514_row13_col15, #T_0b514_row13_col17, #T_0b514_row16_col3, #T_0b514_row25_col24, #T_0b514_row27_col26, #T_0b514_row30_col24 {\n",
       "  background-color: #4e68d8;\n",
       "  color: #f1f1f1;\n",
       "}\n",
       "#T_0b514_row0_col19, #T_0b514_row0_col28, #T_0b514_row3_col15, #T_0b514_row4_col24, #T_0b514_row5_col13, #T_0b514_row6_col23, #T_0b514_row7_col27, #T_0b514_row8_col13, #T_0b514_row8_col23, #T_0b514_row9_col13, #T_0b514_row11_col23, #T_0b514_row11_col27, #T_0b514_row12_col26, #T_0b514_row13_col25, #T_0b514_row15_col3, #T_0b514_row15_col25, #T_0b514_row18_col23, #T_0b514_row20_col13, #T_0b514_row20_col25, #T_0b514_row25_col13, #T_0b514_row30_col13, #T_0b514_row31_col3 {\n",
       "  background-color: #5e7de7;\n",
       "  color: #f1f1f1;\n",
       "}\n",
       "#T_0b514_row0_col20, #T_0b514_row1_col21, #T_0b514_row2_col20, #T_0b514_row3_col21, #T_0b514_row4_col20, #T_0b514_row5_col21, #T_0b514_row6_col20, #T_0b514_row7_col21, #T_0b514_row8_col21, #T_0b514_row9_col20, #T_0b514_row10_col20, #T_0b514_row12_col21, #T_0b514_row13_col20, #T_0b514_row14_col20, #T_0b514_row15_col20, #T_0b514_row16_col20, #T_0b514_row17_col21, #T_0b514_row18_col21, #T_0b514_row19_col20, #T_0b514_row22_col21, #T_0b514_row23_col21, #T_0b514_row24_col21, #T_0b514_row25_col20, #T_0b514_row26_col20, #T_0b514_row27_col21, #T_0b514_row28_col20, #T_0b514_row29_col21, #T_0b514_row30_col21, #T_0b514_row31_col20 {\n",
       "  background-color: #dddcdc;\n",
       "  color: #000000;\n",
       "}\n",
       "#T_0b514_row0_col21, #T_0b514_row1_col20, #T_0b514_row2_col21, #T_0b514_row3_col20, #T_0b514_row4_col21, #T_0b514_row5_col20, #T_0b514_row6_col21, #T_0b514_row7_col20, #T_0b514_row8_col20, #T_0b514_row9_col21, #T_0b514_row10_col21, #T_0b514_row12_col20, #T_0b514_row13_col21, #T_0b514_row14_col21, #T_0b514_row15_col21, #T_0b514_row16_col21, #T_0b514_row17_col20, #T_0b514_row18_col20, #T_0b514_row19_col21, #T_0b514_row22_col20, #T_0b514_row23_col20, #T_0b514_row24_col20, #T_0b514_row25_col21, #T_0b514_row26_col21, #T_0b514_row27_col20, #T_0b514_row28_col21, #T_0b514_row29_col20, #T_0b514_row30_col20, #T_0b514_row31_col21 {\n",
       "  background-color: #dcdddd;\n",
       "  color: #000000;\n",
       "}\n",
       "#T_0b514_row0_col23, #T_0b514_row3_col19, #T_0b514_row7_col9, #T_0b514_row23_col9, #T_0b514_row26_col7, #T_0b514_row28_col10, #T_0b514_row30_col7 {\n",
       "  background-color: #80a3fa;\n",
       "  color: #f1f1f1;\n",
       "}\n",
       "#T_0b514_row0_col24, #T_0b514_row2_col13, #T_0b514_row4_col13, #T_0b514_row5_col28, #T_0b514_row5_col31, #T_0b514_row6_col31, #T_0b514_row8_col29, #T_0b514_row9_col23, #T_0b514_row9_col29, #T_0b514_row10_col25, #T_0b514_row10_col26, #T_0b514_row11_col26, #T_0b514_row12_col24, #T_0b514_row17_col23, #T_0b514_row17_col28, #T_0b514_row19_col22, #T_0b514_row19_col23 {\n",
       "  background-color: #6180e9;\n",
       "  color: #f1f1f1;\n",
       "}\n",
       "#T_0b514_row0_col25, #T_0b514_row4_col17, #T_0b514_row5_col23, #T_0b514_row7_col4, #T_0b514_row7_col15, #T_0b514_row12_col25, #T_0b514_row13_col3, #T_0b514_row15_col28, #T_0b514_row16_col28, #T_0b514_row19_col28, #T_0b514_row20_col23, #T_0b514_row21_col23, #T_0b514_row31_col15 {\n",
       "  background-color: #6384eb;\n",
       "  color: #f1f1f1;\n",
       "}\n",
       "#T_0b514_row0_col26, #T_0b514_row1_col29, #T_0b514_row3_col8, #T_0b514_row10_col3, #T_0b514_row13_col10, #T_0b514_row16_col7, #T_0b514_row25_col10, #T_0b514_row27_col18, #T_0b514_row28_col9, #T_0b514_row31_col10, #T_0b514_row31_col19 {\n",
       "  background-color: #799cf8;\n",
       "  color: #f1f1f1;\n",
       "}\n",
       "#T_0b514_row0_col27, #T_0b514_row6_col7, #T_0b514_row28_col29, #T_0b514_row31_col24 {\n",
       "  background-color: #485fd1;\n",
       "  color: #f1f1f1;\n",
       "}\n",
       "#T_0b514_row0_col30, #T_0b514_row6_col8, #T_0b514_row17_col12, #T_0b514_row18_col12, #T_0b514_row21_col11, #T_0b514_row25_col11, #T_0b514_row26_col8 {\n",
       "  background-color: #92b4fe;\n",
       "  color: #000000;\n",
       "}\n",
       "#T_0b514_row1_col6 {\n",
       "  background-color: #b7cff9;\n",
       "  color: #000000;\n",
       "}\n",
       "#T_0b514_row1_col7, #T_0b514_row8_col4, #T_0b514_row9_col4, #T_0b514_row15_col1, #T_0b514_row19_col11, #T_0b514_row23_col6, #T_0b514_row24_col0, #T_0b514_row25_col12, #T_0b514_row30_col4, #T_0b514_row31_col6 {\n",
       "  background-color: #98b9ff;\n",
       "  color: #000000;\n",
       "}\n",
       "#T_0b514_row1_col9, #T_0b514_row1_col18, #T_0b514_row2_col5, #T_0b514_row5_col2, #T_0b514_row20_col12, #T_0b514_row27_col12 {\n",
       "  background-color: #93b5fe;\n",
       "  color: #000000;\n",
       "}\n",
       "#T_0b514_row1_col10, #T_0b514_row1_col28, #T_0b514_row6_col4, #T_0b514_row26_col25, #T_0b514_row27_col25 {\n",
       "  background-color: #4358cb;\n",
       "  color: #f1f1f1;\n",
       "}\n",
       "#T_0b514_row1_col11, #T_0b514_row1_col24, #T_0b514_row6_col0, #T_0b514_row10_col4, #T_0b514_row23_col4 {\n",
       "  background-color: #adc9fd;\n",
       "  color: #000000;\n",
       "}\n",
       "#T_0b514_row1_col12, #T_0b514_row1_col16, #T_0b514_row4_col23, #T_0b514_row8_col22, #T_0b514_row8_col26, #T_0b514_row9_col19, #T_0b514_row12_col29, #T_0b514_row18_col24, #T_0b514_row18_col30, #T_0b514_row30_col2 {\n",
       "  background-color: #6f92f3;\n",
       "  color: #f1f1f1;\n",
       "}\n",
       "#T_0b514_row1_col13, #T_0b514_row24_col22, #T_0b514_row25_col22, #T_0b514_row26_col24, #T_0b514_row27_col24, #T_0b514_row31_col30 {\n",
       "  background-color: #506bda;\n",
       "  color: #f1f1f1;\n",
       "}\n",
       "#T_0b514_row1_col14, #T_0b514_row1_col17, #T_0b514_row3_col27, #T_0b514_row4_col31, #T_0b514_row7_col31, #T_0b514_row8_col2, #T_0b514_row8_col15, #T_0b514_row11_col30, #T_0b514_row12_col15, #T_0b514_row12_col30, #T_0b514_row23_col15, #T_0b514_row24_col10, #T_0b514_row26_col15, #T_0b514_row27_col17, #T_0b514_row29_col17 {\n",
       "  background-color: #6a8bef;\n",
       "  color: #f1f1f1;\n",
       "}\n",
       "#T_0b514_row1_col19, #T_0b514_row6_col2, #T_0b514_row6_col30, #T_0b514_row7_col18, #T_0b514_row9_col7, #T_0b514_row18_col9, #T_0b514_row23_col10, #T_0b514_row26_col2, #T_0b514_row26_col3, #T_0b514_row28_col8, #T_0b514_row31_col0, #T_0b514_row31_col18 {\n",
       "  background-color: #7da0f9;\n",
       "  color: #f1f1f1;\n",
       "}\n",
       "#T_0b514_row1_col25, #T_0b514_row3_col23, #T_0b514_row8_col9, #T_0b514_row24_col29, #T_0b514_row25_col26, #T_0b514_row29_col24, #T_0b514_row30_col26, #T_0b514_row31_col22 {\n",
       "  background-color: #4b64d5;\n",
       "  color: #f1f1f1;\n",
       "}\n",
       "#T_0b514_row1_col27, #T_0b514_row2_col17, #T_0b514_row2_col27, #T_0b514_row3_col28, #T_0b514_row7_col22, #T_0b514_row10_col11, #T_0b514_row10_col13, #T_0b514_row10_col24, #T_0b514_row11_col15, #T_0b514_row12_col13, #T_0b514_row15_col31, #T_0b514_row28_col13 {\n",
       "  background-color: #5f7fe8;\n",
       "  color: #f1f1f1;\n",
       "}\n",
       "#T_0b514_row1_col30, #T_0b514_row2_col29, #T_0b514_row5_col11, #T_0b514_row22_col8, #T_0b514_row26_col11 {\n",
       "  background-color: #8fb1fe;\n",
       "  color: #000000;\n",
       "}\n",
       "#T_0b514_row1_col31, #T_0b514_row2_col16, #T_0b514_row4_col14, #T_0b514_row4_col19, #T_0b514_row5_col19, #T_0b514_row7_col14, #T_0b514_row7_col30, #T_0b514_row13_col30, #T_0b514_row14_col30, #T_0b514_row16_col30, #T_0b514_row18_col3, #T_0b514_row18_col10, #T_0b514_row18_col29, #T_0b514_row19_col3, #T_0b514_row20_col14, #T_0b514_row21_col14, #T_0b514_row21_col19, #T_0b514_row21_col30, #T_0b514_row24_col14, #T_0b514_row26_col14, #T_0b514_row26_col19, #T_0b514_row27_col14, #T_0b514_row30_col14, #T_0b514_row30_col18, #T_0b514_row31_col16 {\n",
       "  background-color: #7396f5;\n",
       "  color: #f1f1f1;\n",
       "}\n",
       "#T_0b514_row2_col4, #T_0b514_row4_col2, #T_0b514_row24_col1 {\n",
       "  background-color: #d3dbe7;\n",
       "  color: #000000;\n",
       "}\n",
       "#T_0b514_row2_col6, #T_0b514_row3_col29, #T_0b514_row5_col10, #T_0b514_row5_col14, #T_0b514_row5_col18, #T_0b514_row6_col19, #T_0b514_row7_col10, #T_0b514_row8_col14, #T_0b514_row9_col14, #T_0b514_row10_col1, #T_0b514_row10_col14, #T_0b514_row10_col18, #T_0b514_row12_col14, #T_0b514_row12_col18, #T_0b514_row12_col19, #T_0b514_row17_col30, #T_0b514_row23_col14, #T_0b514_row24_col19, #T_0b514_row27_col16, #T_0b514_row28_col14, #T_0b514_row28_col19 {\n",
       "  background-color: #7597f6;\n",
       "  color: #f1f1f1;\n",
       "}\n",
       "#T_0b514_row2_col7, #T_0b514_row3_col26, #T_0b514_row4_col8, #T_0b514_row12_col7, #T_0b514_row13_col7, #T_0b514_row15_col7, #T_0b514_row22_col1, #T_0b514_row22_col16, #T_0b514_row23_col16, #T_0b514_row25_col7 {\n",
       "  background-color: #7b9ff9;\n",
       "  color: #f1f1f1;\n",
       "}\n",
       "#T_0b514_row2_col8, #T_0b514_row4_col3, #T_0b514_row15_col16, #T_0b514_row15_col18, #T_0b514_row17_col16, #T_0b514_row17_col18, #T_0b514_row17_col19, #T_0b514_row22_col31, #T_0b514_row24_col26 {\n",
       "  background-color: #4a63d3;\n",
       "  color: #f1f1f1;\n",
       "}\n",
       "#T_0b514_row2_col9, #T_0b514_row8_col12, #T_0b514_row15_col17, #T_0b514_row17_col15, #T_0b514_row22_col25, #T_0b514_row23_col26, #T_0b514_row23_col29, #T_0b514_row28_col26, #T_0b514_row31_col29 {\n",
       "  background-color: #465ecf;\n",
       "  color: #f1f1f1;\n",
       "}\n",
       "#T_0b514_row2_col10, #T_0b514_row3_col11, #T_0b514_row12_col0, #T_0b514_row14_col4, #T_0b514_row15_col4, #T_0b514_row16_col5, #T_0b514_row17_col5, #T_0b514_row19_col4, #T_0b514_row20_col0, #T_0b514_row20_col1, #T_0b514_row20_col2, #T_0b514_row20_col5, #T_0b514_row21_col0, #T_0b514_row21_col1, #T_0b514_row21_col2, #T_0b514_row21_col4, #T_0b514_row23_col5, #T_0b514_row27_col5 {\n",
       "  background-color: #a3c2fe;\n",
       "  color: #000000;\n",
       "}\n",
       "#T_0b514_row2_col12, #T_0b514_row6_col1, #T_0b514_row30_col0 {\n",
       "  background-color: #bcd2f7;\n",
       "  color: #000000;\n",
       "}\n",
       "#T_0b514_row2_col14, #T_0b514_row6_col14, #T_0b514_row7_col24, #T_0b514_row7_col29, #T_0b514_row9_col18, #T_0b514_row9_col22, #T_0b514_row20_col30, #T_0b514_row23_col18, #T_0b514_row23_col19, #T_0b514_row25_col14, #T_0b514_row25_col19, #T_0b514_row30_col19 {\n",
       "  background-color: #7295f4;\n",
       "  color: #f1f1f1;\n",
       "}\n",
       "#T_0b514_row2_col15, #T_0b514_row3_col16, #T_0b514_row5_col25, #T_0b514_row6_col13, #T_0b514_row6_col28, #T_0b514_row8_col31, #T_0b514_row14_col25, #T_0b514_row17_col25, #T_0b514_row17_col27, #T_0b514_row18_col22, #T_0b514_row18_col27, #T_0b514_row21_col13, #T_0b514_row21_col25, #T_0b514_row22_col30, #T_0b514_row26_col13, #T_0b514_row31_col13 {\n",
       "  background-color: #5d7ce6;\n",
       "  color: #f1f1f1;\n",
       "}\n",
       "#T_0b514_row2_col18, #T_0b514_row2_col23, #T_0b514_row3_col9, #T_0b514_row4_col10, #T_0b514_row9_col30, #T_0b514_row11_col18, #T_0b514_row12_col1, #T_0b514_row21_col7, #T_0b514_row27_col9, #T_0b514_row31_col8 {\n",
       "  background-color: #81a4fb;\n",
       "  color: #f1f1f1;\n",
       "}\n",
       "#T_0b514_row2_col22, #T_0b514_row5_col6, #T_0b514_row22_col27, #T_0b514_row27_col31, #T_0b514_row31_col26 {\n",
       "  background-color: #455cce;\n",
       "  color: #f1f1f1;\n",
       "}\n",
       "#T_0b514_row2_col25, #T_0b514_row4_col9, #T_0b514_row4_col18, #T_0b514_row6_col24, #T_0b514_row8_col18, #T_0b514_row9_col24, #T_0b514_row10_col16, #T_0b514_row10_col19, #T_0b514_row15_col10, #T_0b514_row15_col30, #T_0b514_row16_col10, #T_0b514_row17_col10, #T_0b514_row20_col10, #T_0b514_row20_col18, #T_0b514_row20_col19, #T_0b514_row21_col10, #T_0b514_row23_col7, #T_0b514_row24_col2, #T_0b514_row24_col16, #T_0b514_row25_col18, #T_0b514_row26_col16, #T_0b514_row26_col18, #T_0b514_row27_col19, #T_0b514_row28_col18 {\n",
       "  background-color: #7699f6;\n",
       "  color: #f1f1f1;\n",
       "}\n",
       "#T_0b514_row2_col28, #T_0b514_row16_col11, #T_0b514_row23_col11 {\n",
       "  background-color: #8db0fe;\n",
       "  color: #000000;\n",
       "}\n",
       "#T_0b514_row2_col31, #T_0b514_row16_col8, #T_0b514_row30_col11, #T_0b514_row30_col12 {\n",
       "  background-color: #8badfd;\n",
       "  color: #000000;\n",
       "}\n",
       "#T_0b514_row3_col0, #T_0b514_row3_col1, #T_0b514_row3_col2, #T_0b514_row3_col17, #T_0b514_row4_col16, #T_0b514_row8_col16, #T_0b514_row8_col24, #T_0b514_row9_col16, #T_0b514_row11_col3, #T_0b514_row11_col19, #T_0b514_row11_col29, #T_0b514_row17_col3, #T_0b514_row22_col10, #T_0b514_row24_col18, #T_0b514_row25_col16, #T_0b514_row29_col19 {\n",
       "  background-color: #7a9df8;\n",
       "  color: #f1f1f1;\n",
       "}\n",
       "#T_0b514_row3_col4, #T_0b514_row14_col8, #T_0b514_row15_col8, #T_0b514_row21_col8 {\n",
       "  background-color: #89acfd;\n",
       "  color: #000000;\n",
       "}\n",
       "#T_0b514_row3_col13, #T_0b514_row4_col27, #T_0b514_row5_col27, #T_0b514_row6_col27, #T_0b514_row7_col13, #T_0b514_row7_col23, #T_0b514_row7_col25, #T_0b514_row9_col27, #T_0b514_row10_col9, #T_0b514_row10_col12, #T_0b514_row12_col27, #T_0b514_row26_col30, #T_0b514_row27_col30 {\n",
       "  background-color: #5977e3;\n",
       "  color: #f1f1f1;\n",
       "}\n",
       "#T_0b514_row3_col18, #T_0b514_row7_col0, #T_0b514_row8_col30, #T_0b514_row13_col9, #T_0b514_row14_col9, #T_0b514_row17_col9, #T_0b514_row19_col7, #T_0b514_row20_col9, #T_0b514_row21_col9, #T_0b514_row22_col11 {\n",
       "  background-color: #82a6fb;\n",
       "  color: #f1f1f1;\n",
       "}\n",
       "#T_0b514_row3_col24, #T_0b514_row7_col16, #T_0b514_row8_col19, #T_0b514_row9_col26, #T_0b514_row11_col14, #T_0b514_row11_col16, #T_0b514_row11_col31, #T_0b514_row19_col29, #T_0b514_row19_col30, #T_0b514_row26_col10, #T_0b514_row29_col3, #T_0b514_row29_col14, #T_0b514_row29_col16, #T_0b514_row31_col14 {\n",
       "  background-color: #7093f3;\n",
       "  color: #f1f1f1;\n",
       "}\n",
       "#T_0b514_row3_col25, #T_0b514_row8_col10, #T_0b514_row15_col14, #T_0b514_row15_col19, #T_0b514_row17_col14, #T_0b514_row22_col23, #T_0b514_row22_col28, #T_0b514_row23_col24, #T_0b514_row28_col24, #T_0b514_row29_col26 {\n",
       "  background-color: #4961d2;\n",
       "  color: #f1f1f1;\n",
       "}\n",
       "#T_0b514_row4_col12, #T_0b514_row7_col2, #T_0b514_row11_col5, #T_0b514_row17_col4, #T_0b514_row28_col0, #T_0b514_row29_col5, #T_0b514_row31_col5 {\n",
       "  background-color: #9fbfff;\n",
       "  color: #000000;\n",
       "}\n",
       "#T_0b514_row4_col15, #T_0b514_row5_col17, #T_0b514_row6_col15, #T_0b514_row7_col6, #T_0b514_row8_col17, #T_0b514_row9_col3, #T_0b514_row10_col15, #T_0b514_row10_col17, #T_0b514_row10_col31, #T_0b514_row13_col23, #T_0b514_row15_col26, #T_0b514_row17_col22, #T_0b514_row17_col26, #T_0b514_row20_col3, #T_0b514_row20_col15, #T_0b514_row21_col15, #T_0b514_row22_col17, #T_0b514_row24_col15, #T_0b514_row25_col17, #T_0b514_row31_col17 {\n",
       "  background-color: #6788ee;\n",
       "  color: #f1f1f1;\n",
       "}\n",
       "#T_0b514_row4_col25, #T_0b514_row5_col29, #T_0b514_row7_col26, #T_0b514_row11_col28, #T_0b514_row12_col17, #T_0b514_row14_col26, #T_0b514_row15_col23, #T_0b514_row15_col29, #T_0b514_row16_col29, #T_0b514_row18_col26, #T_0b514_row20_col17, #T_0b514_row20_col26, #T_0b514_row20_col31, #T_0b514_row21_col26, #T_0b514_row27_col15 {\n",
       "  background-color: #6687ed;\n",
       "  color: #f1f1f1;\n",
       "}\n",
       "#T_0b514_row4_col26, #T_0b514_row10_col8, #T_0b514_row10_col27, #T_0b514_row11_col13, #T_0b514_row11_col25, #T_0b514_row18_col25, #T_0b514_row19_col25, #T_0b514_row19_col27, #T_0b514_row29_col13 {\n",
       "  background-color: #5b7ae5;\n",
       "  color: #f1f1f1;\n",
       "}\n",
       "#T_0b514_row4_col29, #T_0b514_row5_col22, #T_0b514_row5_col24, #T_0b514_row6_col26, #T_0b514_row9_col15, #T_0b514_row11_col24, #T_0b514_row15_col22, #T_0b514_row17_col29, #T_0b514_row22_col15, #T_0b514_row22_col19 {\n",
       "  background-color: #6e90f2;\n",
       "  color: #f1f1f1;\n",
       "}\n",
       "#T_0b514_row5_col3, #T_0b514_row5_col15, #T_0b514_row7_col5, #T_0b514_row9_col2, #T_0b514_row10_col22, #T_0b514_row10_col23, #T_0b514_row12_col23, #T_0b514_row12_col28, #T_0b514_row13_col22, #T_0b514_row14_col3, #T_0b514_row14_col22, #T_0b514_row15_col24, #T_0b514_row16_col24, #T_0b514_row18_col31, #T_0b514_row20_col29, #T_0b514_row21_col29, #T_0b514_row30_col15 {\n",
       "  background-color: #6b8df0;\n",
       "  color: #f1f1f1;\n",
       "}\n",
       "#T_0b514_row5_col7, #T_0b514_row11_col8, #T_0b514_row11_col9, #T_0b514_row25_col23, #T_0b514_row25_col28, #T_0b514_row25_col31, #T_0b514_row26_col27, #T_0b514_row30_col23, #T_0b514_row30_col28, #T_0b514_row30_col31 {\n",
       "  background-color: #4257c9;\n",
       "  color: #f1f1f1;\n",
       "}\n",
       "#T_0b514_row5_col8, #T_0b514_row6_col9, #T_0b514_row6_col12, #T_0b514_row7_col3, #T_0b514_row15_col11, #T_0b514_row22_col9, #T_0b514_row24_col9, #T_0b514_row26_col9, #T_0b514_row26_col12 {\n",
       "  background-color: #8caffe;\n",
       "  color: #000000;\n",
       "}\n",
       "#T_0b514_row5_col9, #T_0b514_row11_col7, #T_0b514_row13_col8, #T_0b514_row15_col9, #T_0b514_row17_col8, #T_0b514_row24_col12 {\n",
       "  background-color: #88abfd;\n",
       "  color: #000000;\n",
       "}\n",
       "#T_0b514_row5_col26, #T_0b514_row6_col17, #T_0b514_row6_col22, #T_0b514_row6_col29, #T_0b514_row9_col17, #T_0b514_row10_col30, #T_0b514_row11_col17, #T_0b514_row12_col22, #T_0b514_row12_col31, #T_0b514_row13_col24, #T_0b514_row13_col29, #T_0b514_row14_col29, #T_0b514_row16_col23, #T_0b514_row19_col31, #T_0b514_row21_col3, #T_0b514_row21_col17, #T_0b514_row21_col22, #T_0b514_row24_col17, #T_0b514_row25_col15, #T_0b514_row26_col17, #T_0b514_row28_col15, #T_0b514_row30_col17 {\n",
       "  background-color: #688aef;\n",
       "  color: #f1f1f1;\n",
       "}\n",
       "#T_0b514_row6_col25, #T_0b514_row8_col3, #T_0b514_row8_col28, #T_0b514_row15_col27, #T_0b514_row16_col27 {\n",
       "  background-color: #5875e1;\n",
       "  color: #f1f1f1;\n",
       "}\n",
       "#T_0b514_row7_col1, #T_0b514_row16_col0 {\n",
       "  background-color: #b9d0f9;\n",
       "  color: #000000;\n",
       "}\n",
       "#T_0b514_row7_col11, #T_0b514_row13_col6, #T_0b514_row14_col1, #T_0b514_row14_col6, #T_0b514_row21_col6, #T_0b514_row26_col4, #T_0b514_row27_col6 {\n",
       "  background-color: #9bbcff;\n",
       "  color: #000000;\n",
       "}\n",
       "#T_0b514_row7_col28, #T_0b514_row14_col31, #T_0b514_row16_col25, #T_0b514_row16_col31, #T_0b514_row18_col28, #T_0b514_row21_col28, #T_0b514_row22_col13, #T_0b514_row23_col13, #T_0b514_row29_col15 {\n",
       "  background-color: #6282ea;\n",
       "  color: #f1f1f1;\n",
       "}\n",
       "#T_0b514_row8_col0 {\n",
       "  background-color: #bed2f6;\n",
       "  color: #000000;\n",
       "}\n",
       "#T_0b514_row8_col1 {\n",
       "  background-color: #c6d6f1;\n",
       "  color: #000000;\n",
       "}\n",
       "#T_0b514_row8_col11, #T_0b514_row23_col3, #T_0b514_row26_col29, #T_0b514_row27_col29, #T_0b514_row29_col22 {\n",
       "  background-color: #4f69d9;\n",
       "  color: #f1f1f1;\n",
       "}\n",
       "#T_0b514_row8_col27, #T_0b514_row13_col27, #T_0b514_row25_col30 {\n",
       "  background-color: #5673e0;\n",
       "  color: #f1f1f1;\n",
       "}\n",
       "#T_0b514_row9_col0 {\n",
       "  background-color: #cad8ef;\n",
       "  color: #000000;\n",
       "}\n",
       "#T_0b514_row9_col1, #T_0b514_row26_col0, #T_0b514_row26_col1 {\n",
       "  background-color: #b2ccfb;\n",
       "  color: #000000;\n",
       "}\n",
       "#T_0b514_row9_col6, #T_0b514_row10_col0, #T_0b514_row11_col4, #T_0b514_row13_col2, #T_0b514_row13_col5, #T_0b514_row14_col5, #T_0b514_row17_col1, #T_0b514_row20_col4, #T_0b514_row21_col5, #T_0b514_row24_col5, #T_0b514_row24_col6, #T_0b514_row30_col6 {\n",
       "  background-color: #a5c3fe;\n",
       "  color: #000000;\n",
       "}\n",
       "#T_0b514_row9_col10, #T_0b514_row9_col12, #T_0b514_row23_col22, #T_0b514_row25_col29, #T_0b514_row28_col22, #T_0b514_row30_col29 {\n",
       "  background-color: #4c66d6;\n",
       "  color: #f1f1f1;\n",
       "}\n",
       "#T_0b514_row9_col11, #T_0b514_row11_col22, #T_0b514_row13_col16, #T_0b514_row13_col18, #T_0b514_row22_col29, #T_0b514_row25_col3, #T_0b514_row29_col30 {\n",
       "  background-color: #5470de;\n",
       "  color: #f1f1f1;\n",
       "}\n",
       "#T_0b514_row10_col2, #T_0b514_row12_col2 {\n",
       "  background-color: #c7d7f0;\n",
       "  color: #000000;\n",
       "}\n",
       "#T_0b514_row10_col5, #T_0b514_row14_col2, #T_0b514_row18_col4, #T_0b514_row18_col5, #T_0b514_row19_col5, #T_0b514_row25_col5, #T_0b514_row26_col6, #T_0b514_row27_col4 {\n",
       "  background-color: #a2c1ff;\n",
       "  color: #000000;\n",
       "}\n",
       "#T_0b514_row11_col1, #T_0b514_row15_col0 {\n",
       "  background-color: #bbd1f8;\n",
       "  color: #000000;\n",
       "}\n",
       "#T_0b514_row11_col2 {\n",
       "  background-color: #c1d4f4;\n",
       "  color: #000000;\n",
       "}\n",
       "#T_0b514_row11_col6, #T_0b514_row15_col2, #T_0b514_row23_col12, #T_0b514_row28_col12, #T_0b514_row29_col6 {\n",
       "  background-color: #9abbff;\n",
       "  color: #000000;\n",
       "}\n",
       "#T_0b514_row11_col10, #T_0b514_row24_col31, #T_0b514_row30_col25, #T_0b514_row30_col27 {\n",
       "  background-color: #4055c8;\n",
       "  color: #f1f1f1;\n",
       "}\n",
       "#T_0b514_row11_col20 {\n",
       "  background-color: #dedcdb;\n",
       "  color: #000000;\n",
       "}\n",
       "#T_0b514_row11_col21 {\n",
       "  background-color: #dbdcde;\n",
       "  color: #000000;\n",
       "}\n",
       "#T_0b514_row12_col4, #T_0b514_row29_col1, #T_0b514_row31_col1 {\n",
       "  background-color: #aec9fc;\n",
       "  color: #000000;\n",
       "}\n",
       "#T_0b514_row12_col6, #T_0b514_row20_col11, #T_0b514_row28_col11, #T_0b514_row29_col12, #T_0b514_row30_col8, #T_0b514_row31_col12 {\n",
       "  background-color: #96b7ff;\n",
       "  color: #000000;\n",
       "}\n",
       "#T_0b514_row13_col0 {\n",
       "  background-color: #afcafc;\n",
       "  color: #000000;\n",
       "}\n",
       "#T_0b514_row13_col1, #T_0b514_row24_col4, #T_0b514_row25_col6, #T_0b514_row27_col11, #T_0b514_row28_col6 {\n",
       "  background-color: #97b8ff;\n",
       "  color: #000000;\n",
       "}\n",
       "#T_0b514_row13_col14, #T_0b514_row13_col19, #T_0b514_row26_col22, #T_0b514_row27_col22 {\n",
       "  background-color: #536edd;\n",
       "  color: #f1f1f1;\n",
       "}\n",
       "#T_0b514_row14_col0, #T_0b514_row18_col2, #T_0b514_row19_col2, #T_0b514_row28_col4 {\n",
       "  background-color: #abc8fd;\n",
       "  color: #000000;\n",
       "}\n",
       "#T_0b514_row14_col13, #T_0b514_row19_col13, #T_0b514_row19_col15, #T_0b514_row19_col17, #T_0b514_row23_col28, #T_0b514_row23_col31, #T_0b514_row28_col23, #T_0b514_row28_col25, #T_0b514_row28_col27, #T_0b514_row28_col31 {\n",
       "  background-color: #3c4ec2;\n",
       "  color: #f1f1f1;\n",
       "}\n",
       "#T_0b514_row14_col15, #T_0b514_row14_col17, #T_0b514_row19_col14, #T_0b514_row19_col16, #T_0b514_row19_col18 {\n",
       "  background-color: #3d50c3;\n",
       "  color: #f1f1f1;\n",
       "}\n",
       "#T_0b514_row14_col16, #T_0b514_row14_col18, #T_0b514_row14_col19, #T_0b514_row24_col27, #T_0b514_row29_col25, #T_0b514_row29_col27 {\n",
       "  background-color: #3e51c5;\n",
       "  color: #f1f1f1;\n",
       "}\n",
       "#T_0b514_row15_col6, #T_0b514_row16_col1, #T_0b514_row16_col6, #T_0b514_row17_col2, #T_0b514_row17_col6, #T_0b514_row18_col6, #T_0b514_row18_col11, #T_0b514_row19_col6, #T_0b514_row20_col6 {\n",
       "  background-color: #9dbdff;\n",
       "  color: #000000;\n",
       "}\n",
       "#T_0b514_row15_col13, #T_0b514_row17_col13, #T_0b514_row26_col23, #T_0b514_row26_col28, #T_0b514_row26_col31, #T_0b514_row27_col23, #T_0b514_row27_col28 {\n",
       "  background-color: #445acc;\n",
       "  color: #f1f1f1;\n",
       "}\n",
       "#T_0b514_row16_col9, #T_0b514_row17_col7, #T_0b514_row18_col7, #T_0b514_row24_col7, #T_0b514_row25_col8, #T_0b514_row27_col8 {\n",
       "  background-color: #85a8fc;\n",
       "  color: #f1f1f1;\n",
       "}\n",
       "#T_0b514_row18_col1, #T_0b514_row23_col0, #T_0b514_row23_col2, #T_0b514_row30_col1 {\n",
       "  background-color: #bad0f8;\n",
       "  color: #000000;\n",
       "}\n",
       "#T_0b514_row19_col1, #T_0b514_row25_col4 {\n",
       "  background-color: #aac7fd;\n",
       "  color: #000000;\n",
       "}\n",
       "#T_0b514_row19_col8, #T_0b514_row23_col8, #T_0b514_row27_col7, #T_0b514_row31_col7 {\n",
       "  background-color: #84a7fc;\n",
       "  color: #f1f1f1;\n",
       "}\n",
       "#T_0b514_row22_col0 {\n",
       "  background-color: #dadce0;\n",
       "  color: #000000;\n",
       "}\n",
       "#T_0b514_row22_col5 {\n",
       "  background-color: #a9c6fd;\n",
       "  color: #000000;\n",
       "}\n",
       "#T_0b514_row22_col6, #T_0b514_row31_col11 {\n",
       "  background-color: #9ebeff;\n",
       "  color: #000000;\n",
       "}\n",
       "#T_0b514_row22_col24, #T_0b514_row24_col30 {\n",
       "  background-color: #5572df;\n",
       "  color: #f1f1f1;\n",
       "}\n",
       "#T_0b514_row24_col23, #T_0b514_row24_col25, #T_0b514_row24_col28, #T_0b514_row25_col27, #T_0b514_row29_col23, #T_0b514_row29_col28, #T_0b514_row29_col31 {\n",
       "  background-color: #3f53c6;\n",
       "  color: #f1f1f1;\n",
       "}\n",
       "#T_0b514_row25_col2 {\n",
       "  background-color: #b6cefa;\n",
       "  color: #000000;\n",
       "}\n",
       "#T_0b514_row28_col2 {\n",
       "  background-color: #c4d5f3;\n",
       "  color: #000000;\n",
       "}\n",
       "#T_0b514_row29_col2 {\n",
       "  background-color: #bfd3f6;\n",
       "  color: #000000;\n",
       "}\n",
       "#T_0b514_row31_col2 {\n",
       "  background-color: #c0d4f5;\n",
       "  color: #000000;\n",
       "}\n",
       "</style>\n",
       "<table id=\"T_0b514\">\n",
       "  <thead>\n",
       "    <tr>\n",
       "      <th class=\"blank level0\" >&nbsp;</th>\n",
       "      <th id=\"T_0b514_level0_col0\" class=\"col_heading level0 col0\" >username_george</th>\n",
       "      <th id=\"T_0b514_level0_col1\" class=\"col_heading level0 col1\" >username_john</th>\n",
       "      <th id=\"T_0b514_level0_col2\" class=\"col_heading level0 col2\" >username_paul</th>\n",
       "      <th id=\"T_0b514_level0_col3\" class=\"col_heading level0 col3\" >username_ringo</th>\n",
       "      <th id=\"T_0b514_level0_col4\" class=\"col_heading level0 col4\" >Request_Type_'DELETE'</th>\n",
       "      <th id=\"T_0b514_level0_col5\" class=\"col_heading level0 col5\" >Request_Type_'GET'</th>\n",
       "      <th id=\"T_0b514_level0_col6\" class=\"col_heading level0 col6\" >Request_Type_'POST'</th>\n",
       "      <th id=\"T_0b514_level0_col7\" class=\"col_heading level0 col7\" >Request_Type_'PUT'</th>\n",
       "      <th id=\"T_0b514_level0_col8\" class=\"col_heading level0 col8\" >Endpoint_'/usr'</th>\n",
       "      <th id=\"T_0b514_level0_col9\" class=\"col_heading level0 col9\" >Endpoint_'/usr/admin'</th>\n",
       "      <th id=\"T_0b514_level0_col10\" class=\"col_heading level0 col10\" >Endpoint_'/usr/admin/developer'</th>\n",
       "      <th id=\"T_0b514_level0_col11\" class=\"col_heading level0 col11\" >Endpoint_'/usr/login'</th>\n",
       "      <th id=\"T_0b514_level0_col12\" class=\"col_heading level0 col12\" >Endpoint_'/usr/register'</th>\n",
       "      <th id=\"T_0b514_level0_col13\" class=\"col_heading level0 col13\" >Status_Code_'200'</th>\n",
       "      <th id=\"T_0b514_level0_col14\" class=\"col_heading level0 col14\" >Status_Code_'303'</th>\n",
       "      <th id=\"T_0b514_level0_col15\" class=\"col_heading level0 col15\" >Status_Code_'304'</th>\n",
       "      <th id=\"T_0b514_level0_col16\" class=\"col_heading level0 col16\" >Status_Code_'403'</th>\n",
       "      <th id=\"T_0b514_level0_col17\" class=\"col_heading level0 col17\" >Status_Code_'404'</th>\n",
       "      <th id=\"T_0b514_level0_col18\" class=\"col_heading level0 col18\" >Status_Code_'500'</th>\n",
       "      <th id=\"T_0b514_level0_col19\" class=\"col_heading level0 col19\" >Status_Code_'502'</th>\n",
       "      <th id=\"T_0b514_level0_col20\" class=\"col_heading level0 col20\" >Referrer_'-'</th>\n",
       "      <th id=\"T_0b514_level0_col21\" class=\"col_heading level0 col21\" >Referrer_'http://morgan.biz/wp-contentcategory.htm'</th>\n",
       "      <th id=\"T_0b514_level0_col22\" class=\"col_heading level0 col22\" >User_Agent_'Mozilla/5.0 (Android 10; Mobile; rv:84.0) Gecko/84.0 Firefox/84.0'</th>\n",
       "      <th id=\"T_0b514_level0_col23\" class=\"col_heading level0 col23\" >User_Agent_'Mozilla/5.0 (Linux; Android 10; ONEPLUS A6000) AppleWebKit/537.36 (KHTML, like Gecko) Chrome/77.0.3865.116 Mobile Safari/537.36 EdgA/45.12.4.5121'</th>\n",
       "      <th id=\"T_0b514_level0_col24\" class=\"col_heading level0 col24\" >User_Agent_'Mozilla/5.0 (Linux; Android 10; ONEPLUS A6000) AppleWebKit/537.36 (KHTML, like Gecko) Chrome/86.0.4240.198 Mobile Safari/537.36 OPR/61.2.3076.56749'</th>\n",
       "      <th id=\"T_0b514_level0_col25\" class=\"col_heading level0 col25\" >User_Agent_'Mozilla/5.0 (Linux; Android 10; ONEPLUS A6000) AppleWebKit/537.36 (KHTML, like Gecko) Chrome/87.0.4280.141 Mobile Safari/537.36'</th>\n",
       "      <th id=\"T_0b514_level0_col26\" class=\"col_heading level0 col26\" >User_Agent_'Mozilla/5.0 (Macintosh; Intel Mac OS X 10_9_3) AppleWebKit/537.75.14 (KHTML, like Gecko) Version/7.0.3 Safari/7046A194A'</th>\n",
       "      <th id=\"T_0b514_level0_col27\" class=\"col_heading level0 col27\" >User_Agent_'Mozilla/5.0 (Windows NT 10.0; Win64; x64) AppleWebKit/537.36 (KHTML, like Gecko) Chrome/87.0.4280.141 Safari/537.36'</th>\n",
       "      <th id=\"T_0b514_level0_col28\" class=\"col_heading level0 col28\" >User_Agent_'Mozilla/5.0 (Windows NT 10.0; Win64; x64) AppleWebKit/537.36 (KHTML, like Gecko) Chrome/87.0.4280.88 Safari/537.36 OPR/73.0.3856.329'</th>\n",
       "      <th id=\"T_0b514_level0_col29\" class=\"col_heading level0 col29\" >User_Agent_'Mozilla/5.0 (Windows NT 10.0; Win64; x64) AppleWebKit/537.36 (KHTML, like Gecko) Chrome/89.0.4380.0 Safari/537.36 Edg/89.0.759.0'</th>\n",
       "      <th id=\"T_0b514_level0_col30\" class=\"col_heading level0 col30\" >User_Agent_'Mozilla/5.0 (Windows NT 10.0; Win64; x64; rv:84.0) Gecko/20100101 Firefox/84.0'</th>\n",
       "      <th id=\"T_0b514_level0_col31\" class=\"col_heading level0 col31\" >User_Agent_'Mozilla/5.0 (iPhone; CPU iPhone OS 12_4_9 like Mac OS X) AppleWebKit/605.1.15 (KHTML, like Gecko) Version/12.1.2 Mobile/15E148 Safari/604.1'</th>\n",
       "    </tr>\n",
       "  </thead>\n",
       "  <tbody>\n",
       "    <tr>\n",
       "      <th id=\"T_0b514_level0_row0\" class=\"row_heading level0 row0\" >username_george</th>\n",
       "      <td id=\"T_0b514_row0_col0\" class=\"data row0 col0\" >1.000000</td>\n",
       "      <td id=\"T_0b514_row0_col1\" class=\"data row0 col1\" >-0.457311</td>\n",
       "      <td id=\"T_0b514_row0_col2\" class=\"data row0 col2\" >-0.456802</td>\n",
       "      <td id=\"T_0b514_row0_col3\" class=\"data row0 col3\" >-0.168654</td>\n",
       "      <td id=\"T_0b514_row0_col4\" class=\"data row0 col4\" >-0.010182</td>\n",
       "      <td id=\"T_0b514_row0_col5\" class=\"data row0 col5\" >0.072307</td>\n",
       "      <td id=\"T_0b514_row0_col6\" class=\"data row0 col6\" >0.038965</td>\n",
       "      <td id=\"T_0b514_row0_col7\" class=\"data row0 col7\" >-0.137003</td>\n",
       "      <td id=\"T_0b514_row0_col8\" class=\"data row0 col8\" >0.117618</td>\n",
       "      <td id=\"T_0b514_row0_col9\" class=\"data row0 col9\" >0.172440</td>\n",
       "      <td id=\"T_0b514_row0_col10\" class=\"data row0 col10\" >0.004999</td>\n",
       "      <td id=\"T_0b514_row0_col11\" class=\"data row0 col11\" >-0.261295</td>\n",
       "      <td id=\"T_0b514_row0_col12\" class=\"data row0 col12\" >0.003198</td>\n",
       "      <td id=\"T_0b514_row0_col13\" class=\"data row0 col13\" >0.050374</td>\n",
       "      <td id=\"T_0b514_row0_col14\" class=\"data row0 col14\" >0.036245</td>\n",
       "      <td id=\"T_0b514_row0_col15\" class=\"data row0 col15\" >0.101984</td>\n",
       "      <td id=\"T_0b514_row0_col16\" class=\"data row0 col16\" >0.090236</td>\n",
       "      <td id=\"T_0b514_row0_col17\" class=\"data row0 col17\" >-0.009393</td>\n",
       "      <td id=\"T_0b514_row0_col18\" class=\"data row0 col18\" >-0.152201</td>\n",
       "      <td id=\"T_0b514_row0_col19\" class=\"data row0 col19\" >-0.081591</td>\n",
       "      <td id=\"T_0b514_row0_col20\" class=\"data row0 col20\" >0.001511</td>\n",
       "      <td id=\"T_0b514_row0_col21\" class=\"data row0 col21\" >-0.001511</td>\n",
       "      <td id=\"T_0b514_row0_col22\" class=\"data row0 col22\" >0.259314</td>\n",
       "      <td id=\"T_0b514_row0_col23\" class=\"data row0 col23\" >0.095624</td>\n",
       "      <td id=\"T_0b514_row0_col24\" class=\"data row0 col24\" >-0.041873</td>\n",
       "      <td id=\"T_0b514_row0_col25\" class=\"data row0 col25\" >0.017854</td>\n",
       "      <td id=\"T_0b514_row0_col26\" class=\"data row0 col26\" >0.062963</td>\n",
       "      <td id=\"T_0b514_row0_col27\" class=\"data row0 col27\" >-0.064314</td>\n",
       "      <td id=\"T_0b514_row0_col28\" class=\"data row0 col28\" >-0.018233</td>\n",
       "      <td id=\"T_0b514_row0_col29\" class=\"data row0 col29\" >-0.182871</td>\n",
       "      <td id=\"T_0b514_row0_col30\" class=\"data row0 col30\" >0.108555</td>\n",
       "      <td id=\"T_0b514_row0_col31\" class=\"data row0 col31\" >-0.157272</td>\n",
       "    </tr>\n",
       "    <tr>\n",
       "      <th id=\"T_0b514_level0_row1\" class=\"row_heading level0 row1\" >username_john</th>\n",
       "      <td id=\"T_0b514_row1_col0\" class=\"data row1 col0\" >-0.457311</td>\n",
       "      <td id=\"T_0b514_row1_col1\" class=\"data row1 col1\" >1.000000</td>\n",
       "      <td id=\"T_0b514_row1_col2\" class=\"data row1 col2\" >-0.457662</td>\n",
       "      <td id=\"T_0b514_row1_col3\" class=\"data row1 col3\" >-0.168971</td>\n",
       "      <td id=\"T_0b514_row1_col4\" class=\"data row1 col4\" >-0.152704</td>\n",
       "      <td id=\"T_0b514_row1_col5\" class=\"data row1 col5\" >-0.010598</td>\n",
       "      <td id=\"T_0b514_row1_col6\" class=\"data row1 col6\" >0.109780</td>\n",
       "      <td id=\"T_0b514_row1_col7\" class=\"data row1 col7\" >0.091839</td>\n",
       "      <td id=\"T_0b514_row1_col8\" class=\"data row1 col8\" >0.151606</td>\n",
       "      <td id=\"T_0b514_row1_col9\" class=\"data row1 col9\" >0.061055</td>\n",
       "      <td id=\"T_0b514_row1_col10\" class=\"data row1 col10\" >-0.192605</td>\n",
       "      <td id=\"T_0b514_row1_col11\" class=\"data row1 col11\" >0.100559</td>\n",
       "      <td id=\"T_0b514_row1_col12\" class=\"data row1 col12\" >-0.141169</td>\n",
       "      <td id=\"T_0b514_row1_col13\" class=\"data row1 col13\" >-0.049590</td>\n",
       "      <td id=\"T_0b514_row1_col14\" class=\"data row1 col14\" >-0.034396</td>\n",
       "      <td id=\"T_0b514_row1_col15\" class=\"data row1 col15\" >-0.046270</td>\n",
       "      <td id=\"T_0b514_row1_col16\" class=\"data row1 col16\" >-0.028814</td>\n",
       "      <td id=\"T_0b514_row1_col17\" class=\"data row1 col17\" >0.006544</td>\n",
       "      <td id=\"T_0b514_row1_col18\" class=\"data row1 col18\" >0.098210</td>\n",
       "      <td id=\"T_0b514_row1_col19\" class=\"data row1 col19\" >0.027918</td>\n",
       "      <td id=\"T_0b514_row1_col20\" class=\"data row1 col20\" >-0.000492</td>\n",
       "      <td id=\"T_0b514_row1_col21\" class=\"data row1 col21\" >0.000492</td>\n",
       "      <td id=\"T_0b514_row1_col22\" class=\"data row1 col22\" >-0.165865</td>\n",
       "      <td id=\"T_0b514_row1_col23\" class=\"data row1 col23\" >-0.151049</td>\n",
       "      <td id=\"T_0b514_row1_col24\" class=\"data row1 col24\" >0.219020</td>\n",
       "      <td id=\"T_0b514_row1_col25\" class=\"data row1 col25\" >-0.064734</td>\n",
       "      <td id=\"T_0b514_row1_col26\" class=\"data row1 col26\" >0.061532</td>\n",
       "      <td id=\"T_0b514_row1_col27\" class=\"data row1 col27\" >0.019073</td>\n",
       "      <td id=\"T_0b514_row1_col28\" class=\"data row1 col28\" >-0.116443</td>\n",
       "      <td id=\"T_0b514_row1_col29\" class=\"data row1 col29\" >0.045152</td>\n",
       "      <td id=\"T_0b514_row1_col30\" class=\"data row1 col30\" >0.095569</td>\n",
       "      <td id=\"T_0b514_row1_col31\" class=\"data row1 col31\" >0.049068</td>\n",
       "    </tr>\n",
       "    <tr>\n",
       "      <th id=\"T_0b514_level0_row2\" class=\"row_heading level0 row2\" >username_paul</th>\n",
       "      <td id=\"T_0b514_row2_col0\" class=\"data row2 col0\" >-0.456802</td>\n",
       "      <td id=\"T_0b514_row2_col1\" class=\"data row2 col1\" >-0.457662</td>\n",
       "      <td id=\"T_0b514_row2_col2\" class=\"data row2 col2\" >1.000000</td>\n",
       "      <td id=\"T_0b514_row2_col3\" class=\"data row2 col3\" >-0.168783</td>\n",
       "      <td id=\"T_0b514_row2_col4\" class=\"data row2 col4\" >0.216664</td>\n",
       "      <td id=\"T_0b514_row2_col5\" class=\"data row2 col5\" >-0.066755</td>\n",
       "      <td id=\"T_0b514_row2_col6\" class=\"data row2 col6\" >-0.156862</td>\n",
       "      <td id=\"T_0b514_row2_col7\" class=\"data row2 col7\" >-0.015446</td>\n",
       "      <td id=\"T_0b514_row2_col8\" class=\"data row2 col8\" >-0.241112</td>\n",
       "      <td id=\"T_0b514_row2_col9\" class=\"data row2 col9\" >-0.232350</td>\n",
       "      <td id=\"T_0b514_row2_col10\" class=\"data row2 col10\" >0.159047</td>\n",
       "      <td id=\"T_0b514_row2_col11\" class=\"data row2 col11\" >0.129828</td>\n",
       "      <td id=\"T_0b514_row2_col12\" class=\"data row2 col12\" >0.161959</td>\n",
       "      <td id=\"T_0b514_row2_col13\" class=\"data row2 col13\" >0.008487</td>\n",
       "      <td id=\"T_0b514_row2_col14\" class=\"data row2 col14\" >-0.007704</td>\n",
       "      <td id=\"T_0b514_row2_col15\" class=\"data row2 col15\" >-0.037677</td>\n",
       "      <td id=\"T_0b514_row2_col16\" class=\"data row2 col16\" >-0.013022</td>\n",
       "      <td id=\"T_0b514_row2_col17\" class=\"data row2 col17\" >-0.028410</td>\n",
       "      <td id=\"T_0b514_row2_col18\" class=\"data row2 col18\" >0.034901</td>\n",
       "      <td id=\"T_0b514_row2_col19\" class=\"data row2 col19\" >0.033648</td>\n",
       "      <td id=\"T_0b514_row2_col20\" class=\"data row2 col20\" >0.000412</td>\n",
       "      <td id=\"T_0b514_row2_col21\" class=\"data row2 col21\" >-0.000412</td>\n",
       "      <td id=\"T_0b514_row2_col22\" class=\"data row2 col22\" >-0.120374</td>\n",
       "      <td id=\"T_0b514_row2_col23\" class=\"data row2 col23\" >0.100161</td>\n",
       "      <td id=\"T_0b514_row2_col24\" class=\"data row2 col24\" >-0.186045</td>\n",
       "      <td id=\"T_0b514_row2_col25\" class=\"data row2 col25\" >0.083005</td>\n",
       "      <td id=\"T_0b514_row2_col26\" class=\"data row2 col26\" >-0.160481</td>\n",
       "      <td id=\"T_0b514_row2_col27\" class=\"data row2 col27\" >0.018094</td>\n",
       "      <td id=\"T_0b514_row2_col28\" class=\"data row2 col28\" >0.140419</td>\n",
       "      <td id=\"T_0b514_row2_col29\" class=\"data row2 col29\" >0.121842</td>\n",
       "      <td id=\"T_0b514_row2_col30\" class=\"data row2 col30\" >-0.212951</td>\n",
       "      <td id=\"T_0b514_row2_col31\" class=\"data row2 col31\" >0.125999</td>\n",
       "    </tr>\n",
       "    <tr>\n",
       "      <th id=\"T_0b514_level0_row3\" class=\"row_heading level0 row3\" >username_ringo</th>\n",
       "      <td id=\"T_0b514_row3_col0\" class=\"data row3 col0\" >-0.168654</td>\n",
       "      <td id=\"T_0b514_row3_col1\" class=\"data row3 col1\" >-0.168971</td>\n",
       "      <td id=\"T_0b514_row3_col2\" class=\"data row3 col2\" >-0.168783</td>\n",
       "      <td id=\"T_0b514_row3_col3\" class=\"data row3 col3\" >1.000000</td>\n",
       "      <td id=\"T_0b514_row3_col4\" class=\"data row3 col4\" >-0.106073</td>\n",
       "      <td id=\"T_0b514_row3_col5\" class=\"data row3 col5\" >0.010012</td>\n",
       "      <td id=\"T_0b514_row3_col6\" class=\"data row3 col6\" >0.015960</td>\n",
       "      <td id=\"T_0b514_row3_col7\" class=\"data row3 col7\" >0.119531</td>\n",
       "      <td id=\"T_0b514_row3_col8\" class=\"data row3 col8\" >-0.055568</td>\n",
       "      <td id=\"T_0b514_row3_col9\" class=\"data row3 col9\" >-0.002216</td>\n",
       "      <td id=\"T_0b514_row3_col10\" class=\"data row3 col10\" >0.056554</td>\n",
       "      <td id=\"T_0b514_row3_col11\" class=\"data row3 col11\" >0.060799</td>\n",
       "      <td id=\"T_0b514_row3_col12\" class=\"data row3 col12\" >-0.047248</td>\n",
       "      <td id=\"T_0b514_row3_col13\" class=\"data row3 col13\" >-0.018238</td>\n",
       "      <td id=\"T_0b514_row3_col14\" class=\"data row3 col14\" >0.011609</td>\n",
       "      <td id=\"T_0b514_row3_col15\" class=\"data row3 col15\" >-0.035520</td>\n",
       "      <td id=\"T_0b514_row3_col16\" class=\"data row3 col16\" >-0.095495</td>\n",
       "      <td id=\"T_0b514_row3_col17\" class=\"data row3 col17\" >0.061713</td>\n",
       "      <td id=\"T_0b514_row3_col18\" class=\"data row3 col18\" >0.037530</td>\n",
       "      <td id=\"T_0b514_row3_col19\" class=\"data row3 col19\" >0.039473</td>\n",
       "      <td id=\"T_0b514_row3_col20\" class=\"data row3 col20\" >-0.002824</td>\n",
       "      <td id=\"T_0b514_row3_col21\" class=\"data row3 col21\" >0.002824</td>\n",
       "      <td id=\"T_0b514_row3_col22\" class=\"data row3 col22\" >0.053449</td>\n",
       "      <td id=\"T_0b514_row3_col23\" class=\"data row3 col23\" >-0.088158</td>\n",
       "      <td id=\"T_0b514_row3_col24\" class=\"data row3 col24\" >0.017368</td>\n",
       "      <td id=\"T_0b514_row3_col25\" class=\"data row3 col25\" >-0.071271</td>\n",
       "      <td id=\"T_0b514_row3_col26\" class=\"data row3 col26\" >0.071044</td>\n",
       "      <td id=\"T_0b514_row3_col27\" class=\"data row3 col27\" >0.053553</td>\n",
       "      <td id=\"T_0b514_row3_col28\" class=\"data row3 col28\" >-0.011256</td>\n",
       "      <td id=\"T_0b514_row3_col29\" class=\"data row3 col29\" >0.031212</td>\n",
       "      <td id=\"T_0b514_row3_col30\" class=\"data row3 col30\" >0.017413</td>\n",
       "      <td id=\"T_0b514_row3_col31\" class=\"data row3 col31\" >-0.035268</td>\n",
       "    </tr>\n",
       "    <tr>\n",
       "      <th id=\"T_0b514_level0_row4\" class=\"row_heading level0 row4\" >Request_Type_'DELETE'</th>\n",
       "      <td id=\"T_0b514_row4_col0\" class=\"data row4 col0\" >-0.010182</td>\n",
       "      <td id=\"T_0b514_row4_col1\" class=\"data row4 col1\" >-0.152704</td>\n",
       "      <td id=\"T_0b514_row4_col2\" class=\"data row4 col2\" >0.216664</td>\n",
       "      <td id=\"T_0b514_row4_col3\" class=\"data row4 col3\" >-0.106073</td>\n",
       "      <td id=\"T_0b514_row4_col4\" class=\"data row4 col4\" >1.000000</td>\n",
       "      <td id=\"T_0b514_row4_col5\" class=\"data row4 col5\" >-0.459501</td>\n",
       "      <td id=\"T_0b514_row4_col6\" class=\"data row4 col6\" >-0.416120</td>\n",
       "      <td id=\"T_0b514_row4_col7\" class=\"data row4 col7\" >-0.268955</td>\n",
       "      <td id=\"T_0b514_row4_col8\" class=\"data row4 col8\" >-0.045192</td>\n",
       "      <td id=\"T_0b514_row4_col9\" class=\"data row4 col9\" >-0.044985</td>\n",
       "      <td id=\"T_0b514_row4_col10\" class=\"data row4 col10\" >0.037568</td>\n",
       "      <td id=\"T_0b514_row4_col11\" class=\"data row4 col11\" >0.004306</td>\n",
       "      <td id=\"T_0b514_row4_col12\" class=\"data row4 col12\" >0.045088</td>\n",
       "      <td id=\"T_0b514_row4_col13\" class=\"data row4 col13\" >0.010970</td>\n",
       "      <td id=\"T_0b514_row4_col14\" class=\"data row4 col14\" >0.000454</td>\n",
       "      <td id=\"T_0b514_row4_col15\" class=\"data row4 col15\" >-0.000194</td>\n",
       "      <td id=\"T_0b514_row4_col16\" class=\"data row4 col16\" >0.011413</td>\n",
       "      <td id=\"T_0b514_row4_col17\" class=\"data row4 col17\" >-0.014979</td>\n",
       "      <td id=\"T_0b514_row4_col18\" class=\"data row4 col18\" >-0.005176</td>\n",
       "      <td id=\"T_0b514_row4_col19\" class=\"data row4 col19\" >-0.001774</td>\n",
       "      <td id=\"T_0b514_row4_col20\" class=\"data row4 col20\" >0.002611</td>\n",
       "      <td id=\"T_0b514_row4_col21\" class=\"data row4 col21\" >-0.002611</td>\n",
       "      <td id=\"T_0b514_row4_col22\" class=\"data row4 col22\" >-0.009929</td>\n",
       "      <td id=\"T_0b514_row4_col23\" class=\"data row4 col23\" >0.040109</td>\n",
       "      <td id=\"T_0b514_row4_col24\" class=\"data row4 col24\" >-0.051581</td>\n",
       "      <td id=\"T_0b514_row4_col25\" class=\"data row4 col25\" >0.029604</td>\n",
       "      <td id=\"T_0b514_row4_col26\" class=\"data row4 col26\" >-0.035109</td>\n",
       "      <td id=\"T_0b514_row4_col27\" class=\"data row4 col27\" >-0.003540</td>\n",
       "      <td id=\"T_0b514_row4_col28\" class=\"data row4 col28\" >0.033355</td>\n",
       "      <td id=\"T_0b514_row4_col29\" class=\"data row4 col29\" >0.010680</td>\n",
       "      <td id=\"T_0b514_row4_col30\" class=\"data row4 col30\" >-0.047965</td>\n",
       "      <td id=\"T_0b514_row4_col31\" class=\"data row4 col31\" >0.017367</td>\n",
       "    </tr>\n",
       "    <tr>\n",
       "      <th id=\"T_0b514_level0_row5\" class=\"row_heading level0 row5\" >Request_Type_'GET'</th>\n",
       "      <td id=\"T_0b514_row5_col0\" class=\"data row5 col0\" >0.072307</td>\n",
       "      <td id=\"T_0b514_row5_col1\" class=\"data row5 col1\" >-0.010598</td>\n",
       "      <td id=\"T_0b514_row5_col2\" class=\"data row5 col2\" >-0.066755</td>\n",
       "      <td id=\"T_0b514_row5_col3\" class=\"data row5 col3\" >0.010012</td>\n",
       "      <td id=\"T_0b514_row5_col4\" class=\"data row5 col4\" >-0.459501</td>\n",
       "      <td id=\"T_0b514_row5_col5\" class=\"data row5 col5\" >1.000000</td>\n",
       "      <td id=\"T_0b514_row5_col6\" class=\"data row5 col6\" >-0.363934</td>\n",
       "      <td id=\"T_0b514_row5_col7\" class=\"data row5 col7\" >-0.235226</td>\n",
       "      <td id=\"T_0b514_row5_col8\" class=\"data row5 col8\" >0.015361</td>\n",
       "      <td id=\"T_0b514_row5_col9\" class=\"data row5 col9\" >0.018998</td>\n",
       "      <td id=\"T_0b514_row5_col10\" class=\"data row5 col10\" >-0.004566</td>\n",
       "      <td id=\"T_0b514_row5_col11\" class=\"data row5 col11\" >-0.015671</td>\n",
       "      <td id=\"T_0b514_row5_col12\" class=\"data row5 col12\" >-0.010574</td>\n",
       "      <td id=\"T_0b514_row5_col13\" class=\"data row5 col13\" >0.002496</td>\n",
       "      <td id=\"T_0b514_row5_col14\" class=\"data row5 col14\" >0.004472</td>\n",
       "      <td id=\"T_0b514_row5_col15\" class=\"data row5 col15\" >0.010089</td>\n",
       "      <td id=\"T_0b514_row5_col16\" class=\"data row5 col16\" >0.001175</td>\n",
       "      <td id=\"T_0b514_row5_col17\" class=\"data row5 col17\" >-0.002091</td>\n",
       "      <td id=\"T_0b514_row5_col18\" class=\"data row5 col18\" >-0.008175</td>\n",
       "      <td id=\"T_0b514_row5_col19\" class=\"data row5 col19\" >-0.005438</td>\n",
       "      <td id=\"T_0b514_row5_col20\" class=\"data row5 col20\" >-0.002642</td>\n",
       "      <td id=\"T_0b514_row5_col21\" class=\"data row5 col21\" >0.002642</td>\n",
       "      <td id=\"T_0b514_row5_col22\" class=\"data row5 col22\" >0.023723</td>\n",
       "      <td id=\"T_0b514_row5_col23\" class=\"data row5 col23\" >-0.000224</td>\n",
       "      <td id=\"T_0b514_row5_col24\" class=\"data row5 col24\" >0.007287</td>\n",
       "      <td id=\"T_0b514_row5_col25\" class=\"data row5 col25\" >-0.003675</td>\n",
       "      <td id=\"T_0b514_row5_col26\" class=\"data row5 col26\" >0.010749</td>\n",
       "      <td id=\"T_0b514_row5_col27\" class=\"data row5 col27\" >-0.002088</td>\n",
       "      <td id=\"T_0b514_row5_col28\" class=\"data row5 col28\" >-0.009662</td>\n",
       "      <td id=\"T_0b514_row5_col29\" class=\"data row5 col29\" >-0.018221</td>\n",
       "      <td id=\"T_0b514_row5_col30\" class=\"data row5 col30\" >0.017606</td>\n",
       "      <td id=\"T_0b514_row5_col31\" class=\"data row5 col31\" >-0.015292</td>\n",
       "    </tr>\n",
       "    <tr>\n",
       "      <th id=\"T_0b514_level0_row6\" class=\"row_heading level0 row6\" >Request_Type_'POST'</th>\n",
       "      <td id=\"T_0b514_row6_col0\" class=\"data row6 col0\" >0.038965</td>\n",
       "      <td id=\"T_0b514_row6_col1\" class=\"data row6 col1\" >0.109780</td>\n",
       "      <td id=\"T_0b514_row6_col2\" class=\"data row6 col2\" >-0.156862</td>\n",
       "      <td id=\"T_0b514_row6_col3\" class=\"data row6 col3\" >0.015960</td>\n",
       "      <td id=\"T_0b514_row6_col4\" class=\"data row6 col4\" >-0.416120</td>\n",
       "      <td id=\"T_0b514_row6_col5\" class=\"data row6 col5\" >-0.363934</td>\n",
       "      <td id=\"T_0b514_row6_col6\" class=\"data row6 col6\" >1.000000</td>\n",
       "      <td id=\"T_0b514_row6_col7\" class=\"data row6 col7\" >-0.213018</td>\n",
       "      <td id=\"T_0b514_row6_col8\" class=\"data row6 col8\" >0.037596</td>\n",
       "      <td id=\"T_0b514_row6_col9\" class=\"data row6 col9\" >0.035849</td>\n",
       "      <td id=\"T_0b514_row6_col10\" class=\"data row6 col10\" >-0.032681</td>\n",
       "      <td id=\"T_0b514_row6_col11\" class=\"data row6 col11\" >-0.010877</td>\n",
       "      <td id=\"T_0b514_row6_col12\" class=\"data row6 col12\" >-0.028342</td>\n",
       "      <td id=\"T_0b514_row6_col13\" class=\"data row6 col13\" >-0.003022</td>\n",
       "      <td id=\"T_0b514_row6_col14\" class=\"data row6 col14\" >-0.003941</td>\n",
       "      <td id=\"T_0b514_row6_col15\" class=\"data row6 col15\" >-0.000301</td>\n",
       "      <td id=\"T_0b514_row6_col16\" class=\"data row6 col16\" >0.003479</td>\n",
       "      <td id=\"T_0b514_row6_col17\" class=\"data row6 col17\" >0.004266</td>\n",
       "      <td id=\"T_0b514_row6_col18\" class=\"data row6 col18\" >-0.000471</td>\n",
       "      <td id=\"T_0b514_row6_col19\" class=\"data row6 col19\" >-0.000454</td>\n",
       "      <td id=\"T_0b514_row6_col20\" class=\"data row6 col20\" >0.002913</td>\n",
       "      <td id=\"T_0b514_row6_col21\" class=\"data row6 col21\" >-0.002913</td>\n",
       "      <td id=\"T_0b514_row6_col22\" class=\"data row6 col22\" >0.006431</td>\n",
       "      <td id=\"T_0b514_row6_col23\" class=\"data row6 col23\" >-0.017715</td>\n",
       "      <td id=\"T_0b514_row6_col24\" class=\"data row6 col24\" >0.032663</td>\n",
       "      <td id=\"T_0b514_row6_col25\" class=\"data row6 col25\" >-0.018180</td>\n",
       "      <td id=\"T_0b514_row6_col26\" class=\"data row6 col26\" >0.026109</td>\n",
       "      <td id=\"T_0b514_row6_col27\" class=\"data row6 col27\" >-0.004688</td>\n",
       "      <td id=\"T_0b514_row6_col28\" class=\"data row6 col28\" >-0.022371</td>\n",
       "      <td id=\"T_0b514_row6_col29\" class=\"data row6 col29\" >-0.011078</td>\n",
       "      <td id=\"T_0b514_row6_col30\" class=\"data row6 col30\" >0.033968</td>\n",
       "      <td id=\"T_0b514_row6_col31\" class=\"data row6 col31\" >-0.014683</td>\n",
       "    </tr>\n",
       "    <tr>\n",
       "      <th id=\"T_0b514_level0_row7\" class=\"row_heading level0 row7\" >Request_Type_'PUT'</th>\n",
       "      <td id=\"T_0b514_row7_col0\" class=\"data row7 col0\" >-0.137003</td>\n",
       "      <td id=\"T_0b514_row7_col1\" class=\"data row7 col1\" >0.091839</td>\n",
       "      <td id=\"T_0b514_row7_col2\" class=\"data row7 col2\" >-0.015446</td>\n",
       "      <td id=\"T_0b514_row7_col3\" class=\"data row7 col3\" >0.119531</td>\n",
       "      <td id=\"T_0b514_row7_col4\" class=\"data row7 col4\" >-0.268955</td>\n",
       "      <td id=\"T_0b514_row7_col5\" class=\"data row7 col5\" >-0.235226</td>\n",
       "      <td id=\"T_0b514_row7_col6\" class=\"data row7 col6\" >-0.213018</td>\n",
       "      <td id=\"T_0b514_row7_col7\" class=\"data row7 col7\" >1.000000</td>\n",
       "      <td id=\"T_0b514_row7_col8\" class=\"data row7 col8\" >-0.005228</td>\n",
       "      <td id=\"T_0b514_row7_col9\" class=\"data row7 col9\" >-0.008261</td>\n",
       "      <td id=\"T_0b514_row7_col10\" class=\"data row7 col10\" >-0.005138</td>\n",
       "      <td id=\"T_0b514_row7_col11\" class=\"data row7 col11\" >0.029854</td>\n",
       "      <td id=\"T_0b514_row7_col12\" class=\"data row7 col12\" >-0.013509</td>\n",
       "      <td id=\"T_0b514_row7_col13\" class=\"data row7 col13\" >-0.015442</td>\n",
       "      <td id=\"T_0b514_row7_col14\" class=\"data row7 col14\" >-0.001645</td>\n",
       "      <td id=\"T_0b514_row7_col15\" class=\"data row7 col15\" >-0.013308</td>\n",
       "      <td id=\"T_0b514_row7_col16\" class=\"data row7 col16\" >-0.022862</td>\n",
       "      <td id=\"T_0b514_row7_col17\" class=\"data row7 col17\" >0.019075</td>\n",
       "      <td id=\"T_0b514_row7_col18\" class=\"data row7 col18\" >0.019499</td>\n",
       "      <td id=\"T_0b514_row7_col19\" class=\"data row7 col19\" >0.010726</td>\n",
       "      <td id=\"T_0b514_row7_col20\" class=\"data row7 col20\" >-0.003998</td>\n",
       "      <td id=\"T_0b514_row7_col21\" class=\"data row7 col21\" >0.003998</td>\n",
       "      <td id=\"T_0b514_row7_col22\" class=\"data row7 col22\" >-0.026939</td>\n",
       "      <td id=\"T_0b514_row7_col23\" class=\"data row7 col23\" >-0.034674</td>\n",
       "      <td id=\"T_0b514_row7_col24\" class=\"data row7 col24\" >0.021806</td>\n",
       "      <td id=\"T_0b514_row7_col25\" class=\"data row7 col25\" >-0.013968</td>\n",
       "      <td id=\"T_0b514_row7_col26\" class=\"data row7 col26\" >0.001683</td>\n",
       "      <td id=\"T_0b514_row7_col27\" class=\"data row7 col27\" >0.014259</td>\n",
       "      <td id=\"T_0b514_row7_col28\" class=\"data row7 col28\" >-0.005583</td>\n",
       "      <td id=\"T_0b514_row7_col29\" class=\"data row7 col29\" >0.024368</td>\n",
       "      <td id=\"T_0b514_row7_col30\" class=\"data row7 col30\" >0.000502</td>\n",
       "      <td id=\"T_0b514_row7_col31\" class=\"data row7 col31\" >0.015338</td>\n",
       "    </tr>\n",
       "    <tr>\n",
       "      <th id=\"T_0b514_level0_row8\" class=\"row_heading level0 row8\" >Endpoint_'/usr'</th>\n",
       "      <td id=\"T_0b514_row8_col0\" class=\"data row8 col0\" >0.117618</td>\n",
       "      <td id=\"T_0b514_row8_col1\" class=\"data row8 col1\" >0.151606</td>\n",
       "      <td id=\"T_0b514_row8_col2\" class=\"data row8 col2\" >-0.241112</td>\n",
       "      <td id=\"T_0b514_row8_col3\" class=\"data row8 col3\" >-0.055568</td>\n",
       "      <td id=\"T_0b514_row8_col4\" class=\"data row8 col4\" >-0.045192</td>\n",
       "      <td id=\"T_0b514_row8_col5\" class=\"data row8 col5\" >0.015361</td>\n",
       "      <td id=\"T_0b514_row8_col6\" class=\"data row8 col6\" >0.037596</td>\n",
       "      <td id=\"T_0b514_row8_col7\" class=\"data row8 col7\" >-0.005228</td>\n",
       "      <td id=\"T_0b514_row8_col8\" class=\"data row8 col8\" >1.000000</td>\n",
       "      <td id=\"T_0b514_row8_col9\" class=\"data row8 col9\" >-0.211323</td>\n",
       "      <td id=\"T_0b514_row8_col10\" class=\"data row8 col10\" >-0.170915</td>\n",
       "      <td id=\"T_0b514_row8_col11\" class=\"data row8 col11\" >-0.274466</td>\n",
       "      <td id=\"T_0b514_row8_col12\" class=\"data row8 col12\" >-0.309292</td>\n",
       "      <td id=\"T_0b514_row8_col13\" class=\"data row8 col13\" >0.000458</td>\n",
       "      <td id=\"T_0b514_row8_col14\" class=\"data row8 col14\" >0.003888</td>\n",
       "      <td id=\"T_0b514_row8_col15\" class=\"data row8 col15\" >0.007578</td>\n",
       "      <td id=\"T_0b514_row8_col16\" class=\"data row8 col16\" >0.009863</td>\n",
       "      <td id=\"T_0b514_row8_col17\" class=\"data row8 col17\" >-0.000374</td>\n",
       "      <td id=\"T_0b514_row8_col18\" class=\"data row8 col18\" >-0.004917</td>\n",
       "      <td id=\"T_0b514_row8_col19\" class=\"data row8 col19\" >-0.015218</td>\n",
       "      <td id=\"T_0b514_row8_col20\" class=\"data row8 col20\" >-0.006323</td>\n",
       "      <td id=\"T_0b514_row8_col21\" class=\"data row8 col21\" >0.006323</td>\n",
       "      <td id=\"T_0b514_row8_col22\" class=\"data row8 col22\" >0.025562</td>\n",
       "      <td id=\"T_0b514_row8_col23\" class=\"data row8 col23\" >-0.017242</td>\n",
       "      <td id=\"T_0b514_row8_col24\" class=\"data row8 col24\" >0.046940</td>\n",
       "      <td id=\"T_0b514_row8_col25\" class=\"data row8 col25\" >-0.008767</td>\n",
       "      <td id=\"T_0b514_row8_col26\" class=\"data row8 col26\" >0.034176</td>\n",
       "      <td id=\"T_0b514_row8_col27\" class=\"data row8 col27\" >-0.012606</td>\n",
       "      <td id=\"T_0b514_row8_col28\" class=\"data row8 col28\" >-0.038323</td>\n",
       "      <td id=\"T_0b514_row8_col29\" class=\"data row8 col29\" >-0.036215</td>\n",
       "      <td id=\"T_0b514_row8_col30\" class=\"data row8 col30\" >0.053734</td>\n",
       "      <td id=\"T_0b514_row8_col31\" class=\"data row8 col31\" >-0.027707</td>\n",
       "    </tr>\n",
       "    <tr>\n",
       "      <th id=\"T_0b514_level0_row9\" class=\"row_heading level0 row9\" >Endpoint_'/usr/admin'</th>\n",
       "      <td id=\"T_0b514_row9_col0\" class=\"data row9 col0\" >0.172440</td>\n",
       "      <td id=\"T_0b514_row9_col1\" class=\"data row9 col1\" >0.061055</td>\n",
       "      <td id=\"T_0b514_row9_col2\" class=\"data row9 col2\" >-0.232350</td>\n",
       "      <td id=\"T_0b514_row9_col3\" class=\"data row9 col3\" >-0.002216</td>\n",
       "      <td id=\"T_0b514_row9_col4\" class=\"data row9 col4\" >-0.044985</td>\n",
       "      <td id=\"T_0b514_row9_col5\" class=\"data row9 col5\" >0.018998</td>\n",
       "      <td id=\"T_0b514_row9_col6\" class=\"data row9 col6\" >0.035849</td>\n",
       "      <td id=\"T_0b514_row9_col7\" class=\"data row9 col7\" >-0.008261</td>\n",
       "      <td id=\"T_0b514_row9_col8\" class=\"data row9 col8\" >-0.211323</td>\n",
       "      <td id=\"T_0b514_row9_col9\" class=\"data row9 col9\" >1.000000</td>\n",
       "      <td id=\"T_0b514_row9_col10\" class=\"data row9 col10\" >-0.156133</td>\n",
       "      <td id=\"T_0b514_row9_col11\" class=\"data row9 col11\" >-0.250728</td>\n",
       "      <td id=\"T_0b514_row9_col12\" class=\"data row9 col12\" >-0.282542</td>\n",
       "      <td id=\"T_0b514_row9_col13\" class=\"data row9 col13\" >0.000503</td>\n",
       "      <td id=\"T_0b514_row9_col14\" class=\"data row9 col14\" >0.002075</td>\n",
       "      <td id=\"T_0b514_row9_col15\" class=\"data row9 col15\" >0.021168</td>\n",
       "      <td id=\"T_0b514_row9_col16\" class=\"data row9 col16\" >0.012990</td>\n",
       "      <td id=\"T_0b514_row9_col17\" class=\"data row9 col17\" >0.002786</td>\n",
       "      <td id=\"T_0b514_row9_col18\" class=\"data row9 col18\" >-0.018886</td>\n",
       "      <td id=\"T_0b514_row9_col19\" class=\"data row9 col19\" >-0.016012</td>\n",
       "      <td id=\"T_0b514_row9_col20\" class=\"data row9 col20\" >0.000014</td>\n",
       "      <td id=\"T_0b514_row9_col21\" class=\"data row9 col21\" >-0.000014</td>\n",
       "      <td id=\"T_0b514_row9_col22\" class=\"data row9 col22\" >0.036228</td>\n",
       "      <td id=\"T_0b514_row9_col23\" class=\"data row9 col23\" >-0.010019</td>\n",
       "      <td id=\"T_0b514_row9_col24\" class=\"data row9 col24\" >0.035199</td>\n",
       "      <td id=\"T_0b514_row9_col25\" class=\"data row9 col25\" >-0.012832</td>\n",
       "      <td id=\"T_0b514_row9_col26\" class=\"data row9 col26\" >0.037741</td>\n",
       "      <td id=\"T_0b514_row9_col27\" class=\"data row9 col27\" >-0.003447</td>\n",
       "      <td id=\"T_0b514_row9_col28\" class=\"data row9 col28\" >-0.032449</td>\n",
       "      <td id=\"T_0b514_row9_col29\" class=\"data row9 col29\" >-0.039033</td>\n",
       "      <td id=\"T_0b514_row9_col30\" class=\"data row9 col30\" >0.049356</td>\n",
       "      <td id=\"T_0b514_row9_col31\" class=\"data row9 col31\" >-0.037605</td>\n",
       "    </tr>\n",
       "    <tr>\n",
       "      <th id=\"T_0b514_level0_row10\" class=\"row_heading level0 row10\" >Endpoint_'/usr/admin/developer'</th>\n",
       "      <td id=\"T_0b514_row10_col0\" class=\"data row10 col0\" >0.004999</td>\n",
       "      <td id=\"T_0b514_row10_col1\" class=\"data row10 col1\" >-0.192605</td>\n",
       "      <td id=\"T_0b514_row10_col2\" class=\"data row10 col2\" >0.159047</td>\n",
       "      <td id=\"T_0b514_row10_col3\" class=\"data row10 col3\" >0.056554</td>\n",
       "      <td id=\"T_0b514_row10_col4\" class=\"data row10 col4\" >0.037568</td>\n",
       "      <td id=\"T_0b514_row10_col5\" class=\"data row10 col5\" >-0.004566</td>\n",
       "      <td id=\"T_0b514_row10_col6\" class=\"data row10 col6\" >-0.032681</td>\n",
       "      <td id=\"T_0b514_row10_col7\" class=\"data row10 col7\" >-0.005138</td>\n",
       "      <td id=\"T_0b514_row10_col8\" class=\"data row10 col8\" >-0.170915</td>\n",
       "      <td id=\"T_0b514_row10_col9\" class=\"data row10 col9\" >-0.156133</td>\n",
       "      <td id=\"T_0b514_row10_col10\" class=\"data row10 col10\" >1.000000</td>\n",
       "      <td id=\"T_0b514_row10_col11\" class=\"data row10 col11\" >-0.202785</td>\n",
       "      <td id=\"T_0b514_row10_col12\" class=\"data row10 col12\" >-0.228516</td>\n",
       "      <td id=\"T_0b514_row10_col13\" class=\"data row10 col13\" >0.006689</td>\n",
       "      <td id=\"T_0b514_row10_col14\" class=\"data row10 col14\" >0.004323</td>\n",
       "      <td id=\"T_0b514_row10_col15\" class=\"data row10 col15\" >-0.001171</td>\n",
       "      <td id=\"T_0b514_row10_col16\" class=\"data row10 col16\" >-0.002731</td>\n",
       "      <td id=\"T_0b514_row10_col17\" class=\"data row10 col17\" >-0.001014</td>\n",
       "      <td id=\"T_0b514_row10_col18\" class=\"data row10 col18\" >-0.009049</td>\n",
       "      <td id=\"T_0b514_row10_col19\" class=\"data row10 col19\" >0.005268</td>\n",
       "      <td id=\"T_0b514_row10_col20\" class=\"data row10 col20\" >0.001672</td>\n",
       "      <td id=\"T_0b514_row10_col21\" class=\"data row10 col21\" >-0.001672</td>\n",
       "      <td id=\"T_0b514_row10_col22\" class=\"data row10 col22\" >0.014755</td>\n",
       "      <td id=\"T_0b514_row10_col23\" class=\"data row10 col23\" >0.024098</td>\n",
       "      <td id=\"T_0b514_row10_col24\" class=\"data row10 col24\" >-0.045900</td>\n",
       "      <td id=\"T_0b514_row10_col25\" class=\"data row10 col25\" >0.009194</td>\n",
       "      <td id=\"T_0b514_row10_col26\" class=\"data row10 col26\" >-0.018207</td>\n",
       "      <td id=\"T_0b514_row10_col27\" class=\"data row10 col27\" >0.003302</td>\n",
       "      <td id=\"T_0b514_row10_col28\" class=\"data row10 col28\" >0.031051</td>\n",
       "      <td id=\"T_0b514_row10_col29\" class=\"data row10 col29\" >0.002900</td>\n",
       "      <td id=\"T_0b514_row10_col30\" class=\"data row10 col30\" >-0.035594</td>\n",
       "      <td id=\"T_0b514_row10_col31\" class=\"data row10 col31\" >0.008569</td>\n",
       "    </tr>\n",
       "    <tr>\n",
       "      <th id=\"T_0b514_level0_row11\" class=\"row_heading level0 row11\" >Endpoint_'/usr/login'</th>\n",
       "      <td id=\"T_0b514_row11_col0\" class=\"data row11 col0\" >-0.261295</td>\n",
       "      <td id=\"T_0b514_row11_col1\" class=\"data row11 col1\" >0.100559</td>\n",
       "      <td id=\"T_0b514_row11_col2\" class=\"data row11 col2\" >0.129828</td>\n",
       "      <td id=\"T_0b514_row11_col3\" class=\"data row11 col3\" >0.060799</td>\n",
       "      <td id=\"T_0b514_row11_col4\" class=\"data row11 col4\" >0.004306</td>\n",
       "      <td id=\"T_0b514_row11_col5\" class=\"data row11 col5\" >-0.015671</td>\n",
       "      <td id=\"T_0b514_row11_col6\" class=\"data row11 col6\" >-0.010877</td>\n",
       "      <td id=\"T_0b514_row11_col7\" class=\"data row11 col7\" >0.029854</td>\n",
       "      <td id=\"T_0b514_row11_col8\" class=\"data row11 col8\" >-0.274466</td>\n",
       "      <td id=\"T_0b514_row11_col9\" class=\"data row11 col9\" >-0.250728</td>\n",
       "      <td id=\"T_0b514_row11_col10\" class=\"data row11 col10\" >-0.202785</td>\n",
       "      <td id=\"T_0b514_row11_col11\" class=\"data row11 col11\" >1.000000</td>\n",
       "      <td id=\"T_0b514_row11_col12\" class=\"data row11 col12\" >-0.366965</td>\n",
       "      <td id=\"T_0b514_row11_col13\" class=\"data row11 col13\" >-0.009831</td>\n",
       "      <td id=\"T_0b514_row11_col14\" class=\"data row11 col14\" >-0.010302</td>\n",
       "      <td id=\"T_0b514_row11_col15\" class=\"data row11 col15\" >-0.030413</td>\n",
       "      <td id=\"T_0b514_row11_col16\" class=\"data row11 col16\" >-0.021602</td>\n",
       "      <td id=\"T_0b514_row11_col17\" class=\"data row11 col17\" >0.005092</td>\n",
       "      <td id=\"T_0b514_row11_col18\" class=\"data row11 col18\" >0.036816</td>\n",
       "      <td id=\"T_0b514_row11_col19\" class=\"data row11 col19\" >0.021889</td>\n",
       "      <td id=\"T_0b514_row11_col20\" class=\"data row11 col20\" >0.007865</td>\n",
       "      <td id=\"T_0b514_row11_col21\" class=\"data row11 col21\" >-0.007865</td>\n",
       "      <td id=\"T_0b514_row11_col22\" class=\"data row11 col22\" >-0.067909</td>\n",
       "      <td id=\"T_0b514_row11_col23\" class=\"data row11 col23\" >-0.020024</td>\n",
       "      <td id=\"T_0b514_row11_col24\" class=\"data row11 col24\" >0.005442</td>\n",
       "      <td id=\"T_0b514_row11_col25\" class=\"data row11 col25\" >-0.007266</td>\n",
       "      <td id=\"T_0b514_row11_col26\" class=\"data row11 col26\" >-0.019392</td>\n",
       "      <td id=\"T_0b514_row11_col27\" class=\"data row11 col27\" >0.014835</td>\n",
       "      <td id=\"T_0b514_row11_col28\" class=\"data row11 col28\" >0.011405</td>\n",
       "      <td id=\"T_0b514_row11_col29\" class=\"data row11 col29\" >0.052015</td>\n",
       "      <td id=\"T_0b514_row11_col30\" class=\"data row11 col30\" >-0.031124</td>\n",
       "      <td id=\"T_0b514_row11_col31\" class=\"data row11 col31\" >0.039419</td>\n",
       "    </tr>\n",
       "    <tr>\n",
       "      <th id=\"T_0b514_level0_row12\" class=\"row_heading level0 row12\" >Endpoint_'/usr/register'</th>\n",
       "      <td id=\"T_0b514_row12_col0\" class=\"data row12 col0\" >0.003198</td>\n",
       "      <td id=\"T_0b514_row12_col1\" class=\"data row12 col1\" >-0.141169</td>\n",
       "      <td id=\"T_0b514_row12_col2\" class=\"data row12 col2\" >0.161959</td>\n",
       "      <td id=\"T_0b514_row12_col3\" class=\"data row12 col3\" >-0.047248</td>\n",
       "      <td id=\"T_0b514_row12_col4\" class=\"data row12 col4\" >0.045088</td>\n",
       "      <td id=\"T_0b514_row12_col5\" class=\"data row12 col5\" >-0.010574</td>\n",
       "      <td id=\"T_0b514_row12_col6\" class=\"data row12 col6\" >-0.028342</td>\n",
       "      <td id=\"T_0b514_row12_col7\" class=\"data row12 col7\" >-0.013509</td>\n",
       "      <td id=\"T_0b514_row12_col8\" class=\"data row12 col8\" >-0.309292</td>\n",
       "      <td id=\"T_0b514_row12_col9\" class=\"data row12 col9\" >-0.282542</td>\n",
       "      <td id=\"T_0b514_row12_col10\" class=\"data row12 col10\" >-0.228516</td>\n",
       "      <td id=\"T_0b514_row12_col11\" class=\"data row12 col11\" >-0.366965</td>\n",
       "      <td id=\"T_0b514_row12_col12\" class=\"data row12 col12\" >1.000000</td>\n",
       "      <td id=\"T_0b514_row12_col13\" class=\"data row12 col13\" >0.003863</td>\n",
       "      <td id=\"T_0b514_row12_col14\" class=\"data row12 col14\" >0.001732</td>\n",
       "      <td id=\"T_0b514_row12_col15\" class=\"data row12 col15\" >0.005948</td>\n",
       "      <td id=\"T_0b514_row12_col16\" class=\"data row12 col16\" >0.003351</td>\n",
       "      <td id=\"T_0b514_row12_col17\" class=\"data row12 col17\" >-0.006049</td>\n",
       "      <td id=\"T_0b514_row12_col18\" class=\"data row12 col18\" >-0.009050</td>\n",
       "      <td id=\"T_0b514_row12_col19\" class=\"data row12 col19\" >0.001663</td>\n",
       "      <td id=\"T_0b514_row12_col20\" class=\"data row12 col20\" >-0.003185</td>\n",
       "      <td id=\"T_0b514_row12_col21\" class=\"data row12 col21\" >0.003185</td>\n",
       "      <td id=\"T_0b514_row12_col22\" class=\"data row12 col22\" >0.002749</td>\n",
       "      <td id=\"T_0b514_row12_col23\" class=\"data row12 col23\" >0.025148</td>\n",
       "      <td id=\"T_0b514_row12_col24\" class=\"data row12 col24\" >-0.042112</td>\n",
       "      <td id=\"T_0b514_row12_col25\" class=\"data row12 col25\" >0.018414</td>\n",
       "      <td id=\"T_0b514_row12_col26\" class=\"data row12 col26\" >-0.028919</td>\n",
       "      <td id=\"T_0b514_row12_col27\" class=\"data row12 col27\" >-0.002714</td>\n",
       "      <td id=\"T_0b514_row12_col28\" class=\"data row12 col28\" >0.026845</td>\n",
       "      <td id=\"T_0b514_row12_col29\" class=\"data row12 col29\" >0.011462</td>\n",
       "      <td id=\"T_0b514_row12_col30\" class=\"data row12 col30\" >-0.031955</td>\n",
       "      <td id=\"T_0b514_row12_col31\" class=\"data row12 col31\" >0.010989</td>\n",
       "    </tr>\n",
       "    <tr>\n",
       "      <th id=\"T_0b514_level0_row13\" class=\"row_heading level0 row13\" >Status_Code_'200'</th>\n",
       "      <td id=\"T_0b514_row13_col0\" class=\"data row13 col0\" >0.050374</td>\n",
       "      <td id=\"T_0b514_row13_col1\" class=\"data row13 col1\" >-0.049590</td>\n",
       "      <td id=\"T_0b514_row13_col2\" class=\"data row13 col2\" >0.008487</td>\n",
       "      <td id=\"T_0b514_row13_col3\" class=\"data row13 col3\" >-0.018238</td>\n",
       "      <td id=\"T_0b514_row13_col4\" class=\"data row13 col4\" >0.010970</td>\n",
       "      <td id=\"T_0b514_row13_col5\" class=\"data row13 col5\" >0.002496</td>\n",
       "      <td id=\"T_0b514_row13_col6\" class=\"data row13 col6\" >-0.003022</td>\n",
       "      <td id=\"T_0b514_row13_col7\" class=\"data row13 col7\" >-0.015442</td>\n",
       "      <td id=\"T_0b514_row13_col8\" class=\"data row13 col8\" >0.000458</td>\n",
       "      <td id=\"T_0b514_row13_col9\" class=\"data row13 col9\" >0.000503</td>\n",
       "      <td id=\"T_0b514_row13_col10\" class=\"data row13 col10\" >0.006689</td>\n",
       "      <td id=\"T_0b514_row13_col11\" class=\"data row13 col11\" >-0.009831</td>\n",
       "      <td id=\"T_0b514_row13_col12\" class=\"data row13 col12\" >0.003863</td>\n",
       "      <td id=\"T_0b514_row13_col13\" class=\"data row13 col13\" >1.000000</td>\n",
       "      <td id=\"T_0b514_row13_col14\" class=\"data row13 col14\" >-0.120572</td>\n",
       "      <td id=\"T_0b514_row13_col15\" class=\"data row13 col15\" >-0.093273</td>\n",
       "      <td id=\"T_0b514_row13_col16\" class=\"data row13 col16\" >-0.129176</td>\n",
       "      <td id=\"T_0b514_row13_col17\" class=\"data row13 col17\" >-0.092513</td>\n",
       "      <td id=\"T_0b514_row13_col18\" class=\"data row13 col18\" >-0.128679</td>\n",
       "      <td id=\"T_0b514_row13_col19\" class=\"data row13 col19\" >-0.122227</td>\n",
       "      <td id=\"T_0b514_row13_col20\" class=\"data row13 col20\" >0.001739</td>\n",
       "      <td id=\"T_0b514_row13_col21\" class=\"data row13 col21\" >-0.001739</td>\n",
       "      <td id=\"T_0b514_row13_col22\" class=\"data row13 col22\" >0.015402</td>\n",
       "      <td id=\"T_0b514_row13_col23\" class=\"data row13 col23\" >0.012955</td>\n",
       "      <td id=\"T_0b514_row13_col24\" class=\"data row13 col24\" >-0.012542</td>\n",
       "      <td id=\"T_0b514_row13_col25\" class=\"data row13 col25\" >0.002501</td>\n",
       "      <td id=\"T_0b514_row13_col26\" class=\"data row13 col26\" >-0.001832</td>\n",
       "      <td id=\"T_0b514_row13_col27\" class=\"data row13 col27\" >-0.011866</td>\n",
       "      <td id=\"T_0b514_row13_col28\" class=\"data row13 col28\" >0.004644</td>\n",
       "      <td id=\"T_0b514_row13_col29\" class=\"data row13 col29\" >-0.007621</td>\n",
       "      <td id=\"T_0b514_row13_col30\" class=\"data row13 col30\" >0.000280</td>\n",
       "      <td id=\"T_0b514_row13_col31\" class=\"data row13 col31\" >-0.001281</td>\n",
       "    </tr>\n",
       "    <tr>\n",
       "      <th id=\"T_0b514_level0_row14\" class=\"row_heading level0 row14\" >Status_Code_'303'</th>\n",
       "      <td id=\"T_0b514_row14_col0\" class=\"data row14 col0\" >0.036245</td>\n",
       "      <td id=\"T_0b514_row14_col1\" class=\"data row14 col1\" >-0.034396</td>\n",
       "      <td id=\"T_0b514_row14_col2\" class=\"data row14 col2\" >-0.007704</td>\n",
       "      <td id=\"T_0b514_row14_col3\" class=\"data row14 col3\" >0.011609</td>\n",
       "      <td id=\"T_0b514_row14_col4\" class=\"data row14 col4\" >0.000454</td>\n",
       "      <td id=\"T_0b514_row14_col5\" class=\"data row14 col5\" >0.004472</td>\n",
       "      <td id=\"T_0b514_row14_col6\" class=\"data row14 col6\" >-0.003941</td>\n",
       "      <td id=\"T_0b514_row14_col7\" class=\"data row14 col7\" >-0.001645</td>\n",
       "      <td id=\"T_0b514_row14_col8\" class=\"data row14 col8\" >0.003888</td>\n",
       "      <td id=\"T_0b514_row14_col9\" class=\"data row14 col9\" >0.002075</td>\n",
       "      <td id=\"T_0b514_row14_col10\" class=\"data row14 col10\" >0.004323</td>\n",
       "      <td id=\"T_0b514_row14_col11\" class=\"data row14 col11\" >-0.010302</td>\n",
       "      <td id=\"T_0b514_row14_col12\" class=\"data row14 col12\" >0.001732</td>\n",
       "      <td id=\"T_0b514_row14_col13\" class=\"data row14 col13\" >-0.120572</td>\n",
       "      <td id=\"T_0b514_row14_col14\" class=\"data row14 col14\" >1.000000</td>\n",
       "      <td id=\"T_0b514_row14_col15\" class=\"data row14 col15\" >-0.157033</td>\n",
       "      <td id=\"T_0b514_row14_col16\" class=\"data row14 col16\" >-0.217480</td>\n",
       "      <td id=\"T_0b514_row14_col17\" class=\"data row14 col17\" >-0.155754</td>\n",
       "      <td id=\"T_0b514_row14_col18\" class=\"data row14 col18\" >-0.216642</td>\n",
       "      <td id=\"T_0b514_row14_col19\" class=\"data row14 col19\" >-0.205780</td>\n",
       "      <td id=\"T_0b514_row14_col20\" class=\"data row14 col20\" >0.000379</td>\n",
       "      <td id=\"T_0b514_row14_col21\" class=\"data row14 col21\" >-0.000379</td>\n",
       "      <td id=\"T_0b514_row14_col22\" class=\"data row14 col22\" >0.012949</td>\n",
       "      <td id=\"T_0b514_row14_col23\" class=\"data row14 col23\" >0.004630</td>\n",
       "      <td id=\"T_0b514_row14_col24\" class=\"data row14 col24\" >0.001130</td>\n",
       "      <td id=\"T_0b514_row14_col25\" class=\"data row14 col25\" >-0.004253</td>\n",
       "      <td id=\"T_0b514_row14_col26\" class=\"data row14 col26\" >-0.000445</td>\n",
       "      <td id=\"T_0b514_row14_col27\" class=\"data row14 col27\" >0.000899</td>\n",
       "      <td id=\"T_0b514_row14_col28\" class=\"data row14 col28\" >0.005737</td>\n",
       "      <td id=\"T_0b514_row14_col29\" class=\"data row14 col29\" >-0.009914</td>\n",
       "      <td id=\"T_0b514_row14_col30\" class=\"data row14 col30\" >0.001032</td>\n",
       "      <td id=\"T_0b514_row14_col31\" class=\"data row14 col31\" >-0.008539</td>\n",
       "    </tr>\n",
       "    <tr>\n",
       "      <th id=\"T_0b514_level0_row15\" class=\"row_heading level0 row15\" >Status_Code_'304'</th>\n",
       "      <td id=\"T_0b514_row15_col0\" class=\"data row15 col0\" >0.101984</td>\n",
       "      <td id=\"T_0b514_row15_col1\" class=\"data row15 col1\" >-0.046270</td>\n",
       "      <td id=\"T_0b514_row15_col2\" class=\"data row15 col2\" >-0.037677</td>\n",
       "      <td id=\"T_0b514_row15_col3\" class=\"data row15 col3\" >-0.035520</td>\n",
       "      <td id=\"T_0b514_row15_col4\" class=\"data row15 col4\" >-0.000194</td>\n",
       "      <td id=\"T_0b514_row15_col5\" class=\"data row15 col5\" >0.010089</td>\n",
       "      <td id=\"T_0b514_row15_col6\" class=\"data row15 col6\" >-0.000301</td>\n",
       "      <td id=\"T_0b514_row15_col7\" class=\"data row15 col7\" >-0.013308</td>\n",
       "      <td id=\"T_0b514_row15_col8\" class=\"data row15 col8\" >0.007578</td>\n",
       "      <td id=\"T_0b514_row15_col9\" class=\"data row15 col9\" >0.021168</td>\n",
       "      <td id=\"T_0b514_row15_col10\" class=\"data row15 col10\" >-0.001171</td>\n",
       "      <td id=\"T_0b514_row15_col11\" class=\"data row15 col11\" >-0.030413</td>\n",
       "      <td id=\"T_0b514_row15_col12\" class=\"data row15 col12\" >0.005948</td>\n",
       "      <td id=\"T_0b514_row15_col13\" class=\"data row15 col13\" >-0.093273</td>\n",
       "      <td id=\"T_0b514_row15_col14\" class=\"data row15 col14\" >-0.157033</td>\n",
       "      <td id=\"T_0b514_row15_col15\" class=\"data row15 col15\" >1.000000</td>\n",
       "      <td id=\"T_0b514_row15_col16\" class=\"data row15 col16\" >-0.168239</td>\n",
       "      <td id=\"T_0b514_row15_col17\" class=\"data row15 col17\" >-0.120489</td>\n",
       "      <td id=\"T_0b514_row15_col18\" class=\"data row15 col18\" >-0.167591</td>\n",
       "      <td id=\"T_0b514_row15_col19\" class=\"data row15 col19\" >-0.159189</td>\n",
       "      <td id=\"T_0b514_row15_col20\" class=\"data row15 col20\" >0.000013</td>\n",
       "      <td id=\"T_0b514_row15_col21\" class=\"data row15 col21\" >-0.000013</td>\n",
       "      <td id=\"T_0b514_row15_col22\" class=\"data row15 col22\" >0.022421</td>\n",
       "      <td id=\"T_0b514_row15_col23\" class=\"data row15 col23\" >0.009123</td>\n",
       "      <td id=\"T_0b514_row15_col24\" class=\"data row15 col24\" >-0.003061</td>\n",
       "      <td id=\"T_0b514_row15_col25\" class=\"data row15 col25\" >0.001505</td>\n",
       "      <td id=\"T_0b514_row15_col26\" class=\"data row15 col26\" >0.006888</td>\n",
       "      <td id=\"T_0b514_row15_col27\" class=\"data row15 col27\" >-0.006423</td>\n",
       "      <td id=\"T_0b514_row15_col28\" class=\"data row15 col28\" >0.002682</td>\n",
       "      <td id=\"T_0b514_row15_col29\" class=\"data row15 col29\" >-0.020873</td>\n",
       "      <td id=\"T_0b514_row15_col30\" class=\"data row15 col30\" >0.012448</td>\n",
       "      <td id=\"T_0b514_row15_col31\" class=\"data row15 col31\" >-0.017512</td>\n",
       "    </tr>\n",
       "    <tr>\n",
       "      <th id=\"T_0b514_level0_row16\" class=\"row_heading level0 row16\" >Status_Code_'403'</th>\n",
       "      <td id=\"T_0b514_row16_col0\" class=\"data row16 col0\" >0.090236</td>\n",
       "      <td id=\"T_0b514_row16_col1\" class=\"data row16 col1\" >-0.028814</td>\n",
       "      <td id=\"T_0b514_row16_col2\" class=\"data row16 col2\" >-0.013022</td>\n",
       "      <td id=\"T_0b514_row16_col3\" class=\"data row16 col3\" >-0.095495</td>\n",
       "      <td id=\"T_0b514_row16_col4\" class=\"data row16 col4\" >0.011413</td>\n",
       "      <td id=\"T_0b514_row16_col5\" class=\"data row16 col5\" >0.001175</td>\n",
       "      <td id=\"T_0b514_row16_col6\" class=\"data row16 col6\" >0.003479</td>\n",
       "      <td id=\"T_0b514_row16_col7\" class=\"data row16 col7\" >-0.022862</td>\n",
       "      <td id=\"T_0b514_row16_col8\" class=\"data row16 col8\" >0.009863</td>\n",
       "      <td id=\"T_0b514_row16_col9\" class=\"data row16 col9\" >0.012990</td>\n",
       "      <td id=\"T_0b514_row16_col10\" class=\"data row16 col10\" >-0.002731</td>\n",
       "      <td id=\"T_0b514_row16_col11\" class=\"data row16 col11\" >-0.021602</td>\n",
       "      <td id=\"T_0b514_row16_col12\" class=\"data row16 col12\" >0.003351</td>\n",
       "      <td id=\"T_0b514_row16_col13\" class=\"data row16 col13\" >-0.129176</td>\n",
       "      <td id=\"T_0b514_row16_col14\" class=\"data row16 col14\" >-0.217480</td>\n",
       "      <td id=\"T_0b514_row16_col15\" class=\"data row16 col15\" >-0.168239</td>\n",
       "      <td id=\"T_0b514_row16_col16\" class=\"data row16 col16\" >1.000000</td>\n",
       "      <td id=\"T_0b514_row16_col17\" class=\"data row16 col17\" >-0.166869</td>\n",
       "      <td id=\"T_0b514_row16_col18\" class=\"data row16 col18\" >-0.232103</td>\n",
       "      <td id=\"T_0b514_row16_col19\" class=\"data row16 col19\" >-0.220465</td>\n",
       "      <td id=\"T_0b514_row16_col20\" class=\"data row16 col20\" >0.000795</td>\n",
       "      <td id=\"T_0b514_row16_col21\" class=\"data row16 col21\" >-0.000795</td>\n",
       "      <td id=\"T_0b514_row16_col22\" class=\"data row16 col22\" >0.016810</td>\n",
       "      <td id=\"T_0b514_row16_col23\" class=\"data row16 col23\" >0.017723</td>\n",
       "      <td id=\"T_0b514_row16_col24\" class=\"data row16 col24\" >-0.005136</td>\n",
       "      <td id=\"T_0b514_row16_col25\" class=\"data row16 col25\" >0.013324</td>\n",
       "      <td id=\"T_0b514_row16_col26\" class=\"data row16 col26\" >-0.003241</td>\n",
       "      <td id=\"T_0b514_row16_col27\" class=\"data row16 col27\" >-0.007675</td>\n",
       "      <td id=\"T_0b514_row16_col28\" class=\"data row16 col28\" >0.000704</td>\n",
       "      <td id=\"T_0b514_row16_col29\" class=\"data row16 col29\" >-0.020719</td>\n",
       "      <td id=\"T_0b514_row16_col30\" class=\"data row16 col30\" >0.003303</td>\n",
       "      <td id=\"T_0b514_row16_col31\" class=\"data row16 col31\" >-0.011802</td>\n",
       "    </tr>\n",
       "    <tr>\n",
       "      <th id=\"T_0b514_level0_row17\" class=\"row_heading level0 row17\" >Status_Code_'404'</th>\n",
       "      <td id=\"T_0b514_row17_col0\" class=\"data row17 col0\" >-0.009393</td>\n",
       "      <td id=\"T_0b514_row17_col1\" class=\"data row17 col1\" >0.006544</td>\n",
       "      <td id=\"T_0b514_row17_col2\" class=\"data row17 col2\" >-0.028410</td>\n",
       "      <td id=\"T_0b514_row17_col3\" class=\"data row17 col3\" >0.061713</td>\n",
       "      <td id=\"T_0b514_row17_col4\" class=\"data row17 col4\" >-0.014979</td>\n",
       "      <td id=\"T_0b514_row17_col5\" class=\"data row17 col5\" >-0.002091</td>\n",
       "      <td id=\"T_0b514_row17_col6\" class=\"data row17 col6\" >0.004266</td>\n",
       "      <td id=\"T_0b514_row17_col7\" class=\"data row17 col7\" >0.019075</td>\n",
       "      <td id=\"T_0b514_row17_col8\" class=\"data row17 col8\" >-0.000374</td>\n",
       "      <td id=\"T_0b514_row17_col9\" class=\"data row17 col9\" >0.002786</td>\n",
       "      <td id=\"T_0b514_row17_col10\" class=\"data row17 col10\" >-0.001014</td>\n",
       "      <td id=\"T_0b514_row17_col11\" class=\"data row17 col11\" >0.005092</td>\n",
       "      <td id=\"T_0b514_row17_col12\" class=\"data row17 col12\" >-0.006049</td>\n",
       "      <td id=\"T_0b514_row17_col13\" class=\"data row17 col13\" >-0.092513</td>\n",
       "      <td id=\"T_0b514_row17_col14\" class=\"data row17 col14\" >-0.155754</td>\n",
       "      <td id=\"T_0b514_row17_col15\" class=\"data row17 col15\" >-0.120489</td>\n",
       "      <td id=\"T_0b514_row17_col16\" class=\"data row17 col16\" >-0.166869</td>\n",
       "      <td id=\"T_0b514_row17_col17\" class=\"data row17 col17\" >1.000000</td>\n",
       "      <td id=\"T_0b514_row17_col18\" class=\"data row17 col18\" >-0.166226</td>\n",
       "      <td id=\"T_0b514_row17_col19\" class=\"data row17 col19\" >-0.157892</td>\n",
       "      <td id=\"T_0b514_row17_col20\" class=\"data row17 col20\" >-0.004623</td>\n",
       "      <td id=\"T_0b514_row17_col21\" class=\"data row17 col21\" >0.004623</td>\n",
       "      <td id=\"T_0b514_row17_col22\" class=\"data row17 col22\" >-0.000211</td>\n",
       "      <td id=\"T_0b514_row17_col23\" class=\"data row17 col23\" >-0.011159</td>\n",
       "      <td id=\"T_0b514_row17_col24\" class=\"data row17 col24\" >0.002163</td>\n",
       "      <td id=\"T_0b514_row17_col25\" class=\"data row17 col25\" >-0.002050</td>\n",
       "      <td id=\"T_0b514_row17_col26\" class=\"data row17 col26\" >0.004749</td>\n",
       "      <td id=\"T_0b514_row17_col27\" class=\"data row17 col27\" >0.007703</td>\n",
       "      <td id=\"T_0b514_row17_col28\" class=\"data row17 col28\" >-0.008890</td>\n",
       "      <td id=\"T_0b514_row17_col29\" class=\"data row17 col29\" >0.006978</td>\n",
       "      <td id=\"T_0b514_row17_col30\" class=\"data row17 col30\" >0.005424</td>\n",
       "      <td id=\"T_0b514_row17_col31\" class=\"data row17 col31\" >-0.001222</td>\n",
       "    </tr>\n",
       "    <tr>\n",
       "      <th id=\"T_0b514_level0_row18\" class=\"row_heading level0 row18\" >Status_Code_'500'</th>\n",
       "      <td id=\"T_0b514_row18_col0\" class=\"data row18 col0\" >-0.152201</td>\n",
       "      <td id=\"T_0b514_row18_col1\" class=\"data row18 col1\" >0.098210</td>\n",
       "      <td id=\"T_0b514_row18_col2\" class=\"data row18 col2\" >0.034901</td>\n",
       "      <td id=\"T_0b514_row18_col3\" class=\"data row18 col3\" >0.037530</td>\n",
       "      <td id=\"T_0b514_row18_col4\" class=\"data row18 col4\" >-0.005176</td>\n",
       "      <td id=\"T_0b514_row18_col5\" class=\"data row18 col5\" >-0.008175</td>\n",
       "      <td id=\"T_0b514_row18_col6\" class=\"data row18 col6\" >-0.000471</td>\n",
       "      <td id=\"T_0b514_row18_col7\" class=\"data row18 col7\" >0.019499</td>\n",
       "      <td id=\"T_0b514_row18_col8\" class=\"data row18 col8\" >-0.004917</td>\n",
       "      <td id=\"T_0b514_row18_col9\" class=\"data row18 col9\" >-0.018886</td>\n",
       "      <td id=\"T_0b514_row18_col10\" class=\"data row18 col10\" >-0.009049</td>\n",
       "      <td id=\"T_0b514_row18_col11\" class=\"data row18 col11\" >0.036816</td>\n",
       "      <td id=\"T_0b514_row18_col12\" class=\"data row18 col12\" >-0.009050</td>\n",
       "      <td id=\"T_0b514_row18_col13\" class=\"data row18 col13\" >-0.128679</td>\n",
       "      <td id=\"T_0b514_row18_col14\" class=\"data row18 col14\" >-0.216642</td>\n",
       "      <td id=\"T_0b514_row18_col15\" class=\"data row18 col15\" >-0.167591</td>\n",
       "      <td id=\"T_0b514_row18_col16\" class=\"data row18 col16\" >-0.232103</td>\n",
       "      <td id=\"T_0b514_row18_col17\" class=\"data row18 col17\" >-0.166226</td>\n",
       "      <td id=\"T_0b514_row18_col18\" class=\"data row18 col18\" >1.000000</td>\n",
       "      <td id=\"T_0b514_row18_col19\" class=\"data row18 col19\" >-0.219616</td>\n",
       "      <td id=\"T_0b514_row18_col20\" class=\"data row18 col20\" >-0.003661</td>\n",
       "      <td id=\"T_0b514_row18_col21\" class=\"data row18 col21\" >0.003661</td>\n",
       "      <td id=\"T_0b514_row18_col22\" class=\"data row18 col22\" >-0.036557</td>\n",
       "      <td id=\"T_0b514_row18_col23\" class=\"data row18 col23\" >-0.020154</td>\n",
       "      <td id=\"T_0b514_row18_col24\" class=\"data row18 col24\" >0.010835</td>\n",
       "      <td id=\"T_0b514_row18_col25\" class=\"data row18 col25\" >-0.004411</td>\n",
       "      <td id=\"T_0b514_row18_col26\" class=\"data row18 col26\" >-0.001225</td>\n",
       "      <td id=\"T_0b514_row18_col27\" class=\"data row18 col27\" >0.007614</td>\n",
       "      <td id=\"T_0b514_row18_col28\" class=\"data row18 col28\" >-0.003339</td>\n",
       "      <td id=\"T_0b514_row18_col29\" class=\"data row18 col29\" >0.026895</td>\n",
       "      <td id=\"T_0b514_row18_col30\" class=\"data row18 col30\" >-0.010763</td>\n",
       "      <td id=\"T_0b514_row18_col31\" class=\"data row18 col31\" >0.021858</td>\n",
       "    </tr>\n",
       "    <tr>\n",
       "      <th id=\"T_0b514_level0_row19\" class=\"row_heading level0 row19\" >Status_Code_'502'</th>\n",
       "      <td id=\"T_0b514_row19_col0\" class=\"data row19 col0\" >-0.081591</td>\n",
       "      <td id=\"T_0b514_row19_col1\" class=\"data row19 col1\" >0.027918</td>\n",
       "      <td id=\"T_0b514_row19_col2\" class=\"data row19 col2\" >0.033648</td>\n",
       "      <td id=\"T_0b514_row19_col3\" class=\"data row19 col3\" >0.039473</td>\n",
       "      <td id=\"T_0b514_row19_col4\" class=\"data row19 col4\" >-0.001774</td>\n",
       "      <td id=\"T_0b514_row19_col5\" class=\"data row19 col5\" >-0.005438</td>\n",
       "      <td id=\"T_0b514_row19_col6\" class=\"data row19 col6\" >-0.000454</td>\n",
       "      <td id=\"T_0b514_row19_col7\" class=\"data row19 col7\" >0.010726</td>\n",
       "      <td id=\"T_0b514_row19_col8\" class=\"data row19 col8\" >-0.015218</td>\n",
       "      <td id=\"T_0b514_row19_col9\" class=\"data row19 col9\" >-0.016012</td>\n",
       "      <td id=\"T_0b514_row19_col10\" class=\"data row19 col10\" >0.005268</td>\n",
       "      <td id=\"T_0b514_row19_col11\" class=\"data row19 col11\" >0.021889</td>\n",
       "      <td id=\"T_0b514_row19_col12\" class=\"data row19 col12\" >0.001663</td>\n",
       "      <td id=\"T_0b514_row19_col13\" class=\"data row19 col13\" >-0.122227</td>\n",
       "      <td id=\"T_0b514_row19_col14\" class=\"data row19 col14\" >-0.205780</td>\n",
       "      <td id=\"T_0b514_row19_col15\" class=\"data row19 col15\" >-0.159189</td>\n",
       "      <td id=\"T_0b514_row19_col16\" class=\"data row19 col16\" >-0.220465</td>\n",
       "      <td id=\"T_0b514_row19_col17\" class=\"data row19 col17\" >-0.157892</td>\n",
       "      <td id=\"T_0b514_row19_col18\" class=\"data row19 col18\" >-0.219616</td>\n",
       "      <td id=\"T_0b514_row19_col19\" class=\"data row19 col19\" >1.000000</td>\n",
       "      <td id=\"T_0b514_row19_col20\" class=\"data row19 col20\" >0.005202</td>\n",
       "      <td id=\"T_0b514_row19_col21\" class=\"data row19 col21\" >-0.005202</td>\n",
       "      <td id=\"T_0b514_row19_col22\" class=\"data row19 col22\" >-0.020912</td>\n",
       "      <td id=\"T_0b514_row19_col23\" class=\"data row19 col23\" >-0.009066</td>\n",
       "      <td id=\"T_0b514_row19_col24\" class=\"data row19 col24\" >0.002042</td>\n",
       "      <td id=\"T_0b514_row19_col25\" class=\"data row19 col25\" >-0.006245</td>\n",
       "      <td id=\"T_0b514_row19_col26\" class=\"data row19 col26\" >-0.003270</td>\n",
       "      <td id=\"T_0b514_row19_col27\" class=\"data row19 col27\" >0.006020</td>\n",
       "      <td id=\"T_0b514_row19_col28\" class=\"data row19 col28\" >-0.000975</td>\n",
       "      <td id=\"T_0b514_row19_col29\" class=\"data row19 col29\" >0.019994</td>\n",
       "      <td id=\"T_0b514_row19_col30\" class=\"data row19 col30\" >-0.008176</td>\n",
       "      <td id=\"T_0b514_row19_col31\" class=\"data row19 col31\" >0.014346</td>\n",
       "    </tr>\n",
       "    <tr>\n",
       "      <th id=\"T_0b514_level0_row20\" class=\"row_heading level0 row20\" >Referrer_'-'</th>\n",
       "      <td id=\"T_0b514_row20_col0\" class=\"data row20 col0\" >0.001511</td>\n",
       "      <td id=\"T_0b514_row20_col1\" class=\"data row20 col1\" >-0.000492</td>\n",
       "      <td id=\"T_0b514_row20_col2\" class=\"data row20 col2\" >0.000412</td>\n",
       "      <td id=\"T_0b514_row20_col3\" class=\"data row20 col3\" >-0.002824</td>\n",
       "      <td id=\"T_0b514_row20_col4\" class=\"data row20 col4\" >0.002611</td>\n",
       "      <td id=\"T_0b514_row20_col5\" class=\"data row20 col5\" >-0.002642</td>\n",
       "      <td id=\"T_0b514_row20_col6\" class=\"data row20 col6\" >0.002913</td>\n",
       "      <td id=\"T_0b514_row20_col7\" class=\"data row20 col7\" >-0.003998</td>\n",
       "      <td id=\"T_0b514_row20_col8\" class=\"data row20 col8\" >-0.006323</td>\n",
       "      <td id=\"T_0b514_row20_col9\" class=\"data row20 col9\" >0.000014</td>\n",
       "      <td id=\"T_0b514_row20_col10\" class=\"data row20 col10\" >0.001672</td>\n",
       "      <td id=\"T_0b514_row20_col11\" class=\"data row20 col11\" >0.007865</td>\n",
       "      <td id=\"T_0b514_row20_col12\" class=\"data row20 col12\" >-0.003185</td>\n",
       "      <td id=\"T_0b514_row20_col13\" class=\"data row20 col13\" >0.001739</td>\n",
       "      <td id=\"T_0b514_row20_col14\" class=\"data row20 col14\" >0.000379</td>\n",
       "      <td id=\"T_0b514_row20_col15\" class=\"data row20 col15\" >0.000013</td>\n",
       "      <td id=\"T_0b514_row20_col16\" class=\"data row20 col16\" >0.000795</td>\n",
       "      <td id=\"T_0b514_row20_col17\" class=\"data row20 col17\" >-0.004623</td>\n",
       "      <td id=\"T_0b514_row20_col18\" class=\"data row20 col18\" >-0.003661</td>\n",
       "      <td id=\"T_0b514_row20_col19\" class=\"data row20 col19\" >0.005202</td>\n",
       "      <td id=\"T_0b514_row20_col20\" class=\"data row20 col20\" >1.000000</td>\n",
       "      <td id=\"T_0b514_row20_col21\" class=\"data row20 col21\" >-1.000000</td>\n",
       "      <td id=\"T_0b514_row20_col22\" class=\"data row20 col22\" >-0.006884</td>\n",
       "      <td id=\"T_0b514_row20_col23\" class=\"data row20 col23\" >-0.000620</td>\n",
       "      <td id=\"T_0b514_row20_col24\" class=\"data row20 col24\" >-0.000336</td>\n",
       "      <td id=\"T_0b514_row20_col25\" class=\"data row20 col25\" >0.001199</td>\n",
       "      <td id=\"T_0b514_row20_col26\" class=\"data row20 col26\" >0.000468</td>\n",
       "      <td id=\"T_0b514_row20_col27\" class=\"data row20 col27\" >-0.000132</td>\n",
       "      <td id=\"T_0b514_row20_col28\" class=\"data row20 col28\" >0.005684</td>\n",
       "      <td id=\"T_0b514_row20_col29\" class=\"data row20 col29\" >-0.001709</td>\n",
       "      <td id=\"T_0b514_row20_col30\" class=\"data row20 col30\" >-0.001628</td>\n",
       "      <td id=\"T_0b514_row20_col31\" class=\"data row20 col31\" >0.001725</td>\n",
       "    </tr>\n",
       "    <tr>\n",
       "      <th id=\"T_0b514_level0_row21\" class=\"row_heading level0 row21\" >Referrer_'http://morgan.biz/wp-contentcategory.htm'</th>\n",
       "      <td id=\"T_0b514_row21_col0\" class=\"data row21 col0\" >-0.001511</td>\n",
       "      <td id=\"T_0b514_row21_col1\" class=\"data row21 col1\" >0.000492</td>\n",
       "      <td id=\"T_0b514_row21_col2\" class=\"data row21 col2\" >-0.000412</td>\n",
       "      <td id=\"T_0b514_row21_col3\" class=\"data row21 col3\" >0.002824</td>\n",
       "      <td id=\"T_0b514_row21_col4\" class=\"data row21 col4\" >-0.002611</td>\n",
       "      <td id=\"T_0b514_row21_col5\" class=\"data row21 col5\" >0.002642</td>\n",
       "      <td id=\"T_0b514_row21_col6\" class=\"data row21 col6\" >-0.002913</td>\n",
       "      <td id=\"T_0b514_row21_col7\" class=\"data row21 col7\" >0.003998</td>\n",
       "      <td id=\"T_0b514_row21_col8\" class=\"data row21 col8\" >0.006323</td>\n",
       "      <td id=\"T_0b514_row21_col9\" class=\"data row21 col9\" >-0.000014</td>\n",
       "      <td id=\"T_0b514_row21_col10\" class=\"data row21 col10\" >-0.001672</td>\n",
       "      <td id=\"T_0b514_row21_col11\" class=\"data row21 col11\" >-0.007865</td>\n",
       "      <td id=\"T_0b514_row21_col12\" class=\"data row21 col12\" >0.003185</td>\n",
       "      <td id=\"T_0b514_row21_col13\" class=\"data row21 col13\" >-0.001739</td>\n",
       "      <td id=\"T_0b514_row21_col14\" class=\"data row21 col14\" >-0.000379</td>\n",
       "      <td id=\"T_0b514_row21_col15\" class=\"data row21 col15\" >-0.000013</td>\n",
       "      <td id=\"T_0b514_row21_col16\" class=\"data row21 col16\" >-0.000795</td>\n",
       "      <td id=\"T_0b514_row21_col17\" class=\"data row21 col17\" >0.004623</td>\n",
       "      <td id=\"T_0b514_row21_col18\" class=\"data row21 col18\" >0.003661</td>\n",
       "      <td id=\"T_0b514_row21_col19\" class=\"data row21 col19\" >-0.005202</td>\n",
       "      <td id=\"T_0b514_row21_col20\" class=\"data row21 col20\" >-1.000000</td>\n",
       "      <td id=\"T_0b514_row21_col21\" class=\"data row21 col21\" >1.000000</td>\n",
       "      <td id=\"T_0b514_row21_col22\" class=\"data row21 col22\" >0.006884</td>\n",
       "      <td id=\"T_0b514_row21_col23\" class=\"data row21 col23\" >0.000620</td>\n",
       "      <td id=\"T_0b514_row21_col24\" class=\"data row21 col24\" >0.000336</td>\n",
       "      <td id=\"T_0b514_row21_col25\" class=\"data row21 col25\" >-0.001199</td>\n",
       "      <td id=\"T_0b514_row21_col26\" class=\"data row21 col26\" >-0.000468</td>\n",
       "      <td id=\"T_0b514_row21_col27\" class=\"data row21 col27\" >0.000132</td>\n",
       "      <td id=\"T_0b514_row21_col28\" class=\"data row21 col28\" >-0.005684</td>\n",
       "      <td id=\"T_0b514_row21_col29\" class=\"data row21 col29\" >0.001709</td>\n",
       "      <td id=\"T_0b514_row21_col30\" class=\"data row21 col30\" >0.001628</td>\n",
       "      <td id=\"T_0b514_row21_col31\" class=\"data row21 col31\" >-0.001725</td>\n",
       "    </tr>\n",
       "    <tr>\n",
       "      <th id=\"T_0b514_level0_row22\" class=\"row_heading level0 row22\" >User_Agent_'Mozilla/5.0 (Android 10; Mobile; rv:84.0) Gecko/84.0 Firefox/84.0'</th>\n",
       "      <td id=\"T_0b514_row22_col0\" class=\"data row22 col0\" >0.259314</td>\n",
       "      <td id=\"T_0b514_row22_col1\" class=\"data row22 col1\" >-0.165865</td>\n",
       "      <td id=\"T_0b514_row22_col2\" class=\"data row22 col2\" >-0.120374</td>\n",
       "      <td id=\"T_0b514_row22_col3\" class=\"data row22 col3\" >0.053449</td>\n",
       "      <td id=\"T_0b514_row22_col4\" class=\"data row22 col4\" >-0.009929</td>\n",
       "      <td id=\"T_0b514_row22_col5\" class=\"data row22 col5\" >0.023723</td>\n",
       "      <td id=\"T_0b514_row22_col6\" class=\"data row22 col6\" >0.006431</td>\n",
       "      <td id=\"T_0b514_row22_col7\" class=\"data row22 col7\" >-0.026939</td>\n",
       "      <td id=\"T_0b514_row22_col8\" class=\"data row22 col8\" >0.025562</td>\n",
       "      <td id=\"T_0b514_row22_col9\" class=\"data row22 col9\" >0.036228</td>\n",
       "      <td id=\"T_0b514_row22_col10\" class=\"data row22 col10\" >0.014755</td>\n",
       "      <td id=\"T_0b514_row22_col11\" class=\"data row22 col11\" >-0.067909</td>\n",
       "      <td id=\"T_0b514_row22_col12\" class=\"data row22 col12\" >0.002749</td>\n",
       "      <td id=\"T_0b514_row22_col13\" class=\"data row22 col13\" >0.015402</td>\n",
       "      <td id=\"T_0b514_row22_col14\" class=\"data row22 col14\" >0.012949</td>\n",
       "      <td id=\"T_0b514_row22_col15\" class=\"data row22 col15\" >0.022421</td>\n",
       "      <td id=\"T_0b514_row22_col16\" class=\"data row22 col16\" >0.016810</td>\n",
       "      <td id=\"T_0b514_row22_col17\" class=\"data row22 col17\" >-0.000211</td>\n",
       "      <td id=\"T_0b514_row22_col18\" class=\"data row22 col18\" >-0.036557</td>\n",
       "      <td id=\"T_0b514_row22_col19\" class=\"data row22 col19\" >-0.020912</td>\n",
       "      <td id=\"T_0b514_row22_col20\" class=\"data row22 col20\" >-0.006884</td>\n",
       "      <td id=\"T_0b514_row22_col21\" class=\"data row22 col21\" >0.006884</td>\n",
       "      <td id=\"T_0b514_row22_col22\" class=\"data row22 col22\" >1.000000</td>\n",
       "      <td id=\"T_0b514_row22_col23\" class=\"data row22 col23\" >-0.094802</td>\n",
       "      <td id=\"T_0b514_row22_col24\" class=\"data row22 col24\" >-0.083449</td>\n",
       "      <td id=\"T_0b514_row22_col25\" class=\"data row22 col25\" >-0.079855</td>\n",
       "      <td id=\"T_0b514_row22_col26\" class=\"data row22 col26\" >-0.073225</td>\n",
       "      <td id=\"T_0b514_row22_col27\" class=\"data row22 col27\" >-0.071882</td>\n",
       "      <td id=\"T_0b514_row22_col28\" class=\"data row22 col28\" >-0.093511</td>\n",
       "      <td id=\"T_0b514_row22_col29\" class=\"data row22 col29\" >-0.085468</td>\n",
       "      <td id=\"T_0b514_row22_col30\" class=\"data row22 col30\" >-0.078889</td>\n",
       "      <td id=\"T_0b514_row22_col31\" class=\"data row22 col31\" >-0.097831</td>\n",
       "    </tr>\n",
       "    <tr>\n",
       "      <th id=\"T_0b514_level0_row23\" class=\"row_heading level0 row23\" >User_Agent_'Mozilla/5.0 (Linux; Android 10; ONEPLUS A6000) AppleWebKit/537.36 (KHTML, like Gecko) Chrome/77.0.3865.116 Mobile Safari/537.36 EdgA/45.12.4.5121'</th>\n",
       "      <td id=\"T_0b514_row23_col0\" class=\"data row23 col0\" >0.095624</td>\n",
       "      <td id=\"T_0b514_row23_col1\" class=\"data row23 col1\" >-0.151049</td>\n",
       "      <td id=\"T_0b514_row23_col2\" class=\"data row23 col2\" >0.100161</td>\n",
       "      <td id=\"T_0b514_row23_col3\" class=\"data row23 col3\" >-0.088158</td>\n",
       "      <td id=\"T_0b514_row23_col4\" class=\"data row23 col4\" >0.040109</td>\n",
       "      <td id=\"T_0b514_row23_col5\" class=\"data row23 col5\" >-0.000224</td>\n",
       "      <td id=\"T_0b514_row23_col6\" class=\"data row23 col6\" >-0.017715</td>\n",
       "      <td id=\"T_0b514_row23_col7\" class=\"data row23 col7\" >-0.034674</td>\n",
       "      <td id=\"T_0b514_row23_col8\" class=\"data row23 col8\" >-0.017242</td>\n",
       "      <td id=\"T_0b514_row23_col9\" class=\"data row23 col9\" >-0.010019</td>\n",
       "      <td id=\"T_0b514_row23_col10\" class=\"data row23 col10\" >0.024098</td>\n",
       "      <td id=\"T_0b514_row23_col11\" class=\"data row23 col11\" >-0.020024</td>\n",
       "      <td id=\"T_0b514_row23_col12\" class=\"data row23 col12\" >0.025148</td>\n",
       "      <td id=\"T_0b514_row23_col13\" class=\"data row23 col13\" >0.012955</td>\n",
       "      <td id=\"T_0b514_row23_col14\" class=\"data row23 col14\" >0.004630</td>\n",
       "      <td id=\"T_0b514_row23_col15\" class=\"data row23 col15\" >0.009123</td>\n",
       "      <td id=\"T_0b514_row23_col16\" class=\"data row23 col16\" >0.017723</td>\n",
       "      <td id=\"T_0b514_row23_col17\" class=\"data row23 col17\" >-0.011159</td>\n",
       "      <td id=\"T_0b514_row23_col18\" class=\"data row23 col18\" >-0.020154</td>\n",
       "      <td id=\"T_0b514_row23_col19\" class=\"data row23 col19\" >-0.009066</td>\n",
       "      <td id=\"T_0b514_row23_col20\" class=\"data row23 col20\" >-0.000620</td>\n",
       "      <td id=\"T_0b514_row23_col21\" class=\"data row23 col21\" >0.000620</td>\n",
       "      <td id=\"T_0b514_row23_col22\" class=\"data row23 col22\" >-0.094802</td>\n",
       "      <td id=\"T_0b514_row23_col23\" class=\"data row23 col23\" >1.000000</td>\n",
       "      <td id=\"T_0b514_row23_col24\" class=\"data row23 col24\" >-0.129292</td>\n",
       "      <td id=\"T_0b514_row23_col25\" class=\"data row23 col25\" >-0.123723</td>\n",
       "      <td id=\"T_0b514_row23_col26\" class=\"data row23 col26\" >-0.113451</td>\n",
       "      <td id=\"T_0b514_row23_col27\" class=\"data row23 col27\" >-0.111371</td>\n",
       "      <td id=\"T_0b514_row23_col28\" class=\"data row23 col28\" >-0.144882</td>\n",
       "      <td id=\"T_0b514_row23_col29\" class=\"data row23 col29\" >-0.132420</td>\n",
       "      <td id=\"T_0b514_row23_col30\" class=\"data row23 col30\" >-0.122226</td>\n",
       "      <td id=\"T_0b514_row23_col31\" class=\"data row23 col31\" >-0.151574</td>\n",
       "    </tr>\n",
       "    <tr>\n",
       "      <th id=\"T_0b514_level0_row24\" class=\"row_heading level0 row24\" >User_Agent_'Mozilla/5.0 (Linux; Android 10; ONEPLUS A6000) AppleWebKit/537.36 (KHTML, like Gecko) Chrome/86.0.4240.198 Mobile Safari/537.36 OPR/61.2.3076.56749'</th>\n",
       "      <td id=\"T_0b514_row24_col0\" class=\"data row24 col0\" >-0.041873</td>\n",
       "      <td id=\"T_0b514_row24_col1\" class=\"data row24 col1\" >0.219020</td>\n",
       "      <td id=\"T_0b514_row24_col2\" class=\"data row24 col2\" >-0.186045</td>\n",
       "      <td id=\"T_0b514_row24_col3\" class=\"data row24 col3\" >0.017368</td>\n",
       "      <td id=\"T_0b514_row24_col4\" class=\"data row24 col4\" >-0.051581</td>\n",
       "      <td id=\"T_0b514_row24_col5\" class=\"data row24 col5\" >0.007287</td>\n",
       "      <td id=\"T_0b514_row24_col6\" class=\"data row24 col6\" >0.032663</td>\n",
       "      <td id=\"T_0b514_row24_col7\" class=\"data row24 col7\" >0.021806</td>\n",
       "      <td id=\"T_0b514_row24_col8\" class=\"data row24 col8\" >0.046940</td>\n",
       "      <td id=\"T_0b514_row24_col9\" class=\"data row24 col9\" >0.035199</td>\n",
       "      <td id=\"T_0b514_row24_col10\" class=\"data row24 col10\" >-0.045900</td>\n",
       "      <td id=\"T_0b514_row24_col11\" class=\"data row24 col11\" >0.005442</td>\n",
       "      <td id=\"T_0b514_row24_col12\" class=\"data row24 col12\" >-0.042112</td>\n",
       "      <td id=\"T_0b514_row24_col13\" class=\"data row24 col13\" >-0.012542</td>\n",
       "      <td id=\"T_0b514_row24_col14\" class=\"data row24 col14\" >0.001130</td>\n",
       "      <td id=\"T_0b514_row24_col15\" class=\"data row24 col15\" >-0.003061</td>\n",
       "      <td id=\"T_0b514_row24_col16\" class=\"data row24 col16\" >-0.005136</td>\n",
       "      <td id=\"T_0b514_row24_col17\" class=\"data row24 col17\" >0.002163</td>\n",
       "      <td id=\"T_0b514_row24_col18\" class=\"data row24 col18\" >0.010835</td>\n",
       "      <td id=\"T_0b514_row24_col19\" class=\"data row24 col19\" >0.002042</td>\n",
       "      <td id=\"T_0b514_row24_col20\" class=\"data row24 col20\" >-0.000336</td>\n",
       "      <td id=\"T_0b514_row24_col21\" class=\"data row24 col21\" >0.000336</td>\n",
       "      <td id=\"T_0b514_row24_col22\" class=\"data row24 col22\" >-0.083449</td>\n",
       "      <td id=\"T_0b514_row24_col23\" class=\"data row24 col23\" >-0.129292</td>\n",
       "      <td id=\"T_0b514_row24_col24\" class=\"data row24 col24\" >1.000000</td>\n",
       "      <td id=\"T_0b514_row24_col25\" class=\"data row24 col25\" >-0.108907</td>\n",
       "      <td id=\"T_0b514_row24_col26\" class=\"data row24 col26\" >-0.099866</td>\n",
       "      <td id=\"T_0b514_row24_col27\" class=\"data row24 col27\" >-0.098034</td>\n",
       "      <td id=\"T_0b514_row24_col28\" class=\"data row24 col28\" >-0.127532</td>\n",
       "      <td id=\"T_0b514_row24_col29\" class=\"data row24 col29\" >-0.116562</td>\n",
       "      <td id=\"T_0b514_row24_col30\" class=\"data row24 col30\" >-0.107589</td>\n",
       "      <td id=\"T_0b514_row24_col31\" class=\"data row24 col31\" >-0.133423</td>\n",
       "    </tr>\n",
       "    <tr>\n",
       "      <th id=\"T_0b514_level0_row25\" class=\"row_heading level0 row25\" >User_Agent_'Mozilla/5.0 (Linux; Android 10; ONEPLUS A6000) AppleWebKit/537.36 (KHTML, like Gecko) Chrome/87.0.4280.141 Mobile Safari/537.36'</th>\n",
       "      <td id=\"T_0b514_row25_col0\" class=\"data row25 col0\" >0.017854</td>\n",
       "      <td id=\"T_0b514_row25_col1\" class=\"data row25 col1\" >-0.064734</td>\n",
       "      <td id=\"T_0b514_row25_col2\" class=\"data row25 col2\" >0.083005</td>\n",
       "      <td id=\"T_0b514_row25_col3\" class=\"data row25 col3\" >-0.071271</td>\n",
       "      <td id=\"T_0b514_row25_col4\" class=\"data row25 col4\" >0.029604</td>\n",
       "      <td id=\"T_0b514_row25_col5\" class=\"data row25 col5\" >-0.003675</td>\n",
       "      <td id=\"T_0b514_row25_col6\" class=\"data row25 col6\" >-0.018180</td>\n",
       "      <td id=\"T_0b514_row25_col7\" class=\"data row25 col7\" >-0.013968</td>\n",
       "      <td id=\"T_0b514_row25_col8\" class=\"data row25 col8\" >-0.008767</td>\n",
       "      <td id=\"T_0b514_row25_col9\" class=\"data row25 col9\" >-0.012832</td>\n",
       "      <td id=\"T_0b514_row25_col10\" class=\"data row25 col10\" >0.009194</td>\n",
       "      <td id=\"T_0b514_row25_col11\" class=\"data row25 col11\" >-0.007266</td>\n",
       "      <td id=\"T_0b514_row25_col12\" class=\"data row25 col12\" >0.018414</td>\n",
       "      <td id=\"T_0b514_row25_col13\" class=\"data row25 col13\" >0.002501</td>\n",
       "      <td id=\"T_0b514_row25_col14\" class=\"data row25 col14\" >-0.004253</td>\n",
       "      <td id=\"T_0b514_row25_col15\" class=\"data row25 col15\" >0.001505</td>\n",
       "      <td id=\"T_0b514_row25_col16\" class=\"data row25 col16\" >0.013324</td>\n",
       "      <td id=\"T_0b514_row25_col17\" class=\"data row25 col17\" >-0.002050</td>\n",
       "      <td id=\"T_0b514_row25_col18\" class=\"data row25 col18\" >-0.004411</td>\n",
       "      <td id=\"T_0b514_row25_col19\" class=\"data row25 col19\" >-0.006245</td>\n",
       "      <td id=\"T_0b514_row25_col20\" class=\"data row25 col20\" >0.001199</td>\n",
       "      <td id=\"T_0b514_row25_col21\" class=\"data row25 col21\" >-0.001199</td>\n",
       "      <td id=\"T_0b514_row25_col22\" class=\"data row25 col22\" >-0.079855</td>\n",
       "      <td id=\"T_0b514_row25_col23\" class=\"data row25 col23\" >-0.123723</td>\n",
       "      <td id=\"T_0b514_row25_col24\" class=\"data row25 col24\" >-0.108907</td>\n",
       "      <td id=\"T_0b514_row25_col25\" class=\"data row25 col25\" >1.000000</td>\n",
       "      <td id=\"T_0b514_row25_col26\" class=\"data row25 col26\" >-0.095564</td>\n",
       "      <td id=\"T_0b514_row25_col27\" class=\"data row25 col27\" >-0.093811</td>\n",
       "      <td id=\"T_0b514_row25_col28\" class=\"data row25 col28\" >-0.122039</td>\n",
       "      <td id=\"T_0b514_row25_col29\" class=\"data row25 col29\" >-0.111542</td>\n",
       "      <td id=\"T_0b514_row25_col30\" class=\"data row25 col30\" >-0.102955</td>\n",
       "      <td id=\"T_0b514_row25_col31\" class=\"data row25 col31\" >-0.127676</td>\n",
       "    </tr>\n",
       "    <tr>\n",
       "      <th id=\"T_0b514_level0_row26\" class=\"row_heading level0 row26\" >User_Agent_'Mozilla/5.0 (Macintosh; Intel Mac OS X 10_9_3) AppleWebKit/537.75.14 (KHTML, like Gecko) Version/7.0.3 Safari/7046A194A'</th>\n",
       "      <td id=\"T_0b514_row26_col0\" class=\"data row26 col0\" >0.062963</td>\n",
       "      <td id=\"T_0b514_row26_col1\" class=\"data row26 col1\" >0.061532</td>\n",
       "      <td id=\"T_0b514_row26_col2\" class=\"data row26 col2\" >-0.160481</td>\n",
       "      <td id=\"T_0b514_row26_col3\" class=\"data row26 col3\" >0.071044</td>\n",
       "      <td id=\"T_0b514_row26_col4\" class=\"data row26 col4\" >-0.035109</td>\n",
       "      <td id=\"T_0b514_row26_col5\" class=\"data row26 col5\" >0.010749</td>\n",
       "      <td id=\"T_0b514_row26_col6\" class=\"data row26 col6\" >0.026109</td>\n",
       "      <td id=\"T_0b514_row26_col7\" class=\"data row26 col7\" >0.001683</td>\n",
       "      <td id=\"T_0b514_row26_col8\" class=\"data row26 col8\" >0.034176</td>\n",
       "      <td id=\"T_0b514_row26_col9\" class=\"data row26 col9\" >0.037741</td>\n",
       "      <td id=\"T_0b514_row26_col10\" class=\"data row26 col10\" >-0.018207</td>\n",
       "      <td id=\"T_0b514_row26_col11\" class=\"data row26 col11\" >-0.019392</td>\n",
       "      <td id=\"T_0b514_row26_col12\" class=\"data row26 col12\" >-0.028919</td>\n",
       "      <td id=\"T_0b514_row26_col13\" class=\"data row26 col13\" >-0.001832</td>\n",
       "      <td id=\"T_0b514_row26_col14\" class=\"data row26 col14\" >-0.000445</td>\n",
       "      <td id=\"T_0b514_row26_col15\" class=\"data row26 col15\" >0.006888</td>\n",
       "      <td id=\"T_0b514_row26_col16\" class=\"data row26 col16\" >-0.003241</td>\n",
       "      <td id=\"T_0b514_row26_col17\" class=\"data row26 col17\" >0.004749</td>\n",
       "      <td id=\"T_0b514_row26_col18\" class=\"data row26 col18\" >-0.001225</td>\n",
       "      <td id=\"T_0b514_row26_col19\" class=\"data row26 col19\" >-0.003270</td>\n",
       "      <td id=\"T_0b514_row26_col20\" class=\"data row26 col20\" >0.000468</td>\n",
       "      <td id=\"T_0b514_row26_col21\" class=\"data row26 col21\" >-0.000468</td>\n",
       "      <td id=\"T_0b514_row26_col22\" class=\"data row26 col22\" >-0.073225</td>\n",
       "      <td id=\"T_0b514_row26_col23\" class=\"data row26 col23\" >-0.113451</td>\n",
       "      <td id=\"T_0b514_row26_col24\" class=\"data row26 col24\" >-0.099866</td>\n",
       "      <td id=\"T_0b514_row26_col25\" class=\"data row26 col25\" >-0.095564</td>\n",
       "      <td id=\"T_0b514_row26_col26\" class=\"data row26 col26\" >1.000000</td>\n",
       "      <td id=\"T_0b514_row26_col27\" class=\"data row26 col27\" >-0.086023</td>\n",
       "      <td id=\"T_0b514_row26_col28\" class=\"data row26 col28\" >-0.111907</td>\n",
       "      <td id=\"T_0b514_row26_col29\" class=\"data row26 col29\" >-0.102281</td>\n",
       "      <td id=\"T_0b514_row26_col30\" class=\"data row26 col30\" >-0.094408</td>\n",
       "      <td id=\"T_0b514_row26_col31\" class=\"data row26 col31\" >-0.117076</td>\n",
       "    </tr>\n",
       "    <tr>\n",
       "      <th id=\"T_0b514_level0_row27\" class=\"row_heading level0 row27\" >User_Agent_'Mozilla/5.0 (Windows NT 10.0; Win64; x64) AppleWebKit/537.36 (KHTML, like Gecko) Chrome/87.0.4280.141 Safari/537.36'</th>\n",
       "      <td id=\"T_0b514_row27_col0\" class=\"data row27 col0\" >-0.064314</td>\n",
       "      <td id=\"T_0b514_row27_col1\" class=\"data row27 col1\" >0.019073</td>\n",
       "      <td id=\"T_0b514_row27_col2\" class=\"data row27 col2\" >0.018094</td>\n",
       "      <td id=\"T_0b514_row27_col3\" class=\"data row27 col3\" >0.053553</td>\n",
       "      <td id=\"T_0b514_row27_col4\" class=\"data row27 col4\" >-0.003540</td>\n",
       "      <td id=\"T_0b514_row27_col5\" class=\"data row27 col5\" >-0.002088</td>\n",
       "      <td id=\"T_0b514_row27_col6\" class=\"data row27 col6\" >-0.004688</td>\n",
       "      <td id=\"T_0b514_row27_col7\" class=\"data row27 col7\" >0.014259</td>\n",
       "      <td id=\"T_0b514_row27_col8\" class=\"data row27 col8\" >-0.012606</td>\n",
       "      <td id=\"T_0b514_row27_col9\" class=\"data row27 col9\" >-0.003447</td>\n",
       "      <td id=\"T_0b514_row27_col10\" class=\"data row27 col10\" >0.003302</td>\n",
       "      <td id=\"T_0b514_row27_col11\" class=\"data row27 col11\" >0.014835</td>\n",
       "      <td id=\"T_0b514_row27_col12\" class=\"data row27 col12\" >-0.002714</td>\n",
       "      <td id=\"T_0b514_row27_col13\" class=\"data row27 col13\" >-0.011866</td>\n",
       "      <td id=\"T_0b514_row27_col14\" class=\"data row27 col14\" >0.000899</td>\n",
       "      <td id=\"T_0b514_row27_col15\" class=\"data row27 col15\" >-0.006423</td>\n",
       "      <td id=\"T_0b514_row27_col16\" class=\"data row27 col16\" >-0.007675</td>\n",
       "      <td id=\"T_0b514_row27_col17\" class=\"data row27 col17\" >0.007703</td>\n",
       "      <td id=\"T_0b514_row27_col18\" class=\"data row27 col18\" >0.007614</td>\n",
       "      <td id=\"T_0b514_row27_col19\" class=\"data row27 col19\" >0.006020</td>\n",
       "      <td id=\"T_0b514_row27_col20\" class=\"data row27 col20\" >-0.000132</td>\n",
       "      <td id=\"T_0b514_row27_col21\" class=\"data row27 col21\" >0.000132</td>\n",
       "      <td id=\"T_0b514_row27_col22\" class=\"data row27 col22\" >-0.071882</td>\n",
       "      <td id=\"T_0b514_row27_col23\" class=\"data row27 col23\" >-0.111371</td>\n",
       "      <td id=\"T_0b514_row27_col24\" class=\"data row27 col24\" >-0.098034</td>\n",
       "      <td id=\"T_0b514_row27_col25\" class=\"data row27 col25\" >-0.093811</td>\n",
       "      <td id=\"T_0b514_row27_col26\" class=\"data row27 col26\" >-0.086023</td>\n",
       "      <td id=\"T_0b514_row27_col27\" class=\"data row27 col27\" >1.000000</td>\n",
       "      <td id=\"T_0b514_row27_col28\" class=\"data row27 col28\" >-0.109855</td>\n",
       "      <td id=\"T_0b514_row27_col29\" class=\"data row27 col29\" >-0.100406</td>\n",
       "      <td id=\"T_0b514_row27_col30\" class=\"data row27 col30\" >-0.092677</td>\n",
       "      <td id=\"T_0b514_row27_col31\" class=\"data row27 col31\" >-0.114929</td>\n",
       "    </tr>\n",
       "    <tr>\n",
       "      <th id=\"T_0b514_level0_row28\" class=\"row_heading level0 row28\" >User_Agent_'Mozilla/5.0 (Windows NT 10.0; Win64; x64) AppleWebKit/537.36 (KHTML, like Gecko) Chrome/87.0.4280.88 Safari/537.36 OPR/73.0.3856.329'</th>\n",
       "      <td id=\"T_0b514_row28_col0\" class=\"data row28 col0\" >-0.018233</td>\n",
       "      <td id=\"T_0b514_row28_col1\" class=\"data row28 col1\" >-0.116443</td>\n",
       "      <td id=\"T_0b514_row28_col2\" class=\"data row28 col2\" >0.140419</td>\n",
       "      <td id=\"T_0b514_row28_col3\" class=\"data row28 col3\" >-0.011256</td>\n",
       "      <td id=\"T_0b514_row28_col4\" class=\"data row28 col4\" >0.033355</td>\n",
       "      <td id=\"T_0b514_row28_col5\" class=\"data row28 col5\" >-0.009662</td>\n",
       "      <td id=\"T_0b514_row28_col6\" class=\"data row28 col6\" >-0.022371</td>\n",
       "      <td id=\"T_0b514_row28_col7\" class=\"data row28 col7\" >-0.005583</td>\n",
       "      <td id=\"T_0b514_row28_col8\" class=\"data row28 col8\" >-0.038323</td>\n",
       "      <td id=\"T_0b514_row28_col9\" class=\"data row28 col9\" >-0.032449</td>\n",
       "      <td id=\"T_0b514_row28_col10\" class=\"data row28 col10\" >0.031051</td>\n",
       "      <td id=\"T_0b514_row28_col11\" class=\"data row28 col11\" >0.011405</td>\n",
       "      <td id=\"T_0b514_row28_col12\" class=\"data row28 col12\" >0.026845</td>\n",
       "      <td id=\"T_0b514_row28_col13\" class=\"data row28 col13\" >0.004644</td>\n",
       "      <td id=\"T_0b514_row28_col14\" class=\"data row28 col14\" >0.005737</td>\n",
       "      <td id=\"T_0b514_row28_col15\" class=\"data row28 col15\" >0.002682</td>\n",
       "      <td id=\"T_0b514_row28_col16\" class=\"data row28 col16\" >0.000704</td>\n",
       "      <td id=\"T_0b514_row28_col17\" class=\"data row28 col17\" >-0.008890</td>\n",
       "      <td id=\"T_0b514_row28_col18\" class=\"data row28 col18\" >-0.003339</td>\n",
       "      <td id=\"T_0b514_row28_col19\" class=\"data row28 col19\" >-0.000975</td>\n",
       "      <td id=\"T_0b514_row28_col20\" class=\"data row28 col20\" >0.005684</td>\n",
       "      <td id=\"T_0b514_row28_col21\" class=\"data row28 col21\" >-0.005684</td>\n",
       "      <td id=\"T_0b514_row28_col22\" class=\"data row28 col22\" >-0.093511</td>\n",
       "      <td id=\"T_0b514_row28_col23\" class=\"data row28 col23\" >-0.144882</td>\n",
       "      <td id=\"T_0b514_row28_col24\" class=\"data row28 col24\" >-0.127532</td>\n",
       "      <td id=\"T_0b514_row28_col25\" class=\"data row28 col25\" >-0.122039</td>\n",
       "      <td id=\"T_0b514_row28_col26\" class=\"data row28 col26\" >-0.111907</td>\n",
       "      <td id=\"T_0b514_row28_col27\" class=\"data row28 col27\" >-0.109855</td>\n",
       "      <td id=\"T_0b514_row28_col28\" class=\"data row28 col28\" >1.000000</td>\n",
       "      <td id=\"T_0b514_row28_col29\" class=\"data row28 col29\" >-0.130617</td>\n",
       "      <td id=\"T_0b514_row28_col30\" class=\"data row28 col30\" >-0.120562</td>\n",
       "      <td id=\"T_0b514_row28_col31\" class=\"data row28 col31\" >-0.149511</td>\n",
       "    </tr>\n",
       "    <tr>\n",
       "      <th id=\"T_0b514_level0_row29\" class=\"row_heading level0 row29\" >User_Agent_'Mozilla/5.0 (Windows NT 10.0; Win64; x64) AppleWebKit/537.36 (KHTML, like Gecko) Chrome/89.0.4380.0 Safari/537.36 Edg/89.0.759.0'</th>\n",
       "      <td id=\"T_0b514_row29_col0\" class=\"data row29 col0\" >-0.182871</td>\n",
       "      <td id=\"T_0b514_row29_col1\" class=\"data row29 col1\" >0.045152</td>\n",
       "      <td id=\"T_0b514_row29_col2\" class=\"data row29 col2\" >0.121842</td>\n",
       "      <td id=\"T_0b514_row29_col3\" class=\"data row29 col3\" >0.031212</td>\n",
       "      <td id=\"T_0b514_row29_col4\" class=\"data row29 col4\" >0.010680</td>\n",
       "      <td id=\"T_0b514_row29_col5\" class=\"data row29 col5\" >-0.018221</td>\n",
       "      <td id=\"T_0b514_row29_col6\" class=\"data row29 col6\" >-0.011078</td>\n",
       "      <td id=\"T_0b514_row29_col7\" class=\"data row29 col7\" >0.024368</td>\n",
       "      <td id=\"T_0b514_row29_col8\" class=\"data row29 col8\" >-0.036215</td>\n",
       "      <td id=\"T_0b514_row29_col9\" class=\"data row29 col9\" >-0.039033</td>\n",
       "      <td id=\"T_0b514_row29_col10\" class=\"data row29 col10\" >0.002900</td>\n",
       "      <td id=\"T_0b514_row29_col11\" class=\"data row29 col11\" >0.052015</td>\n",
       "      <td id=\"T_0b514_row29_col12\" class=\"data row29 col12\" >0.011462</td>\n",
       "      <td id=\"T_0b514_row29_col13\" class=\"data row29 col13\" >-0.007621</td>\n",
       "      <td id=\"T_0b514_row29_col14\" class=\"data row29 col14\" >-0.009914</td>\n",
       "      <td id=\"T_0b514_row29_col15\" class=\"data row29 col15\" >-0.020873</td>\n",
       "      <td id=\"T_0b514_row29_col16\" class=\"data row29 col16\" >-0.020719</td>\n",
       "      <td id=\"T_0b514_row29_col17\" class=\"data row29 col17\" >0.006978</td>\n",
       "      <td id=\"T_0b514_row29_col18\" class=\"data row29 col18\" >0.026895</td>\n",
       "      <td id=\"T_0b514_row29_col19\" class=\"data row29 col19\" >0.019994</td>\n",
       "      <td id=\"T_0b514_row29_col20\" class=\"data row29 col20\" >-0.001709</td>\n",
       "      <td id=\"T_0b514_row29_col21\" class=\"data row29 col21\" >0.001709</td>\n",
       "      <td id=\"T_0b514_row29_col22\" class=\"data row29 col22\" >-0.085468</td>\n",
       "      <td id=\"T_0b514_row29_col23\" class=\"data row29 col23\" >-0.132420</td>\n",
       "      <td id=\"T_0b514_row29_col24\" class=\"data row29 col24\" >-0.116562</td>\n",
       "      <td id=\"T_0b514_row29_col25\" class=\"data row29 col25\" >-0.111542</td>\n",
       "      <td id=\"T_0b514_row29_col26\" class=\"data row29 col26\" >-0.102281</td>\n",
       "      <td id=\"T_0b514_row29_col27\" class=\"data row29 col27\" >-0.100406</td>\n",
       "      <td id=\"T_0b514_row29_col28\" class=\"data row29 col28\" >-0.130617</td>\n",
       "      <td id=\"T_0b514_row29_col29\" class=\"data row29 col29\" >1.000000</td>\n",
       "      <td id=\"T_0b514_row29_col30\" class=\"data row29 col30\" >-0.110192</td>\n",
       "      <td id=\"T_0b514_row29_col31\" class=\"data row29 col31\" >-0.136651</td>\n",
       "    </tr>\n",
       "    <tr>\n",
       "      <th id=\"T_0b514_level0_row30\" class=\"row_heading level0 row30\" >User_Agent_'Mozilla/5.0 (Windows NT 10.0; Win64; x64; rv:84.0) Gecko/20100101 Firefox/84.0'</th>\n",
       "      <td id=\"T_0b514_row30_col0\" class=\"data row30 col0\" >0.108555</td>\n",
       "      <td id=\"T_0b514_row30_col1\" class=\"data row30 col1\" >0.095569</td>\n",
       "      <td id=\"T_0b514_row30_col2\" class=\"data row30 col2\" >-0.212951</td>\n",
       "      <td id=\"T_0b514_row30_col3\" class=\"data row30 col3\" >0.017413</td>\n",
       "      <td id=\"T_0b514_row30_col4\" class=\"data row30 col4\" >-0.047965</td>\n",
       "      <td id=\"T_0b514_row30_col5\" class=\"data row30 col5\" >0.017606</td>\n",
       "      <td id=\"T_0b514_row30_col6\" class=\"data row30 col6\" >0.033968</td>\n",
       "      <td id=\"T_0b514_row30_col7\" class=\"data row30 col7\" >0.000502</td>\n",
       "      <td id=\"T_0b514_row30_col8\" class=\"data row30 col8\" >0.053734</td>\n",
       "      <td id=\"T_0b514_row30_col9\" class=\"data row30 col9\" >0.049356</td>\n",
       "      <td id=\"T_0b514_row30_col10\" class=\"data row30 col10\" >-0.035594</td>\n",
       "      <td id=\"T_0b514_row30_col11\" class=\"data row30 col11\" >-0.031124</td>\n",
       "      <td id=\"T_0b514_row30_col12\" class=\"data row30 col12\" >-0.031955</td>\n",
       "      <td id=\"T_0b514_row30_col13\" class=\"data row30 col13\" >0.000280</td>\n",
       "      <td id=\"T_0b514_row30_col14\" class=\"data row30 col14\" >0.001032</td>\n",
       "      <td id=\"T_0b514_row30_col15\" class=\"data row30 col15\" >0.012448</td>\n",
       "      <td id=\"T_0b514_row30_col16\" class=\"data row30 col16\" >0.003303</td>\n",
       "      <td id=\"T_0b514_row30_col17\" class=\"data row30 col17\" >0.005424</td>\n",
       "      <td id=\"T_0b514_row30_col18\" class=\"data row30 col18\" >-0.010763</td>\n",
       "      <td id=\"T_0b514_row30_col19\" class=\"data row30 col19\" >-0.008176</td>\n",
       "      <td id=\"T_0b514_row30_col20\" class=\"data row30 col20\" >-0.001628</td>\n",
       "      <td id=\"T_0b514_row30_col21\" class=\"data row30 col21\" >0.001628</td>\n",
       "      <td id=\"T_0b514_row30_col22\" class=\"data row30 col22\" >-0.078889</td>\n",
       "      <td id=\"T_0b514_row30_col23\" class=\"data row30 col23\" >-0.122226</td>\n",
       "      <td id=\"T_0b514_row30_col24\" class=\"data row30 col24\" >-0.107589</td>\n",
       "      <td id=\"T_0b514_row30_col25\" class=\"data row30 col25\" >-0.102955</td>\n",
       "      <td id=\"T_0b514_row30_col26\" class=\"data row30 col26\" >-0.094408</td>\n",
       "      <td id=\"T_0b514_row30_col27\" class=\"data row30 col27\" >-0.092677</td>\n",
       "      <td id=\"T_0b514_row30_col28\" class=\"data row30 col28\" >-0.120562</td>\n",
       "      <td id=\"T_0b514_row30_col29\" class=\"data row30 col29\" >-0.110192</td>\n",
       "      <td id=\"T_0b514_row30_col30\" class=\"data row30 col30\" >1.000000</td>\n",
       "      <td id=\"T_0b514_row30_col31\" class=\"data row30 col31\" >-0.126131</td>\n",
       "    </tr>\n",
       "    <tr>\n",
       "      <th id=\"T_0b514_level0_row31\" class=\"row_heading level0 row31\" >User_Agent_'Mozilla/5.0 (iPhone; CPU iPhone OS 12_4_9 like Mac OS X) AppleWebKit/605.1.15 (KHTML, like Gecko) Version/12.1.2 Mobile/15E148 Safari/604.1'</th>\n",
       "      <td id=\"T_0b514_row31_col0\" class=\"data row31 col0\" >-0.157272</td>\n",
       "      <td id=\"T_0b514_row31_col1\" class=\"data row31 col1\" >0.049068</td>\n",
       "      <td id=\"T_0b514_row31_col2\" class=\"data row31 col2\" >0.125999</td>\n",
       "      <td id=\"T_0b514_row31_col3\" class=\"data row31 col3\" >-0.035268</td>\n",
       "      <td id=\"T_0b514_row31_col4\" class=\"data row31 col4\" >0.017367</td>\n",
       "      <td id=\"T_0b514_row31_col5\" class=\"data row31 col5\" >-0.015292</td>\n",
       "      <td id=\"T_0b514_row31_col6\" class=\"data row31 col6\" >-0.014683</td>\n",
       "      <td id=\"T_0b514_row31_col7\" class=\"data row31 col7\" >0.015338</td>\n",
       "      <td id=\"T_0b514_row31_col8\" class=\"data row31 col8\" >-0.027707</td>\n",
       "      <td id=\"T_0b514_row31_col9\" class=\"data row31 col9\" >-0.037605</td>\n",
       "      <td id=\"T_0b514_row31_col10\" class=\"data row31 col10\" >0.008569</td>\n",
       "      <td id=\"T_0b514_row31_col11\" class=\"data row31 col11\" >0.039419</td>\n",
       "      <td id=\"T_0b514_row31_col12\" class=\"data row31 col12\" >0.010989</td>\n",
       "      <td id=\"T_0b514_row31_col13\" class=\"data row31 col13\" >-0.001281</td>\n",
       "      <td id=\"T_0b514_row31_col14\" class=\"data row31 col14\" >-0.008539</td>\n",
       "      <td id=\"T_0b514_row31_col15\" class=\"data row31 col15\" >-0.017512</td>\n",
       "      <td id=\"T_0b514_row31_col16\" class=\"data row31 col16\" >-0.011802</td>\n",
       "      <td id=\"T_0b514_row31_col17\" class=\"data row31 col17\" >-0.001222</td>\n",
       "      <td id=\"T_0b514_row31_col18\" class=\"data row31 col18\" >0.021858</td>\n",
       "      <td id=\"T_0b514_row31_col19\" class=\"data row31 col19\" >0.014346</td>\n",
       "      <td id=\"T_0b514_row31_col20\" class=\"data row31 col20\" >0.001725</td>\n",
       "      <td id=\"T_0b514_row31_col21\" class=\"data row31 col21\" >-0.001725</td>\n",
       "      <td id=\"T_0b514_row31_col22\" class=\"data row31 col22\" >-0.097831</td>\n",
       "      <td id=\"T_0b514_row31_col23\" class=\"data row31 col23\" >-0.151574</td>\n",
       "      <td id=\"T_0b514_row31_col24\" class=\"data row31 col24\" >-0.133423</td>\n",
       "      <td id=\"T_0b514_row31_col25\" class=\"data row31 col25\" >-0.127676</td>\n",
       "      <td id=\"T_0b514_row31_col26\" class=\"data row31 col26\" >-0.117076</td>\n",
       "      <td id=\"T_0b514_row31_col27\" class=\"data row31 col27\" >-0.114929</td>\n",
       "      <td id=\"T_0b514_row31_col28\" class=\"data row31 col28\" >-0.149511</td>\n",
       "      <td id=\"T_0b514_row31_col29\" class=\"data row31 col29\" >-0.136651</td>\n",
       "      <td id=\"T_0b514_row31_col30\" class=\"data row31 col30\" >-0.126131</td>\n",
       "      <td id=\"T_0b514_row31_col31\" class=\"data row31 col31\" >1.000000</td>\n",
       "    </tr>\n",
       "  </tbody>\n",
       "</table>\n"
      ],
      "text/plain": [
       "<pandas.io.formats.style.Styler at 0x19463332c10>"
      ]
     },
     "execution_count": 64,
     "metadata": {},
     "output_type": "execute_result"
    }
   ],
   "source": [
    "#contruct a PMCC matrix on the combined data\n",
    "corr_matrix = df_2.corr()\n",
    "corr_matrix.style.background_gradient(cmap='coolwarm')"
   ]
  },
  {
   "cell_type": "markdown",
   "id": "9cbf4540-ddd5-4016-b47c-23d063bc5798",
   "metadata": {},
   "source": [
    "# Random train, validation, test split"
   ]
  },
  {
   "cell_type": "code",
   "execution_count": 65,
   "id": "8ea9cc90-40de-489d-98a5-1b027cc8a9e3",
   "metadata": {
    "tags": []
   },
   "outputs": [],
   "source": [
    "from sklearn.model_selection import train_test_split"
   ]
  },
  {
   "cell_type": "code",
   "execution_count": 66,
   "id": "41b7db50-ff55-423e-9a23-cfd2f9de1767",
   "metadata": {
    "tags": []
   },
   "outputs": [
    {
     "data": {
      "text/plain": [
       "(100000, 32)"
      ]
     },
     "execution_count": 66,
     "metadata": {},
     "output_type": "execute_result"
    }
   ],
   "source": [
    "df_2.shape"
   ]
  },
  {
   "cell_type": "code",
   "execution_count": 67,
   "id": "5f227442-11a4-4419-a776-cc208a6d09cc",
   "metadata": {
    "tags": []
   },
   "outputs": [],
   "source": [
    "y = df_2[['username_george','username_john','username_paul','username_ringo']]"
   ]
  },
  {
   "cell_type": "code",
   "execution_count": 68,
   "id": "305ae0b1-449e-47a4-8238-5d9b29f2ba66",
   "metadata": {
    "tags": []
   },
   "outputs": [
    {
     "data": {
      "text/plain": [
       "(100000, 4)"
      ]
     },
     "execution_count": 68,
     "metadata": {},
     "output_type": "execute_result"
    }
   ],
   "source": [
    "y.shape"
   ]
  },
  {
   "cell_type": "code",
   "execution_count": 69,
   "id": "564ebe2a-a154-4679-999a-6e5794bc1d38",
   "metadata": {
    "tags": []
   },
   "outputs": [],
   "source": [
    "X = df_2.loc[:, ~df_2.columns.isin(['username_george','username_john','username_paul','username_ringo'])]"
   ]
  },
  {
   "cell_type": "code",
   "execution_count": 70,
   "id": "fbd19609-590d-4d6d-b34f-dcb48b4d6e30",
   "metadata": {
    "tags": []
   },
   "outputs": [
    {
     "data": {
      "text/plain": [
       "(100000, 28)"
      ]
     },
     "execution_count": 70,
     "metadata": {},
     "output_type": "execute_result"
    }
   ],
   "source": [
    "X.shape"
   ]
  },
  {
   "cell_type": "code",
   "execution_count": 71,
   "id": "84bd4d6d-3f35-49ec-968f-e7cfe8bf7f9a",
   "metadata": {
    "tags": []
   },
   "outputs": [],
   "source": [
    "X_training, X_test_1, y_training, y_test_1 = train_test_split(X, y, test_size=0.20, random_state=42)"
   ]
  },
  {
   "cell_type": "code",
   "execution_count": 72,
   "id": "bb8c945a-2971-4f2d-b5c8-5a42f69b1858",
   "metadata": {
    "tags": []
   },
   "outputs": [
    {
     "data": {
      "text/plain": [
       "((80000, 28), (80000, 4))"
      ]
     },
     "execution_count": 72,
     "metadata": {},
     "output_type": "execute_result"
    }
   ],
   "source": [
    "X_training.shape, y_training.shape"
   ]
  },
  {
   "cell_type": "code",
   "execution_count": 73,
   "id": "54fce00d-3c67-47a8-8dad-58e86ce3e426",
   "metadata": {
    "tags": []
   },
   "outputs": [],
   "source": [
    "X_test, X_validation, y_test, y_validation = train_test_split(X_test_1, y_test_1, test_size=0.50, random_state=42)"
   ]
  },
  {
   "cell_type": "code",
   "execution_count": 74,
   "id": "4e2798f5-fdb3-4116-ab8d-c2bc24f5ec85",
   "metadata": {
    "tags": []
   },
   "outputs": [
    {
     "data": {
      "text/plain": [
       "((10000, 28), (10000, 4))"
      ]
     },
     "execution_count": 74,
     "metadata": {},
     "output_type": "execute_result"
    }
   ],
   "source": [
    "X_validation.shape, y_validation.shape"
   ]
  },
  {
   "cell_type": "code",
   "execution_count": 75,
   "id": "f1c62572-52b8-4a1b-b8f4-6066a5f67ec2",
   "metadata": {
    "tags": []
   },
   "outputs": [
    {
     "data": {
      "text/plain": [
       "((10000, 28), (10000, 4))"
      ]
     },
     "execution_count": 75,
     "metadata": {},
     "output_type": "execute_result"
    }
   ],
   "source": [
    "X_test.shape, y_test.shape"
   ]
  },
  {
   "cell_type": "markdown",
   "id": "fb649837-c6c1-4d81-af95-c00deaff5d74",
   "metadata": {},
   "source": [
    "# Model - Keras sequential layer"
   ]
  },
  {
   "cell_type": "code",
   "execution_count": 76,
   "id": "c82b594a-ca59-41d4-9c2d-a8c2cd8cc7b5",
   "metadata": {},
   "outputs": [
    {
     "name": "stdout",
     "output_type": "stream",
     "text": [
      "WARNING:tensorflow:From C:\\Users\\vineetsivadasan\\anaconda3\\Lib\\site-packages\\keras\\src\\backend.py:873: The name tf.get_default_graph is deprecated. Please use tf.compat.v1.get_default_graph instead.\n",
      "\n"
     ]
    }
   ],
   "source": [
    "model = Sequential()\n",
    "\n",
    "model.add(Dense(64, activation='tanh', input_dim=28))\n",
    "model.add(Dropout(0.1))\n",
    "model.add(Dense(128, activation='relu', input_dim=28))\n",
    "model.add(Dropout(0.1))\n",
    "model.add(Dense(64, activation='relu'))\n",
    "model.add(Dropout(0.1))\n",
    "model.add(Dense(4, activation='softmax'))"
   ]
  },
  {
   "cell_type": "code",
   "execution_count": 77,
   "id": "2c7e742d-54c3-4538-bb38-2c183799d96a",
   "metadata": {},
   "outputs": [
    {
     "name": "stdout",
     "output_type": "stream",
     "text": [
      "WARNING:tensorflow:From C:\\Users\\vineetsivadasan\\anaconda3\\Lib\\site-packages\\keras\\src\\optimizers\\__init__.py:309: The name tf.train.Optimizer is deprecated. Please use tf.compat.v1.train.Optimizer instead.\n",
      "\n"
     ]
    }
   ],
   "source": [
    "# For a multi-class classification problem\n",
    "model.compile(optimizer='adam',\n",
    "              loss='categorical_crossentropy',\n",
    "              metrics=['accuracy'])\n"
   ]
  },
  {
   "cell_type": "code",
   "execution_count": 148,
   "id": "a6c59aab-49ed-497d-b7b4-b81cec7630bc",
   "metadata": {
    "tags": []
   },
   "outputs": [
    {
     "name": "stdout",
     "output_type": "stream",
     "text": [
      "Epoch 1/10\n",
      "2858/2858 [==============================] - 8s 3ms/step - loss: 0.9009 - accuracy: 0.6189\n",
      "Epoch 2/10\n",
      "2858/2858 [==============================] - 11s 4ms/step - loss: 0.9008 - accuracy: 0.6202\n",
      "Epoch 3/10\n",
      "2858/2858 [==============================] - 10s 4ms/step - loss: 0.9001 - accuracy: 0.6195\n",
      "Epoch 4/10\n",
      "2858/2858 [==============================] - 11s 4ms/step - loss: 0.9004 - accuracy: 0.6193\n",
      "Epoch 5/10\n",
      "2858/2858 [==============================] - 13s 4ms/step - loss: 0.9005 - accuracy: 0.6195\n",
      "Epoch 6/10\n",
      "2858/2858 [==============================] - 10s 4ms/step - loss: 0.8986 - accuracy: 0.6202\n",
      "Epoch 7/10\n",
      "2858/2858 [==============================] - 9s 3ms/step - loss: 0.8990 - accuracy: 0.6195\n",
      "Epoch 8/10\n",
      "2858/2858 [==============================] - 11s 4ms/step - loss: 0.8999 - accuracy: 0.6195\n",
      "Epoch 9/10\n",
      "2858/2858 [==============================] - 10s 4ms/step - loss: 0.8997 - accuracy: 0.6201\n",
      "Epoch 10/10\n",
      "2858/2858 [==============================] - 8s 3ms/step - loss: 0.8989 - accuracy: 0.6196\n"
     ]
    },
    {
     "data": {
      "text/plain": [
       "<keras.src.callbacks.History at 0x19475279e50>"
      ]
     },
     "execution_count": 148,
     "metadata": {},
     "output_type": "execute_result"
    }
   ],
   "source": [
    "# Train the model, iterating on the data in batches of 32 samples\n",
    "model.fit(X_training, y_training, epochs=10, batch_size=28)"
   ]
  },
  {
   "cell_type": "code",
   "execution_count": 149,
   "id": "be4112c4-4df8-412d-a5bb-2401de0d64d0",
   "metadata": {
    "tags": []
   },
   "outputs": [
    {
     "name": "stdout",
     "output_type": "stream",
     "text": [
      "2500/2500 [==============================] - 2s 774us/step\n"
     ]
    }
   ],
   "source": [
    "y_hat_training = model.predict(X_training)"
   ]
  },
  {
   "cell_type": "code",
   "execution_count": 150,
   "id": "03bd08a5-73fa-49f4-9b7b-6aa76415318b",
   "metadata": {
    "tags": []
   },
   "outputs": [
    {
     "data": {
      "text/plain": [
       "array([[0.2820312 , 0.11845221, 0.5967476 , 0.00276899],\n",
       "       [0.31918612, 0.625315  , 0.00185962, 0.05363929],\n",
       "       [0.22815281, 0.7170839 , 0.00152421, 0.05323913],\n",
       "       ...,\n",
       "       [0.42395267, 0.5089167 , 0.05890732, 0.00822328],\n",
       "       [0.25128618, 0.62184775, 0.08503632, 0.04182972],\n",
       "       [0.07776119, 0.20120196, 0.7085432 , 0.01249365]], dtype=float32)"
      ]
     },
     "execution_count": 150,
     "metadata": {},
     "output_type": "execute_result"
    }
   ],
   "source": [
    "y_hat_training"
   ]
  },
  {
   "cell_type": "code",
   "execution_count": 151,
   "id": "1f2471ef-cc8f-45b8-80e3-12cd2e560ac6",
   "metadata": {
    "tags": []
   },
   "outputs": [],
   "source": [
    "# round up the y predictions numpy array\n",
    "y_hat_training = np.round(y_hat_training)\n",
    "y_hat_training = y_hat_training.astype(int)"
   ]
  },
  {
   "cell_type": "code",
   "execution_count": 82,
   "id": "38890a05-64d8-4a37-aa0e-5c3c1f83cdd7",
   "metadata": {
    "tags": []
   },
   "outputs": [
    {
     "data": {
      "text/plain": [
       "array([[0, 0, 1, 0],\n",
       "       [0, 1, 0, 0],\n",
       "       [0, 1, 0, 0],\n",
       "       ...,\n",
       "       [0, 1, 0, 0],\n",
       "       [0, 1, 0, 0],\n",
       "       [0, 0, 1, 0]])"
      ]
     },
     "execution_count": 82,
     "metadata": {},
     "output_type": "execute_result"
    }
   ],
   "source": [
    "y_hat_training"
   ]
  },
  {
   "cell_type": "code",
   "execution_count": 83,
   "id": "bdee6c14-4d73-41bf-b6d6-e19aa28f0e98",
   "metadata": {
    "tags": []
   },
   "outputs": [
    {
     "data": {
      "text/html": [
       "<div>\n",
       "<style scoped>\n",
       "    .dataframe tbody tr th:only-of-type {\n",
       "        vertical-align: middle;\n",
       "    }\n",
       "\n",
       "    .dataframe tbody tr th {\n",
       "        vertical-align: top;\n",
       "    }\n",
       "\n",
       "    .dataframe thead th {\n",
       "        text-align: right;\n",
       "    }\n",
       "</style>\n",
       "<table border=\"1\" class=\"dataframe\">\n",
       "  <thead>\n",
       "    <tr style=\"text-align: right;\">\n",
       "      <th></th>\n",
       "      <th>username_george</th>\n",
       "      <th>username_john</th>\n",
       "      <th>username_paul</th>\n",
       "      <th>username_ringo</th>\n",
       "    </tr>\n",
       "  </thead>\n",
       "  <tbody>\n",
       "    <tr>\n",
       "      <th>75220</th>\n",
       "      <td>1</td>\n",
       "      <td>0</td>\n",
       "      <td>0</td>\n",
       "      <td>0</td>\n",
       "    </tr>\n",
       "    <tr>\n",
       "      <th>48955</th>\n",
       "      <td>1</td>\n",
       "      <td>0</td>\n",
       "      <td>0</td>\n",
       "      <td>0</td>\n",
       "    </tr>\n",
       "    <tr>\n",
       "      <th>44966</th>\n",
       "      <td>1</td>\n",
       "      <td>0</td>\n",
       "      <td>0</td>\n",
       "      <td>0</td>\n",
       "    </tr>\n",
       "    <tr>\n",
       "      <th>13568</th>\n",
       "      <td>0</td>\n",
       "      <td>1</td>\n",
       "      <td>0</td>\n",
       "      <td>0</td>\n",
       "    </tr>\n",
       "    <tr>\n",
       "      <th>92727</th>\n",
       "      <td>0</td>\n",
       "      <td>0</td>\n",
       "      <td>1</td>\n",
       "      <td>0</td>\n",
       "    </tr>\n",
       "    <tr>\n",
       "      <th>...</th>\n",
       "      <td>...</td>\n",
       "      <td>...</td>\n",
       "      <td>...</td>\n",
       "      <td>...</td>\n",
       "    </tr>\n",
       "    <tr>\n",
       "      <th>6265</th>\n",
       "      <td>0</td>\n",
       "      <td>0</td>\n",
       "      <td>1</td>\n",
       "      <td>0</td>\n",
       "    </tr>\n",
       "    <tr>\n",
       "      <th>54886</th>\n",
       "      <td>0</td>\n",
       "      <td>1</td>\n",
       "      <td>0</td>\n",
       "      <td>0</td>\n",
       "    </tr>\n",
       "    <tr>\n",
       "      <th>76820</th>\n",
       "      <td>0</td>\n",
       "      <td>1</td>\n",
       "      <td>0</td>\n",
       "      <td>0</td>\n",
       "    </tr>\n",
       "    <tr>\n",
       "      <th>860</th>\n",
       "      <td>0</td>\n",
       "      <td>1</td>\n",
       "      <td>0</td>\n",
       "      <td>0</td>\n",
       "    </tr>\n",
       "    <tr>\n",
       "      <th>15795</th>\n",
       "      <td>0</td>\n",
       "      <td>1</td>\n",
       "      <td>0</td>\n",
       "      <td>0</td>\n",
       "    </tr>\n",
       "  </tbody>\n",
       "</table>\n",
       "<p>80000 rows × 4 columns</p>\n",
       "</div>"
      ],
      "text/plain": [
       "       username_george  username_john  username_paul  username_ringo\n",
       "75220                1              0              0               0\n",
       "48955                1              0              0               0\n",
       "44966                1              0              0               0\n",
       "13568                0              1              0               0\n",
       "92727                0              0              1               0\n",
       "...                ...            ...            ...             ...\n",
       "6265                 0              0              1               0\n",
       "54886                0              1              0               0\n",
       "76820                0              1              0               0\n",
       "860                  0              1              0               0\n",
       "15795                0              1              0               0\n",
       "\n",
       "[80000 rows x 4 columns]"
      ]
     },
     "execution_count": 83,
     "metadata": {},
     "output_type": "execute_result"
    }
   ],
   "source": [
    "y_training"
   ]
  },
  {
   "cell_type": "code",
   "execution_count": 84,
   "id": "5991b8b9-761a-4072-9924-a95419c2bb19",
   "metadata": {
    "tags": []
   },
   "outputs": [],
   "source": [
    "# Turn the one hot encoded columns for y_hat_training into a single label encoded column\n",
    "y_hat_training_label = np.argmax(y_hat_training, axis=1)"
   ]
  },
  {
   "cell_type": "code",
   "execution_count": 85,
   "id": "d9be5d70-08db-4db2-a338-8270e033971e",
   "metadata": {
    "tags": []
   },
   "outputs": [
    {
     "data": {
      "text/plain": [
       "array([2, 1, 1, ..., 1, 1, 2], dtype=int64)"
      ]
     },
     "execution_count": 85,
     "metadata": {},
     "output_type": "execute_result"
    }
   ],
   "source": [
    "y_hat_training_label"
   ]
  },
  {
   "cell_type": "code",
   "execution_count": 86,
   "id": "076555b8-c7d6-48a4-b6da-d4e09ca8ccef",
   "metadata": {
    "tags": []
   },
   "outputs": [],
   "source": [
    "# Turn the one hot encoded columns for y_training into a single label encoded column\n",
    "y_training_label = np.argmax(y_training, axis=1)"
   ]
  },
  {
   "cell_type": "code",
   "execution_count": 87,
   "id": "9a60432a-1fca-4607-a0f1-057f8314504a",
   "metadata": {
    "tags": []
   },
   "outputs": [
    {
     "data": {
      "text/plain": [
       "array([0, 0, 0, ..., 1, 1, 1], dtype=int64)"
      ]
     },
     "execution_count": 87,
     "metadata": {},
     "output_type": "execute_result"
    }
   ],
   "source": [
    "y_training_label"
   ]
  },
  {
   "cell_type": "code",
   "execution_count": 88,
   "id": "ae3a74e6-6e47-4a63-af9e-e4c4ec7bc32b",
   "metadata": {},
   "outputs": [],
   "source": [
    "def accuracy(y,y_hat):\n",
    "  return np.mean(y==y_hat)"
   ]
  },
  {
   "cell_type": "code",
   "execution_count": 89,
   "id": "cb266189-defb-4cea-9629-bed9c8b84532",
   "metadata": {
    "tags": []
   },
   "outputs": [
    {
     "data": {
      "text/plain": [
       "0.81385"
      ]
     },
     "execution_count": 89,
     "metadata": {},
     "output_type": "execute_result"
    }
   ],
   "source": [
    "accuracy(y_training, y_hat_training)"
   ]
  },
  {
   "cell_type": "code",
   "execution_count": null,
   "id": "5ab94fc7-6649-4ec8-a4ee-e55f626fc604",
   "metadata": {},
   "outputs": [],
   "source": []
  },
  {
   "cell_type": "code",
   "execution_count": null,
   "id": "d4028ace-f27a-4bbb-9b23-8104ee30e3bc",
   "metadata": {},
   "outputs": [],
   "source": []
  },
  {
   "cell_type": "code",
   "execution_count": null,
   "id": "c42856f1-46a5-4926-bca3-9903e0f7be33",
   "metadata": {},
   "outputs": [],
   "source": []
  },
  {
   "cell_type": "code",
   "execution_count": null,
   "id": "2e6d792f-09c6-4623-93bd-879a4e3effbd",
   "metadata": {},
   "outputs": [],
   "source": []
  },
  {
   "cell_type": "code",
   "execution_count": null,
   "id": "6b1387d0-fee5-44d5-8d5f-254943da43e8",
   "metadata": {},
   "outputs": [],
   "source": []
  },
  {
   "cell_type": "code",
   "execution_count": null,
   "id": "09acac2e-4f87-4f05-b29b-33b5105782fa",
   "metadata": {},
   "outputs": [],
   "source": []
  },
  {
   "cell_type": "markdown",
   "id": "3b51644c-e102-406d-8236-9b9b6cc9e4f6",
   "metadata": {
    "tags": []
   },
   "source": [
    "# Save model"
   ]
  },
  {
   "cell_type": "code",
   "execution_count": 90,
   "id": "07d5f0b6-96a5-4750-9125-22a193b9fbae",
   "metadata": {
    "tags": []
   },
   "outputs": [],
   "source": [
    "keras_pickle = open(\"keras_tanh_relu_relu_softmax_adam_opt_0.1do_class_drop_scikit_split\", 'wb')\n",
    "pickle.dump(model, keras_pickle)"
   ]
  },
  {
   "cell_type": "code",
   "execution_count": 91,
   "id": "1c7972ac-ea6b-49ab-ad6a-c0f5ce41eb39",
   "metadata": {
    "tags": []
   },
   "outputs": [],
   "source": [
    "keras_pickle.close()"
   ]
  },
  {
   "cell_type": "code",
   "execution_count": null,
   "id": "e77d9b93-dba2-4a27-a4c9-35f343e29bdb",
   "metadata": {},
   "outputs": [],
   "source": []
  },
  {
   "cell_type": "markdown",
   "id": "8912d1cf-c918-4de4-8303-57f61f79e249",
   "metadata": {},
   "source": [
    "# Load saved model"
   ]
  },
  {
   "cell_type": "code",
   "execution_count": 92,
   "id": "415ba459-b4f8-4e64-b9fb-e23e1ed797ed",
   "metadata": {
    "tags": []
   },
   "outputs": [],
   "source": [
    "#load the softmax model\n",
    "keras_from_pickle = pickle.load(open('keras_tanh_relu_relu_softmax_adam_opt_0.1do_class_drop_scikit_split', 'rb'))"
   ]
  },
  {
   "cell_type": "code",
   "execution_count": 93,
   "id": "bade54f1-0c2c-4399-8c90-7c9216a20647",
   "metadata": {
    "tags": []
   },
   "outputs": [
    {
     "name": "stdout",
     "output_type": "stream",
     "text": [
      "2500/2500 [==============================] - 10s 4ms/step\n"
     ]
    }
   ],
   "source": [
    "# Use the saved model to predict y values with the training set X\n",
    "y_hat_training = keras_from_pickle.predict(X_training)"
   ]
  },
  {
   "cell_type": "code",
   "execution_count": 94,
   "id": "2d8f1235-71dc-43b9-bf7a-69878c9c8061",
   "metadata": {
    "tags": []
   },
   "outputs": [
    {
     "data": {
      "text/plain": [
       "array([[1.1062765e-01, 7.4344009e-02, 8.1455195e-01, 4.7639452e-04],\n",
       "       [3.2391274e-01, 6.1630839e-01, 2.5675008e-03, 5.7211332e-02],\n",
       "       [2.1491186e-01, 7.3848683e-01, 1.2519666e-03, 4.5349330e-02],\n",
       "       ...,\n",
       "       [3.7791163e-01, 5.5363500e-01, 4.4775549e-02, 2.3677794e-02],\n",
       "       [2.7216187e-01, 5.9204513e-01, 1.0475746e-01, 3.1035500e-02],\n",
       "       [6.2309671e-02, 1.3781624e-01, 7.9645485e-01, 3.4193567e-03]],\n",
       "      dtype=float32)"
      ]
     },
     "execution_count": 94,
     "metadata": {},
     "output_type": "execute_result"
    }
   ],
   "source": [
    "y_hat_training"
   ]
  },
  {
   "cell_type": "code",
   "execution_count": 95,
   "id": "8f911832-be4a-4bd6-ad2a-58315f01e0da",
   "metadata": {
    "tags": []
   },
   "outputs": [],
   "source": [
    "y_hat_training = np.round(y_hat_training)\n",
    "y_hat_training = y_hat_training.astype(int)"
   ]
  },
  {
   "cell_type": "code",
   "execution_count": 96,
   "id": "013fe8b8-b34e-43b9-b49f-f20cd18cfd12",
   "metadata": {
    "tags": []
   },
   "outputs": [
    {
     "data": {
      "text/plain": [
       "(80000, 4)"
      ]
     },
     "execution_count": 96,
     "metadata": {},
     "output_type": "execute_result"
    }
   ],
   "source": [
    "y_hat_training.shape"
   ]
  },
  {
   "cell_type": "code",
   "execution_count": 97,
   "id": "14dcf33f-b6d8-4aea-afee-af01dc008af9",
   "metadata": {
    "tags": []
   },
   "outputs": [
    {
     "data": {
      "text/plain": [
       "(80000, 4)"
      ]
     },
     "execution_count": 97,
     "metadata": {},
     "output_type": "execute_result"
    }
   ],
   "source": [
    "y_training.shape"
   ]
  },
  {
   "cell_type": "code",
   "execution_count": 98,
   "id": "18e37330-2938-4495-a9bd-007160853cca",
   "metadata": {
    "tags": []
   },
   "outputs": [],
   "source": [
    "y_hat_training_label = np.argmax(y_hat_training, axis=1)"
   ]
  },
  {
   "cell_type": "code",
   "execution_count": 99,
   "id": "47b32fb6-91d0-4b5f-98fa-2b5898e9137d",
   "metadata": {
    "tags": []
   },
   "outputs": [],
   "source": [
    "y_training_label = np.argmax(y_training, axis=1)"
   ]
  },
  {
   "cell_type": "code",
   "execution_count": 100,
   "id": "759eca65-965a-40d0-8428-5be8300f5ade",
   "metadata": {
    "tags": []
   },
   "outputs": [],
   "source": [
    "# Construct a confusion matrix for the training set\n",
    "cm = confusion_matrix(y_training_label, y_hat_training_label)"
   ]
  },
  {
   "cell_type": "code",
   "execution_count": 101,
   "id": "63148224-9b6b-44dc-8e31-1cbcb8057d97",
   "metadata": {
    "tags": []
   },
   "outputs": [],
   "source": [
    "cm_df = pd.DataFrame(cm, \n",
    "                     index = ['george','john','paul','ringo'],\n",
    "                     columns = ['george','john','paul','ringo'])"
   ]
  },
  {
   "cell_type": "code",
   "execution_count": 102,
   "id": "51fc2371-92db-4e7a-8e1a-a1b5f14fe946",
   "metadata": {
    "tags": []
   },
   "outputs": [
    {
     "data": {
      "image/png": "[encoded data removed]",
      "text/plain": [
       "<Figure size 500x400 with 2 Axes>"
      ]
     },
     "metadata": {},
     "output_type": "display_data"
    }
   ],
   "source": [
    "plt.figure(figsize=(5,4))\n",
    "sns.heatmap(cm_df, annot=True)\n",
    "plt.title('Training Confusion Matrix')\n",
    "plt.ylabel('Actual username')\n",
    "plt.xlabel('Predicted username')\n",
    "plt.show()"
   ]
  },
  {
   "cell_type": "code",
   "execution_count": 103,
   "id": "8ac4e25b-6cda-4fa6-957e-e9f9779b9d96",
   "metadata": {
    "tags": []
   },
   "outputs": [],
   "source": [
    "def calculate_metrics(confusion_matrix):\n",
    "    num_classes = len(confusion_matrix)\n",
    "    \n",
    "    tp = np.diag(confusion_matrix)\n",
    "    fp = np.sum(confusion_matrix, axis=0) - tp\n",
    "    fn = np.sum(confusion_matrix, axis=1) - tp\n",
    "    tn = np.sum(confusion_matrix) - (tp + fp + fn)\n",
    "    \n",
    "    precision = tp/(tp+fp)\n",
    "    recall = tp/(tp+fn)    #also known as sensitivity or true positive rate\n",
    "    specificity = tn/(tn+fp)\n",
    "    accuracy = (tp+tn)/(tp+tn+fp+fn)\n",
    "    f1 = (2*precision*recall)/(precision+recall)\n",
    "    false_positive_rate = fp/(fp+tn)\n",
    "    \n",
    "    precision_george = precision[0]\n",
    "    precision_john = precision[1]\n",
    "    precision_paul = precision[2]\n",
    "    precision_ringo = precision[3]\n",
    "    average_precision = (precision_george + precision_john + precision_paul + precision_ringo)/4\n",
    "    \n",
    "    recall_george = recall[0]\n",
    "    recall_john = recall[1]\n",
    "    recall_paul = recall[2]\n",
    "    recall_ringo = recall[3]\n",
    "    average_recall = (recall_george + recall_john + recall_paul + recall_ringo)/4\n",
    "    \n",
    "    accuracy_george = accuracy[0]\n",
    "    accuracy_john = accuracy[1]\n",
    "    accuracy_paul = accuracy[2]\n",
    "    accuracy_ringo = accuracy[3]\n",
    "    average_accuracy = (accuracy_george + accuracy_john + accuracy_paul + accuracy_ringo)/4\n",
    "    \n",
    "    f1_george = f1[0]\n",
    "    f1_john = f1[1]\n",
    "    f1_paul = f1[2]\n",
    "    f1_ringo = f1[3]\n",
    "    average_f1 = (f1_george + f1_john + f1_paul + f1_ringo)/4\n",
    "    \n",
    "    df = pd.DataFrame({\"precision\":[precision_george,precision_john,precision_paul,precision_ringo], \\\n",
    "                       \"recall\":[recall_george,recall_john,recall_paul,recall_ringo], \\\n",
    "                       \"accuracy\":[accuracy_george,accuracy_john,accuracy_paul,accuracy_ringo], \\\n",
    "                       \"f1\":[f1_george,f1_john,f1_paul,f1_ringo]\n",
    "                      }, index=['george','john','paul','ringo'])\n",
    "    \n",
    "    df_2 = pd.DataFrame({\"precision\":[average_precision], \\\n",
    "                       \"recall\":[average_recall], \\\n",
    "                       \"accuracy\":[average_accuracy], \\\n",
    "                       \"f1\":[average_f1]  \n",
    "                      }, index=['model average overall'])\n",
    "\n",
    "    return tp, fp, fn, tn, df, df_2"
   ]
  },
  {
   "cell_type": "code",
   "execution_count": 104,
   "id": "ab20e005-3f38-4213-9307-80e7115d9bde",
   "metadata": {
    "tags": []
   },
   "outputs": [],
   "source": [
    "tp, fp, fn, tn, conf_df, conf_df_2 =calculate_metrics(cm)"
   ]
  },
  {
   "cell_type": "code",
   "execution_count": 105,
   "id": "2bdd95f1-34cc-49f8-bb40-395d9af258d0",
   "metadata": {
    "tags": []
   },
   "outputs": [
    {
     "data": {
      "text/plain": [
       "<Axes: >"
      ]
     },
     "execution_count": 105,
     "metadata": {},
     "output_type": "execute_result"
    },
    {
     "data": {
      "image/png": "[encoded data removed]",
      "text/plain": [
       "<Figure size 640x480 with 2 Axes>"
      ]
     },
     "metadata": {},
     "output_type": "display_data"
    }
   ],
   "source": [
    "sns.heatmap(conf_df, annot=True)"
   ]
  },
  {
   "cell_type": "code",
   "execution_count": 106,
   "id": "ef286c5c-fcc6-428c-b846-5fd1a3c30486",
   "metadata": {
    "tags": []
   },
   "outputs": [
    {
     "data": {
      "text/html": [
       "<div>\n",
       "<style scoped>\n",
       "    .dataframe tbody tr th:only-of-type {\n",
       "        vertical-align: middle;\n",
       "    }\n",
       "\n",
       "    .dataframe tbody tr th {\n",
       "        vertical-align: top;\n",
       "    }\n",
       "\n",
       "    .dataframe thead th {\n",
       "        text-align: right;\n",
       "    }\n",
       "</style>\n",
       "<table border=\"1\" class=\"dataframe\">\n",
       "  <thead>\n",
       "    <tr style=\"text-align: right;\">\n",
       "      <th></th>\n",
       "      <th>precision</th>\n",
       "      <th>recall</th>\n",
       "      <th>accuracy</th>\n",
       "      <th>f1</th>\n",
       "    </tr>\n",
       "  </thead>\n",
       "  <tbody>\n",
       "    <tr>\n",
       "      <th>model average overall</th>\n",
       "      <td>0.601682</td>\n",
       "      <td>0.483075</td>\n",
       "      <td>0.800344</td>\n",
       "      <td>0.472151</td>\n",
       "    </tr>\n",
       "  </tbody>\n",
       "</table>\n",
       "</div>"
      ],
      "text/plain": [
       "                       precision    recall  accuracy        f1\n",
       "model average overall   0.601682  0.483075  0.800344  0.472151"
      ]
     },
     "execution_count": 106,
     "metadata": {},
     "output_type": "execute_result"
    }
   ],
   "source": [
    "conf_df_2"
   ]
  },
  {
   "cell_type": "markdown",
   "id": "520cc9b2-e251-4920-a545-33da303b6f3b",
   "metadata": {},
   "source": [
    "### Validation set"
   ]
  },
  {
   "cell_type": "code",
   "execution_count": 135,
   "id": "ea45892e-278a-4edd-b29c-3499b632c538",
   "metadata": {
    "tags": []
   },
   "outputs": [
    {
     "name": "stdout",
     "output_type": "stream",
     "text": [
      "313/313 [==============================] - 0s 926us/step\n"
     ]
    }
   ],
   "source": [
    "y_hat_validation = keras_from_pickle.predict(X_validation)"
   ]
  },
  {
   "cell_type": "code",
   "execution_count": 136,
   "id": "a9a202ab-7b4f-48ac-9ad7-c6d3b6a8d77d",
   "metadata": {
    "tags": []
   },
   "outputs": [],
   "source": [
    "y_hat_validation = np.round(y_hat_validation)\n",
    "y_hat_validation = y_hat_validation.astype(int)"
   ]
  },
  {
   "cell_type": "code",
   "execution_count": 137,
   "id": "d8821c19-37d6-4862-9e35-fd7b6fe09c70",
   "metadata": {
    "tags": []
   },
   "outputs": [
    {
     "data": {
      "text/plain": [
       "(10000, 4)"
      ]
     },
     "execution_count": 137,
     "metadata": {},
     "output_type": "execute_result"
    }
   ],
   "source": [
    "y_hat_validation.shape"
   ]
  },
  {
   "cell_type": "code",
   "execution_count": 138,
   "id": "b618ca4c-cd3a-4b56-9079-ee311c96dcd8",
   "metadata": {
    "tags": []
   },
   "outputs": [
    {
     "data": {
      "text/plain": [
       "(10000, 4)"
      ]
     },
     "execution_count": 138,
     "metadata": {},
     "output_type": "execute_result"
    }
   ],
   "source": [
    "y_validation.shape"
   ]
  },
  {
   "cell_type": "code",
   "execution_count": 139,
   "id": "7a7e7b0b-ceda-418d-b0f8-078d455bf31d",
   "metadata": {
    "tags": []
   },
   "outputs": [],
   "source": [
    "y_hat_validation_label = np.argmax(y_hat_validation, axis=1)"
   ]
  },
  {
   "cell_type": "code",
   "execution_count": 140,
   "id": "7e29b487-3971-4cc9-ae48-15e749592911",
   "metadata": {
    "tags": []
   },
   "outputs": [],
   "source": [
    "y_validation_label = np.argmax(y_validation, axis=1)"
   ]
  },
  {
   "cell_type": "code",
   "execution_count": 141,
   "id": "57431046-6f09-4d24-9b37-e5fb76164e68",
   "metadata": {
    "tags": []
   },
   "outputs": [],
   "source": [
    "# Construct a confusion matrix for the training set\n",
    "cm_val = confusion_matrix(y_validation_label, y_hat_validation_label)"
   ]
  },
  {
   "cell_type": "code",
   "execution_count": 142,
   "id": "500b26fd-26f4-4b99-a363-050a78e13185",
   "metadata": {
    "tags": []
   },
   "outputs": [],
   "source": [
    "cm_val_df = pd.DataFrame(cm_val, \n",
    "                     index = ['george','john','paul','ringo'],\n",
    "                     columns = ['george','john','paul','ringo'])"
   ]
  },
  {
   "cell_type": "code",
   "execution_count": 143,
   "id": "8607cf60-4667-454e-bc2e-45832f323f44",
   "metadata": {
    "tags": []
   },
   "outputs": [
    {
     "data": {
      "image/png": "[encoded data removed]",
      "text/plain": [
       "<Figure size 500x400 with 2 Axes>"
      ]
     },
     "metadata": {},
     "output_type": "display_data"
    }
   ],
   "source": [
    "plt.figure(figsize=(5,4))\n",
    "sns.heatmap(cm_val_df, annot=True)\n",
    "plt.title('Validation Confusion Matrix')\n",
    "plt.ylabel('Actual username')\n",
    "plt.xlabel('Predicted username')\n",
    "plt.show()"
   ]
  },
  {
   "cell_type": "code",
   "execution_count": 144,
   "id": "e2751432-2a1a-4c99-928d-78eb9e875735",
   "metadata": {},
   "outputs": [],
   "source": [
    "tp_val, fp_val, fn_val, tn_val, conf_df_val, conf_df_val_2 =calculate_metrics(cm_val)"
   ]
  },
  {
   "cell_type": "code",
   "execution_count": 145,
   "id": "66613a2f-ef6c-45c8-bd25-3649c5572a76",
   "metadata": {
    "tags": []
   },
   "outputs": [
    {
     "data": {
      "text/plain": [
       "<Axes: >"
      ]
     },
     "execution_count": 145,
     "metadata": {},
     "output_type": "execute_result"
    },
    {
     "data": {
      "image/png": "[encoded data removed]",
      "text/plain": [
       "<Figure size 640x480 with 2 Axes>"
      ]
     },
     "metadata": {},
     "output_type": "display_data"
    }
   ],
   "source": [
    "sns.heatmap(conf_df_val, annot=True)"
   ]
  },
  {
   "cell_type": "code",
   "execution_count": 146,
   "id": "773609d5-c4a5-4afb-a81d-7a967df2b38e",
   "metadata": {
    "tags": []
   },
   "outputs": [
    {
     "data": {
      "text/html": [
       "<div>\n",
       "<style scoped>\n",
       "    .dataframe tbody tr th:only-of-type {\n",
       "        vertical-align: middle;\n",
       "    }\n",
       "\n",
       "    .dataframe tbody tr th {\n",
       "        vertical-align: top;\n",
       "    }\n",
       "\n",
       "    .dataframe thead th {\n",
       "        text-align: right;\n",
       "    }\n",
       "</style>\n",
       "<table border=\"1\" class=\"dataframe\">\n",
       "  <thead>\n",
       "    <tr style=\"text-align: right;\">\n",
       "      <th></th>\n",
       "      <th>precision</th>\n",
       "      <th>recall</th>\n",
       "      <th>accuracy</th>\n",
       "      <th>f1</th>\n",
       "    </tr>\n",
       "  </thead>\n",
       "  <tbody>\n",
       "    <tr>\n",
       "      <th>model average overall</th>\n",
       "      <td>0.602121</td>\n",
       "      <td>0.478995</td>\n",
       "      <td>0.8003</td>\n",
       "      <td>0.469184</td>\n",
       "    </tr>\n",
       "  </tbody>\n",
       "</table>\n",
       "</div>"
      ],
      "text/plain": [
       "                       precision    recall  accuracy        f1\n",
       "model average overall   0.602121  0.478995    0.8003  0.469184"
      ]
     },
     "execution_count": 146,
     "metadata": {},
     "output_type": "execute_result"
    }
   ],
   "source": [
    "conf_df_val_2"
   ]
  },
  {
   "cell_type": "markdown",
   "id": "6acd0407-7cb6-4409-a108-0b822a2d6f2b",
   "metadata": {},
   "source": [
    "### Test set"
   ]
  },
  {
   "cell_type": "markdown",
   "id": "d1524b35-87b6-495e-8172-983187793bf3",
   "metadata": {
    "tags": []
   },
   "source": [
    "### Evaluate model"
   ]
  },
  {
   "cell_type": "code",
   "execution_count": 132,
   "id": "1d717cac-b314-42b6-b56c-f8daf66aaf95",
   "metadata": {
    "tags": []
   },
   "outputs": [
    {
     "name": "stdout",
     "output_type": "stream",
     "text": [
      "358/358 [==============================] - 0s 893us/step - loss: 0.9184 - accuracy: 0.6091\n"
     ]
    }
   ],
   "source": [
    "results = model.evaluate(X_test, y_test, batch_size=28)"
   ]
  },
  {
   "cell_type": "code",
   "execution_count": 133,
   "id": "fc36b5fa-40be-4e9c-85c1-3bd58f7d7c8b",
   "metadata": {
    "tags": []
   },
   "outputs": [
    {
     "name": "stdout",
     "output_type": "stream",
     "text": [
      "test loss, test acc: [0.9184097647666931, 0.6090999841690063]\n"
     ]
    }
   ],
   "source": [
    "print(\"test loss, test acc:\", results)"
   ]
  },
  {
   "cell_type": "code",
   "execution_count": 119,
   "id": "ee24f940-eb61-40e0-b63e-b95166e83fd6",
   "metadata": {
    "tags": []
   },
   "outputs": [
    {
     "name": "stdout",
     "output_type": "stream",
     "text": [
      "313/313 [==============================] - 0s 1ms/step\n"
     ]
    }
   ],
   "source": [
    "y_hat_test = keras_from_pickle.predict(X_test)"
   ]
  },
  {
   "cell_type": "code",
   "execution_count": 120,
   "id": "80fb82cd-6094-465a-852c-a2f180b93ce0",
   "metadata": {
    "tags": []
   },
   "outputs": [],
   "source": [
    "y_hat_test = np.round(y_hat_test)\n",
    "y_hat_test = y_hat_test.astype(int)"
   ]
  },
  {
   "cell_type": "code",
   "execution_count": 121,
   "id": "74d8ed34-51b1-429b-8854-1ef5cf64eda3",
   "metadata": {
    "tags": []
   },
   "outputs": [
    {
     "data": {
      "text/plain": [
       "(10000, 4)"
      ]
     },
     "execution_count": 121,
     "metadata": {},
     "output_type": "execute_result"
    }
   ],
   "source": [
    "y_hat_test.shape"
   ]
  },
  {
   "cell_type": "code",
   "execution_count": 122,
   "id": "e96ef425-6294-4a4f-8434-4d52b0c7c850",
   "metadata": {
    "tags": []
   },
   "outputs": [
    {
     "data": {
      "text/plain": [
       "(10000, 4)"
      ]
     },
     "execution_count": 122,
     "metadata": {},
     "output_type": "execute_result"
    }
   ],
   "source": [
    "y_test.shape"
   ]
  },
  {
   "cell_type": "code",
   "execution_count": 123,
   "id": "f02d2aed-e34d-4dcd-bd8b-9300cbfe0ee1",
   "metadata": {
    "tags": []
   },
   "outputs": [],
   "source": [
    "y_hat_test_label = np.argmax(y_hat_test, axis=1)"
   ]
  },
  {
   "cell_type": "code",
   "execution_count": 124,
   "id": "1590f9fa-0d23-4c93-a8cb-f4b47089825d",
   "metadata": {
    "tags": []
   },
   "outputs": [],
   "source": [
    "y_test_label = np.argmax(y_test, axis=1)"
   ]
  },
  {
   "cell_type": "code",
   "execution_count": 125,
   "id": "6beaea5b-3f5d-498e-ad19-414556c9cb40",
   "metadata": {
    "tags": []
   },
   "outputs": [],
   "source": [
    "# Construct a confusion matrix for the training set\n",
    "cm_test = confusion_matrix(y_test_label, y_hat_test_label)"
   ]
  },
  {
   "cell_type": "code",
   "execution_count": 126,
   "id": "5900b8bf-2ce1-4ae3-b6be-b15ec8e3e07b",
   "metadata": {
    "tags": []
   },
   "outputs": [],
   "source": [
    "cm_test_df = pd.DataFrame(cm_test, \n",
    "                     index = ['george','john','paul','ringo'],\n",
    "                     columns = ['george','john','paul','ringo'])"
   ]
  },
  {
   "cell_type": "code",
   "execution_count": 127,
   "id": "de44a7c7-829c-45ac-83f0-dcb118e6ecab",
   "metadata": {
    "tags": []
   },
   "outputs": [
    {
     "data": {
      "image/png": "[encoded data removed]",
      "text/plain": [
       "<Figure size 500x400 with 2 Axes>"
      ]
     },
     "metadata": {},
     "output_type": "display_data"
    }
   ],
   "source": [
    "plt.figure(figsize=(5,4))\n",
    "sns.heatmap(cm_test_df, annot=True)\n",
    "plt.title('Test Confusion Matrix')\n",
    "plt.ylabel('Actual username')\n",
    "plt.xlabel('Predicted username')\n",
    "plt.show()"
   ]
  },
  {
   "cell_type": "code",
   "execution_count": 128,
   "id": "a7d16193-fb7f-4efa-a2c9-02b339d429ae",
   "metadata": {
    "tags": []
   },
   "outputs": [],
   "source": [
    "tp_test, fp_test, fn_test, tn_test, conf_df_test, conf_df_test_2 =calculate_metrics(cm_test)"
   ]
  },
  {
   "cell_type": "code",
   "execution_count": 129,
   "id": "2c13a9cf-a277-403c-888d-b7fe6ac4b62b",
   "metadata": {
    "tags": []
   },
   "outputs": [
    {
     "data": {
      "text/plain": [
       "<Axes: >"
      ]
     },
     "execution_count": 129,
     "metadata": {},
     "output_type": "execute_result"
    },
    {
     "data": {
      "image/png": "[encoded data removed]",
      "text/plain": [
       "<Figure size 640x480 with 2 Axes>"
      ]
     },
     "metadata": {},
     "output_type": "display_data"
    }
   ],
   "source": [
    "sns.heatmap(conf_df_test, annot=True)"
   ]
  },
  {
   "cell_type": "code",
   "execution_count": 130,
   "id": "c620cce0-f09d-4f61-8eea-24ef3a6f35c8",
   "metadata": {},
   "outputs": [
    {
     "data": {
      "text/html": [
       "<div>\n",
       "<style scoped>\n",
       "    .dataframe tbody tr th:only-of-type {\n",
       "        vertical-align: middle;\n",
       "    }\n",
       "\n",
       "    .dataframe tbody tr th {\n",
       "        vertical-align: top;\n",
       "    }\n",
       "\n",
       "    .dataframe thead th {\n",
       "        text-align: right;\n",
       "    }\n",
       "</style>\n",
       "<table border=\"1\" class=\"dataframe\">\n",
       "  <thead>\n",
       "    <tr style=\"text-align: right;\">\n",
       "      <th></th>\n",
       "      <th>precision</th>\n",
       "      <th>recall</th>\n",
       "      <th>accuracy</th>\n",
       "      <th>f1</th>\n",
       "    </tr>\n",
       "  </thead>\n",
       "  <tbody>\n",
       "    <tr>\n",
       "      <th>model average overall</th>\n",
       "      <td>0.560669</td>\n",
       "      <td>0.47156</td>\n",
       "      <td>0.7946</td>\n",
       "      <td>0.459682</td>\n",
       "    </tr>\n",
       "  </tbody>\n",
       "</table>\n",
       "</div>"
      ],
      "text/plain": [
       "                       precision   recall  accuracy        f1\n",
       "model average overall   0.560669  0.47156    0.7946  0.459682"
      ]
     },
     "execution_count": 130,
     "metadata": {},
     "output_type": "execute_result"
    }
   ],
   "source": [
    "conf_df_test_2"
   ]
  },
  {
   "cell_type": "code",
   "execution_count": null,
   "id": "7f5e1f09-9e2d-4c9c-b122-95aa9a7414fc",
   "metadata": {},
   "outputs": [],
   "source": []
  },
  {
   "cell_type": "code",
   "execution_count": null,
   "id": "9a48249c-a3ad-4010-b6f0-580bf309a105",
   "metadata": {},
   "outputs": [],
   "source": []
  }
 ],
 "metadata": {
  "kernelspec": {
   "display_name": "Python 3 (ipykernel)",
   "language": "python",
   "name": "python3"
  },
  "language_info": {
   "codemirror_mode": {
    "name": "ipython",
    "version": 3
   },
   "file_extension": ".py",
   "mimetype": "text/x-python",
   "name": "python",
   "nbconvert_exporter": "python",
   "pygments_lexer": "ipython3",
   "version": "3.11.5"
  }
 },
 "nbformat": 4,
 "nbformat_minor": 5
}
