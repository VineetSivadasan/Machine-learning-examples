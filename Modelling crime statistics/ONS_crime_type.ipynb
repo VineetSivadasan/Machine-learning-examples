{
 "cells": [
  {
   "cell_type": "code",
   "execution_count": 1,
   "metadata": {
    "executionInfo": {
     "elapsed": 1359,
     "status": "ok",
     "timestamp": 1628865744703,
     "user": {
      "displayName": "Vineet Sivadasan",
      "photoUrl": "",
      "userId": "02154436300300776030"
     },
     "user_tz": -60
    },
    "id": "3taa-AqYtDlF"
   },
   "outputs": [],
   "source": [
    "import numpy as np\n",
    "import pandas as pd\n",
    "import matplotlib.pyplot as plt\n",
    "import seaborn as sns"
   ]
  },
  {
   "cell_type": "markdown",
   "metadata": {
    "id": "_u96cJSgsGsR"
   },
   "source": [
    "# function to split dataset into training and validation datasets"
   ]
  },
  {
   "cell_type": "code",
   "execution_count": 2,
   "metadata": {
    "executionInfo": {
     "elapsed": 466,
     "status": "ok",
     "timestamp": 1628865981669,
     "user": {
      "displayName": "Vineet Sivadasan",
      "photoUrl": "",
      "userId": "02154436300300776030"
     },
     "user_tz": -60
    },
    "id": "VQT44ZDgr1uV"
   },
   "outputs": [],
   "source": [
    "# constructing training and validation sets\n",
    "def data_train_validate(df, training_set_percent=0.8, validation_set_percent=0.2, seed=None):\n",
    "  np.random.seed(seed)  #set a random seed number such that the same index sampled here is repeated \n",
    "  length = len(df.index)  #size of index of dataset\n",
    "  training_set_end = int(training_set_percent * length)  #size of the training set\n",
    "  training = df.iloc[:training_set_end] #select first 80% of rows as training set\n",
    "  validation = df.iloc[training_set_end:] #select remaining 20% of rows as validation set\n",
    "  return training, validation"
   ]
  },
  {
   "cell_type": "code",
   "execution_count": 3,
   "metadata": {
    "colab": {
     "base_uri": "https://localhost:8080/"
    },
    "executionInfo": {
     "elapsed": 7,
     "status": "ok",
     "timestamp": 1628865816763,
     "user": {
      "displayName": "Vineet Sivadasan",
      "photoUrl": "",
      "userId": "02154436300300776030"
     },
     "user_tz": -60
    },
    "id": "r6OGMSr0q3w4",
    "outputId": "6659179b-b1a6-4e47-95bc-62817017e629"
   },
   "outputs": [],
   "source": [
    "from statsmodels.tsa.seasonal import seasonal_decompose"
   ]
  },
  {
   "cell_type": "code",
   "execution_count": 4,
   "metadata": {
    "executionInfo": {
     "elapsed": 6,
     "status": "ok",
     "timestamp": 1628865816764,
     "user": {
      "displayName": "Vineet Sivadasan",
      "photoUrl": "",
      "userId": "02154436300300776030"
     },
     "user_tz": -60
    },
    "id": "gVjE9uBArUBV"
   },
   "outputs": [],
   "source": [
    "def log_trans(df,ts): return df[ts].apply(lambda x:np.log(x))"
   ]
  },
  {
   "cell_type": "code",
   "execution_count": 5,
   "metadata": {
    "executionInfo": {
     "elapsed": 467,
     "status": "ok",
     "timestamp": 1628865817225,
     "user": {
      "displayName": "Vineet Sivadasan",
      "photoUrl": "",
      "userId": "02154436300300776030"
     },
     "user_tz": -60
    },
    "id": "iKBFbAhEAIFg"
   },
   "outputs": [],
   "source": [
    "def plot_decomposition(df,ts,trend,seasonal,residual):\n",
    "  f, ((ax1,ax2),(ax3,ax4))=plt.subplots(2,2, figsize=(15,5), sharex=True)\n",
    " \n",
    "  ax1.plot(df[ts],label=\"Original\")\n",
    "  ax1.legend(loc ='best')\n",
    "  ax1.tick_params(axis ='x', rotation=45)\n",
    " \n",
    "  ax2.plot(df[trend],label=\"Trend\")\n",
    "  ax2.legend(loc ='best')\n",
    "  ax2.tick_params(axis='x', rotation=45)\n",
    " \n",
    "  ax3.plot(df[seasonal],label=\"Seasonal\")\n",
    "  ax3.legend(loc ='best')\n",
    "  ax3.tick_params(axis='x', rotation=45)\n",
    " \n",
    "  ax4.plot(df[residual],label=\"Residuals\")\n",
    "  ax4.legend(loc = 'best')\n",
    "  ax4.tick_params(axis='x', rotation=45)\n",
    "  plt.tight_layout()\n",
    " \n",
    "  plt.xlabel(\"date\")\n",
    "  plt.xticks(np.arange(0, 125, step=25))\n",
    "  plt.ylabel(\"total sales\")\n",
    " \n",
    "  plt.show()"
   ]
  },
  {
   "cell_type": "code",
   "execution_count": 6,
   "metadata": {
    "executionInfo": {
     "elapsed": 6,
     "status": "ok",
     "timestamp": 1628865817226,
     "user": {
      "displayName": "Vineet Sivadasan",
      "photoUrl": "",
      "userId": "02154436300300776030"
     },
     "user_tz": -60
    },
    "id": "KUUP7fLrYPB2"
   },
   "outputs": [],
   "source": [
    "from statsmodels.tsa.stattools import adfuller"
   ]
  },
  {
   "cell_type": "code",
   "execution_count": 7,
   "metadata": {
    "executionInfo": {
     "elapsed": 5,
     "status": "ok",
     "timestamp": 1628865817226,
     "user": {
      "displayName": "Vineet Sivadasan",
      "photoUrl": "",
      "userId": "02154436300300776030"
     },
     "user_tz": -60
    },
    "id": "PI6P3oHXYXN0"
   },
   "outputs": [],
   "source": [
    "def test_stationary(df, ts):\n",
    "  #determine Rolling Statistics\n",
    "  rolmean = df[ts].rolling(window=12, center = False).mean()\n",
    "  rolstd = df[ts].rolling(window=12, center = False).std()\n",
    " \n",
    "  orig = plt.plot(df[ts],color='blue',label='Original')\n",
    "  mean = plt.plot(rolmean,color='red', label='Rolling Mean')\n",
    "  std = plt.plot(rolstd, color='black', label='Rolling StD')\n",
    " \n",
    "  plt.legend(loc='best')\n",
    "  plt.title('Rolling Mean and Standard Deviation for %s' %(ts))\n",
    "  plt.xticks(rotation =45)\n",
    "  plt.xlabel(\"date\")\n",
    "  plt.xticks(np.arange(0, 125, step=25))\n",
    "  plt.ylabel(\"total sales\")\n",
    "  plt.show(block =False)\n",
    "  plt.close\n",
    " \n",
    "  #Dickey-Fuller test: Null Hypothesis (H_0): time series is not stationary\n",
    "  #Alternate Hypothesis(H_1): time series is stationary \n",
    " \n",
    " \n",
    "  print('Results:')\n",
    "  dftest = adfuller(df[ts],autolag='AIC')\n",
    "  dfoutput = pd.Series(dftest[0:4], index =['Test Statistic','p-value','# Lags Used','Number of Observations'])\n",
    " \n",
    "  for key, value in dftest[4].items():\n",
    "    dfoutput['Critical value(%s)' %key]= value\n",
    " \n",
    "  print(dfoutput)"
   ]
  },
  {
   "cell_type": "code",
   "execution_count": 8,
   "metadata": {
    "executionInfo": {
     "elapsed": 5,
     "status": "ok",
     "timestamp": 1628865817227,
     "user": {
      "displayName": "Vineet Sivadasan",
      "photoUrl": "",
      "userId": "02154436300300776030"
     },
     "user_tz": -60
    },
    "id": "9g48nogqjBLw"
   },
   "outputs": [],
   "source": [
    "from statsmodels.tsa.arima_model import ARIMA"
   ]
  },
  {
   "cell_type": "code",
   "execution_count": 9,
   "metadata": {
    "executionInfo": {
     "elapsed": 6,
     "status": "ok",
     "timestamp": 1628865817228,
     "user": {
      "displayName": "Vineet Sivadasan",
      "photoUrl": "",
      "userId": "02154436300300776030"
     },
     "user_tz": -60
    },
    "id": "i6KUBfaPjGoG"
   },
   "outputs": [],
   "source": [
    "def run_Arima(df,ts,p, d, q):\n",
    "  model=ARIMA(df[ts], order=(p,d,q))\n",
    "  results_arima=model.fit(disp=-1)\n",
    "  #print(results_arima.summary())\n",
    " \n",
    "  len_results=len(results_arima.fittedvalues)\n",
    "  ts_modified=df[ts][-len_results:]\n",
    " \n",
    "  rss = sum((results_arima.fittedvalues-ts_modified)**2)\n",
    "  rmse=np.sqrt(rss/len(df[ts]))\n",
    "  print('rmse:',rmse)\n",
    "  plt.figure()\n",
    "  plt.plot(df[ts])\n",
    "  plt.xlabel(\"date\")\n",
    "  plt.xticks(np.arange(0, 125, step=25))\n",
    "  plt.ylabel(\"total sales\")\n",
    "  plt.plot(results_arima.fittedvalues, color='red')\n",
    " \n",
    "  plt.show()\n",
    " \n",
    "  return results_arima"
   ]
  },
  {
   "cell_type": "code",
   "execution_count": 10,
   "metadata": {
    "executionInfo": {
     "elapsed": 4114,
     "status": "ok",
     "timestamp": 1628865822227,
     "user": {
      "displayName": "Vineet Sivadasan",
      "photoUrl": "",
      "userId": "02154436300300776030"
     },
     "user_tz": -60
    },
    "id": "8_f-6vJjWj1U"
   },
   "outputs": [],
   "source": [
    "# import all three datasets and turn them into pandas dataframes \n",
    "df_crime = pd.read_csv('https://drive.google.com/uc?id=1PTyNbDuxrg6zsz-w5AiopqmeU-ERPZuK')\n",
    "ind = len(df_crime.index) #ind is the number of rows in the dataframe"
   ]
  },
  {
   "cell_type": "code",
   "execution_count": 11,
   "metadata": {
    "executionInfo": {
     "elapsed": 11,
     "status": "ok",
     "timestamp": 1628865822232,
     "user": {
      "displayName": "Vineet Sivadasan",
      "photoUrl": "",
      "userId": "02154436300300776030"
     },
     "user_tz": -60
    },
    "id": "Vp9ldBtbE5xf"
   },
   "outputs": [],
   "source": [
    "#introduce a count of 1 for each crime \n",
    "df_crime['count'] = 1"
   ]
  },
  {
   "cell_type": "code",
   "execution_count": 12,
   "metadata": {
    "colab": {
     "base_uri": "https://localhost:8080/",
     "height": 1000
    },
    "executionInfo": {
     "elapsed": 11,
     "status": "ok",
     "timestamp": 1628865822233,
     "user": {
      "displayName": "Vineet Sivadasan",
      "photoUrl": "",
      "userId": "02154436300300776030"
     },
     "user_tz": -60
    },
    "id": "6iihtry3MM3F",
    "outputId": "8ee4dddd-eaf8-4590-97c8-d50b4b4f6f94"
   },
   "outputs": [
    {
     "data": {
      "text/html": [
       "<div>\n",
       "<style scoped>\n",
       "    .dataframe tbody tr th:only-of-type {\n",
       "        vertical-align: middle;\n",
       "    }\n",
       "\n",
       "    .dataframe tbody tr th {\n",
       "        vertical-align: top;\n",
       "    }\n",
       "\n",
       "    .dataframe thead th {\n",
       "        text-align: right;\n",
       "    }\n",
       "</style>\n",
       "<table border=\"1\" class=\"dataframe\">\n",
       "  <thead>\n",
       "    <tr style=\"text-align: right;\">\n",
       "      <th></th>\n",
       "      <th>Category</th>\n",
       "      <th>Street ID</th>\n",
       "      <th>Street Name</th>\n",
       "      <th>Context</th>\n",
       "      <th>Outcome Category</th>\n",
       "      <th>Outcome Date</th>\n",
       "      <th>Service</th>\n",
       "      <th>Location Subtype</th>\n",
       "      <th>ID</th>\n",
       "      <th>Persistent ID</th>\n",
       "      <th>...</th>\n",
       "      <th>Ward Code</th>\n",
       "      <th>Ward Name</th>\n",
       "      <th>Easting</th>\n",
       "      <th>Northing</th>\n",
       "      <th>Longitude</th>\n",
       "      <th>Latitude</th>\n",
       "      <th>Spatial Accuracy</th>\n",
       "      <th>Last Uploaded</th>\n",
       "      <th>Location</th>\n",
       "      <th>count</th>\n",
       "    </tr>\n",
       "  </thead>\n",
       "  <tbody>\n",
       "    <tr>\n",
       "      <th>0</th>\n",
       "      <td>Other theft</td>\n",
       "      <td>1489515</td>\n",
       "      <td>Kings Cross (station)</td>\n",
       "      <td>NaN</td>\n",
       "      <td>Status update unavailable</td>\n",
       "      <td>08/01/2017 12:00:00 AM</td>\n",
       "      <td>British Transport Police</td>\n",
       "      <td>Station</td>\n",
       "      <td>64777250</td>\n",
       "      <td>NaN</td>\n",
       "      <td>...</td>\n",
       "      <td>E05000143</td>\n",
       "      <td>St Pancras and Somers Town</td>\n",
       "      <td>530277.37</td>\n",
       "      <td>183101.39</td>\n",
       "      <td>-0.123189</td>\n",
       "      <td>51.531800</td>\n",
       "      <td>This is only an approximation of where the cri...</td>\n",
       "      <td>11/07/2018</td>\n",
       "      <td>(51.5318, -0.123189)</td>\n",
       "      <td>1</td>\n",
       "    </tr>\n",
       "    <tr>\n",
       "      <th>1</th>\n",
       "      <td>Anti-social behaviour</td>\n",
       "      <td>960522</td>\n",
       "      <td>On or near Wellesley Place</td>\n",
       "      <td>NaN</td>\n",
       "      <td>NaN</td>\n",
       "      <td>NaN</td>\n",
       "      <td>Police Force</td>\n",
       "      <td>NaN</td>\n",
       "      <td>51520755</td>\n",
       "      <td>NaN</td>\n",
       "      <td>...</td>\n",
       "      <td>E05000143</td>\n",
       "      <td>St Pancras and Somers Town</td>\n",
       "      <td>529707.23</td>\n",
       "      <td>182682.77</td>\n",
       "      <td>-0.131558</td>\n",
       "      <td>51.528169</td>\n",
       "      <td>This is only an approximation of where the cri...</td>\n",
       "      <td>11/07/2018</td>\n",
       "      <td>(51.528169, -0.131558)</td>\n",
       "      <td>1</td>\n",
       "    </tr>\n",
       "    <tr>\n",
       "      <th>2</th>\n",
       "      <td>Theft from the person</td>\n",
       "      <td>965233</td>\n",
       "      <td>On or near Avenue Road</td>\n",
       "      <td>NaN</td>\n",
       "      <td>Investigation complete; no suspect identified</td>\n",
       "      <td>08/01/2015 12:00:00 AM</td>\n",
       "      <td>Police Force</td>\n",
       "      <td>NaN</td>\n",
       "      <td>42356413</td>\n",
       "      <td>915131bf174019fd2fcf5aa4af305f7b2b34a763d8fcb0...</td>\n",
       "      <td>...</td>\n",
       "      <td>E05000144</td>\n",
       "      <td>Swiss Cottage</td>\n",
       "      <td>526716.88</td>\n",
       "      <td>184227.86</td>\n",
       "      <td>-0.174124</td>\n",
       "      <td>51.542741</td>\n",
       "      <td>This is only an approximation of where the cri...</td>\n",
       "      <td>05/05/2016</td>\n",
       "      <td>(51.542741, -0.174124)</td>\n",
       "      <td>1</td>\n",
       "    </tr>\n",
       "    <tr>\n",
       "      <th>3</th>\n",
       "      <td>Anti-social behaviour</td>\n",
       "      <td>960974</td>\n",
       "      <td>On or near Birkenhead Street</td>\n",
       "      <td>NaN</td>\n",
       "      <td>NaN</td>\n",
       "      <td>NaN</td>\n",
       "      <td>Police Force</td>\n",
       "      <td>NaN</td>\n",
       "      <td>59431385</td>\n",
       "      <td>NaN</td>\n",
       "      <td>...</td>\n",
       "      <td>E05000141</td>\n",
       "      <td>King's Cross</td>\n",
       "      <td>530390.22</td>\n",
       "      <td>182860.71</td>\n",
       "      <td>-0.121652</td>\n",
       "      <td>51.529611</td>\n",
       "      <td>This is only an approximation of where the cri...</td>\n",
       "      <td>03/11/2017</td>\n",
       "      <td>(51.529611, -0.121652)</td>\n",
       "      <td>1</td>\n",
       "    </tr>\n",
       "    <tr>\n",
       "      <th>4</th>\n",
       "      <td>Drugs</td>\n",
       "      <td>972275</td>\n",
       "      <td>On or near Oakeshott Avenue</td>\n",
       "      <td>NaN</td>\n",
       "      <td>Offender given a drugs possession warning</td>\n",
       "      <td>06/01/2015 12:00:00 AM</td>\n",
       "      <td>Police Force</td>\n",
       "      <td>NaN</td>\n",
       "      <td>41931981</td>\n",
       "      <td>bd5bef6ee7b3711e69ecfc40c1c256d45336f23aeda337...</td>\n",
       "      <td>...</td>\n",
       "      <td>E05000137</td>\n",
       "      <td>Highgate</td>\n",
       "      <td>528335.87</td>\n",
       "      <td>186805.94</td>\n",
       "      <td>-0.149851</td>\n",
       "      <td>51.565544</td>\n",
       "      <td>This is only an approximation of where the cri...</td>\n",
       "      <td>21/08/2015</td>\n",
       "      <td>(51.565544, -0.149851)</td>\n",
       "      <td>1</td>\n",
       "    </tr>\n",
       "    <tr>\n",
       "      <th>...</th>\n",
       "      <td>...</td>\n",
       "      <td>...</td>\n",
       "      <td>...</td>\n",
       "      <td>...</td>\n",
       "      <td>...</td>\n",
       "      <td>...</td>\n",
       "      <td>...</td>\n",
       "      <td>...</td>\n",
       "      <td>...</td>\n",
       "      <td>...</td>\n",
       "      <td>...</td>\n",
       "      <td>...</td>\n",
       "      <td>...</td>\n",
       "      <td>...</td>\n",
       "      <td>...</td>\n",
       "      <td>...</td>\n",
       "      <td>...</td>\n",
       "      <td>...</td>\n",
       "      <td>...</td>\n",
       "      <td>...</td>\n",
       "      <td>...</td>\n",
       "    </tr>\n",
       "    <tr>\n",
       "      <th>285102</th>\n",
       "      <td>Theft from the person</td>\n",
       "      <td>960590</td>\n",
       "      <td>On or near Further/higher Educational Building</td>\n",
       "      <td>NaN</td>\n",
       "      <td>Investigation complete; no suspect identified</td>\n",
       "      <td>02/01/2021 12:00:00 AM</td>\n",
       "      <td>Police Force</td>\n",
       "      <td>NaN</td>\n",
       "      <td>89122019</td>\n",
       "      <td>4a3a5bf8ad595c876ffe511f324ac6747f73e919899936...</td>\n",
       "      <td>...</td>\n",
       "      <td>E05000129</td>\n",
       "      <td>Bloomsbury</td>\n",
       "      <td>529587.23</td>\n",
       "      <td>182301.71</td>\n",
       "      <td>-0.133427</td>\n",
       "      <td>51.524772</td>\n",
       "      <td>This is only an approximation of where the cri...</td>\n",
       "      <td>11/06/2021</td>\n",
       "      <td>(51.524772, -0.133427)</td>\n",
       "      <td>1</td>\n",
       "    </tr>\n",
       "    <tr>\n",
       "      <th>285103</th>\n",
       "      <td>Bicycle theft</td>\n",
       "      <td>965106</td>\n",
       "      <td>On or near Crogsland Road</td>\n",
       "      <td>NaN</td>\n",
       "      <td>Investigation complete; no suspect identified</td>\n",
       "      <td>07/01/2020 12:00:00 AM</td>\n",
       "      <td>Police Force</td>\n",
       "      <td>NaN</td>\n",
       "      <td>85535188</td>\n",
       "      <td>713fa4406dc2cc7d7a358a6850e83d26231b1c4f0d7cc4...</td>\n",
       "      <td>...</td>\n",
       "      <td>E05000136</td>\n",
       "      <td>Haverstock</td>\n",
       "      <td>528245.25</td>\n",
       "      <td>184505.68</td>\n",
       "      <td>-0.151958</td>\n",
       "      <td>51.544885</td>\n",
       "      <td>This is only an approximation of where the cri...</td>\n",
       "      <td>11/06/2021</td>\n",
       "      <td>(51.544885, -0.151958)</td>\n",
       "      <td>1</td>\n",
       "    </tr>\n",
       "    <tr>\n",
       "      <th>285104</th>\n",
       "      <td>Theft from the person</td>\n",
       "      <td>956623</td>\n",
       "      <td>On or near New Oxford Street</td>\n",
       "      <td>NaN</td>\n",
       "      <td>Investigation complete; no suspect identified</td>\n",
       "      <td>08/01/2020 12:00:00 AM</td>\n",
       "      <td>Police Force</td>\n",
       "      <td>NaN</td>\n",
       "      <td>86477977</td>\n",
       "      <td>69fbc9f7c0879fbd1b6a6e9da575080d20761a2e582671...</td>\n",
       "      <td>...</td>\n",
       "      <td>E05000129</td>\n",
       "      <td>Bloomsbury</td>\n",
       "      <td>529978.23</td>\n",
       "      <td>181417.72</td>\n",
       "      <td>-0.128120</td>\n",
       "      <td>51.516738</td>\n",
       "      <td>This is only an approximation of where the cri...</td>\n",
       "      <td>11/06/2021</td>\n",
       "      <td>(51.516738, -0.12812)</td>\n",
       "      <td>1</td>\n",
       "    </tr>\n",
       "    <tr>\n",
       "      <th>285105</th>\n",
       "      <td>Violence and sexual offences</td>\n",
       "      <td>1490576</td>\n",
       "      <td>Stockwell (lu Station)</td>\n",
       "      <td>NaN</td>\n",
       "      <td>Under investigation</td>\n",
       "      <td>04/01/2021 12:00:00 AM</td>\n",
       "      <td>British Transport Police</td>\n",
       "      <td>London Underground Station</td>\n",
       "      <td>92235600</td>\n",
       "      <td>NaN</td>\n",
       "      <td>...</td>\n",
       "      <td>E05000138</td>\n",
       "      <td>Holborn and Covent Garden</td>\n",
       "      <td>530354.22</td>\n",
       "      <td>181743.26</td>\n",
       "      <td>-0.122584</td>\n",
       "      <td>51.519577</td>\n",
       "      <td>This is only an approximation of where the cri...</td>\n",
       "      <td>11/06/2021</td>\n",
       "      <td>(51.519577, -0.122584)</td>\n",
       "      <td>1</td>\n",
       "    </tr>\n",
       "    <tr>\n",
       "      <th>285106</th>\n",
       "      <td>Anti-social behaviour</td>\n",
       "      <td>967753</td>\n",
       "      <td>On or near Holly Bush Vale</td>\n",
       "      <td>NaN</td>\n",
       "      <td>NaN</td>\n",
       "      <td>NaN</td>\n",
       "      <td>Police Force</td>\n",
       "      <td>NaN</td>\n",
       "      <td>91436630</td>\n",
       "      <td>NaN</td>\n",
       "      <td>...</td>\n",
       "      <td>E05000133</td>\n",
       "      <td>Frognal and Fitzjohns</td>\n",
       "      <td>526340.28</td>\n",
       "      <td>185750.68</td>\n",
       "      <td>-0.178968</td>\n",
       "      <td>51.556503</td>\n",
       "      <td>This is only an approximation of where the cri...</td>\n",
       "      <td>11/06/2021</td>\n",
       "      <td>(51.556503, -0.178968)</td>\n",
       "      <td>1</td>\n",
       "    </tr>\n",
       "  </tbody>\n",
       "</table>\n",
       "<p>285107 rows × 21 columns</p>\n",
       "</div>"
      ],
      "text/plain": [
       "                            Category  Street ID  \\\n",
       "0                        Other theft    1489515   \n",
       "1              Anti-social behaviour     960522   \n",
       "2              Theft from the person     965233   \n",
       "3              Anti-social behaviour     960974   \n",
       "4                              Drugs     972275   \n",
       "...                              ...        ...   \n",
       "285102         Theft from the person     960590   \n",
       "285103                 Bicycle theft     965106   \n",
       "285104         Theft from the person     956623   \n",
       "285105  Violence and sexual offences    1490576   \n",
       "285106         Anti-social behaviour     967753   \n",
       "\n",
       "                                           Street Name  Context  \\\n",
       "0                                Kings Cross (station)      NaN   \n",
       "1                           On or near Wellesley Place      NaN   \n",
       "2                               On or near Avenue Road      NaN   \n",
       "3                         On or near Birkenhead Street      NaN   \n",
       "4                          On or near Oakeshott Avenue      NaN   \n",
       "...                                                ...      ...   \n",
       "285102  On or near Further/higher Educational Building      NaN   \n",
       "285103                       On or near Crogsland Road      NaN   \n",
       "285104                    On or near New Oxford Street      NaN   \n",
       "285105                          Stockwell (lu Station)      NaN   \n",
       "285106                      On or near Holly Bush Vale      NaN   \n",
       "\n",
       "                                     Outcome Category            Outcome Date  \\\n",
       "0                           Status update unavailable  08/01/2017 12:00:00 AM   \n",
       "1                                                 NaN                     NaN   \n",
       "2       Investigation complete; no suspect identified  08/01/2015 12:00:00 AM   \n",
       "3                                                 NaN                     NaN   \n",
       "4           Offender given a drugs possession warning  06/01/2015 12:00:00 AM   \n",
       "...                                               ...                     ...   \n",
       "285102  Investigation complete; no suspect identified  02/01/2021 12:00:00 AM   \n",
       "285103  Investigation complete; no suspect identified  07/01/2020 12:00:00 AM   \n",
       "285104  Investigation complete; no suspect identified  08/01/2020 12:00:00 AM   \n",
       "285105                            Under investigation  04/01/2021 12:00:00 AM   \n",
       "285106                                            NaN                     NaN   \n",
       "\n",
       "                         Service            Location Subtype        ID  \\\n",
       "0       British Transport Police                     Station  64777250   \n",
       "1                   Police Force                         NaN  51520755   \n",
       "2                   Police Force                         NaN  42356413   \n",
       "3                   Police Force                         NaN  59431385   \n",
       "4                   Police Force                         NaN  41931981   \n",
       "...                          ...                         ...       ...   \n",
       "285102              Police Force                         NaN  89122019   \n",
       "285103              Police Force                         NaN  85535188   \n",
       "285104              Police Force                         NaN  86477977   \n",
       "285105  British Transport Police  London Underground Station  92235600   \n",
       "285106              Police Force                         NaN  91436630   \n",
       "\n",
       "                                            Persistent ID  ...  Ward Code  \\\n",
       "0                                                     NaN  ...  E05000143   \n",
       "1                                                     NaN  ...  E05000143   \n",
       "2       915131bf174019fd2fcf5aa4af305f7b2b34a763d8fcb0...  ...  E05000144   \n",
       "3                                                     NaN  ...  E05000141   \n",
       "4       bd5bef6ee7b3711e69ecfc40c1c256d45336f23aeda337...  ...  E05000137   \n",
       "...                                                   ...  ...        ...   \n",
       "285102  4a3a5bf8ad595c876ffe511f324ac6747f73e919899936...  ...  E05000129   \n",
       "285103  713fa4406dc2cc7d7a358a6850e83d26231b1c4f0d7cc4...  ...  E05000136   \n",
       "285104  69fbc9f7c0879fbd1b6a6e9da575080d20761a2e582671...  ...  E05000129   \n",
       "285105                                                NaN  ...  E05000138   \n",
       "285106                                                NaN  ...  E05000133   \n",
       "\n",
       "                         Ward Name    Easting   Northing  Longitude  \\\n",
       "0       St Pancras and Somers Town  530277.37  183101.39  -0.123189   \n",
       "1       St Pancras and Somers Town  529707.23  182682.77  -0.131558   \n",
       "2                    Swiss Cottage  526716.88  184227.86  -0.174124   \n",
       "3                     King's Cross  530390.22  182860.71  -0.121652   \n",
       "4                         Highgate  528335.87  186805.94  -0.149851   \n",
       "...                            ...        ...        ...        ...   \n",
       "285102                  Bloomsbury  529587.23  182301.71  -0.133427   \n",
       "285103                  Haverstock  528245.25  184505.68  -0.151958   \n",
       "285104                  Bloomsbury  529978.23  181417.72  -0.128120   \n",
       "285105   Holborn and Covent Garden  530354.22  181743.26  -0.122584   \n",
       "285106       Frognal and Fitzjohns  526340.28  185750.68  -0.178968   \n",
       "\n",
       "         Latitude                                   Spatial Accuracy  \\\n",
       "0       51.531800  This is only an approximation of where the cri...   \n",
       "1       51.528169  This is only an approximation of where the cri...   \n",
       "2       51.542741  This is only an approximation of where the cri...   \n",
       "3       51.529611  This is only an approximation of where the cri...   \n",
       "4       51.565544  This is only an approximation of where the cri...   \n",
       "...           ...                                                ...   \n",
       "285102  51.524772  This is only an approximation of where the cri...   \n",
       "285103  51.544885  This is only an approximation of where the cri...   \n",
       "285104  51.516738  This is only an approximation of where the cri...   \n",
       "285105  51.519577  This is only an approximation of where the cri...   \n",
       "285106  51.556503  This is only an approximation of where the cri...   \n",
       "\n",
       "       Last Uploaded                Location count  \n",
       "0         11/07/2018    (51.5318, -0.123189)     1  \n",
       "1         11/07/2018  (51.528169, -0.131558)     1  \n",
       "2         05/05/2016  (51.542741, -0.174124)     1  \n",
       "3         03/11/2017  (51.529611, -0.121652)     1  \n",
       "4         21/08/2015  (51.565544, -0.149851)     1  \n",
       "...              ...                     ...   ...  \n",
       "285102    11/06/2021  (51.524772, -0.133427)     1  \n",
       "285103    11/06/2021  (51.544885, -0.151958)     1  \n",
       "285104    11/06/2021   (51.516738, -0.12812)     1  \n",
       "285105    11/06/2021  (51.519577, -0.122584)     1  \n",
       "285106    11/06/2021  (51.556503, -0.178968)     1  \n",
       "\n",
       "[285107 rows x 21 columns]"
      ]
     },
     "execution_count": 12,
     "metadata": {},
     "output_type": "execute_result"
    }
   ],
   "source": [
    "df_crime"
   ]
  },
  {
   "cell_type": "markdown",
   "metadata": {
    "id": "NG7IUqLm0Hkb"
   },
   "source": [
    "# create separate dataframes for the different categories of crime"
   ]
  },
  {
   "cell_type": "code",
   "execution_count": 13,
   "metadata": {
    "executionInfo": {
     "elapsed": 463,
     "status": "ok",
     "timestamp": 1628867433514,
     "user": {
      "displayName": "Vineet Sivadasan",
      "photoUrl": "",
      "userId": "02154436300300776030"
     },
     "user_tz": -60
    },
    "id": "Up8ATLDLoZrZ"
   },
   "outputs": [],
   "source": [
    "df_other_theft = df_crime[df_crime.Category == 'Other theft']\n",
    "df_anti_social = df_crime[df_crime.Category == 'Anti-social behaviour']\n",
    "df_mugging     = df_crime[df_crime.Category == 'Theft from the person']\n",
    "df_drugs       = df_crime[df_crime.Category == 'Drugs']\n",
    "df_viol_sex    = df_crime[df_crime.Category == 'Violence and sexual offences']\n",
    "df_vehicle     = df_crime[df_crime.Category == 'Vehicle crime']\n",
    "df_weapons     = df_crime[df_crime.Category == 'Possession of weapons']\n",
    "df_burglary    = df_crime[df_crime.Category == 'Burglary']\n",
    "df_robbery     = df_crime[df_crime.Category == 'Robbery']\n",
    "df_pub_order   = df_crime[df_crime.Category == 'Public order']\n",
    "df_shoplifting = df_crime[df_crime.Category == 'Shoplifting']\n",
    "df_other_crime = df_crime[df_crime.Category == 'Other crime']\n",
    "df_arson       = df_crime[df_crime.Category == 'Criminal damage and arson']\n",
    "df_bike_theft  = df_crime[df_crime.Category == 'Bicycle theft']"
   ]
  },
  {
   "cell_type": "markdown",
   "metadata": {
    "id": "Duo1T3_7t1Ll"
   },
   "source": [
    "# Let's look at the numbers of crimes committed across London for each crime across the time span of the dataset "
   ]
  },
  {
   "cell_type": "code",
   "execution_count": 14,
   "metadata": {
    "colab": {
     "base_uri": "https://localhost:8080/",
     "height": 483
    },
    "executionInfo": {
     "elapsed": 210,
     "status": "ok",
     "timestamp": 1628867708659,
     "user": {
      "displayName": "Vineet Sivadasan",
      "photoUrl": "",
      "userId": "02154436300300776030"
     },
     "user_tz": -60
    },
    "id": "TA5k05fkwkEm",
    "outputId": "abc2087f-2b11-4e06-90f5-6417bb034f4f"
   },
   "outputs": [
    {
     "data": {
      "text/html": [
       "<div>\n",
       "<style scoped>\n",
       "    .dataframe tbody tr th:only-of-type {\n",
       "        vertical-align: middle;\n",
       "    }\n",
       "\n",
       "    .dataframe tbody tr th {\n",
       "        vertical-align: top;\n",
       "    }\n",
       "\n",
       "    .dataframe thead th {\n",
       "        text-align: right;\n",
       "    }\n",
       "</style>\n",
       "<table border=\"1\" class=\"dataframe\">\n",
       "  <thead>\n",
       "    <tr style=\"text-align: right;\">\n",
       "      <th></th>\n",
       "      <th>total no. of crimes</th>\n",
       "      <th>Category</th>\n",
       "    </tr>\n",
       "  </thead>\n",
       "  <tbody>\n",
       "    <tr>\n",
       "      <th>0</th>\n",
       "      <td>41672</td>\n",
       "      <td>Other theft</td>\n",
       "    </tr>\n",
       "    <tr>\n",
       "      <th>1</th>\n",
       "      <td>67292</td>\n",
       "      <td>Anti-social behaviour</td>\n",
       "    </tr>\n",
       "    <tr>\n",
       "      <th>2</th>\n",
       "      <td>29241</td>\n",
       "      <td>Theft from the person</td>\n",
       "    </tr>\n",
       "    <tr>\n",
       "      <th>3</th>\n",
       "      <td>9739</td>\n",
       "      <td>Drugs</td>\n",
       "    </tr>\n",
       "    <tr>\n",
       "      <th>4</th>\n",
       "      <td>44128</td>\n",
       "      <td>Violence and sexual offences</td>\n",
       "    </tr>\n",
       "    <tr>\n",
       "      <th>5</th>\n",
       "      <td>19038</td>\n",
       "      <td>Vehicle crime</td>\n",
       "    </tr>\n",
       "    <tr>\n",
       "      <th>6</th>\n",
       "      <td>1504</td>\n",
       "      <td>Possession of weapons</td>\n",
       "    </tr>\n",
       "    <tr>\n",
       "      <th>7</th>\n",
       "      <td>18006</td>\n",
       "      <td>Burglary</td>\n",
       "    </tr>\n",
       "    <tr>\n",
       "      <th>8</th>\n",
       "      <td>8943</td>\n",
       "      <td>Robbery</td>\n",
       "    </tr>\n",
       "    <tr>\n",
       "      <th>9</th>\n",
       "      <td>13250</td>\n",
       "      <td>Public order</td>\n",
       "    </tr>\n",
       "    <tr>\n",
       "      <th>10</th>\n",
       "      <td>11812</td>\n",
       "      <td>Shoplifting</td>\n",
       "    </tr>\n",
       "    <tr>\n",
       "      <th>11</th>\n",
       "      <td>1757</td>\n",
       "      <td>Other crime</td>\n",
       "    </tr>\n",
       "    <tr>\n",
       "      <th>12</th>\n",
       "      <td>10846</td>\n",
       "      <td>Criminal damage and arson</td>\n",
       "    </tr>\n",
       "    <tr>\n",
       "      <th>13</th>\n",
       "      <td>7879</td>\n",
       "      <td>Bicycle theft</td>\n",
       "    </tr>\n",
       "  </tbody>\n",
       "</table>\n",
       "</div>"
      ],
      "text/plain": [
       "    total no. of crimes                      Category\n",
       "0                 41672                   Other theft\n",
       "1                 67292         Anti-social behaviour\n",
       "2                 29241         Theft from the person\n",
       "3                  9739                         Drugs\n",
       "4                 44128  Violence and sexual offences\n",
       "5                 19038                 Vehicle crime\n",
       "6                  1504         Possession of weapons\n",
       "7                 18006                      Burglary\n",
       "8                  8943                       Robbery\n",
       "9                 13250                  Public order\n",
       "10                11812                   Shoplifting\n",
       "11                 1757                   Other crime\n",
       "12                10846     Criminal damage and arson\n",
       "13                 7879                 Bicycle theft"
      ]
     },
     "execution_count": 14,
     "metadata": {},
     "output_type": "execute_result"
    }
   ],
   "source": [
    "crimes = np.array([len(df_other_theft), len(df_anti_social), len(df_mugging), len(df_drugs), len(df_viol_sex), len(df_vehicle),\n",
    "                   len(df_weapons), len(df_burglary), len(df_robbery), len(df_pub_order), len(df_shoplifting), len(df_other_crime),\n",
    "                   len(df_arson), len(df_bike_theft)])\n",
    "crimes_ind_DF = pd.DataFrame(crimes)\n",
    "crimes_ind_DF['Category'] = ['Other theft', 'Anti-social behaviour', 'Theft from the person',\n",
    "        'Drugs', 'Violence and sexual offences', 'Vehicle crime',\n",
    "        'Possession of weapons', 'Burglary', 'Robbery', 'Public order',\n",
    "        'Shoplifting', 'Other crime', 'Criminal damage and arson',\n",
    "        'Bicycle theft']\n",
    " \n",
    "crimes_ind_DF = crimes_ind_DF.rename(columns={0:'total no. of crimes'})\n",
    "crimes_ind_DF"
   ]
  },
  {
   "cell_type": "code",
   "execution_count": 15,
   "metadata": {
    "colab": {
     "base_uri": "https://localhost:8080/",
     "height": 434
    },
    "executionInfo": {
     "elapsed": 585,
     "status": "ok",
     "timestamp": 1628867709494,
     "user": {
      "displayName": "Vineet Sivadasan",
      "photoUrl": "",
      "userId": "02154436300300776030"
     },
     "user_tz": -60
    },
    "id": "FfR7lMXr-P27",
    "outputId": "b0991563-f8a0-43ba-f49c-2d7ad4b0fe21"
   },
   "outputs": [
    {
     "data": {
      "text/plain": [
       "Text(0, 0.5, 'total no. of crimes')"
      ]
     },
     "execution_count": 15,
     "metadata": {},
     "output_type": "execute_result"
    },
    {
     "data": {
      "image/png": "[encoded data removed]",
      "text/plain": [
       "<Figure size 432x288 with 1 Axes>"
      ]
     },
     "metadata": {
      "needs_background": "light"
     },
     "output_type": "display_data"
    }
   ],
   "source": [
    "#plot types of crime for the full time period agianst frequency\n",
    "plt.bar(crimes_ind_DF['Category'], crimes_ind_DF['total no. of crimes'])\n",
    "plt.xlabel('Category')\n",
    "plt.xticks(rotation=90)\n",
    "plt.ylabel('total no. of crimes')"
   ]
  },
  {
   "cell_type": "markdown",
   "metadata": {
    "id": "WOucecCiUs50"
   },
   "source": [
    "# Anti-social behaviour crimes over time across London"
   ]
  },
  {
   "cell_type": "code",
   "execution_count": 16,
   "metadata": {
    "colab": {
     "base_uri": "https://localhost:8080/",
     "height": 450
    },
    "executionInfo": {
     "elapsed": 477,
     "status": "ok",
     "timestamp": 1628867769316,
     "user": {
      "displayName": "Vineet Sivadasan",
      "photoUrl": "",
      "userId": "02154436300300776030"
     },
     "user_tz": -60
    },
    "id": "EYCuUKc1UpQS",
    "outputId": "d1b91041-0262-42a0-9c96-d8e74cf8938c"
   },
   "outputs": [
    {
     "data": {
      "text/html": [
       "<div>\n",
       "<style scoped>\n",
       "    .dataframe tbody tr th:only-of-type {\n",
       "        vertical-align: middle;\n",
       "    }\n",
       "\n",
       "    .dataframe tbody tr th {\n",
       "        vertical-align: top;\n",
       "    }\n",
       "\n",
       "    .dataframe thead th {\n",
       "        text-align: right;\n",
       "    }\n",
       "</style>\n",
       "<table border=\"1\" class=\"dataframe\">\n",
       "  <thead>\n",
       "    <tr style=\"text-align: right;\">\n",
       "      <th></th>\n",
       "      <th>count</th>\n",
       "      <th>date</th>\n",
       "    </tr>\n",
       "    <tr>\n",
       "      <th>Epoch</th>\n",
       "      <th></th>\n",
       "      <th></th>\n",
       "    </tr>\n",
       "  </thead>\n",
       "  <tbody>\n",
       "    <tr>\n",
       "      <th>01/01/2015 12:00:00 AM</th>\n",
       "      <td>549</td>\n",
       "      <td>01/01/2015 12:00:00 AM</td>\n",
       "    </tr>\n",
       "    <tr>\n",
       "      <th>01/01/2016 12:00:00 AM</th>\n",
       "      <td>657</td>\n",
       "      <td>01/01/2016 12:00:00 AM</td>\n",
       "    </tr>\n",
       "    <tr>\n",
       "      <th>01/01/2017 12:00:00 AM</th>\n",
       "      <td>727</td>\n",
       "      <td>01/01/2017 12:00:00 AM</td>\n",
       "    </tr>\n",
       "    <tr>\n",
       "      <th>01/01/2018 12:00:00 AM</th>\n",
       "      <td>731</td>\n",
       "      <td>01/01/2018 12:00:00 AM</td>\n",
       "    </tr>\n",
       "    <tr>\n",
       "      <th>01/01/2019 12:00:00 AM</th>\n",
       "      <td>721</td>\n",
       "      <td>01/01/2019 12:00:00 AM</td>\n",
       "    </tr>\n",
       "    <tr>\n",
       "      <th>...</th>\n",
       "      <td>...</td>\n",
       "      <td>...</td>\n",
       "    </tr>\n",
       "    <tr>\n",
       "      <th>12/01/2016 12:00:00 AM</th>\n",
       "      <td>778</td>\n",
       "      <td>12/01/2016 12:00:00 AM</td>\n",
       "    </tr>\n",
       "    <tr>\n",
       "      <th>12/01/2017 12:00:00 AM</th>\n",
       "      <td>613</td>\n",
       "      <td>12/01/2017 12:00:00 AM</td>\n",
       "    </tr>\n",
       "    <tr>\n",
       "      <th>12/01/2018 12:00:00 AM</th>\n",
       "      <td>676</td>\n",
       "      <td>12/01/2018 12:00:00 AM</td>\n",
       "    </tr>\n",
       "    <tr>\n",
       "      <th>12/01/2019 12:00:00 AM</th>\n",
       "      <td>700</td>\n",
       "      <td>12/01/2019 12:00:00 AM</td>\n",
       "    </tr>\n",
       "    <tr>\n",
       "      <th>12/01/2020 12:00:00 AM</th>\n",
       "      <td>991</td>\n",
       "      <td>12/01/2020 12:00:00 AM</td>\n",
       "    </tr>\n",
       "  </tbody>\n",
       "</table>\n",
       "<p>76 rows × 2 columns</p>\n",
       "</div>"
      ],
      "text/plain": [
       "                        count                    date\n",
       "Epoch                                                \n",
       "01/01/2015 12:00:00 AM    549  01/01/2015 12:00:00 AM\n",
       "01/01/2016 12:00:00 AM    657  01/01/2016 12:00:00 AM\n",
       "01/01/2017 12:00:00 AM    727  01/01/2017 12:00:00 AM\n",
       "01/01/2018 12:00:00 AM    731  01/01/2018 12:00:00 AM\n",
       "01/01/2019 12:00:00 AM    721  01/01/2019 12:00:00 AM\n",
       "...                       ...                     ...\n",
       "12/01/2016 12:00:00 AM    778  12/01/2016 12:00:00 AM\n",
       "12/01/2017 12:00:00 AM    613  12/01/2017 12:00:00 AM\n",
       "12/01/2018 12:00:00 AM    676  12/01/2018 12:00:00 AM\n",
       "12/01/2019 12:00:00 AM    700  12/01/2019 12:00:00 AM\n",
       "12/01/2020 12:00:00 AM    991  12/01/2020 12:00:00 AM\n",
       "\n",
       "[76 rows x 2 columns]"
      ]
     },
     "execution_count": 16,
     "metadata": {},
     "output_type": "execute_result"
    }
   ],
   "source": [
    "total_anti_social_bydate = df_anti_social.groupby(['Epoch']).sum()      #sum 'count' number of crimes by date\n",
    "total_anti_social_bydate.drop(['Street ID', 'ID', 'Easting', 'Northing', 'Longitude','Latitude', 'Context'], axis=1, inplace=True)     #remove all other columns\n",
    "total_anti_social_bydate['date'] = total_anti_social_bydate.index        #create another column for the date, called date\n",
    "total_anti_social_bydate"
   ]
  },
  {
   "cell_type": "code",
   "execution_count": 17,
   "metadata": {
    "colab": {
     "base_uri": "https://localhost:8080/",
     "height": 450
    },
    "executionInfo": {
     "elapsed": 198,
     "status": "ok",
     "timestamp": 1628867781504,
     "user": {
      "displayName": "Vineet Sivadasan",
      "photoUrl": "",
      "userId": "02154436300300776030"
     },
     "user_tz": -60
    },
    "id": "nGliVfLZUpQT",
    "outputId": "71dfc5bf-2ac5-4926-fd9d-93830464e88a"
   },
   "outputs": [
    {
     "data": {
      "text/html": [
       "<div>\n",
       "<style scoped>\n",
       "    .dataframe tbody tr th:only-of-type {\n",
       "        vertical-align: middle;\n",
       "    }\n",
       "\n",
       "    .dataframe tbody tr th {\n",
       "        vertical-align: top;\n",
       "    }\n",
       "\n",
       "    .dataframe thead th {\n",
       "        text-align: right;\n",
       "    }\n",
       "</style>\n",
       "<table border=\"1\" class=\"dataframe\">\n",
       "  <thead>\n",
       "    <tr style=\"text-align: right;\">\n",
       "      <th></th>\n",
       "      <th>count</th>\n",
       "      <th>date</th>\n",
       "    </tr>\n",
       "    <tr>\n",
       "      <th>Epoch</th>\n",
       "      <th></th>\n",
       "      <th></th>\n",
       "    </tr>\n",
       "  </thead>\n",
       "  <tbody>\n",
       "    <tr>\n",
       "      <th>01/01/2015 12:00:00 AM</th>\n",
       "      <td>549</td>\n",
       "      <td>2015-01-01</td>\n",
       "    </tr>\n",
       "    <tr>\n",
       "      <th>02/01/2015 12:00:00 AM</th>\n",
       "      <td>588</td>\n",
       "      <td>2015-01-02</td>\n",
       "    </tr>\n",
       "    <tr>\n",
       "      <th>03/01/2015 12:00:00 AM</th>\n",
       "      <td>632</td>\n",
       "      <td>2015-01-03</td>\n",
       "    </tr>\n",
       "    <tr>\n",
       "      <th>04/01/2015 12:00:00 AM</th>\n",
       "      <td>787</td>\n",
       "      <td>2015-01-04</td>\n",
       "    </tr>\n",
       "    <tr>\n",
       "      <th>05/01/2015 12:00:00 AM</th>\n",
       "      <td>748</td>\n",
       "      <td>2015-01-05</td>\n",
       "    </tr>\n",
       "    <tr>\n",
       "      <th>...</th>\n",
       "      <td>...</td>\n",
       "      <td>...</td>\n",
       "    </tr>\n",
       "    <tr>\n",
       "      <th>12/01/2020 12:00:00 AM</th>\n",
       "      <td>991</td>\n",
       "      <td>2020-01-12</td>\n",
       "    </tr>\n",
       "    <tr>\n",
       "      <th>01/01/2021 12:00:00 AM</th>\n",
       "      <td>1091</td>\n",
       "      <td>2021-01-01</td>\n",
       "    </tr>\n",
       "    <tr>\n",
       "      <th>02/01/2021 12:00:00 AM</th>\n",
       "      <td>1042</td>\n",
       "      <td>2021-01-02</td>\n",
       "    </tr>\n",
       "    <tr>\n",
       "      <th>03/01/2021 12:00:00 AM</th>\n",
       "      <td>1184</td>\n",
       "      <td>2021-01-03</td>\n",
       "    </tr>\n",
       "    <tr>\n",
       "      <th>04/01/2021 12:00:00 AM</th>\n",
       "      <td>1044</td>\n",
       "      <td>2021-01-04</td>\n",
       "    </tr>\n",
       "  </tbody>\n",
       "</table>\n",
       "<p>76 rows × 2 columns</p>\n",
       "</div>"
      ],
      "text/plain": [
       "                        count       date\n",
       "Epoch                                   \n",
       "01/01/2015 12:00:00 AM    549 2015-01-01\n",
       "02/01/2015 12:00:00 AM    588 2015-01-02\n",
       "03/01/2015 12:00:00 AM    632 2015-01-03\n",
       "04/01/2015 12:00:00 AM    787 2015-01-04\n",
       "05/01/2015 12:00:00 AM    748 2015-01-05\n",
       "...                       ...        ...\n",
       "12/01/2020 12:00:00 AM    991 2020-01-12\n",
       "01/01/2021 12:00:00 AM   1091 2021-01-01\n",
       "02/01/2021 12:00:00 AM   1042 2021-01-02\n",
       "03/01/2021 12:00:00 AM   1184 2021-01-03\n",
       "04/01/2021 12:00:00 AM   1044 2021-01-04\n",
       "\n",
       "[76 rows x 2 columns]"
      ]
     },
     "execution_count": 17,
     "metadata": {},
     "output_type": "execute_result"
    }
   ],
   "source": [
    "#change the date format in 'Epoch' column\n",
    "total_anti_social_bydate['date'] = pd.to_datetime(total_anti_social_bydate['date']).dt.date\n",
    "total_anti_social_bydate['date'] = pd.to_datetime(total_anti_social_bydate['date']).dt.strftime('%d-%m-%Y')\n",
    "total_anti_social_bydate['date'] = pd.to_datetime(total_anti_social_bydate.date)\n",
    "total_anti_social_bydate = total_anti_social_bydate.sort_values(by = 'date')\n",
    "total_anti_social_bydate"
   ]
  },
  {
   "cell_type": "code",
   "execution_count": 18,
   "metadata": {
    "colab": {
     "base_uri": "https://localhost:8080/",
     "height": 312
    },
    "executionInfo": {
     "elapsed": 474,
     "status": "ok",
     "timestamp": 1628867784352,
     "user": {
      "displayName": "Vineet Sivadasan",
      "photoUrl": "",
      "userId": "02154436300300776030"
     },
     "user_tz": -60
    },
    "id": "Q667NvFKUpQU",
    "outputId": "bf095cf8-71fc-481d-c4bb-c291c20710f6"
   },
   "outputs": [
    {
     "data": {
      "text/plain": [
       "Text(0.5, 1.0, 'anti-social behaviour crimes across London')"
      ]
     },
     "execution_count": 18,
     "metadata": {},
     "output_type": "execute_result"
    },
    {
     "data": {
      "image/png": "[encoded data removed]",
      "text/plain": [
       "<Figure size 432x288 with 1 Axes>"
      ]
     },
     "metadata": {
      "needs_background": "light"
     },
     "output_type": "display_data"
    }
   ],
   "source": [
    "# plot the total number of crimes committed in London over the full 7 year period given in the dataset\n",
    "plt.figure()\n",
    "plt.plot(total_anti_social_bydate['date'], total_anti_social_bydate['count'])\n",
    "plt.xlabel(\"date\")\n",
    "plt.ylabel(\"no.of anti-social behaviour crimes\")\n",
    "plt.title(\"anti-social behaviour crimes across London\")"
   ]
  },
  {
   "cell_type": "code",
   "execution_count": 19,
   "metadata": {
    "colab": {
     "base_uri": "https://localhost:8080/",
     "height": 312
    },
    "executionInfo": {
     "elapsed": 377,
     "status": "ok",
     "timestamp": 1628865823903,
     "user": {
      "displayName": "Vineet Sivadasan",
      "photoUrl": "",
      "userId": "02154436300300776030"
     },
     "user_tz": -60
    },
    "id": "IsubFab6T_ab",
    "outputId": "815a7a2e-9e42-4818-aa92-73cd62542d6a"
   },
   "outputs": [
    {
     "data": {
      "text/plain": [
       "Text(0, 0.5, 'Latitude')"
      ]
     },
     "execution_count": 19,
     "metadata": {},
     "output_type": "execute_result"
    },
    {
     "data": {
      "image/png": "[encoded data removed]",
      "text/plain": [
       "<Figure size 432x288 with 1 Axes>"
      ]
     },
     "metadata": {
      "needs_background": "light"
     },
     "output_type": "display_data"
    }
   ],
   "source": [
    "#plot of locations of the crimes, colour coded by crime category\n",
    "plt.scatter(df_anti_social['Longitude'], df_anti_social['Latitude'], c='firebrick',  s=6,  alpha=0.25)\n",
    "plt.xlabel('Longitude')\n",
    "plt.title('anti-social behaviour crimes across London borough of Camden')\n",
    "plt.ylabel('Latitude')"
   ]
  },
  {
   "cell_type": "markdown",
   "metadata": {
    "id": "wTxf7-OUahFC"
   },
   "source": [
    "# Bike theft over time across London"
   ]
  },
  {
   "cell_type": "code",
   "execution_count": 20,
   "metadata": {
    "colab": {
     "base_uri": "https://localhost:8080/",
     "height": 450
    },
    "executionInfo": {
     "elapsed": 13,
     "status": "ok",
     "timestamp": 1628865823904,
     "user": {
      "displayName": "Vineet Sivadasan",
      "photoUrl": "",
      "userId": "02154436300300776030"
     },
     "user_tz": -60
    },
    "id": "P2DKocm1arHO",
    "outputId": "9667b141-fbdb-4df6-a412-d4271307f9d7"
   },
   "outputs": [
    {
     "data": {
      "text/html": [
       "<div>\n",
       "<style scoped>\n",
       "    .dataframe tbody tr th:only-of-type {\n",
       "        vertical-align: middle;\n",
       "    }\n",
       "\n",
       "    .dataframe tbody tr th {\n",
       "        vertical-align: top;\n",
       "    }\n",
       "\n",
       "    .dataframe thead th {\n",
       "        text-align: right;\n",
       "    }\n",
       "</style>\n",
       "<table border=\"1\" class=\"dataframe\">\n",
       "  <thead>\n",
       "    <tr style=\"text-align: right;\">\n",
       "      <th></th>\n",
       "      <th>count</th>\n",
       "      <th>date</th>\n",
       "    </tr>\n",
       "    <tr>\n",
       "      <th>Epoch</th>\n",
       "      <th></th>\n",
       "      <th></th>\n",
       "    </tr>\n",
       "  </thead>\n",
       "  <tbody>\n",
       "    <tr>\n",
       "      <th>01/01/2015 12:00:00 AM</th>\n",
       "      <td>49</td>\n",
       "      <td>01/01/2015 12:00:00 AM</td>\n",
       "    </tr>\n",
       "    <tr>\n",
       "      <th>01/01/2016 12:00:00 AM</th>\n",
       "      <td>65</td>\n",
       "      <td>01/01/2016 12:00:00 AM</td>\n",
       "    </tr>\n",
       "    <tr>\n",
       "      <th>01/01/2017 12:00:00 AM</th>\n",
       "      <td>77</td>\n",
       "      <td>01/01/2017 12:00:00 AM</td>\n",
       "    </tr>\n",
       "    <tr>\n",
       "      <th>01/01/2018 12:00:00 AM</th>\n",
       "      <td>73</td>\n",
       "      <td>01/01/2018 12:00:00 AM</td>\n",
       "    </tr>\n",
       "    <tr>\n",
       "      <th>01/01/2019 12:00:00 AM</th>\n",
       "      <td>95</td>\n",
       "      <td>01/01/2019 12:00:00 AM</td>\n",
       "    </tr>\n",
       "    <tr>\n",
       "      <th>...</th>\n",
       "      <td>...</td>\n",
       "      <td>...</td>\n",
       "    </tr>\n",
       "    <tr>\n",
       "      <th>12/01/2016 12:00:00 AM</th>\n",
       "      <td>62</td>\n",
       "      <td>12/01/2016 12:00:00 AM</td>\n",
       "    </tr>\n",
       "    <tr>\n",
       "      <th>12/01/2017 12:00:00 AM</th>\n",
       "      <td>51</td>\n",
       "      <td>12/01/2017 12:00:00 AM</td>\n",
       "    </tr>\n",
       "    <tr>\n",
       "      <th>12/01/2018 12:00:00 AM</th>\n",
       "      <td>81</td>\n",
       "      <td>12/01/2018 12:00:00 AM</td>\n",
       "    </tr>\n",
       "    <tr>\n",
       "      <th>12/01/2019 12:00:00 AM</th>\n",
       "      <td>60</td>\n",
       "      <td>12/01/2019 12:00:00 AM</td>\n",
       "    </tr>\n",
       "    <tr>\n",
       "      <th>12/01/2020 12:00:00 AM</th>\n",
       "      <td>86</td>\n",
       "      <td>12/01/2020 12:00:00 AM</td>\n",
       "    </tr>\n",
       "  </tbody>\n",
       "</table>\n",
       "<p>76 rows × 2 columns</p>\n",
       "</div>"
      ],
      "text/plain": [
       "                        count                    date\n",
       "Epoch                                                \n",
       "01/01/2015 12:00:00 AM     49  01/01/2015 12:00:00 AM\n",
       "01/01/2016 12:00:00 AM     65  01/01/2016 12:00:00 AM\n",
       "01/01/2017 12:00:00 AM     77  01/01/2017 12:00:00 AM\n",
       "01/01/2018 12:00:00 AM     73  01/01/2018 12:00:00 AM\n",
       "01/01/2019 12:00:00 AM     95  01/01/2019 12:00:00 AM\n",
       "...                       ...                     ...\n",
       "12/01/2016 12:00:00 AM     62  12/01/2016 12:00:00 AM\n",
       "12/01/2017 12:00:00 AM     51  12/01/2017 12:00:00 AM\n",
       "12/01/2018 12:00:00 AM     81  12/01/2018 12:00:00 AM\n",
       "12/01/2019 12:00:00 AM     60  12/01/2019 12:00:00 AM\n",
       "12/01/2020 12:00:00 AM     86  12/01/2020 12:00:00 AM\n",
       "\n",
       "[76 rows x 2 columns]"
      ]
     },
     "execution_count": 20,
     "metadata": {},
     "output_type": "execute_result"
    }
   ],
   "source": [
    "#collect together all the bike theft crimes, grouping by date\n",
    "total_bike_theft_bydate = df_bike_theft.groupby(['Epoch']).sum()      #sum 'count' number of crimes by date\n",
    "total_bike_theft_bydate.drop(['Street ID', 'ID', 'Easting', 'Northing', 'Longitude','Latitude', 'Context'], axis=1, inplace=True)     #remove all other columns\n",
    "total_bike_theft_bydate['date'] = total_bike_theft_bydate.index        #create another column for the date, called date\n",
    "total_bike_theft_bydate"
   ]
  },
  {
   "cell_type": "code",
   "execution_count": 21,
   "metadata": {
    "colab": {
     "base_uri": "https://localhost:8080/",
     "height": 450
    },
    "executionInfo": {
     "elapsed": 502,
     "status": "ok",
     "timestamp": 1628865995494,
     "user": {
      "displayName": "Vineet Sivadasan",
      "photoUrl": "",
      "userId": "02154436300300776030"
     },
     "user_tz": -60
    },
    "id": "vT3oEzqjarHP",
    "outputId": "eaee145e-3445-4667-b6f7-15a3a575e476"
   },
   "outputs": [
    {
     "data": {
      "text/html": [
       "<div>\n",
       "<style scoped>\n",
       "    .dataframe tbody tr th:only-of-type {\n",
       "        vertical-align: middle;\n",
       "    }\n",
       "\n",
       "    .dataframe tbody tr th {\n",
       "        vertical-align: top;\n",
       "    }\n",
       "\n",
       "    .dataframe thead th {\n",
       "        text-align: right;\n",
       "    }\n",
       "</style>\n",
       "<table border=\"1\" class=\"dataframe\">\n",
       "  <thead>\n",
       "    <tr style=\"text-align: right;\">\n",
       "      <th></th>\n",
       "      <th>count</th>\n",
       "      <th>date</th>\n",
       "    </tr>\n",
       "    <tr>\n",
       "      <th>Epoch</th>\n",
       "      <th></th>\n",
       "      <th></th>\n",
       "    </tr>\n",
       "  </thead>\n",
       "  <tbody>\n",
       "    <tr>\n",
       "      <th>01/01/2015 12:00:00 AM</th>\n",
       "      <td>49</td>\n",
       "      <td>2015-01-01</td>\n",
       "    </tr>\n",
       "    <tr>\n",
       "      <th>02/01/2015 12:00:00 AM</th>\n",
       "      <td>59</td>\n",
       "      <td>2015-01-02</td>\n",
       "    </tr>\n",
       "    <tr>\n",
       "      <th>03/01/2015 12:00:00 AM</th>\n",
       "      <td>91</td>\n",
       "      <td>2015-01-03</td>\n",
       "    </tr>\n",
       "    <tr>\n",
       "      <th>04/01/2015 12:00:00 AM</th>\n",
       "      <td>71</td>\n",
       "      <td>2015-01-04</td>\n",
       "    </tr>\n",
       "    <tr>\n",
       "      <th>05/01/2015 12:00:00 AM</th>\n",
       "      <td>106</td>\n",
       "      <td>2015-01-05</td>\n",
       "    </tr>\n",
       "    <tr>\n",
       "      <th>...</th>\n",
       "      <td>...</td>\n",
       "      <td>...</td>\n",
       "    </tr>\n",
       "    <tr>\n",
       "      <th>12/01/2020 12:00:00 AM</th>\n",
       "      <td>86</td>\n",
       "      <td>2020-01-12</td>\n",
       "    </tr>\n",
       "    <tr>\n",
       "      <th>01/01/2021 12:00:00 AM</th>\n",
       "      <td>70</td>\n",
       "      <td>2021-01-01</td>\n",
       "    </tr>\n",
       "    <tr>\n",
       "      <th>02/01/2021 12:00:00 AM</th>\n",
       "      <td>80</td>\n",
       "      <td>2021-01-02</td>\n",
       "    </tr>\n",
       "    <tr>\n",
       "      <th>03/01/2021 12:00:00 AM</th>\n",
       "      <td>105</td>\n",
       "      <td>2021-01-03</td>\n",
       "    </tr>\n",
       "    <tr>\n",
       "      <th>04/01/2021 12:00:00 AM</th>\n",
       "      <td>113</td>\n",
       "      <td>2021-01-04</td>\n",
       "    </tr>\n",
       "  </tbody>\n",
       "</table>\n",
       "<p>76 rows × 2 columns</p>\n",
       "</div>"
      ],
      "text/plain": [
       "                        count       date\n",
       "Epoch                                   \n",
       "01/01/2015 12:00:00 AM     49 2015-01-01\n",
       "02/01/2015 12:00:00 AM     59 2015-01-02\n",
       "03/01/2015 12:00:00 AM     91 2015-01-03\n",
       "04/01/2015 12:00:00 AM     71 2015-01-04\n",
       "05/01/2015 12:00:00 AM    106 2015-01-05\n",
       "...                       ...        ...\n",
       "12/01/2020 12:00:00 AM     86 2020-01-12\n",
       "01/01/2021 12:00:00 AM     70 2021-01-01\n",
       "02/01/2021 12:00:00 AM     80 2021-01-02\n",
       "03/01/2021 12:00:00 AM    105 2021-01-03\n",
       "04/01/2021 12:00:00 AM    113 2021-01-04\n",
       "\n",
       "[76 rows x 2 columns]"
      ]
     },
     "execution_count": 21,
     "metadata": {},
     "output_type": "execute_result"
    }
   ],
   "source": [
    "#change the date format in 'Epoch' column\n",
    "total_bike_theft_bydate['date'] = pd.to_datetime(total_bike_theft_bydate['date']).dt.date\n",
    "total_bike_theft_bydate['date'] = pd.to_datetime(total_bike_theft_bydate['date']).dt.strftime('%d-%m-%Y')\n",
    "total_bike_theft_bydate['date'] = pd.to_datetime(total_bike_theft_bydate.date)\n",
    "total_bike_theft_bydate = total_bike_theft_bydate.sort_values(by = 'date')\n",
    "total_bike_theft_bydate"
   ]
  },
  {
   "cell_type": "code",
   "execution_count": 22,
   "metadata": {
    "colab": {
     "base_uri": "https://localhost:8080/",
     "height": 312
    },
    "executionInfo": {
     "elapsed": 505,
     "status": "ok",
     "timestamp": 1628865998066,
     "user": {
      "displayName": "Vineet Sivadasan",
      "photoUrl": "",
      "userId": "02154436300300776030"
     },
     "user_tz": -60
    },
    "id": "8cnmXMoxarHQ",
    "outputId": "491d63a7-451a-44a5-ab88-fac2a1188121"
   },
   "outputs": [
    {
     "data": {
      "text/plain": [
       "Text(0.5, 1.0, 'bike theft crimes across London')"
      ]
     },
     "execution_count": 22,
     "metadata": {},
     "output_type": "execute_result"
    },
    {
     "data": {
      "image/png": "[encoded data removed]",
      "text/plain": [
       "<Figure size 432x288 with 1 Axes>"
      ]
     },
     "metadata": {
      "needs_background": "light"
     },
     "output_type": "display_data"
    }
   ],
   "source": [
    "# plot the total number of crimes committed in London over the full 7 year period given in the dataset\n",
    "plt.figure()\n",
    "plt.plot(total_bike_theft_bydate['date'], total_bike_theft_bydate['count'])\n",
    "plt.xlabel(\"date\")\n",
    "plt.ylabel(\"no.of bike theft crimes\")\n",
    "plt.title(\"bike theft crimes across London\")"
   ]
  },
  {
   "cell_type": "code",
   "execution_count": 23,
   "metadata": {
    "colab": {
     "base_uri": "https://localhost:8080/",
     "height": 312
    },
    "executionInfo": {
     "elapsed": 530,
     "status": "ok",
     "timestamp": 1628865824769,
     "user": {
      "displayName": "Vineet Sivadasan",
      "photoUrl": "",
      "userId": "02154436300300776030"
     },
     "user_tz": -60
    },
    "id": "I6xRQczkaiNO",
    "outputId": "fa5d6d10-abe2-452f-ea3d-f586abf6fb22"
   },
   "outputs": [
    {
     "data": {
      "text/plain": [
       "Text(0, 0.5, 'Latitude')"
      ]
     },
     "execution_count": 23,
     "metadata": {},
     "output_type": "execute_result"
    },
    {
     "data": {
      "image/png": "[encoded data removed]",
      "text/plain": [
       "<Figure size 432x288 with 1 Axes>"
      ]
     },
     "metadata": {
      "needs_background": "light"
     },
     "output_type": "display_data"
    }
   ],
   "source": [
    "#plot of locations of the crimes, colour coded by crime category\n",
    "plt.scatter(df_bike_theft['Longitude'], df_bike_theft['Latitude'], c='grey',  s=6,  alpha=0.25)\n",
    "plt.xlabel('Longitude')\n",
    "plt.title('bike theft crimes across London borough of Camden')\n",
    "plt.ylabel('Latitude')"
   ]
  },
  {
   "cell_type": "markdown",
   "metadata": {
    "id": "peAs4ibPrmzD"
   },
   "source": [
    "##Let's test for stationarity in bike theft crimes by starting with the training set"
   ]
  },
  {
   "cell_type": "code",
   "execution_count": 24,
   "metadata": {
    "executionInfo": {
     "elapsed": 217,
     "status": "ok",
     "timestamp": 1628867822322,
     "user": {
      "displayName": "Vineet Sivadasan",
      "photoUrl": "",
      "userId": "02154436300300776030"
     },
     "user_tz": -60
    },
    "id": "0vddLMIzsi_r"
   },
   "outputs": [],
   "source": [
    "# split the entire df_bike_theft dataframe into training and validation sets\n",
    "bike_theft_training, bike_theft_validation = data_train_validate(total_bike_theft_bydate)"
   ]
  },
  {
   "cell_type": "code",
   "execution_count": 25,
   "metadata": {
    "colab": {
     "base_uri": "https://localhost:8080/",
     "height": 1000
    },
    "executionInfo": {
     "elapsed": 8,
     "status": "ok",
     "timestamp": 1628867822612,
     "user": {
      "displayName": "Vineet Sivadasan",
      "photoUrl": "",
      "userId": "02154436300300776030"
     },
     "user_tz": -60
    },
    "id": "n7i0TZlos4sc",
    "outputId": "0c1f159e-398e-4f0e-debb-044a6122ee88"
   },
   "outputs": [
    {
     "data": {
      "text/html": [
       "<div>\n",
       "<style scoped>\n",
       "    .dataframe tbody tr th:only-of-type {\n",
       "        vertical-align: middle;\n",
       "    }\n",
       "\n",
       "    .dataframe tbody tr th {\n",
       "        vertical-align: top;\n",
       "    }\n",
       "\n",
       "    .dataframe thead th {\n",
       "        text-align: right;\n",
       "    }\n",
       "</style>\n",
       "<table border=\"1\" class=\"dataframe\">\n",
       "  <thead>\n",
       "    <tr style=\"text-align: right;\">\n",
       "      <th></th>\n",
       "      <th>count</th>\n",
       "      <th>date</th>\n",
       "    </tr>\n",
       "    <tr>\n",
       "      <th>Epoch</th>\n",
       "      <th></th>\n",
       "      <th></th>\n",
       "    </tr>\n",
       "  </thead>\n",
       "  <tbody>\n",
       "    <tr>\n",
       "      <th>01/01/2015 12:00:00 AM</th>\n",
       "      <td>49</td>\n",
       "      <td>2015-01-01</td>\n",
       "    </tr>\n",
       "    <tr>\n",
       "      <th>02/01/2015 12:00:00 AM</th>\n",
       "      <td>59</td>\n",
       "      <td>2015-01-02</td>\n",
       "    </tr>\n",
       "    <tr>\n",
       "      <th>03/01/2015 12:00:00 AM</th>\n",
       "      <td>91</td>\n",
       "      <td>2015-01-03</td>\n",
       "    </tr>\n",
       "    <tr>\n",
       "      <th>04/01/2015 12:00:00 AM</th>\n",
       "      <td>71</td>\n",
       "      <td>2015-01-04</td>\n",
       "    </tr>\n",
       "    <tr>\n",
       "      <th>05/01/2015 12:00:00 AM</th>\n",
       "      <td>106</td>\n",
       "      <td>2015-01-05</td>\n",
       "    </tr>\n",
       "    <tr>\n",
       "      <th>06/01/2015 12:00:00 AM</th>\n",
       "      <td>100</td>\n",
       "      <td>2015-01-06</td>\n",
       "    </tr>\n",
       "    <tr>\n",
       "      <th>07/01/2015 12:00:00 AM</th>\n",
       "      <td>111</td>\n",
       "      <td>2015-01-07</td>\n",
       "    </tr>\n",
       "    <tr>\n",
       "      <th>08/01/2015 12:00:00 AM</th>\n",
       "      <td>89</td>\n",
       "      <td>2015-01-08</td>\n",
       "    </tr>\n",
       "    <tr>\n",
       "      <th>09/01/2015 12:00:00 AM</th>\n",
       "      <td>97</td>\n",
       "      <td>2015-01-09</td>\n",
       "    </tr>\n",
       "    <tr>\n",
       "      <th>10/01/2015 12:00:00 AM</th>\n",
       "      <td>139</td>\n",
       "      <td>2015-01-10</td>\n",
       "    </tr>\n",
       "    <tr>\n",
       "      <th>11/01/2015 12:00:00 AM</th>\n",
       "      <td>86</td>\n",
       "      <td>2015-01-11</td>\n",
       "    </tr>\n",
       "    <tr>\n",
       "      <th>12/01/2015 12:00:00 AM</th>\n",
       "      <td>63</td>\n",
       "      <td>2015-01-12</td>\n",
       "    </tr>\n",
       "    <tr>\n",
       "      <th>01/01/2016 12:00:00 AM</th>\n",
       "      <td>65</td>\n",
       "      <td>2016-01-01</td>\n",
       "    </tr>\n",
       "    <tr>\n",
       "      <th>02/01/2016 12:00:00 AM</th>\n",
       "      <td>77</td>\n",
       "      <td>2016-01-02</td>\n",
       "    </tr>\n",
       "    <tr>\n",
       "      <th>03/01/2016 12:00:00 AM</th>\n",
       "      <td>59</td>\n",
       "      <td>2016-01-03</td>\n",
       "    </tr>\n",
       "    <tr>\n",
       "      <th>04/01/2016 12:00:00 AM</th>\n",
       "      <td>85</td>\n",
       "      <td>2016-01-04</td>\n",
       "    </tr>\n",
       "    <tr>\n",
       "      <th>05/01/2016 12:00:00 AM</th>\n",
       "      <td>91</td>\n",
       "      <td>2016-01-05</td>\n",
       "    </tr>\n",
       "    <tr>\n",
       "      <th>06/01/2016 12:00:00 AM</th>\n",
       "      <td>92</td>\n",
       "      <td>2016-01-06</td>\n",
       "    </tr>\n",
       "    <tr>\n",
       "      <th>07/01/2016 12:00:00 AM</th>\n",
       "      <td>81</td>\n",
       "      <td>2016-01-07</td>\n",
       "    </tr>\n",
       "    <tr>\n",
       "      <th>08/01/2016 12:00:00 AM</th>\n",
       "      <td>83</td>\n",
       "      <td>2016-01-08</td>\n",
       "    </tr>\n",
       "    <tr>\n",
       "      <th>09/01/2016 12:00:00 AM</th>\n",
       "      <td>144</td>\n",
       "      <td>2016-01-09</td>\n",
       "    </tr>\n",
       "    <tr>\n",
       "      <th>10/01/2016 12:00:00 AM</th>\n",
       "      <td>120</td>\n",
       "      <td>2016-01-10</td>\n",
       "    </tr>\n",
       "    <tr>\n",
       "      <th>11/01/2016 12:00:00 AM</th>\n",
       "      <td>87</td>\n",
       "      <td>2016-01-11</td>\n",
       "    </tr>\n",
       "    <tr>\n",
       "      <th>12/01/2016 12:00:00 AM</th>\n",
       "      <td>62</td>\n",
       "      <td>2016-01-12</td>\n",
       "    </tr>\n",
       "    <tr>\n",
       "      <th>01/01/2017 12:00:00 AM</th>\n",
       "      <td>77</td>\n",
       "      <td>2017-01-01</td>\n",
       "    </tr>\n",
       "    <tr>\n",
       "      <th>02/01/2017 12:00:00 AM</th>\n",
       "      <td>63</td>\n",
       "      <td>2017-01-02</td>\n",
       "    </tr>\n",
       "    <tr>\n",
       "      <th>03/01/2017 12:00:00 AM</th>\n",
       "      <td>95</td>\n",
       "      <td>2017-01-03</td>\n",
       "    </tr>\n",
       "    <tr>\n",
       "      <th>04/01/2017 12:00:00 AM</th>\n",
       "      <td>77</td>\n",
       "      <td>2017-01-04</td>\n",
       "    </tr>\n",
       "    <tr>\n",
       "      <th>05/01/2017 12:00:00 AM</th>\n",
       "      <td>96</td>\n",
       "      <td>2017-01-05</td>\n",
       "    </tr>\n",
       "    <tr>\n",
       "      <th>06/01/2017 12:00:00 AM</th>\n",
       "      <td>115</td>\n",
       "      <td>2017-01-06</td>\n",
       "    </tr>\n",
       "    <tr>\n",
       "      <th>07/01/2017 12:00:00 AM</th>\n",
       "      <td>103</td>\n",
       "      <td>2017-01-07</td>\n",
       "    </tr>\n",
       "    <tr>\n",
       "      <th>08/01/2017 12:00:00 AM</th>\n",
       "      <td>111</td>\n",
       "      <td>2017-01-08</td>\n",
       "    </tr>\n",
       "    <tr>\n",
       "      <th>09/01/2017 12:00:00 AM</th>\n",
       "      <td>116</td>\n",
       "      <td>2017-01-09</td>\n",
       "    </tr>\n",
       "    <tr>\n",
       "      <th>10/01/2017 12:00:00 AM</th>\n",
       "      <td>131</td>\n",
       "      <td>2017-01-10</td>\n",
       "    </tr>\n",
       "    <tr>\n",
       "      <th>11/01/2017 12:00:00 AM</th>\n",
       "      <td>122</td>\n",
       "      <td>2017-01-11</td>\n",
       "    </tr>\n",
       "    <tr>\n",
       "      <th>12/01/2017 12:00:00 AM</th>\n",
       "      <td>51</td>\n",
       "      <td>2017-01-12</td>\n",
       "    </tr>\n",
       "    <tr>\n",
       "      <th>01/01/2018 12:00:00 AM</th>\n",
       "      <td>73</td>\n",
       "      <td>2018-01-01</td>\n",
       "    </tr>\n",
       "    <tr>\n",
       "      <th>02/01/2018 12:00:00 AM</th>\n",
       "      <td>63</td>\n",
       "      <td>2018-01-02</td>\n",
       "    </tr>\n",
       "    <tr>\n",
       "      <th>03/01/2018 12:00:00 AM</th>\n",
       "      <td>71</td>\n",
       "      <td>2018-01-03</td>\n",
       "    </tr>\n",
       "    <tr>\n",
       "      <th>04/01/2018 12:00:00 AM</th>\n",
       "      <td>101</td>\n",
       "      <td>2018-01-04</td>\n",
       "    </tr>\n",
       "    <tr>\n",
       "      <th>05/01/2018 12:00:00 AM</th>\n",
       "      <td>125</td>\n",
       "      <td>2018-01-05</td>\n",
       "    </tr>\n",
       "    <tr>\n",
       "      <th>06/01/2018 12:00:00 AM</th>\n",
       "      <td>113</td>\n",
       "      <td>2018-01-06</td>\n",
       "    </tr>\n",
       "    <tr>\n",
       "      <th>07/01/2018 12:00:00 AM</th>\n",
       "      <td>128</td>\n",
       "      <td>2018-01-07</td>\n",
       "    </tr>\n",
       "    <tr>\n",
       "      <th>08/01/2018 12:00:00 AM</th>\n",
       "      <td>116</td>\n",
       "      <td>2018-01-08</td>\n",
       "    </tr>\n",
       "    <tr>\n",
       "      <th>09/01/2018 12:00:00 AM</th>\n",
       "      <td>174</td>\n",
       "      <td>2018-01-09</td>\n",
       "    </tr>\n",
       "    <tr>\n",
       "      <th>10/01/2018 12:00:00 AM</th>\n",
       "      <td>190</td>\n",
       "      <td>2018-01-10</td>\n",
       "    </tr>\n",
       "    <tr>\n",
       "      <th>11/01/2018 12:00:00 AM</th>\n",
       "      <td>109</td>\n",
       "      <td>2018-01-11</td>\n",
       "    </tr>\n",
       "    <tr>\n",
       "      <th>12/01/2018 12:00:00 AM</th>\n",
       "      <td>81</td>\n",
       "      <td>2018-01-12</td>\n",
       "    </tr>\n",
       "    <tr>\n",
       "      <th>01/01/2019 12:00:00 AM</th>\n",
       "      <td>95</td>\n",
       "      <td>2019-01-01</td>\n",
       "    </tr>\n",
       "    <tr>\n",
       "      <th>02/01/2019 12:00:00 AM</th>\n",
       "      <td>103</td>\n",
       "      <td>2019-01-02</td>\n",
       "    </tr>\n",
       "    <tr>\n",
       "      <th>03/01/2019 12:00:00 AM</th>\n",
       "      <td>119</td>\n",
       "      <td>2019-01-03</td>\n",
       "    </tr>\n",
       "    <tr>\n",
       "      <th>04/01/2019 12:00:00 AM</th>\n",
       "      <td>132</td>\n",
       "      <td>2019-01-04</td>\n",
       "    </tr>\n",
       "    <tr>\n",
       "      <th>05/01/2019 12:00:00 AM</th>\n",
       "      <td>122</td>\n",
       "      <td>2019-01-05</td>\n",
       "    </tr>\n",
       "    <tr>\n",
       "      <th>06/01/2019 12:00:00 AM</th>\n",
       "      <td>103</td>\n",
       "      <td>2019-01-06</td>\n",
       "    </tr>\n",
       "    <tr>\n",
       "      <th>07/01/2019 12:00:00 AM</th>\n",
       "      <td>124</td>\n",
       "      <td>2019-01-07</td>\n",
       "    </tr>\n",
       "    <tr>\n",
       "      <th>08/01/2019 12:00:00 AM</th>\n",
       "      <td>105</td>\n",
       "      <td>2019-01-08</td>\n",
       "    </tr>\n",
       "    <tr>\n",
       "      <th>09/01/2019 12:00:00 AM</th>\n",
       "      <td>127</td>\n",
       "      <td>2019-01-09</td>\n",
       "    </tr>\n",
       "    <tr>\n",
       "      <th>10/01/2019 12:00:00 AM</th>\n",
       "      <td>137</td>\n",
       "      <td>2019-01-10</td>\n",
       "    </tr>\n",
       "    <tr>\n",
       "      <th>11/01/2019 12:00:00 AM</th>\n",
       "      <td>93</td>\n",
       "      <td>2019-01-11</td>\n",
       "    </tr>\n",
       "    <tr>\n",
       "      <th>12/01/2019 12:00:00 AM</th>\n",
       "      <td>60</td>\n",
       "      <td>2019-01-12</td>\n",
       "    </tr>\n",
       "  </tbody>\n",
       "</table>\n",
       "</div>"
      ],
      "text/plain": [
       "                        count       date\n",
       "Epoch                                   \n",
       "01/01/2015 12:00:00 AM     49 2015-01-01\n",
       "02/01/2015 12:00:00 AM     59 2015-01-02\n",
       "03/01/2015 12:00:00 AM     91 2015-01-03\n",
       "04/01/2015 12:00:00 AM     71 2015-01-04\n",
       "05/01/2015 12:00:00 AM    106 2015-01-05\n",
       "06/01/2015 12:00:00 AM    100 2015-01-06\n",
       "07/01/2015 12:00:00 AM    111 2015-01-07\n",
       "08/01/2015 12:00:00 AM     89 2015-01-08\n",
       "09/01/2015 12:00:00 AM     97 2015-01-09\n",
       "10/01/2015 12:00:00 AM    139 2015-01-10\n",
       "11/01/2015 12:00:00 AM     86 2015-01-11\n",
       "12/01/2015 12:00:00 AM     63 2015-01-12\n",
       "01/01/2016 12:00:00 AM     65 2016-01-01\n",
       "02/01/2016 12:00:00 AM     77 2016-01-02\n",
       "03/01/2016 12:00:00 AM     59 2016-01-03\n",
       "04/01/2016 12:00:00 AM     85 2016-01-04\n",
       "05/01/2016 12:00:00 AM     91 2016-01-05\n",
       "06/01/2016 12:00:00 AM     92 2016-01-06\n",
       "07/01/2016 12:00:00 AM     81 2016-01-07\n",
       "08/01/2016 12:00:00 AM     83 2016-01-08\n",
       "09/01/2016 12:00:00 AM    144 2016-01-09\n",
       "10/01/2016 12:00:00 AM    120 2016-01-10\n",
       "11/01/2016 12:00:00 AM     87 2016-01-11\n",
       "12/01/2016 12:00:00 AM     62 2016-01-12\n",
       "01/01/2017 12:00:00 AM     77 2017-01-01\n",
       "02/01/2017 12:00:00 AM     63 2017-01-02\n",
       "03/01/2017 12:00:00 AM     95 2017-01-03\n",
       "04/01/2017 12:00:00 AM     77 2017-01-04\n",
       "05/01/2017 12:00:00 AM     96 2017-01-05\n",
       "06/01/2017 12:00:00 AM    115 2017-01-06\n",
       "07/01/2017 12:00:00 AM    103 2017-01-07\n",
       "08/01/2017 12:00:00 AM    111 2017-01-08\n",
       "09/01/2017 12:00:00 AM    116 2017-01-09\n",
       "10/01/2017 12:00:00 AM    131 2017-01-10\n",
       "11/01/2017 12:00:00 AM    122 2017-01-11\n",
       "12/01/2017 12:00:00 AM     51 2017-01-12\n",
       "01/01/2018 12:00:00 AM     73 2018-01-01\n",
       "02/01/2018 12:00:00 AM     63 2018-01-02\n",
       "03/01/2018 12:00:00 AM     71 2018-01-03\n",
       "04/01/2018 12:00:00 AM    101 2018-01-04\n",
       "05/01/2018 12:00:00 AM    125 2018-01-05\n",
       "06/01/2018 12:00:00 AM    113 2018-01-06\n",
       "07/01/2018 12:00:00 AM    128 2018-01-07\n",
       "08/01/2018 12:00:00 AM    116 2018-01-08\n",
       "09/01/2018 12:00:00 AM    174 2018-01-09\n",
       "10/01/2018 12:00:00 AM    190 2018-01-10\n",
       "11/01/2018 12:00:00 AM    109 2018-01-11\n",
       "12/01/2018 12:00:00 AM     81 2018-01-12\n",
       "01/01/2019 12:00:00 AM     95 2019-01-01\n",
       "02/01/2019 12:00:00 AM    103 2019-01-02\n",
       "03/01/2019 12:00:00 AM    119 2019-01-03\n",
       "04/01/2019 12:00:00 AM    132 2019-01-04\n",
       "05/01/2019 12:00:00 AM    122 2019-01-05\n",
       "06/01/2019 12:00:00 AM    103 2019-01-06\n",
       "07/01/2019 12:00:00 AM    124 2019-01-07\n",
       "08/01/2019 12:00:00 AM    105 2019-01-08\n",
       "09/01/2019 12:00:00 AM    127 2019-01-09\n",
       "10/01/2019 12:00:00 AM    137 2019-01-10\n",
       "11/01/2019 12:00:00 AM     93 2019-01-11\n",
       "12/01/2019 12:00:00 AM     60 2019-01-12"
      ]
     },
     "execution_count": 25,
     "metadata": {},
     "output_type": "execute_result"
    }
   ],
   "source": [
    "bike_theft_training"
   ]
  },
  {
   "cell_type": "code",
   "execution_count": 26,
   "metadata": {
    "colab": {
     "base_uri": "https://localhost:8080/",
     "height": 312
    },
    "executionInfo": {
     "elapsed": 322,
     "status": "ok",
     "timestamp": 1628867822929,
     "user": {
      "displayName": "Vineet Sivadasan",
      "photoUrl": "",
      "userId": "02154436300300776030"
     },
     "user_tz": -60
    },
    "id": "2VBjyz61svGN",
    "outputId": "4765a6f4-6258-4517-9985-c11ec3ed1618"
   },
   "outputs": [
    {
     "data": {
      "text/plain": [
       "Text(0.5, 1.0, 'bike theft crimes across London')"
      ]
     },
     "execution_count": 26,
     "metadata": {},
     "output_type": "execute_result"
    },
    {
     "data": {
      "image/png": "[encoded data removed]",
      "text/plain": [
       "<Figure size 432x288 with 1 Axes>"
      ]
     },
     "metadata": {
      "needs_background": "light"
     },
     "output_type": "display_data"
    }
   ],
   "source": [
    "# plot the total number of crimes committed in London over the full 7 year period given in the dataset\n",
    "plt.figure()\n",
    "plt.plot(bike_theft_training['date'], bike_theft_training['count'])\n",
    "plt.xlabel(\"date\")\n",
    "plt.ylabel(\"no.of bike theft crimes\")\n",
    "plt.title(\"bike theft crimes across London\")"
   ]
  },
  {
   "cell_type": "code",
   "execution_count": 27,
   "metadata": {
    "colab": {
     "base_uri": "https://localhost:8080/"
    },
    "executionInfo": {
     "elapsed": 11,
     "status": "ok",
     "timestamp": 1628867822930,
     "user": {
      "displayName": "Vineet Sivadasan",
      "photoUrl": "",
      "userId": "02154436300300776030"
     },
     "user_tz": -60
    },
    "id": "ssqd8piAtZaa",
    "outputId": "579996a9-f827-4023-de32-f3df9796dbd5"
   },
   "outputs": [
    {
     "data": {
      "text/plain": [
       "((60, 2), (16, 2))"
      ]
     },
     "execution_count": 27,
     "metadata": {},
     "output_type": "execute_result"
    }
   ],
   "source": [
    "bike_theft_training.shape, bike_theft_validation.shape"
   ]
  },
  {
   "cell_type": "code",
   "execution_count": 28,
   "metadata": {
    "colab": {
     "base_uri": "https://localhost:8080/",
     "height": 1000
    },
    "executionInfo": {
     "elapsed": 10,
     "status": "ok",
     "timestamp": 1628867822930,
     "user": {
      "displayName": "Vineet Sivadasan",
      "photoUrl": "",
      "userId": "02154436300300776030"
     },
     "user_tz": -60
    },
    "id": "ktRoSVV9vlQ6",
    "outputId": "4b2a0580-1031-4b7f-8f4a-caf1e5ec353d"
   },
   "outputs": [
    {
     "data": {
      "text/html": [
       "<div>\n",
       "<style scoped>\n",
       "    .dataframe tbody tr th:only-of-type {\n",
       "        vertical-align: middle;\n",
       "    }\n",
       "\n",
       "    .dataframe tbody tr th {\n",
       "        vertical-align: top;\n",
       "    }\n",
       "\n",
       "    .dataframe thead th {\n",
       "        text-align: right;\n",
       "    }\n",
       "</style>\n",
       "<table border=\"1\" class=\"dataframe\">\n",
       "  <thead>\n",
       "    <tr style=\"text-align: right;\">\n",
       "      <th></th>\n",
       "      <th>ts</th>\n",
       "      <th>ds</th>\n",
       "    </tr>\n",
       "    <tr>\n",
       "      <th>Epoch</th>\n",
       "      <th></th>\n",
       "      <th></th>\n",
       "    </tr>\n",
       "  </thead>\n",
       "  <tbody>\n",
       "    <tr>\n",
       "      <th>01/01/2015 12:00:00 AM</th>\n",
       "      <td>49</td>\n",
       "      <td>2015-01-01</td>\n",
       "    </tr>\n",
       "    <tr>\n",
       "      <th>02/01/2015 12:00:00 AM</th>\n",
       "      <td>59</td>\n",
       "      <td>2015-01-02</td>\n",
       "    </tr>\n",
       "    <tr>\n",
       "      <th>03/01/2015 12:00:00 AM</th>\n",
       "      <td>91</td>\n",
       "      <td>2015-01-03</td>\n",
       "    </tr>\n",
       "    <tr>\n",
       "      <th>04/01/2015 12:00:00 AM</th>\n",
       "      <td>71</td>\n",
       "      <td>2015-01-04</td>\n",
       "    </tr>\n",
       "    <tr>\n",
       "      <th>05/01/2015 12:00:00 AM</th>\n",
       "      <td>106</td>\n",
       "      <td>2015-01-05</td>\n",
       "    </tr>\n",
       "    <tr>\n",
       "      <th>06/01/2015 12:00:00 AM</th>\n",
       "      <td>100</td>\n",
       "      <td>2015-01-06</td>\n",
       "    </tr>\n",
       "    <tr>\n",
       "      <th>07/01/2015 12:00:00 AM</th>\n",
       "      <td>111</td>\n",
       "      <td>2015-01-07</td>\n",
       "    </tr>\n",
       "    <tr>\n",
       "      <th>08/01/2015 12:00:00 AM</th>\n",
       "      <td>89</td>\n",
       "      <td>2015-01-08</td>\n",
       "    </tr>\n",
       "    <tr>\n",
       "      <th>09/01/2015 12:00:00 AM</th>\n",
       "      <td>97</td>\n",
       "      <td>2015-01-09</td>\n",
       "    </tr>\n",
       "    <tr>\n",
       "      <th>10/01/2015 12:00:00 AM</th>\n",
       "      <td>139</td>\n",
       "      <td>2015-01-10</td>\n",
       "    </tr>\n",
       "    <tr>\n",
       "      <th>11/01/2015 12:00:00 AM</th>\n",
       "      <td>86</td>\n",
       "      <td>2015-01-11</td>\n",
       "    </tr>\n",
       "    <tr>\n",
       "      <th>12/01/2015 12:00:00 AM</th>\n",
       "      <td>63</td>\n",
       "      <td>2015-01-12</td>\n",
       "    </tr>\n",
       "    <tr>\n",
       "      <th>01/01/2016 12:00:00 AM</th>\n",
       "      <td>65</td>\n",
       "      <td>2016-01-01</td>\n",
       "    </tr>\n",
       "    <tr>\n",
       "      <th>02/01/2016 12:00:00 AM</th>\n",
       "      <td>77</td>\n",
       "      <td>2016-01-02</td>\n",
       "    </tr>\n",
       "    <tr>\n",
       "      <th>03/01/2016 12:00:00 AM</th>\n",
       "      <td>59</td>\n",
       "      <td>2016-01-03</td>\n",
       "    </tr>\n",
       "    <tr>\n",
       "      <th>04/01/2016 12:00:00 AM</th>\n",
       "      <td>85</td>\n",
       "      <td>2016-01-04</td>\n",
       "    </tr>\n",
       "    <tr>\n",
       "      <th>05/01/2016 12:00:00 AM</th>\n",
       "      <td>91</td>\n",
       "      <td>2016-01-05</td>\n",
       "    </tr>\n",
       "    <tr>\n",
       "      <th>06/01/2016 12:00:00 AM</th>\n",
       "      <td>92</td>\n",
       "      <td>2016-01-06</td>\n",
       "    </tr>\n",
       "    <tr>\n",
       "      <th>07/01/2016 12:00:00 AM</th>\n",
       "      <td>81</td>\n",
       "      <td>2016-01-07</td>\n",
       "    </tr>\n",
       "    <tr>\n",
       "      <th>08/01/2016 12:00:00 AM</th>\n",
       "      <td>83</td>\n",
       "      <td>2016-01-08</td>\n",
       "    </tr>\n",
       "    <tr>\n",
       "      <th>09/01/2016 12:00:00 AM</th>\n",
       "      <td>144</td>\n",
       "      <td>2016-01-09</td>\n",
       "    </tr>\n",
       "    <tr>\n",
       "      <th>10/01/2016 12:00:00 AM</th>\n",
       "      <td>120</td>\n",
       "      <td>2016-01-10</td>\n",
       "    </tr>\n",
       "    <tr>\n",
       "      <th>11/01/2016 12:00:00 AM</th>\n",
       "      <td>87</td>\n",
       "      <td>2016-01-11</td>\n",
       "    </tr>\n",
       "    <tr>\n",
       "      <th>12/01/2016 12:00:00 AM</th>\n",
       "      <td>62</td>\n",
       "      <td>2016-01-12</td>\n",
       "    </tr>\n",
       "    <tr>\n",
       "      <th>01/01/2017 12:00:00 AM</th>\n",
       "      <td>77</td>\n",
       "      <td>2017-01-01</td>\n",
       "    </tr>\n",
       "    <tr>\n",
       "      <th>02/01/2017 12:00:00 AM</th>\n",
       "      <td>63</td>\n",
       "      <td>2017-01-02</td>\n",
       "    </tr>\n",
       "    <tr>\n",
       "      <th>03/01/2017 12:00:00 AM</th>\n",
       "      <td>95</td>\n",
       "      <td>2017-01-03</td>\n",
       "    </tr>\n",
       "    <tr>\n",
       "      <th>04/01/2017 12:00:00 AM</th>\n",
       "      <td>77</td>\n",
       "      <td>2017-01-04</td>\n",
       "    </tr>\n",
       "    <tr>\n",
       "      <th>05/01/2017 12:00:00 AM</th>\n",
       "      <td>96</td>\n",
       "      <td>2017-01-05</td>\n",
       "    </tr>\n",
       "    <tr>\n",
       "      <th>06/01/2017 12:00:00 AM</th>\n",
       "      <td>115</td>\n",
       "      <td>2017-01-06</td>\n",
       "    </tr>\n",
       "    <tr>\n",
       "      <th>07/01/2017 12:00:00 AM</th>\n",
       "      <td>103</td>\n",
       "      <td>2017-01-07</td>\n",
       "    </tr>\n",
       "    <tr>\n",
       "      <th>08/01/2017 12:00:00 AM</th>\n",
       "      <td>111</td>\n",
       "      <td>2017-01-08</td>\n",
       "    </tr>\n",
       "    <tr>\n",
       "      <th>09/01/2017 12:00:00 AM</th>\n",
       "      <td>116</td>\n",
       "      <td>2017-01-09</td>\n",
       "    </tr>\n",
       "    <tr>\n",
       "      <th>10/01/2017 12:00:00 AM</th>\n",
       "      <td>131</td>\n",
       "      <td>2017-01-10</td>\n",
       "    </tr>\n",
       "    <tr>\n",
       "      <th>11/01/2017 12:00:00 AM</th>\n",
       "      <td>122</td>\n",
       "      <td>2017-01-11</td>\n",
       "    </tr>\n",
       "    <tr>\n",
       "      <th>12/01/2017 12:00:00 AM</th>\n",
       "      <td>51</td>\n",
       "      <td>2017-01-12</td>\n",
       "    </tr>\n",
       "    <tr>\n",
       "      <th>01/01/2018 12:00:00 AM</th>\n",
       "      <td>73</td>\n",
       "      <td>2018-01-01</td>\n",
       "    </tr>\n",
       "    <tr>\n",
       "      <th>02/01/2018 12:00:00 AM</th>\n",
       "      <td>63</td>\n",
       "      <td>2018-01-02</td>\n",
       "    </tr>\n",
       "    <tr>\n",
       "      <th>03/01/2018 12:00:00 AM</th>\n",
       "      <td>71</td>\n",
       "      <td>2018-01-03</td>\n",
       "    </tr>\n",
       "    <tr>\n",
       "      <th>04/01/2018 12:00:00 AM</th>\n",
       "      <td>101</td>\n",
       "      <td>2018-01-04</td>\n",
       "    </tr>\n",
       "    <tr>\n",
       "      <th>05/01/2018 12:00:00 AM</th>\n",
       "      <td>125</td>\n",
       "      <td>2018-01-05</td>\n",
       "    </tr>\n",
       "    <tr>\n",
       "      <th>06/01/2018 12:00:00 AM</th>\n",
       "      <td>113</td>\n",
       "      <td>2018-01-06</td>\n",
       "    </tr>\n",
       "    <tr>\n",
       "      <th>07/01/2018 12:00:00 AM</th>\n",
       "      <td>128</td>\n",
       "      <td>2018-01-07</td>\n",
       "    </tr>\n",
       "    <tr>\n",
       "      <th>08/01/2018 12:00:00 AM</th>\n",
       "      <td>116</td>\n",
       "      <td>2018-01-08</td>\n",
       "    </tr>\n",
       "    <tr>\n",
       "      <th>09/01/2018 12:00:00 AM</th>\n",
       "      <td>174</td>\n",
       "      <td>2018-01-09</td>\n",
       "    </tr>\n",
       "    <tr>\n",
       "      <th>10/01/2018 12:00:00 AM</th>\n",
       "      <td>190</td>\n",
       "      <td>2018-01-10</td>\n",
       "    </tr>\n",
       "    <tr>\n",
       "      <th>11/01/2018 12:00:00 AM</th>\n",
       "      <td>109</td>\n",
       "      <td>2018-01-11</td>\n",
       "    </tr>\n",
       "    <tr>\n",
       "      <th>12/01/2018 12:00:00 AM</th>\n",
       "      <td>81</td>\n",
       "      <td>2018-01-12</td>\n",
       "    </tr>\n",
       "    <tr>\n",
       "      <th>01/01/2019 12:00:00 AM</th>\n",
       "      <td>95</td>\n",
       "      <td>2019-01-01</td>\n",
       "    </tr>\n",
       "    <tr>\n",
       "      <th>02/01/2019 12:00:00 AM</th>\n",
       "      <td>103</td>\n",
       "      <td>2019-01-02</td>\n",
       "    </tr>\n",
       "    <tr>\n",
       "      <th>03/01/2019 12:00:00 AM</th>\n",
       "      <td>119</td>\n",
       "      <td>2019-01-03</td>\n",
       "    </tr>\n",
       "    <tr>\n",
       "      <th>04/01/2019 12:00:00 AM</th>\n",
       "      <td>132</td>\n",
       "      <td>2019-01-04</td>\n",
       "    </tr>\n",
       "    <tr>\n",
       "      <th>05/01/2019 12:00:00 AM</th>\n",
       "      <td>122</td>\n",
       "      <td>2019-01-05</td>\n",
       "    </tr>\n",
       "    <tr>\n",
       "      <th>06/01/2019 12:00:00 AM</th>\n",
       "      <td>103</td>\n",
       "      <td>2019-01-06</td>\n",
       "    </tr>\n",
       "    <tr>\n",
       "      <th>07/01/2019 12:00:00 AM</th>\n",
       "      <td>124</td>\n",
       "      <td>2019-01-07</td>\n",
       "    </tr>\n",
       "    <tr>\n",
       "      <th>08/01/2019 12:00:00 AM</th>\n",
       "      <td>105</td>\n",
       "      <td>2019-01-08</td>\n",
       "    </tr>\n",
       "    <tr>\n",
       "      <th>09/01/2019 12:00:00 AM</th>\n",
       "      <td>127</td>\n",
       "      <td>2019-01-09</td>\n",
       "    </tr>\n",
       "    <tr>\n",
       "      <th>10/01/2019 12:00:00 AM</th>\n",
       "      <td>137</td>\n",
       "      <td>2019-01-10</td>\n",
       "    </tr>\n",
       "    <tr>\n",
       "      <th>11/01/2019 12:00:00 AM</th>\n",
       "      <td>93</td>\n",
       "      <td>2019-01-11</td>\n",
       "    </tr>\n",
       "    <tr>\n",
       "      <th>12/01/2019 12:00:00 AM</th>\n",
       "      <td>60</td>\n",
       "      <td>2019-01-12</td>\n",
       "    </tr>\n",
       "  </tbody>\n",
       "</table>\n",
       "</div>"
      ],
      "text/plain": [
       "                         ts         ds\n",
       "Epoch                                 \n",
       "01/01/2015 12:00:00 AM   49 2015-01-01\n",
       "02/01/2015 12:00:00 AM   59 2015-01-02\n",
       "03/01/2015 12:00:00 AM   91 2015-01-03\n",
       "04/01/2015 12:00:00 AM   71 2015-01-04\n",
       "05/01/2015 12:00:00 AM  106 2015-01-05\n",
       "06/01/2015 12:00:00 AM  100 2015-01-06\n",
       "07/01/2015 12:00:00 AM  111 2015-01-07\n",
       "08/01/2015 12:00:00 AM   89 2015-01-08\n",
       "09/01/2015 12:00:00 AM   97 2015-01-09\n",
       "10/01/2015 12:00:00 AM  139 2015-01-10\n",
       "11/01/2015 12:00:00 AM   86 2015-01-11\n",
       "12/01/2015 12:00:00 AM   63 2015-01-12\n",
       "01/01/2016 12:00:00 AM   65 2016-01-01\n",
       "02/01/2016 12:00:00 AM   77 2016-01-02\n",
       "03/01/2016 12:00:00 AM   59 2016-01-03\n",
       "04/01/2016 12:00:00 AM   85 2016-01-04\n",
       "05/01/2016 12:00:00 AM   91 2016-01-05\n",
       "06/01/2016 12:00:00 AM   92 2016-01-06\n",
       "07/01/2016 12:00:00 AM   81 2016-01-07\n",
       "08/01/2016 12:00:00 AM   83 2016-01-08\n",
       "09/01/2016 12:00:00 AM  144 2016-01-09\n",
       "10/01/2016 12:00:00 AM  120 2016-01-10\n",
       "11/01/2016 12:00:00 AM   87 2016-01-11\n",
       "12/01/2016 12:00:00 AM   62 2016-01-12\n",
       "01/01/2017 12:00:00 AM   77 2017-01-01\n",
       "02/01/2017 12:00:00 AM   63 2017-01-02\n",
       "03/01/2017 12:00:00 AM   95 2017-01-03\n",
       "04/01/2017 12:00:00 AM   77 2017-01-04\n",
       "05/01/2017 12:00:00 AM   96 2017-01-05\n",
       "06/01/2017 12:00:00 AM  115 2017-01-06\n",
       "07/01/2017 12:00:00 AM  103 2017-01-07\n",
       "08/01/2017 12:00:00 AM  111 2017-01-08\n",
       "09/01/2017 12:00:00 AM  116 2017-01-09\n",
       "10/01/2017 12:00:00 AM  131 2017-01-10\n",
       "11/01/2017 12:00:00 AM  122 2017-01-11\n",
       "12/01/2017 12:00:00 AM   51 2017-01-12\n",
       "01/01/2018 12:00:00 AM   73 2018-01-01\n",
       "02/01/2018 12:00:00 AM   63 2018-01-02\n",
       "03/01/2018 12:00:00 AM   71 2018-01-03\n",
       "04/01/2018 12:00:00 AM  101 2018-01-04\n",
       "05/01/2018 12:00:00 AM  125 2018-01-05\n",
       "06/01/2018 12:00:00 AM  113 2018-01-06\n",
       "07/01/2018 12:00:00 AM  128 2018-01-07\n",
       "08/01/2018 12:00:00 AM  116 2018-01-08\n",
       "09/01/2018 12:00:00 AM  174 2018-01-09\n",
       "10/01/2018 12:00:00 AM  190 2018-01-10\n",
       "11/01/2018 12:00:00 AM  109 2018-01-11\n",
       "12/01/2018 12:00:00 AM   81 2018-01-12\n",
       "01/01/2019 12:00:00 AM   95 2019-01-01\n",
       "02/01/2019 12:00:00 AM  103 2019-01-02\n",
       "03/01/2019 12:00:00 AM  119 2019-01-03\n",
       "04/01/2019 12:00:00 AM  132 2019-01-04\n",
       "05/01/2019 12:00:00 AM  122 2019-01-05\n",
       "06/01/2019 12:00:00 AM  103 2019-01-06\n",
       "07/01/2019 12:00:00 AM  124 2019-01-07\n",
       "08/01/2019 12:00:00 AM  105 2019-01-08\n",
       "09/01/2019 12:00:00 AM  127 2019-01-09\n",
       "10/01/2019 12:00:00 AM  137 2019-01-10\n",
       "11/01/2019 12:00:00 AM   93 2019-01-11\n",
       "12/01/2019 12:00:00 AM   60 2019-01-12"
      ]
     },
     "execution_count": 28,
     "metadata": {},
     "output_type": "execute_result"
    }
   ],
   "source": [
    "bike_theft_training = bike_theft_training.rename(columns={'date':'ds','count':'ts'})\n",
    "bike_theft_training"
   ]
  },
  {
   "cell_type": "code",
   "execution_count": 29,
   "metadata": {
    "executionInfo": {
     "elapsed": 186,
     "status": "ok",
     "timestamp": 1628867861915,
     "user": {
      "displayName": "Vineet Sivadasan",
      "photoUrl": "",
      "userId": "02154436300300776030"
     },
     "user_tz": -60
    },
    "id": "hkOi9wg4rW7U"
   },
   "outputs": [],
   "source": [
    "bike_theft_training['ts_log']=log_trans(bike_theft_training,'ts')"
   ]
  },
  {
   "cell_type": "markdown",
   "metadata": {
    "id": "ECSsHsAxcxjV"
   },
   "source": [
    "##decompose the log of the full signal of training size bike thefts"
   ]
  },
  {
   "cell_type": "code",
   "execution_count": 30,
   "metadata": {
    "executionInfo": {
     "elapsed": 10,
     "status": "ok",
     "timestamp": 1628867962566,
     "user": {
      "displayName": "Vineet Sivadasan",
      "photoUrl": "",
      "userId": "02154436300300776030"
     },
     "user_tz": -60
    },
    "id": "xCYsGqjGAOk0"
   },
   "outputs": [],
   "source": [
    "decomposition = seasonal_decompose(bike_theft_training['ts_log'], period=12, extrapolate_trend=20)"
   ]
  },
  {
   "cell_type": "code",
   "execution_count": 31,
   "metadata": {
    "colab": {
     "base_uri": "https://localhost:8080/",
     "height": 1000
    },
    "executionInfo": {
     "elapsed": 8,
     "status": "ok",
     "timestamp": 1628867962566,
     "user": {
      "displayName": "Vineet Sivadasan",
      "photoUrl": "",
      "userId": "02154436300300776030"
     },
     "user_tz": -60
    },
    "id": "fqPSyOCAAkpO",
    "outputId": "5b719151-bdd7-4e75-ba72-ec6822e9b2f4"
   },
   "outputs": [
    {
     "data": {
      "text/html": [
       "<div>\n",
       "<style scoped>\n",
       "    .dataframe tbody tr th:only-of-type {\n",
       "        vertical-align: middle;\n",
       "    }\n",
       "\n",
       "    .dataframe tbody tr th {\n",
       "        vertical-align: top;\n",
       "    }\n",
       "\n",
       "    .dataframe thead th {\n",
       "        text-align: right;\n",
       "    }\n",
       "</style>\n",
       "<table border=\"1\" class=\"dataframe\">\n",
       "  <thead>\n",
       "    <tr style=\"text-align: right;\">\n",
       "      <th></th>\n",
       "      <th>ts</th>\n",
       "      <th>ds</th>\n",
       "      <th>ts_log</th>\n",
       "      <th>trend</th>\n",
       "      <th>seasonal</th>\n",
       "      <th>residuals</th>\n",
       "    </tr>\n",
       "    <tr>\n",
       "      <th>Epoch</th>\n",
       "      <th></th>\n",
       "      <th></th>\n",
       "      <th></th>\n",
       "      <th></th>\n",
       "      <th></th>\n",
       "      <th></th>\n",
       "    </tr>\n",
       "  </thead>\n",
       "  <tbody>\n",
       "    <tr>\n",
       "      <th>01/01/2015 12:00:00 AM</th>\n",
       "      <td>49</td>\n",
       "      <td>2015-01-01</td>\n",
       "      <td>3.891820</td>\n",
       "      <td>4.425295</td>\n",
       "      <td>-0.258928</td>\n",
       "      <td>-0.274547</td>\n",
       "    </tr>\n",
       "    <tr>\n",
       "      <th>02/01/2015 12:00:00 AM</th>\n",
       "      <td>59</td>\n",
       "      <td>2015-01-02</td>\n",
       "      <td>4.077537</td>\n",
       "      <td>4.427508</td>\n",
       "      <td>-0.244073</td>\n",
       "      <td>-0.105898</td>\n",
       "    </tr>\n",
       "    <tr>\n",
       "      <th>03/01/2015 12:00:00 AM</th>\n",
       "      <td>91</td>\n",
       "      <td>2015-01-03</td>\n",
       "      <td>4.510860</td>\n",
       "      <td>4.429721</td>\n",
       "      <td>-0.079791</td>\n",
       "      <td>0.160930</td>\n",
       "    </tr>\n",
       "    <tr>\n",
       "      <th>04/01/2015 12:00:00 AM</th>\n",
       "      <td>71</td>\n",
       "      <td>2015-01-04</td>\n",
       "      <td>4.262680</td>\n",
       "      <td>4.431933</td>\n",
       "      <td>-0.009762</td>\n",
       "      <td>-0.159491</td>\n",
       "    </tr>\n",
       "    <tr>\n",
       "      <th>05/01/2015 12:00:00 AM</th>\n",
       "      <td>106</td>\n",
       "      <td>2015-01-05</td>\n",
       "      <td>4.663439</td>\n",
       "      <td>4.434146</td>\n",
       "      <td>0.154048</td>\n",
       "      <td>0.075245</td>\n",
       "    </tr>\n",
       "    <tr>\n",
       "      <th>06/01/2015 12:00:00 AM</th>\n",
       "      <td>100</td>\n",
       "      <td>2015-01-06</td>\n",
       "      <td>4.605170</td>\n",
       "      <td>4.436359</td>\n",
       "      <td>0.125965</td>\n",
       "      <td>0.042846</td>\n",
       "    </tr>\n",
       "    <tr>\n",
       "      <th>07/01/2015 12:00:00 AM</th>\n",
       "      <td>111</td>\n",
       "      <td>2015-01-07</td>\n",
       "      <td>4.709530</td>\n",
       "      <td>4.454802</td>\n",
       "      <td>0.122702</td>\n",
       "      <td>0.132027</td>\n",
       "    </tr>\n",
       "    <tr>\n",
       "      <th>08/01/2015 12:00:00 AM</th>\n",
       "      <td>89</td>\n",
       "      <td>2015-01-08</td>\n",
       "      <td>4.488636</td>\n",
       "      <td>4.477670</td>\n",
       "      <td>0.032324</td>\n",
       "      <td>-0.021358</td>\n",
       "    </tr>\n",
       "    <tr>\n",
       "      <th>09/01/2015 12:00:00 AM</th>\n",
       "      <td>97</td>\n",
       "      <td>2015-01-09</td>\n",
       "      <td>4.574711</td>\n",
       "      <td>4.470709</td>\n",
       "      <td>0.277881</td>\n",
       "      <td>-0.173880</td>\n",
       "    </tr>\n",
       "    <tr>\n",
       "      <th>10/01/2015 12:00:00 AM</th>\n",
       "      <td>139</td>\n",
       "      <td>2015-01-10</td>\n",
       "      <td>4.934474</td>\n",
       "      <td>4.460153</td>\n",
       "      <td>0.360116</td>\n",
       "      <td>0.114205</td>\n",
       "    </tr>\n",
       "    <tr>\n",
       "      <th>11/01/2015 12:00:00 AM</th>\n",
       "      <td>86</td>\n",
       "      <td>2015-01-11</td>\n",
       "      <td>4.454347</td>\n",
       "      <td>4.461295</td>\n",
       "      <td>-0.012336</td>\n",
       "      <td>0.005389</td>\n",
       "    </tr>\n",
       "    <tr>\n",
       "      <th>12/01/2015 12:00:00 AM</th>\n",
       "      <td>63</td>\n",
       "      <td>2015-01-12</td>\n",
       "      <td>4.143135</td>\n",
       "      <td>4.451463</td>\n",
       "      <td>-0.468146</td>\n",
       "      <td>0.159817</td>\n",
       "    </tr>\n",
       "    <tr>\n",
       "      <th>01/01/2016 12:00:00 AM</th>\n",
       "      <td>65</td>\n",
       "      <td>2016-01-01</td>\n",
       "      <td>4.174387</td>\n",
       "      <td>4.434860</td>\n",
       "      <td>-0.258928</td>\n",
       "      <td>-0.001545</td>\n",
       "    </tr>\n",
       "    <tr>\n",
       "      <th>02/01/2016 12:00:00 AM</th>\n",
       "      <td>77</td>\n",
       "      <td>2016-01-02</td>\n",
       "      <td>4.343805</td>\n",
       "      <td>4.418824</td>\n",
       "      <td>-0.244073</td>\n",
       "      <td>0.169054</td>\n",
       "    </tr>\n",
       "    <tr>\n",
       "      <th>03/01/2016 12:00:00 AM</th>\n",
       "      <td>59</td>\n",
       "      <td>2016-01-03</td>\n",
       "      <td>4.077537</td>\n",
       "      <td>4.432378</td>\n",
       "      <td>-0.079791</td>\n",
       "      <td>-0.275049</td>\n",
       "    </tr>\n",
       "    <tr>\n",
       "      <th>04/01/2016 12:00:00 AM</th>\n",
       "      <td>85</td>\n",
       "      <td>2016-01-04</td>\n",
       "      <td>4.442651</td>\n",
       "      <td>4.442716</td>\n",
       "      <td>-0.009762</td>\n",
       "      <td>0.009697</td>\n",
       "    </tr>\n",
       "    <tr>\n",
       "      <th>05/01/2016 12:00:00 AM</th>\n",
       "      <td>91</td>\n",
       "      <td>2016-01-05</td>\n",
       "      <td>4.510860</td>\n",
       "      <td>4.437074</td>\n",
       "      <td>0.154048</td>\n",
       "      <td>-0.080263</td>\n",
       "    </tr>\n",
       "    <tr>\n",
       "      <th>06/01/2016 12:00:00 AM</th>\n",
       "      <td>92</td>\n",
       "      <td>2016-01-06</td>\n",
       "      <td>4.521789</td>\n",
       "      <td>4.436889</td>\n",
       "      <td>0.125965</td>\n",
       "      <td>-0.041066</td>\n",
       "    </tr>\n",
       "    <tr>\n",
       "      <th>07/01/2016 12:00:00 AM</th>\n",
       "      <td>81</td>\n",
       "      <td>2016-01-07</td>\n",
       "      <td>4.394449</td>\n",
       "      <td>4.443281</td>\n",
       "      <td>0.122702</td>\n",
       "      <td>-0.171534</td>\n",
       "    </tr>\n",
       "    <tr>\n",
       "      <th>08/01/2016 12:00:00 AM</th>\n",
       "      <td>83</td>\n",
       "      <td>2016-01-08</td>\n",
       "      <td>4.418841</td>\n",
       "      <td>4.441979</td>\n",
       "      <td>0.032324</td>\n",
       "      <td>-0.055463</td>\n",
       "    </tr>\n",
       "    <tr>\n",
       "      <th>09/01/2016 12:00:00 AM</th>\n",
       "      <td>144</td>\n",
       "      <td>2016-01-09</td>\n",
       "      <td>4.969813</td>\n",
       "      <td>4.453465</td>\n",
       "      <td>0.277881</td>\n",
       "      <td>0.238467</td>\n",
       "    </tr>\n",
       "    <tr>\n",
       "      <th>10/01/2016 12:00:00 AM</th>\n",
       "      <td>120</td>\n",
       "      <td>2016-01-10</td>\n",
       "      <td>4.787492</td>\n",
       "      <td>4.469194</td>\n",
       "      <td>0.360116</td>\n",
       "      <td>-0.041818</td>\n",
       "    </tr>\n",
       "    <tr>\n",
       "      <th>11/01/2016 12:00:00 AM</th>\n",
       "      <td>87</td>\n",
       "      <td>2016-01-11</td>\n",
       "      <td>4.465908</td>\n",
       "      <td>4.467304</td>\n",
       "      <td>-0.012336</td>\n",
       "      <td>0.010940</td>\n",
       "    </tr>\n",
       "    <tr>\n",
       "      <th>12/01/2016 12:00:00 AM</th>\n",
       "      <td>62</td>\n",
       "      <td>2016-01-12</td>\n",
       "      <td>4.127134</td>\n",
       "      <td>4.478831</td>\n",
       "      <td>-0.468146</td>\n",
       "      <td>0.116449</td>\n",
       "    </tr>\n",
       "    <tr>\n",
       "      <th>01/01/2017 12:00:00 AM</th>\n",
       "      <td>77</td>\n",
       "      <td>2017-01-01</td>\n",
       "      <td>4.343805</td>\n",
       "      <td>4.498140</td>\n",
       "      <td>-0.258928</td>\n",
       "      <td>0.104593</td>\n",
       "    </tr>\n",
       "    <tr>\n",
       "      <th>02/01/2017 12:00:00 AM</th>\n",
       "      <td>63</td>\n",
       "      <td>2017-01-02</td>\n",
       "      <td>4.143135</td>\n",
       "      <td>4.520264</td>\n",
       "      <td>-0.244073</td>\n",
       "      <td>-0.133056</td>\n",
       "    </tr>\n",
       "    <tr>\n",
       "      <th>03/01/2017 12:00:00 AM</th>\n",
       "      <td>95</td>\n",
       "      <td>2017-01-03</td>\n",
       "      <td>4.553877</td>\n",
       "      <td>4.523366</td>\n",
       "      <td>-0.079791</td>\n",
       "      <td>0.110302</td>\n",
       "    </tr>\n",
       "    <tr>\n",
       "      <th>04/01/2017 12:00:00 AM</th>\n",
       "      <td>77</td>\n",
       "      <td>2017-01-04</td>\n",
       "      <td>4.343805</td>\n",
       "      <td>4.518012</td>\n",
       "      <td>-0.009762</td>\n",
       "      <td>-0.164444</td>\n",
       "    </tr>\n",
       "    <tr>\n",
       "      <th>05/01/2017 12:00:00 AM</th>\n",
       "      <td>96</td>\n",
       "      <td>2017-01-05</td>\n",
       "      <td>4.564348</td>\n",
       "      <td>4.535754</td>\n",
       "      <td>0.154048</td>\n",
       "      <td>-0.125454</td>\n",
       "    </tr>\n",
       "    <tr>\n",
       "      <th>06/01/2017 12:00:00 AM</th>\n",
       "      <td>115</td>\n",
       "      <td>2017-01-06</td>\n",
       "      <td>4.744932</td>\n",
       "      <td>4.541704</td>\n",
       "      <td>0.125965</td>\n",
       "      <td>0.077263</td>\n",
       "    </tr>\n",
       "    <tr>\n",
       "      <th>07/01/2017 12:00:00 AM</th>\n",
       "      <td>103</td>\n",
       "      <td>2017-01-07</td>\n",
       "      <td>4.634729</td>\n",
       "      <td>4.531344</td>\n",
       "      <td>0.122702</td>\n",
       "      <td>-0.019316</td>\n",
       "    </tr>\n",
       "    <tr>\n",
       "      <th>08/01/2017 12:00:00 AM</th>\n",
       "      <td>111</td>\n",
       "      <td>2017-01-08</td>\n",
       "      <td>4.709530</td>\n",
       "      <td>4.529121</td>\n",
       "      <td>0.032324</td>\n",
       "      <td>0.148085</td>\n",
       "    </tr>\n",
       "    <tr>\n",
       "      <th>09/01/2017 12:00:00 AM</th>\n",
       "      <td>116</td>\n",
       "      <td>2017-01-09</td>\n",
       "      <td>4.753590</td>\n",
       "      <td>4.516988</td>\n",
       "      <td>0.277881</td>\n",
       "      <td>-0.041279</td>\n",
       "    </tr>\n",
       "    <tr>\n",
       "      <th>10/01/2017 12:00:00 AM</th>\n",
       "      <td>131</td>\n",
       "      <td>2017-01-10</td>\n",
       "      <td>4.875197</td>\n",
       "      <td>4.516159</td>\n",
       "      <td>0.360116</td>\n",
       "      <td>-0.001078</td>\n",
       "    </tr>\n",
       "    <tr>\n",
       "      <th>11/01/2017 12:00:00 AM</th>\n",
       "      <td>122</td>\n",
       "      <td>2017-01-11</td>\n",
       "      <td>4.804021</td>\n",
       "      <td>4.538463</td>\n",
       "      <td>-0.012336</td>\n",
       "      <td>0.277895</td>\n",
       "    </tr>\n",
       "    <tr>\n",
       "      <th>12/01/2017 12:00:00 AM</th>\n",
       "      <td>51</td>\n",
       "      <td>2017-01-12</td>\n",
       "      <td>3.931826</td>\n",
       "      <td>4.548730</td>\n",
       "      <td>-0.468146</td>\n",
       "      <td>-0.148759</td>\n",
       "    </tr>\n",
       "    <tr>\n",
       "      <th>01/01/2018 12:00:00 AM</th>\n",
       "      <td>73</td>\n",
       "      <td>2018-01-01</td>\n",
       "      <td>4.290459</td>\n",
       "      <td>4.557053</td>\n",
       "      <td>-0.258928</td>\n",
       "      <td>-0.007666</td>\n",
       "    </tr>\n",
       "    <tr>\n",
       "      <th>02/01/2018 12:00:00 AM</th>\n",
       "      <td>63</td>\n",
       "      <td>2018-01-02</td>\n",
       "      <td>4.143135</td>\n",
       "      <td>4.567943</td>\n",
       "      <td>-0.244073</td>\n",
       "      <td>-0.180736</td>\n",
       "    </tr>\n",
       "    <tr>\n",
       "      <th>03/01/2018 12:00:00 AM</th>\n",
       "      <td>71</td>\n",
       "      <td>2018-01-03</td>\n",
       "      <td>4.262680</td>\n",
       "      <td>4.586674</td>\n",
       "      <td>-0.079791</td>\n",
       "      <td>-0.244202</td>\n",
       "    </tr>\n",
       "    <tr>\n",
       "      <th>04/01/2018 12:00:00 AM</th>\n",
       "      <td>101</td>\n",
       "      <td>2018-01-04</td>\n",
       "      <td>4.615121</td>\n",
       "      <td>4.619061</td>\n",
       "      <td>-0.009762</td>\n",
       "      <td>0.005822</td>\n",
       "    </tr>\n",
       "    <tr>\n",
       "      <th>05/01/2018 12:00:00 AM</th>\n",
       "      <td>125</td>\n",
       "      <td>2018-01-05</td>\n",
       "      <td>4.828314</td>\n",
       "      <td>4.629859</td>\n",
       "      <td>0.154048</td>\n",
       "      <td>0.044407</td>\n",
       "    </tr>\n",
       "    <tr>\n",
       "      <th>06/01/2018 12:00:00 AM</th>\n",
       "      <td>113</td>\n",
       "      <td>2018-01-06</td>\n",
       "      <td>4.727388</td>\n",
       "      <td>4.644440</td>\n",
       "      <td>0.125965</td>\n",
       "      <td>-0.043018</td>\n",
       "    </tr>\n",
       "    <tr>\n",
       "      <th>07/01/2018 12:00:00 AM</th>\n",
       "      <td>128</td>\n",
       "      <td>2018-01-07</td>\n",
       "      <td>4.852030</td>\n",
       "      <td>4.674692</td>\n",
       "      <td>0.122702</td>\n",
       "      <td>0.054637</td>\n",
       "    </tr>\n",
       "    <tr>\n",
       "      <th>08/01/2018 12:00:00 AM</th>\n",
       "      <td>116</td>\n",
       "      <td>2018-01-08</td>\n",
       "      <td>4.753590</td>\n",
       "      <td>4.706151</td>\n",
       "      <td>0.032324</td>\n",
       "      <td>0.015115</td>\n",
       "    </tr>\n",
       "    <tr>\n",
       "      <th>09/01/2018 12:00:00 AM</th>\n",
       "      <td>174</td>\n",
       "      <td>2018-01-09</td>\n",
       "      <td>5.159055</td>\n",
       "      <td>4.748152</td>\n",
       "      <td>0.277881</td>\n",
       "      <td>0.133022</td>\n",
       "    </tr>\n",
       "    <tr>\n",
       "      <th>10/01/2018 12:00:00 AM</th>\n",
       "      <td>190</td>\n",
       "      <td>2018-01-10</td>\n",
       "      <td>5.247024</td>\n",
       "      <td>4.780824</td>\n",
       "      <td>0.360116</td>\n",
       "      <td>0.106084</td>\n",
       "    </tr>\n",
       "    <tr>\n",
       "      <th>11/01/2018 12:00:00 AM</th>\n",
       "      <td>109</td>\n",
       "      <td>2018-01-11</td>\n",
       "      <td>4.691348</td>\n",
       "      <td>4.790965</td>\n",
       "      <td>-0.012336</td>\n",
       "      <td>-0.087281</td>\n",
       "    </tr>\n",
       "    <tr>\n",
       "      <th>12/01/2018 12:00:00 AM</th>\n",
       "      <td>81</td>\n",
       "      <td>2018-01-12</td>\n",
       "      <td>4.394449</td>\n",
       "      <td>4.786092</td>\n",
       "      <td>-0.468146</td>\n",
       "      <td>0.076502</td>\n",
       "    </tr>\n",
       "    <tr>\n",
       "      <th>01/01/2019 12:00:00 AM</th>\n",
       "      <td>95</td>\n",
       "      <td>2019-01-01</td>\n",
       "      <td>4.553877</td>\n",
       "      <td>4.780909</td>\n",
       "      <td>-0.258928</td>\n",
       "      <td>0.031896</td>\n",
       "    </tr>\n",
       "    <tr>\n",
       "      <th>02/01/2019 12:00:00 AM</th>\n",
       "      <td>103</td>\n",
       "      <td>2019-01-02</td>\n",
       "      <td>4.634729</td>\n",
       "      <td>4.775435</td>\n",
       "      <td>-0.244073</td>\n",
       "      <td>0.103367</td>\n",
       "    </tr>\n",
       "    <tr>\n",
       "      <th>03/01/2019 12:00:00 AM</th>\n",
       "      <td>119</td>\n",
       "      <td>2019-01-03</td>\n",
       "      <td>4.779123</td>\n",
       "      <td>4.758164</td>\n",
       "      <td>-0.079791</td>\n",
       "      <td>0.100751</td>\n",
       "    </tr>\n",
       "    <tr>\n",
       "      <th>04/01/2019 12:00:00 AM</th>\n",
       "      <td>132</td>\n",
       "      <td>2019-01-04</td>\n",
       "      <td>4.882802</td>\n",
       "      <td>4.731417</td>\n",
       "      <td>-0.009762</td>\n",
       "      <td>0.161147</td>\n",
       "    </tr>\n",
       "    <tr>\n",
       "      <th>05/01/2019 12:00:00 AM</th>\n",
       "      <td>122</td>\n",
       "      <td>2019-01-05</td>\n",
       "      <td>4.804021</td>\n",
       "      <td>4.711176</td>\n",
       "      <td>0.154048</td>\n",
       "      <td>-0.061203</td>\n",
       "    </tr>\n",
       "    <tr>\n",
       "      <th>06/01/2019 12:00:00 AM</th>\n",
       "      <td>103</td>\n",
       "      <td>2019-01-06</td>\n",
       "      <td>4.634729</td>\n",
       "      <td>4.692057</td>\n",
       "      <td>0.125965</td>\n",
       "      <td>-0.183294</td>\n",
       "    </tr>\n",
       "    <tr>\n",
       "      <th>07/01/2019 12:00:00 AM</th>\n",
       "      <td>124</td>\n",
       "      <td>2019-01-07</td>\n",
       "      <td>4.820282</td>\n",
       "      <td>4.840662</td>\n",
       "      <td>0.122702</td>\n",
       "      <td>-0.143082</td>\n",
       "    </tr>\n",
       "    <tr>\n",
       "      <th>08/01/2019 12:00:00 AM</th>\n",
       "      <td>105</td>\n",
       "      <td>2019-01-08</td>\n",
       "      <td>4.653960</td>\n",
       "      <td>4.855284</td>\n",
       "      <td>0.032324</td>\n",
       "      <td>-0.233648</td>\n",
       "    </tr>\n",
       "    <tr>\n",
       "      <th>09/01/2019 12:00:00 AM</th>\n",
       "      <td>127</td>\n",
       "      <td>2019-01-09</td>\n",
       "      <td>4.844187</td>\n",
       "      <td>4.869905</td>\n",
       "      <td>0.277881</td>\n",
       "      <td>-0.303599</td>\n",
       "    </tr>\n",
       "    <tr>\n",
       "      <th>10/01/2019 12:00:00 AM</th>\n",
       "      <td>137</td>\n",
       "      <td>2019-01-10</td>\n",
       "      <td>4.919981</td>\n",
       "      <td>4.884526</td>\n",
       "      <td>0.360116</td>\n",
       "      <td>-0.324661</td>\n",
       "    </tr>\n",
       "    <tr>\n",
       "      <th>11/01/2019 12:00:00 AM</th>\n",
       "      <td>93</td>\n",
       "      <td>2019-01-11</td>\n",
       "      <td>4.532599</td>\n",
       "      <td>4.899147</td>\n",
       "      <td>-0.012336</td>\n",
       "      <td>-0.354211</td>\n",
       "    </tr>\n",
       "    <tr>\n",
       "      <th>12/01/2019 12:00:00 AM</th>\n",
       "      <td>60</td>\n",
       "      <td>2019-01-12</td>\n",
       "      <td>4.094345</td>\n",
       "      <td>4.913769</td>\n",
       "      <td>-0.468146</td>\n",
       "      <td>-0.351279</td>\n",
       "    </tr>\n",
       "  </tbody>\n",
       "</table>\n",
       "</div>"
      ],
      "text/plain": [
       "                         ts         ds    ts_log     trend  seasonal  \\\n",
       "Epoch                                                                  \n",
       "01/01/2015 12:00:00 AM   49 2015-01-01  3.891820  4.425295 -0.258928   \n",
       "02/01/2015 12:00:00 AM   59 2015-01-02  4.077537  4.427508 -0.244073   \n",
       "03/01/2015 12:00:00 AM   91 2015-01-03  4.510860  4.429721 -0.079791   \n",
       "04/01/2015 12:00:00 AM   71 2015-01-04  4.262680  4.431933 -0.009762   \n",
       "05/01/2015 12:00:00 AM  106 2015-01-05  4.663439  4.434146  0.154048   \n",
       "06/01/2015 12:00:00 AM  100 2015-01-06  4.605170  4.436359  0.125965   \n",
       "07/01/2015 12:00:00 AM  111 2015-01-07  4.709530  4.454802  0.122702   \n",
       "08/01/2015 12:00:00 AM   89 2015-01-08  4.488636  4.477670  0.032324   \n",
       "09/01/2015 12:00:00 AM   97 2015-01-09  4.574711  4.470709  0.277881   \n",
       "10/01/2015 12:00:00 AM  139 2015-01-10  4.934474  4.460153  0.360116   \n",
       "11/01/2015 12:00:00 AM   86 2015-01-11  4.454347  4.461295 -0.012336   \n",
       "12/01/2015 12:00:00 AM   63 2015-01-12  4.143135  4.451463 -0.468146   \n",
       "01/01/2016 12:00:00 AM   65 2016-01-01  4.174387  4.434860 -0.258928   \n",
       "02/01/2016 12:00:00 AM   77 2016-01-02  4.343805  4.418824 -0.244073   \n",
       "03/01/2016 12:00:00 AM   59 2016-01-03  4.077537  4.432378 -0.079791   \n",
       "04/01/2016 12:00:00 AM   85 2016-01-04  4.442651  4.442716 -0.009762   \n",
       "05/01/2016 12:00:00 AM   91 2016-01-05  4.510860  4.437074  0.154048   \n",
       "06/01/2016 12:00:00 AM   92 2016-01-06  4.521789  4.436889  0.125965   \n",
       "07/01/2016 12:00:00 AM   81 2016-01-07  4.394449  4.443281  0.122702   \n",
       "08/01/2016 12:00:00 AM   83 2016-01-08  4.418841  4.441979  0.032324   \n",
       "09/01/2016 12:00:00 AM  144 2016-01-09  4.969813  4.453465  0.277881   \n",
       "10/01/2016 12:00:00 AM  120 2016-01-10  4.787492  4.469194  0.360116   \n",
       "11/01/2016 12:00:00 AM   87 2016-01-11  4.465908  4.467304 -0.012336   \n",
       "12/01/2016 12:00:00 AM   62 2016-01-12  4.127134  4.478831 -0.468146   \n",
       "01/01/2017 12:00:00 AM   77 2017-01-01  4.343805  4.498140 -0.258928   \n",
       "02/01/2017 12:00:00 AM   63 2017-01-02  4.143135  4.520264 -0.244073   \n",
       "03/01/2017 12:00:00 AM   95 2017-01-03  4.553877  4.523366 -0.079791   \n",
       "04/01/2017 12:00:00 AM   77 2017-01-04  4.343805  4.518012 -0.009762   \n",
       "05/01/2017 12:00:00 AM   96 2017-01-05  4.564348  4.535754  0.154048   \n",
       "06/01/2017 12:00:00 AM  115 2017-01-06  4.744932  4.541704  0.125965   \n",
       "07/01/2017 12:00:00 AM  103 2017-01-07  4.634729  4.531344  0.122702   \n",
       "08/01/2017 12:00:00 AM  111 2017-01-08  4.709530  4.529121  0.032324   \n",
       "09/01/2017 12:00:00 AM  116 2017-01-09  4.753590  4.516988  0.277881   \n",
       "10/01/2017 12:00:00 AM  131 2017-01-10  4.875197  4.516159  0.360116   \n",
       "11/01/2017 12:00:00 AM  122 2017-01-11  4.804021  4.538463 -0.012336   \n",
       "12/01/2017 12:00:00 AM   51 2017-01-12  3.931826  4.548730 -0.468146   \n",
       "01/01/2018 12:00:00 AM   73 2018-01-01  4.290459  4.557053 -0.258928   \n",
       "02/01/2018 12:00:00 AM   63 2018-01-02  4.143135  4.567943 -0.244073   \n",
       "03/01/2018 12:00:00 AM   71 2018-01-03  4.262680  4.586674 -0.079791   \n",
       "04/01/2018 12:00:00 AM  101 2018-01-04  4.615121  4.619061 -0.009762   \n",
       "05/01/2018 12:00:00 AM  125 2018-01-05  4.828314  4.629859  0.154048   \n",
       "06/01/2018 12:00:00 AM  113 2018-01-06  4.727388  4.644440  0.125965   \n",
       "07/01/2018 12:00:00 AM  128 2018-01-07  4.852030  4.674692  0.122702   \n",
       "08/01/2018 12:00:00 AM  116 2018-01-08  4.753590  4.706151  0.032324   \n",
       "09/01/2018 12:00:00 AM  174 2018-01-09  5.159055  4.748152  0.277881   \n",
       "10/01/2018 12:00:00 AM  190 2018-01-10  5.247024  4.780824  0.360116   \n",
       "11/01/2018 12:00:00 AM  109 2018-01-11  4.691348  4.790965 -0.012336   \n",
       "12/01/2018 12:00:00 AM   81 2018-01-12  4.394449  4.786092 -0.468146   \n",
       "01/01/2019 12:00:00 AM   95 2019-01-01  4.553877  4.780909 -0.258928   \n",
       "02/01/2019 12:00:00 AM  103 2019-01-02  4.634729  4.775435 -0.244073   \n",
       "03/01/2019 12:00:00 AM  119 2019-01-03  4.779123  4.758164 -0.079791   \n",
       "04/01/2019 12:00:00 AM  132 2019-01-04  4.882802  4.731417 -0.009762   \n",
       "05/01/2019 12:00:00 AM  122 2019-01-05  4.804021  4.711176  0.154048   \n",
       "06/01/2019 12:00:00 AM  103 2019-01-06  4.634729  4.692057  0.125965   \n",
       "07/01/2019 12:00:00 AM  124 2019-01-07  4.820282  4.840662  0.122702   \n",
       "08/01/2019 12:00:00 AM  105 2019-01-08  4.653960  4.855284  0.032324   \n",
       "09/01/2019 12:00:00 AM  127 2019-01-09  4.844187  4.869905  0.277881   \n",
       "10/01/2019 12:00:00 AM  137 2019-01-10  4.919981  4.884526  0.360116   \n",
       "11/01/2019 12:00:00 AM   93 2019-01-11  4.532599  4.899147 -0.012336   \n",
       "12/01/2019 12:00:00 AM   60 2019-01-12  4.094345  4.913769 -0.468146   \n",
       "\n",
       "                        residuals  \n",
       "Epoch                              \n",
       "01/01/2015 12:00:00 AM  -0.274547  \n",
       "02/01/2015 12:00:00 AM  -0.105898  \n",
       "03/01/2015 12:00:00 AM   0.160930  \n",
       "04/01/2015 12:00:00 AM  -0.159491  \n",
       "05/01/2015 12:00:00 AM   0.075245  \n",
       "06/01/2015 12:00:00 AM   0.042846  \n",
       "07/01/2015 12:00:00 AM   0.132027  \n",
       "08/01/2015 12:00:00 AM  -0.021358  \n",
       "09/01/2015 12:00:00 AM  -0.173880  \n",
       "10/01/2015 12:00:00 AM   0.114205  \n",
       "11/01/2015 12:00:00 AM   0.005389  \n",
       "12/01/2015 12:00:00 AM   0.159817  \n",
       "01/01/2016 12:00:00 AM  -0.001545  \n",
       "02/01/2016 12:00:00 AM   0.169054  \n",
       "03/01/2016 12:00:00 AM  -0.275049  \n",
       "04/01/2016 12:00:00 AM   0.009697  \n",
       "05/01/2016 12:00:00 AM  -0.080263  \n",
       "06/01/2016 12:00:00 AM  -0.041066  \n",
       "07/01/2016 12:00:00 AM  -0.171534  \n",
       "08/01/2016 12:00:00 AM  -0.055463  \n",
       "09/01/2016 12:00:00 AM   0.238467  \n",
       "10/01/2016 12:00:00 AM  -0.041818  \n",
       "11/01/2016 12:00:00 AM   0.010940  \n",
       "12/01/2016 12:00:00 AM   0.116449  \n",
       "01/01/2017 12:00:00 AM   0.104593  \n",
       "02/01/2017 12:00:00 AM  -0.133056  \n",
       "03/01/2017 12:00:00 AM   0.110302  \n",
       "04/01/2017 12:00:00 AM  -0.164444  \n",
       "05/01/2017 12:00:00 AM  -0.125454  \n",
       "06/01/2017 12:00:00 AM   0.077263  \n",
       "07/01/2017 12:00:00 AM  -0.019316  \n",
       "08/01/2017 12:00:00 AM   0.148085  \n",
       "09/01/2017 12:00:00 AM  -0.041279  \n",
       "10/01/2017 12:00:00 AM  -0.001078  \n",
       "11/01/2017 12:00:00 AM   0.277895  \n",
       "12/01/2017 12:00:00 AM  -0.148759  \n",
       "01/01/2018 12:00:00 AM  -0.007666  \n",
       "02/01/2018 12:00:00 AM  -0.180736  \n",
       "03/01/2018 12:00:00 AM  -0.244202  \n",
       "04/01/2018 12:00:00 AM   0.005822  \n",
       "05/01/2018 12:00:00 AM   0.044407  \n",
       "06/01/2018 12:00:00 AM  -0.043018  \n",
       "07/01/2018 12:00:00 AM   0.054637  \n",
       "08/01/2018 12:00:00 AM   0.015115  \n",
       "09/01/2018 12:00:00 AM   0.133022  \n",
       "10/01/2018 12:00:00 AM   0.106084  \n",
       "11/01/2018 12:00:00 AM  -0.087281  \n",
       "12/01/2018 12:00:00 AM   0.076502  \n",
       "01/01/2019 12:00:00 AM   0.031896  \n",
       "02/01/2019 12:00:00 AM   0.103367  \n",
       "03/01/2019 12:00:00 AM   0.100751  \n",
       "04/01/2019 12:00:00 AM   0.161147  \n",
       "05/01/2019 12:00:00 AM  -0.061203  \n",
       "06/01/2019 12:00:00 AM  -0.183294  \n",
       "07/01/2019 12:00:00 AM  -0.143082  \n",
       "08/01/2019 12:00:00 AM  -0.233648  \n",
       "09/01/2019 12:00:00 AM  -0.303599  \n",
       "10/01/2019 12:00:00 AM  -0.324661  \n",
       "11/01/2019 12:00:00 AM  -0.354211  \n",
       "12/01/2019 12:00:00 AM  -0.351279  "
      ]
     },
     "execution_count": 31,
     "metadata": {},
     "output_type": "execute_result"
    }
   ],
   "source": [
    "New_Bike_theft_trDF=bike_theft_training\n",
    "New_Bike_theft_trDF.loc[:,'trend']=decomposition.trend\n",
    "New_Bike_theft_trDF.loc[:,'seasonal']=decomposition.seasonal\n",
    "New_Bike_theft_trDF.loc[:,'residuals']=decomposition.resid\n",
    "New_Bike_theft_trDF"
   ]
  },
  {
   "cell_type": "code",
   "execution_count": 48,
   "metadata": {
    "colab": {
     "base_uri": "https://localhost:8080/",
     "height": 383
    },
    "executionInfo": {
     "elapsed": 1120,
     "status": "ok",
     "timestamp": 1628867869456,
     "user": {
      "displayName": "Vineet Sivadasan",
      "photoUrl": "",
      "userId": "02154436300300776030"
     },
     "user_tz": -60
    },
    "id": "8mJERwP8Axpy",
    "outputId": "8242de0b-fb74-4094-8d7a-ceef04bc3d5a"
   },
   "outputs": [
    {
     "data": {
      "image/png": "[encoded data removed]",
      "text/plain": [
       "<Figure size 1080x360 with 4 Axes>"
      ]
     },
     "metadata": {
      "needs_background": "light"
     },
     "output_type": "display_data"
    }
   ],
   "source": [
    "plot_decomposition(New_Bike_theft_trDF,'ts_log',trend='trend', seasonal='seasonal',residual='residuals')"
   ]
  },
  {
   "cell_type": "code",
   "execution_count": 53,
   "metadata": {
    "colab": {
     "base_uri": "https://localhost:8080/",
     "height": 533
    },
    "executionInfo": {
     "elapsed": 15,
     "status": "ok",
     "timestamp": 1628867869456,
     "user": {
      "displayName": "Vineet Sivadasan",
      "photoUrl": "",
      "userId": "02154436300300776030"
     },
     "user_tz": -60
    },
    "id": "HPbqh-6hCpTL",
    "outputId": "528ccd13-acc1-40ef-c381-3fcb0f4da7eb"
   },
   "outputs": [
    {
     "data": {
      "image/png": "[encoded data removed]",
      "text/plain": [
       "<Figure size 432x288 with 1 Axes>"
      ]
     },
     "metadata": {
      "needs_background": "light"
     },
     "output_type": "display_data"
    },
    {
     "name": "stdout",
     "output_type": "stream",
     "text": [
      "Results:\n",
      "Test Statistic            -4.362565\n",
      "p-value                    0.000346\n",
      "# Lags Used                0.000000\n",
      "Number of Observations    59.000000\n",
      "Critical value(1%)        -3.546395\n",
      "Critical value(5%)        -2.911939\n",
      "Critical value(10%)       -2.593652\n",
      "dtype: float64\n"
     ]
    }
   ],
   "source": [
    "test_stationary(New_Bike_theft_trDF,'ts_log')"
   ]
  },
  {
   "cell_type": "code",
   "execution_count": 54,
   "metadata": {
    "colab": {
     "base_uri": "https://localhost:8080/",
     "height": 533
    },
    "executionInfo": {
     "elapsed": 280,
     "status": "ok",
     "timestamp": 1628867869951,
     "user": {
      "displayName": "Vineet Sivadasan",
      "photoUrl": "",
      "userId": "02154436300300776030"
     },
     "user_tz": -60
    },
    "id": "CicCIeCXHf8N",
    "outputId": "da52e9ba-be67-4a75-c708-b157e29935a2"
   },
   "outputs": [
    {
     "data": {
      "image/png": "[encoded data removed]",
      "text/plain": [
       "<Figure size 432x288 with 1 Axes>"
      ]
     },
     "metadata": {
      "needs_background": "light"
     },
     "output_type": "display_data"
    },
    {
     "name": "stdout",
     "output_type": "stream",
     "text": [
      "Results:\n",
      "Test Statistic             1.060906\n",
      "p-value                    0.994869\n",
      "# Lags Used                0.000000\n",
      "Number of Observations    59.000000\n",
      "Critical value(1%)        -3.546395\n",
      "Critical value(5%)        -2.911939\n",
      "Critical value(10%)       -2.593652\n",
      "dtype: float64\n"
     ]
    }
   ],
   "source": [
    "test_stationary(New_Bike_theft_trDF,'trend')"
   ]
  },
  {
   "cell_type": "code",
   "execution_count": 55,
   "metadata": {
    "colab": {
     "base_uri": "https://localhost:8080/",
     "height": 533
    },
    "executionInfo": {
     "elapsed": 850,
     "status": "ok",
     "timestamp": 1628867870796,
     "user": {
      "displayName": "Vineet Sivadasan",
      "photoUrl": "",
      "userId": "02154436300300776030"
     },
     "user_tz": -60
    },
    "id": "cfrDUeixHjwq",
    "outputId": "4dab0aed-c58c-4efe-8307-1874e8104a51"
   },
   "outputs": [
    {
     "data": {
      "image/png": "[encoded data removed]",
      "text/plain": [
       "<Figure size 432x288 with 1 Axes>"
      ]
     },
     "metadata": {
      "needs_background": "light"
     },
     "output_type": "display_data"
    },
    {
     "name": "stdout",
     "output_type": "stream",
     "text": [
      "Results:\n",
      "Test Statistic           -1.727800e+15\n",
      "p-value                   0.000000e+00\n",
      "# Lags Used               1.100000e+01\n",
      "Number of Observations    4.800000e+01\n",
      "Critical value(1%)       -3.574589e+00\n",
      "Critical value(5%)       -2.923954e+00\n",
      "Critical value(10%)      -2.600039e+00\n",
      "dtype: float64\n"
     ]
    }
   ],
   "source": [
    "test_stationary(New_Bike_theft_trDF,'seasonal')"
   ]
  },
  {
   "cell_type": "code",
   "execution_count": 56,
   "metadata": {
    "colab": {
     "base_uri": "https://localhost:8080/",
     "height": 533
    },
    "executionInfo": {
     "elapsed": 8,
     "status": "ok",
     "timestamp": 1628867870797,
     "user": {
      "displayName": "Vineet Sivadasan",
      "photoUrl": "",
      "userId": "02154436300300776030"
     },
     "user_tz": -60
    },
    "id": "RIBfySRmHo01",
    "outputId": "2b2399da-cec4-4334-dc1c-2a115349540b"
   },
   "outputs": [
    {
     "data": {
      "image/png": "[encoded data removed]",
      "text/plain": [
       "<Figure size 432x288 with 1 Axes>"
      ]
     },
     "metadata": {
      "needs_background": "light"
     },
     "output_type": "display_data"
    },
    {
     "name": "stdout",
     "output_type": "stream",
     "text": [
      "Results:\n",
      "Test Statistic            -2.137691\n",
      "p-value                    0.229631\n",
      "# Lags Used               11.000000\n",
      "Number of Observations    48.000000\n",
      "Critical value(1%)        -3.574589\n",
      "Critical value(5%)        -2.923954\n",
      "Critical value(10%)       -2.600039\n",
      "dtype: float64\n"
     ]
    }
   ],
   "source": [
    "test_stationary(New_Bike_theft_trDF, 'residuals')"
   ]
  },
  {
   "cell_type": "code",
   "execution_count": 57,
   "metadata": {
    "colab": {
     "base_uri": "https://localhost:8080/",
     "height": 364
    },
    "executionInfo": {
     "elapsed": 91024,
     "status": "ok",
     "timestamp": 1628867961815,
     "user": {
      "displayName": "Vineet Sivadasan",
      "photoUrl": "",
      "userId": "02154436300300776030"
     },
     "user_tz": -60
    },
    "id": "a5p1rGibHuC5",
    "outputId": "105e699a-a52b-4444-cb12-d13ab9180b56"
   },
   "outputs": [
    {
     "name": "stderr",
     "output_type": "stream",
     "text": [
      "c:\\users\\vineet sivadasan\\appdata\\local\\programs\\python\\python39\\lib\\site-packages\\statsmodels\\tsa\\arima_model.py:472: FutureWarning: \n",
      "statsmodels.tsa.arima_model.ARMA and statsmodels.tsa.arima_model.ARIMA have\n",
      "been deprecated in favor of statsmodels.tsa.arima.model.ARIMA (note the .\n",
      "between arima and model) and\n",
      "statsmodels.tsa.SARIMAX. These will be removed after the 0.12 release.\n",
      "\n",
      "statsmodels.tsa.arima.model.ARIMA makes use of the statespace framework and\n",
      "is both well tested and maintained.\n",
      "\n",
      "To silence this warning and continue using ARMA and ARIMA until they are\n",
      "removed, use:\n",
      "\n",
      "import warnings\n",
      "warnings.filterwarnings('ignore', 'statsmodels.tsa.arima_model.ARMA',\n",
      "                        FutureWarning)\n",
      "warnings.filterwarnings('ignore', 'statsmodels.tsa.arima_model.ARIMA',\n",
      "                        FutureWarning)\n",
      "\n",
      "  warnings.warn(ARIMA_DEPRECATION_WARN, FutureWarning)\n",
      "c:\\users\\vineet sivadasan\\appdata\\local\\programs\\python\\python39\\lib\\site-packages\\statsmodels\\tsa\\base\\tsa_model.py:524: ValueWarning: No frequency information was provided, so inferred frequency MS will be used.\n",
      "  warnings.warn('No frequency information was'\n",
      "c:\\users\\vineet sivadasan\\appdata\\local\\programs\\python\\python39\\lib\\site-packages\\statsmodels\\base\\model.py:547: HessianInversionWarning: Inverting hessian failed, no bse or cov_params available\n",
      "  warnings.warn('Inverting hessian failed, no bse or cov_params '\n",
      "c:\\users\\vineet sivadasan\\appdata\\local\\programs\\python\\python39\\lib\\site-packages\\statsmodels\\base\\model.py:566: ConvergenceWarning: Maximum Likelihood optimization failed to converge. Check mle_retvals\n",
      "  warnings.warn(\"Maximum Likelihood optimization failed to \"\n"
     ]
    },
    {
     "name": "stdout",
     "output_type": "stream",
     "text": [
      "rmse: 0.2424525672476772\n"
     ]
    },
    {
     "data": {
      "image/png": "[encoded data removed]",
      "text/plain": [
       "<Figure size 432x288 with 1 Axes>"
      ]
     },
     "metadata": {
      "needs_background": "light"
     },
     "output_type": "display_data"
    }
   ],
   "source": [
    "model_AR=run_Arima(df=New_Bike_theft_trDF,ts='ts_log', p=18,d=0,q=0)"
   ]
  },
  {
   "cell_type": "code",
   "execution_count": 90,
   "metadata": {
    "executionInfo": {
     "elapsed": 20,
     "status": "ok",
     "timestamp": 1628867961816,
     "user": {
      "displayName": "Vineet Sivadasan",
      "photoUrl": "",
      "userId": "02154436300300776030"
     },
     "user_tz": -60
    },
    "id": "mfZb62ad8Xuj"
   },
   "outputs": [],
   "source": [
    "model_AR.save('/content/gdrive/MyDrive/Colab Notebooks/ONS_crime/ARIMA_model_forecast_residuals(p=18, freq=12).pkl')"
   ]
  },
  {
   "cell_type": "code",
   "execution_count": 91,
   "metadata": {
    "executionInfo": {
     "elapsed": 19,
     "status": "ok",
     "timestamp": 1628867961816,
     "user": {
      "displayName": "Vineet Sivadasan",
      "photoUrl": "",
      "userId": "02154436300300776030"
     },
     "user_tz": -60
    },
    "id": "JFy9ynV0_CEY"
   },
   "outputs": [],
   "source": [
    "my_forecast = model_AR.forecast(200)"
   ]
  },
  {
   "cell_type": "code",
   "execution_count": 92,
   "metadata": {
    "colab": {
     "base_uri": "https://localhost:8080/"
    },
    "executionInfo": {
     "elapsed": 19,
     "status": "ok",
     "timestamp": 1628867961817,
     "user": {
      "displayName": "Vineet Sivadasan",
      "photoUrl": "",
      "userId": "02154436300300776030"
     },
     "user_tz": -60
    },
    "id": "oFSbbxfr_Fvy",
    "outputId": "f4fce233-84ee-44a0-f51b-cdec744d6b16"
   },
   "outputs": [
    {
     "data": {
      "text/plain": [
       "array([4.3294153 , 4.49614107, 4.77654205, 4.79396102, 4.62639369,\n",
       "       4.61641492, 4.74233269, 4.76282834, 4.88878675, 4.7876056 ,\n",
       "       4.49775714, 4.2330662 , 4.36912073, 4.60968441, 4.84747809,\n",
       "       4.80434282, 4.66010322, 4.56608532, 4.73950974, 4.83663234,\n",
       "       4.87094166, 4.69374215, 4.4111002 , 4.27046477, 4.43787461,\n",
       "       4.66825285, 4.85659874, 4.78121982, 4.61920528, 4.57021528,\n",
       "       4.73237826, 4.86291155, 4.85409537, 4.60666664, 4.36819648,\n",
       "       4.30310807, 4.51143499, 4.7472172 , 4.85369471, 4.74043737,\n",
       "       4.59152157, 4.578553  , 4.75555865, 4.872878  , 4.80819042,\n",
       "       4.5467539 , 4.33401358, 4.34742835, 4.58843231, 4.80172433,\n",
       "       4.8445866 , 4.68975644, 4.5631022 , 4.60053368, 4.78126238,\n",
       "       4.87161567, 4.75500209, 4.48662069, 4.324444  , 4.40204685,\n",
       "       4.66126932, 4.84190463, 4.81685764, 4.64215263, 4.54394583,\n",
       "       4.62727263, 4.81022355, 4.85803474, 4.69608036, 4.43620959,\n",
       "       4.32985991, 4.46801229, 4.72850109, 4.86082174, 4.77920414,\n",
       "       4.59595066, 4.5371153 , 4.66098718, 4.8329067 , 4.83494635,\n",
       "       4.6344301 , 4.39618508, 4.35249974, 4.53882049, 4.78625935,\n",
       "       4.8618041 , 4.73174661, 4.55677595, 4.54268958, 4.69839602,\n",
       "       4.84883905, 4.80044251, 4.57403764, 4.36958888, 4.38938368,\n",
       "       4.61170136, 4.83054481, 4.84595867, 4.67977879, 4.52630001,\n",
       "       4.56056635, 4.73706579, 4.85484418, 4.75701696, 4.5172436 ,\n",
       "       4.35789286, 4.43896202, 4.68162146, 4.85965412, 4.81542665,\n",
       "       4.62710932, 4.50744778, 4.58873249, 4.77386401, 4.8498729 ,\n",
       "       4.70630753, 4.46748334, 4.36165539, 4.49798497, 4.74510916,\n",
       "       4.87203452, 4.77328912, 4.57790163, 4.50135066, 4.62514731,\n",
       "       4.80551169, 4.83327502, 4.65124179, 4.42737474, 4.3807218 ,\n",
       "       4.56293389, 4.79853186, 4.86779925, 4.72299651, 4.5357629 ,\n",
       "       4.5085296 , 4.66673944, 4.82929242, 4.80533159, 4.59486548,\n",
       "       4.39939489, 4.4138675 , 4.6299213 , 4.83910599, 4.84785494,\n",
       "       4.6685629 , 4.50369205, 4.52831734, 4.7102645 , 4.84288072,\n",
       "       4.76722116, 4.54052604, 4.3852014 , 4.4591564 , 4.69493709,\n",
       "       4.8647927 , 4.81419058, 4.6140375 , 4.48392428, 4.55914607,\n",
       "       4.75223206, 4.84476098, 4.7208822 , 4.49152498, 4.38572554,\n",
       "       4.51384027, 4.75416354, 4.87450286, 4.76956734, 4.56339917,\n",
       "       4.4777338 , 4.5986307 , 4.78929121, 4.83421313, 4.66894471,\n",
       "       4.45092158, 4.40099032, 4.57462713, 4.80414385, 4.86815255,\n",
       "       4.71739859, 4.52021979, 4.48541981, 4.64375381, 4.81842738,\n",
       "       4.81143655, 4.61450365, 4.42132194, 4.43012218, 4.63782977,\n",
       "       4.84203428, 4.84665308, 4.66150039, 4.48747983, 4.50627049,\n",
       "       4.69110127, 4.83719311, 4.77751512, 4.56093204, 4.40467962])"
      ]
     },
     "execution_count": 92,
     "metadata": {
      "tags": []
     },
     "output_type": "execute_result"
    }
   ],
   "source": [
    "my_forecast[0]"
   ]
  },
  {
   "cell_type": "code",
   "execution_count": 93,
   "metadata": {
    "colab": {
     "base_uri": "https://localhost:8080/",
     "height": 282
    },
    "executionInfo": {
     "elapsed": 762,
     "status": "ok",
     "timestamp": 1628867962565,
     "user": {
      "displayName": "Vineet Sivadasan",
      "photoUrl": "",
      "userId": "02154436300300776030"
     },
     "user_tz": -60
    },
    "id": "WnFW1Dmu_JkD",
    "outputId": "50abd568-9147-42b6-a479-5c0b49d5c5cf"
   },
   "outputs": [
    {
     "data": {
      "text/plain": [
       "[<matplotlib.lines.Line2D at 0x7f922476ba90>]"
      ]
     },
     "execution_count": 93,
     "metadata": {
      "tags": []
     },
     "output_type": "execute_result"
    },
    {
     "data": {
      "image/png": "[encoded data removed]",
      "text/plain": [
       "<Figure size 432x288 with 1 Axes>"
      ]
     },
     "metadata": {
      "needs_background": "light",
      "tags": []
     },
     "output_type": "display_data"
    }
   ],
   "source": [
    "plt.figure()\n",
    "plt.plot(my_forecast[0])"
   ]
  },
  {
   "cell_type": "markdown",
   "metadata": {
    "id": "BvCcldhrJJf7"
   },
   "source": [
    "##Now let's look to forecast on the validation set"
   ]
  },
  {
   "cell_type": "code",
   "execution_count": 96,
   "metadata": {
    "colab": {
     "base_uri": "https://localhost:8080/",
     "height": 576
    },
    "executionInfo": {
     "elapsed": 216,
     "status": "ok",
     "timestamp": 1628868164135,
     "user": {
      "displayName": "Vineet Sivadasan",
      "photoUrl": "",
      "userId": "02154436300300776030"
     },
     "user_tz": -60
    },
    "id": "wfYrNljxAoD3",
    "outputId": "9dfeda8f-7581-4a71-bbde-d0bdbcf435ac"
   },
   "outputs": [
    {
     "data": {
      "text/html": [
       "<div>\n",
       "<style scoped>\n",
       "    .dataframe tbody tr th:only-of-type {\n",
       "        vertical-align: middle;\n",
       "    }\n",
       "\n",
       "    .dataframe tbody tr th {\n",
       "        vertical-align: top;\n",
       "    }\n",
       "\n",
       "    .dataframe thead th {\n",
       "        text-align: right;\n",
       "    }\n",
       "</style>\n",
       "<table border=\"1\" class=\"dataframe\">\n",
       "  <thead>\n",
       "    <tr style=\"text-align: right;\">\n",
       "      <th></th>\n",
       "      <th>ts</th>\n",
       "      <th>ds</th>\n",
       "    </tr>\n",
       "    <tr>\n",
       "      <th>Epoch</th>\n",
       "      <th></th>\n",
       "      <th></th>\n",
       "    </tr>\n",
       "  </thead>\n",
       "  <tbody>\n",
       "    <tr>\n",
       "      <th>01/01/2020 12:00:00 AM</th>\n",
       "      <td>96</td>\n",
       "      <td>2020-01-01</td>\n",
       "    </tr>\n",
       "    <tr>\n",
       "      <th>02/01/2020 12:00:00 AM</th>\n",
       "      <td>90</td>\n",
       "      <td>2020-02-01</td>\n",
       "    </tr>\n",
       "    <tr>\n",
       "      <th>03/01/2020 12:00:00 AM</th>\n",
       "      <td>117</td>\n",
       "      <td>2020-03-01</td>\n",
       "    </tr>\n",
       "    <tr>\n",
       "      <th>04/01/2020 12:00:00 AM</th>\n",
       "      <td>83</td>\n",
       "      <td>2020-04-01</td>\n",
       "    </tr>\n",
       "    <tr>\n",
       "      <th>05/01/2020 12:00:00 AM</th>\n",
       "      <td>144</td>\n",
       "      <td>2020-05-01</td>\n",
       "    </tr>\n",
       "    <tr>\n",
       "      <th>06/01/2020 12:00:00 AM</th>\n",
       "      <td>156</td>\n",
       "      <td>2020-06-01</td>\n",
       "    </tr>\n",
       "    <tr>\n",
       "      <th>07/01/2020 12:00:00 AM</th>\n",
       "      <td>181</td>\n",
       "      <td>2020-07-01</td>\n",
       "    </tr>\n",
       "    <tr>\n",
       "      <th>08/01/2020 12:00:00 AM</th>\n",
       "      <td>173</td>\n",
       "      <td>2020-08-01</td>\n",
       "    </tr>\n",
       "    <tr>\n",
       "      <th>09/01/2020 12:00:00 AM</th>\n",
       "      <td>140</td>\n",
       "      <td>2020-09-01</td>\n",
       "    </tr>\n",
       "    <tr>\n",
       "      <th>10/01/2020 12:00:00 AM</th>\n",
       "      <td>165</td>\n",
       "      <td>2020-10-01</td>\n",
       "    </tr>\n",
       "    <tr>\n",
       "      <th>11/01/2020 12:00:00 AM</th>\n",
       "      <td>152</td>\n",
       "      <td>2020-11-01</td>\n",
       "    </tr>\n",
       "    <tr>\n",
       "      <th>12/01/2020 12:00:00 AM</th>\n",
       "      <td>86</td>\n",
       "      <td>2020-12-01</td>\n",
       "    </tr>\n",
       "    <tr>\n",
       "      <th>01/01/2021 12:00:00 AM</th>\n",
       "      <td>70</td>\n",
       "      <td>2021-01-01</td>\n",
       "    </tr>\n",
       "    <tr>\n",
       "      <th>02/01/2021 12:00:00 AM</th>\n",
       "      <td>80</td>\n",
       "      <td>2021-02-01</td>\n",
       "    </tr>\n",
       "    <tr>\n",
       "      <th>03/01/2021 12:00:00 AM</th>\n",
       "      <td>105</td>\n",
       "      <td>2021-03-01</td>\n",
       "    </tr>\n",
       "    <tr>\n",
       "      <th>04/01/2021 12:00:00 AM</th>\n",
       "      <td>113</td>\n",
       "      <td>2021-04-01</td>\n",
       "    </tr>\n",
       "  </tbody>\n",
       "</table>\n",
       "</div>"
      ],
      "text/plain": [
       "                         ts         ds\n",
       "Epoch                                 \n",
       "01/01/2020 12:00:00 AM   96 2020-01-01\n",
       "02/01/2020 12:00:00 AM   90 2020-02-01\n",
       "03/01/2020 12:00:00 AM  117 2020-03-01\n",
       "04/01/2020 12:00:00 AM   83 2020-04-01\n",
       "05/01/2020 12:00:00 AM  144 2020-05-01\n",
       "06/01/2020 12:00:00 AM  156 2020-06-01\n",
       "07/01/2020 12:00:00 AM  181 2020-07-01\n",
       "08/01/2020 12:00:00 AM  173 2020-08-01\n",
       "09/01/2020 12:00:00 AM  140 2020-09-01\n",
       "10/01/2020 12:00:00 AM  165 2020-10-01\n",
       "11/01/2020 12:00:00 AM  152 2020-11-01\n",
       "12/01/2020 12:00:00 AM   86 2020-12-01\n",
       "01/01/2021 12:00:00 AM   70 2021-01-01\n",
       "02/01/2021 12:00:00 AM   80 2021-02-01\n",
       "03/01/2021 12:00:00 AM  105 2021-03-01\n",
       "04/01/2021 12:00:00 AM  113 2021-04-01"
      ]
     },
     "execution_count": 96,
     "metadata": {
      "tags": []
     },
     "output_type": "execute_result"
    }
   ],
   "source": [
    "bike_theft_validation = bike_theft_validation.rename(columns={'date':'ds','count':'ts'})\n",
    "bike_theft_validation"
   ]
  },
  {
   "cell_type": "code",
   "execution_count": 97,
   "metadata": {
    "executionInfo": {
     "elapsed": 215,
     "status": "ok",
     "timestamp": 1628868167213,
     "user": {
      "displayName": "Vineet Sivadasan",
      "photoUrl": "",
      "userId": "02154436300300776030"
     },
     "user_tz": -60
    },
    "id": "Qi8Pq64CJGSA"
   },
   "outputs": [],
   "source": [
    "bike_theft_validation['ts_log']=log_trans(bike_theft_validation,'ts')"
   ]
  },
  {
   "cell_type": "markdown",
   "metadata": {
    "id": "M8XcyXrvJGSB"
   },
   "source": [
    "##decompose the log of the full signal of validation size bike thefts"
   ]
  },
  {
   "cell_type": "code",
   "execution_count": 98,
   "metadata": {
    "executionInfo": {
     "elapsed": 200,
     "status": "ok",
     "timestamp": 1628868169362,
     "user": {
      "displayName": "Vineet Sivadasan",
      "photoUrl": "",
      "userId": "02154436300300776030"
     },
     "user_tz": -60
    },
    "id": "Y2zHTy0QJGSB"
   },
   "outputs": [],
   "source": [
    "decomposition = seasonal_decompose(bike_theft_validation['ts_log'], freq=3, extrapolate_trend=20)"
   ]
  },
  {
   "cell_type": "code",
   "execution_count": 99,
   "metadata": {
    "colab": {
     "base_uri": "https://localhost:8080/",
     "height": 576
    },
    "executionInfo": {
     "elapsed": 5,
     "status": "ok",
     "timestamp": 1628868170540,
     "user": {
      "displayName": "Vineet Sivadasan",
      "photoUrl": "",
      "userId": "02154436300300776030"
     },
     "user_tz": -60
    },
    "id": "T3FmmIMoJGSB",
    "outputId": "c195fb19-262a-4d9c-8ae5-975ff1005387"
   },
   "outputs": [
    {
     "data": {
      "text/html": [
       "<div>\n",
       "<style scoped>\n",
       "    .dataframe tbody tr th:only-of-type {\n",
       "        vertical-align: middle;\n",
       "    }\n",
       "\n",
       "    .dataframe tbody tr th {\n",
       "        vertical-align: top;\n",
       "    }\n",
       "\n",
       "    .dataframe thead th {\n",
       "        text-align: right;\n",
       "    }\n",
       "</style>\n",
       "<table border=\"1\" class=\"dataframe\">\n",
       "  <thead>\n",
       "    <tr style=\"text-align: right;\">\n",
       "      <th></th>\n",
       "      <th>ts</th>\n",
       "      <th>ds</th>\n",
       "      <th>ts_log</th>\n",
       "      <th>trend</th>\n",
       "      <th>seasonal</th>\n",
       "      <th>residuals</th>\n",
       "    </tr>\n",
       "    <tr>\n",
       "      <th>Epoch</th>\n",
       "      <th></th>\n",
       "      <th></th>\n",
       "      <th></th>\n",
       "      <th></th>\n",
       "      <th></th>\n",
       "      <th></th>\n",
       "    </tr>\n",
       "  </thead>\n",
       "  <tbody>\n",
       "    <tr>\n",
       "      <th>01/01/2020 12:00:00 AM</th>\n",
       "      <td>96</td>\n",
       "      <td>2020-01-01</td>\n",
       "      <td>4.564348</td>\n",
       "      <td>4.896271</td>\n",
       "      <td>-0.075227</td>\n",
       "      <td>-0.256695</td>\n",
       "    </tr>\n",
       "    <tr>\n",
       "      <th>02/01/2020 12:00:00 AM</th>\n",
       "      <td>90</td>\n",
       "      <td>2020-02-01</td>\n",
       "      <td>4.499810</td>\n",
       "      <td>4.608777</td>\n",
       "      <td>0.059732</td>\n",
       "      <td>-0.168700</td>\n",
       "    </tr>\n",
       "    <tr>\n",
       "      <th>03/01/2020 12:00:00 AM</th>\n",
       "      <td>117</td>\n",
       "      <td>2020-03-01</td>\n",
       "      <td>4.762174</td>\n",
       "      <td>4.560275</td>\n",
       "      <td>0.015495</td>\n",
       "      <td>0.186404</td>\n",
       "    </tr>\n",
       "    <tr>\n",
       "      <th>04/01/2020 12:00:00 AM</th>\n",
       "      <td>83</td>\n",
       "      <td>2020-04-01</td>\n",
       "      <td>4.418841</td>\n",
       "      <td>4.716943</td>\n",
       "      <td>-0.075227</td>\n",
       "      <td>-0.222875</td>\n",
       "    </tr>\n",
       "    <tr>\n",
       "      <th>05/01/2020 12:00:00 AM</th>\n",
       "      <td>144</td>\n",
       "      <td>2020-05-01</td>\n",
       "      <td>4.969813</td>\n",
       "      <td>4.812837</td>\n",
       "      <td>0.059732</td>\n",
       "      <td>0.097244</td>\n",
       "    </tr>\n",
       "    <tr>\n",
       "      <th>06/01/2020 12:00:00 AM</th>\n",
       "      <td>156</td>\n",
       "      <td>2020-06-01</td>\n",
       "      <td>5.049856</td>\n",
       "      <td>5.072722</td>\n",
       "      <td>0.015495</td>\n",
       "      <td>-0.038361</td>\n",
       "    </tr>\n",
       "    <tr>\n",
       "      <th>07/01/2020 12:00:00 AM</th>\n",
       "      <td>181</td>\n",
       "      <td>2020-07-01</td>\n",
       "      <td>5.198497</td>\n",
       "      <td>5.133882</td>\n",
       "      <td>-0.075227</td>\n",
       "      <td>0.139843</td>\n",
       "    </tr>\n",
       "    <tr>\n",
       "      <th>08/01/2020 12:00:00 AM</th>\n",
       "      <td>173</td>\n",
       "      <td>2020-08-01</td>\n",
       "      <td>5.153292</td>\n",
       "      <td>5.097810</td>\n",
       "      <td>0.059732</td>\n",
       "      <td>-0.004251</td>\n",
       "    </tr>\n",
       "    <tr>\n",
       "      <th>09/01/2020 12:00:00 AM</th>\n",
       "      <td>140</td>\n",
       "      <td>2020-09-01</td>\n",
       "      <td>4.941642</td>\n",
       "      <td>5.066960</td>\n",
       "      <td>0.015495</td>\n",
       "      <td>-0.140812</td>\n",
       "    </tr>\n",
       "    <tr>\n",
       "      <th>10/01/2020 12:00:00 AM</th>\n",
       "      <td>165</td>\n",
       "      <td>2020-10-01</td>\n",
       "      <td>5.105945</td>\n",
       "      <td>5.023823</td>\n",
       "      <td>-0.075227</td>\n",
       "      <td>0.157350</td>\n",
       "    </tr>\n",
       "    <tr>\n",
       "      <th>11/01/2020 12:00:00 AM</th>\n",
       "      <td>152</td>\n",
       "      <td>2020-11-01</td>\n",
       "      <td>5.023881</td>\n",
       "      <td>4.861391</td>\n",
       "      <td>0.059732</td>\n",
       "      <td>0.102757</td>\n",
       "    </tr>\n",
       "    <tr>\n",
       "      <th>12/01/2020 12:00:00 AM</th>\n",
       "      <td>86</td>\n",
       "      <td>2020-12-01</td>\n",
       "      <td>4.454347</td>\n",
       "      <td>4.575574</td>\n",
       "      <td>0.015495</td>\n",
       "      <td>-0.136722</td>\n",
       "    </tr>\n",
       "    <tr>\n",
       "      <th>01/01/2021 12:00:00 AM</th>\n",
       "      <td>70</td>\n",
       "      <td>2021-01-01</td>\n",
       "      <td>4.248495</td>\n",
       "      <td>4.361623</td>\n",
       "      <td>-0.075227</td>\n",
       "      <td>-0.037901</td>\n",
       "    </tr>\n",
       "    <tr>\n",
       "      <th>02/01/2021 12:00:00 AM</th>\n",
       "      <td>80</td>\n",
       "      <td>2021-02-01</td>\n",
       "      <td>4.382027</td>\n",
       "      <td>4.428161</td>\n",
       "      <td>0.059732</td>\n",
       "      <td>-0.105867</td>\n",
       "    </tr>\n",
       "    <tr>\n",
       "      <th>03/01/2021 12:00:00 AM</th>\n",
       "      <td>105</td>\n",
       "      <td>2021-03-01</td>\n",
       "      <td>4.653960</td>\n",
       "      <td>4.587792</td>\n",
       "      <td>0.015495</td>\n",
       "      <td>0.050674</td>\n",
       "    </tr>\n",
       "    <tr>\n",
       "      <th>04/01/2021 12:00:00 AM</th>\n",
       "      <td>113</td>\n",
       "      <td>2021-04-01</td>\n",
       "      <td>4.727388</td>\n",
       "      <td>4.676917</td>\n",
       "      <td>-0.075227</td>\n",
       "      <td>0.125698</td>\n",
       "    </tr>\n",
       "  </tbody>\n",
       "</table>\n",
       "</div>"
      ],
      "text/plain": [
       "                         ts         ds    ts_log     trend  seasonal  residuals\n",
       "Epoch                                                                          \n",
       "01/01/2020 12:00:00 AM   96 2020-01-01  4.564348  4.896271 -0.075227  -0.256695\n",
       "02/01/2020 12:00:00 AM   90 2020-02-01  4.499810  4.608777  0.059732  -0.168700\n",
       "03/01/2020 12:00:00 AM  117 2020-03-01  4.762174  4.560275  0.015495   0.186404\n",
       "04/01/2020 12:00:00 AM   83 2020-04-01  4.418841  4.716943 -0.075227  -0.222875\n",
       "05/01/2020 12:00:00 AM  144 2020-05-01  4.969813  4.812837  0.059732   0.097244\n",
       "06/01/2020 12:00:00 AM  156 2020-06-01  5.049856  5.072722  0.015495  -0.038361\n",
       "07/01/2020 12:00:00 AM  181 2020-07-01  5.198497  5.133882 -0.075227   0.139843\n",
       "08/01/2020 12:00:00 AM  173 2020-08-01  5.153292  5.097810  0.059732  -0.004251\n",
       "09/01/2020 12:00:00 AM  140 2020-09-01  4.941642  5.066960  0.015495  -0.140812\n",
       "10/01/2020 12:00:00 AM  165 2020-10-01  5.105945  5.023823 -0.075227   0.157350\n",
       "11/01/2020 12:00:00 AM  152 2020-11-01  5.023881  4.861391  0.059732   0.102757\n",
       "12/01/2020 12:00:00 AM   86 2020-12-01  4.454347  4.575574  0.015495  -0.136722\n",
       "01/01/2021 12:00:00 AM   70 2021-01-01  4.248495  4.361623 -0.075227  -0.037901\n",
       "02/01/2021 12:00:00 AM   80 2021-02-01  4.382027  4.428161  0.059732  -0.105867\n",
       "03/01/2021 12:00:00 AM  105 2021-03-01  4.653960  4.587792  0.015495   0.050674\n",
       "04/01/2021 12:00:00 AM  113 2021-04-01  4.727388  4.676917 -0.075227   0.125698"
      ]
     },
     "execution_count": 99,
     "metadata": {
      "tags": []
     },
     "output_type": "execute_result"
    }
   ],
   "source": [
    "New_Bike_theft_vlDF=bike_theft_validation\n",
    "New_Bike_theft_vlDF.loc[:,'trend']=decomposition.trend\n",
    "New_Bike_theft_vlDF.loc[:,'seasonal']=decomposition.seasonal\n",
    "New_Bike_theft_vlDF.loc[:,'residuals']=decomposition.resid\n",
    "New_Bike_theft_vlDF"
   ]
  },
  {
   "cell_type": "code",
   "execution_count": 47,
   "metadata": {
    "colab": {
     "base_uri": "https://localhost:8080/",
     "height": 383
    },
    "executionInfo": {
     "elapsed": 932,
     "status": "ok",
     "timestamp": 1628865920299,
     "user": {
      "displayName": "Vineet Sivadasan",
      "photoUrl": "",
      "userId": "02154436300300776030"
     },
     "user_tz": -60
    },
    "id": "zpSKl7_8JGSB",
    "outputId": "42385781-a2b6-40f6-d476-f49e74071006"
   },
   "outputs": [
    {
     "data": {
      "image/png": "[encoded data removed]",
      "text/plain": [
       "<Figure size 1080x360 with 4 Axes>"
      ]
     },
     "metadata": {
      "needs_background": "light",
      "tags": []
     },
     "output_type": "display_data"
    }
   ],
   "source": [
    "plot_decomposition(New_Bike_theft_vlDF,'ts_log',trend='trend', seasonal='seasonal',residual='residuals')"
   ]
  },
  {
   "cell_type": "code",
   "execution_count": 100,
   "metadata": {
    "executionInfo": {
     "elapsed": 198,
     "status": "ok",
     "timestamp": 1628868181851,
     "user": {
      "displayName": "Vineet Sivadasan",
      "photoUrl": "",
      "userId": "02154436300300776030"
     },
     "user_tz": -60
    },
    "id": "yUxuXZDiSZub"
   },
   "outputs": [],
   "source": [
    "def test_stationary_val(df, ts):\n",
    "  #determine Rolling Statistics\n",
    "  rolmean = df[ts].rolling(window=12, center = False).mean()\n",
    "  rolstd = df[ts].rolling(window=12, center = False).std()\n",
    " \n",
    "  orig = plt.plot(df[ts],color='blue',label='Original')\n",
    "  mean = plt.plot(rolmean,color='red', label='Rolling Mean')\n",
    "  std = plt.plot(rolstd, color='black', label='Rolling StD')\n",
    " \n",
    "  plt.legend(loc='best')\n",
    "  plt.title('Rolling Mean and Standard Deviation for %s' %(ts))\n",
    "  plt.xticks(rotation =45)\n",
    "  plt.xlabel(\"date\")\n",
    "  plt.xticks(np.arange(0, 25, step=2))\n",
    "  plt.ylabel(\"total sales\")\n",
    "  plt.show(block =False)\n",
    "  plt.close\n",
    " \n",
    "  #Dickey-Fuller test: Null Hypothesis (H_0): time series is not stationary\n",
    "  #Alternate Hypothesis(H_1): time series is stationary \n",
    " \n",
    " \n",
    "  print('Results:')\n",
    "  dftest = adfuller(df[ts],autolag='AIC')\n",
    "  dfoutput = pd.Series(dftest[0:4], index =['Test Statistic','p-value','# Lags Used','Number of Observations'])\n",
    " \n",
    "  for key, value in dftest[4].items():\n",
    "    dfoutput['Critical value(%s)' %key]= value\n",
    " \n",
    "  print(dfoutput)"
   ]
  },
  {
   "cell_type": "code",
   "execution_count": 101,
   "metadata": {
    "colab": {
     "base_uri": "https://localhost:8080/",
     "height": 533
    },
    "executionInfo": {
     "elapsed": 288,
     "status": "ok",
     "timestamp": 1628868184051,
     "user": {
      "displayName": "Vineet Sivadasan",
      "photoUrl": "",
      "userId": "02154436300300776030"
     },
     "user_tz": -60
    },
    "id": "PONjlKf9_P1S",
    "outputId": "4dcdd4fc-c7d0-41fa-a0c3-20b67c693fc5"
   },
   "outputs": [
    {
     "data": {
      "image/png": "[encoded data removed]",
      "text/plain": [
       "<Figure size 432x288 with 1 Axes>"
      ]
     },
     "metadata": {
      "needs_background": "light",
      "tags": []
     },
     "output_type": "display_data"
    },
    {
     "name": "stdout",
     "output_type": "stream",
     "text": [
      "Results:\n",
      "Test Statistic           -5.222692\n",
      "p-value                   0.000008\n",
      "# Lags Used               6.000000\n",
      "Number of Observations    9.000000\n",
      "Critical value(1%)       -4.473135\n",
      "Critical value(5%)       -3.289881\n",
      "Critical value(10%)      -2.772382\n",
      "dtype: float64\n"
     ]
    }
   ],
   "source": [
    "test_stationary_val(New_Bike_theft_vlDF,'ts_log')"
   ]
  },
  {
   "cell_type": "code",
   "execution_count": 50,
   "metadata": {
    "colab": {
     "base_uri": "https://localhost:8080/",
     "height": 533
    },
    "executionInfo": {
     "elapsed": 14,
     "status": "ok",
     "timestamp": 1628865920888,
     "user": {
      "displayName": "Vineet Sivadasan",
      "photoUrl": "",
      "userId": "02154436300300776030"
     },
     "user_tz": -60
    },
    "id": "sYW7Nuea3tw_",
    "outputId": "fbfcac8b-6625-4f73-f94b-eafb64f07984"
   },
   "outputs": [
    {
     "data": {
      "image/png": "[encoded data removed]",
      "text/plain": [
       "<Figure size 432x288 with 1 Axes>"
      ]
     },
     "metadata": {
      "needs_background": "light",
      "tags": []
     },
     "output_type": "display_data"
    },
    {
     "name": "stdout",
     "output_type": "stream",
     "text": [
      "Results:\n",
      "Test Statistic           -2.955952\n",
      "p-value                   0.039218\n",
      "# Lags Used               6.000000\n",
      "Number of Observations    9.000000\n",
      "Critical value(1%)       -4.473135\n",
      "Critical value(5%)       -3.289881\n",
      "Critical value(10%)      -2.772382\n",
      "dtype: float64\n"
     ]
    }
   ],
   "source": [
    "test_stationary_val(New_Bike_theft_vlDF,'trend')"
   ]
  },
  {
   "cell_type": "code",
   "execution_count": 51,
   "metadata": {
    "colab": {
     "base_uri": "https://localhost:8080/",
     "height": 533
    },
    "executionInfo": {
     "elapsed": 12,
     "status": "ok",
     "timestamp": 1628865920889,
     "user": {
      "displayName": "Vineet Sivadasan",
      "photoUrl": "",
      "userId": "02154436300300776030"
     },
     "user_tz": -60
    },
    "id": "4abJWwvJ30hy",
    "outputId": "e2ba42dd-843d-4cdc-9de2-93178347f8b2"
   },
   "outputs": [
    {
     "data": {
      "image/png": "[encoded data removed]",
      "text/plain": [
       "<Figure size 432x288 with 1 Axes>"
      ]
     },
     "metadata": {
      "needs_background": "light",
      "tags": []
     },
     "output_type": "display_data"
    },
    {
     "name": "stdout",
     "output_type": "stream",
     "text": [
      "Results:\n",
      "Test Statistic           -5.359565e+15\n",
      "p-value                   0.000000e+00\n",
      "# Lags Used               2.000000e+00\n",
      "Number of Observations    1.300000e+01\n",
      "Critical value(1%)       -4.068854e+00\n",
      "Critical value(5%)       -3.127149e+00\n",
      "Critical value(10%)      -2.701730e+00\n",
      "dtype: float64\n"
     ]
    }
   ],
   "source": [
    "test_stationary_val(New_Bike_theft_vlDF,'seasonal')"
   ]
  },
  {
   "cell_type": "code",
   "execution_count": 52,
   "metadata": {
    "colab": {
     "base_uri": "https://localhost:8080/",
     "height": 533
    },
    "executionInfo": {
     "elapsed": 337,
     "status": "ok",
     "timestamp": 1628865921215,
     "user": {
      "displayName": "Vineet Sivadasan",
      "photoUrl": "",
      "userId": "02154436300300776030"
     },
     "user_tz": -60
    },
    "id": "S2I8mx80_P1S",
    "outputId": "30ae22e1-f1a0-40f0-e915-1da7298c2b08"
   },
   "outputs": [
    {
     "data": {
      "image/png": "[encoded data removed]",
      "text/plain": [
       "<Figure size 432x288 with 1 Axes>"
      ]
     },
     "metadata": {
      "needs_background": "light",
      "tags": []
     },
     "output_type": "display_data"
    },
    {
     "name": "stdout",
     "output_type": "stream",
     "text": [
      "Results:\n",
      "Test Statistic            -4.666099\n",
      "p-value                    0.000097\n",
      "# Lags Used                1.000000\n",
      "Number of Observations    14.000000\n",
      "Critical value(1%)        -4.012034\n",
      "Critical value(5%)        -3.104184\n",
      "Critical value(10%)       -2.690987\n",
      "dtype: float64\n"
     ]
    }
   ],
   "source": [
    "test_stationary_val(New_Bike_theft_vlDF, 'residuals')"
   ]
  },
  {
   "cell_type": "code",
   "execution_count": 102,
   "metadata": {
    "executionInfo": {
     "elapsed": 202,
     "status": "ok",
     "timestamp": 1628868190809,
     "user": {
      "displayName": "Vineet Sivadasan",
      "photoUrl": "",
      "userId": "02154436300300776030"
     },
     "user_tz": -60
    },
    "id": "WuTcPNje_P1T"
   },
   "outputs": [],
   "source": [
    "start = len(New_Bike_theft_trDF)\n",
    "end = len(New_Bike_theft_trDF)+len(New_Bike_theft_vlDF)-1\n",
    "pred = model_AR.predict(start=start, end=end).rename('ARIMA Predictions')\n",
    "pred_DF = pd.DataFrame(pred)\n",
    "pred_DF['Date']=pred_DF.index"
   ]
  },
  {
   "cell_type": "code",
   "execution_count": 103,
   "metadata": {
    "colab": {
     "base_uri": "https://localhost:8080/",
     "height": 545
    },
    "executionInfo": {
     "elapsed": 207,
     "status": "ok",
     "timestamp": 1628868192197,
     "user": {
      "displayName": "Vineet Sivadasan",
      "photoUrl": "",
      "userId": "02154436300300776030"
     },
     "user_tz": -60
    },
    "id": "QrmXLIzVgO2E",
    "outputId": "c93274d5-ec8e-4a5f-c4ef-66cbbf362c27"
   },
   "outputs": [
    {
     "data": {
      "text/html": [
       "<div>\n",
       "<style scoped>\n",
       "    .dataframe tbody tr th:only-of-type {\n",
       "        vertical-align: middle;\n",
       "    }\n",
       "\n",
       "    .dataframe tbody tr th {\n",
       "        vertical-align: top;\n",
       "    }\n",
       "\n",
       "    .dataframe thead th {\n",
       "        text-align: right;\n",
       "    }\n",
       "</style>\n",
       "<table border=\"1\" class=\"dataframe\">\n",
       "  <thead>\n",
       "    <tr style=\"text-align: right;\">\n",
       "      <th></th>\n",
       "      <th>ARIMA Predictions</th>\n",
       "      <th>Date</th>\n",
       "    </tr>\n",
       "  </thead>\n",
       "  <tbody>\n",
       "    <tr>\n",
       "      <th>2020-01-01</th>\n",
       "      <td>4.329415</td>\n",
       "      <td>2020-01-01</td>\n",
       "    </tr>\n",
       "    <tr>\n",
       "      <th>2020-02-01</th>\n",
       "      <td>4.496141</td>\n",
       "      <td>2020-02-01</td>\n",
       "    </tr>\n",
       "    <tr>\n",
       "      <th>2020-03-01</th>\n",
       "      <td>4.776542</td>\n",
       "      <td>2020-03-01</td>\n",
       "    </tr>\n",
       "    <tr>\n",
       "      <th>2020-04-01</th>\n",
       "      <td>4.793961</td>\n",
       "      <td>2020-04-01</td>\n",
       "    </tr>\n",
       "    <tr>\n",
       "      <th>2020-05-01</th>\n",
       "      <td>4.626394</td>\n",
       "      <td>2020-05-01</td>\n",
       "    </tr>\n",
       "    <tr>\n",
       "      <th>2020-06-01</th>\n",
       "      <td>4.616415</td>\n",
       "      <td>2020-06-01</td>\n",
       "    </tr>\n",
       "    <tr>\n",
       "      <th>2020-07-01</th>\n",
       "      <td>4.742333</td>\n",
       "      <td>2020-07-01</td>\n",
       "    </tr>\n",
       "    <tr>\n",
       "      <th>2020-08-01</th>\n",
       "      <td>4.762828</td>\n",
       "      <td>2020-08-01</td>\n",
       "    </tr>\n",
       "    <tr>\n",
       "      <th>2020-09-01</th>\n",
       "      <td>4.888787</td>\n",
       "      <td>2020-09-01</td>\n",
       "    </tr>\n",
       "    <tr>\n",
       "      <th>2020-10-01</th>\n",
       "      <td>4.787606</td>\n",
       "      <td>2020-10-01</td>\n",
       "    </tr>\n",
       "    <tr>\n",
       "      <th>2020-11-01</th>\n",
       "      <td>4.497757</td>\n",
       "      <td>2020-11-01</td>\n",
       "    </tr>\n",
       "    <tr>\n",
       "      <th>2020-12-01</th>\n",
       "      <td>4.233066</td>\n",
       "      <td>2020-12-01</td>\n",
       "    </tr>\n",
       "    <tr>\n",
       "      <th>2021-01-01</th>\n",
       "      <td>4.369121</td>\n",
       "      <td>2021-01-01</td>\n",
       "    </tr>\n",
       "    <tr>\n",
       "      <th>2021-02-01</th>\n",
       "      <td>4.609684</td>\n",
       "      <td>2021-02-01</td>\n",
       "    </tr>\n",
       "    <tr>\n",
       "      <th>2021-03-01</th>\n",
       "      <td>4.847478</td>\n",
       "      <td>2021-03-01</td>\n",
       "    </tr>\n",
       "    <tr>\n",
       "      <th>2021-04-01</th>\n",
       "      <td>4.804343</td>\n",
       "      <td>2021-04-01</td>\n",
       "    </tr>\n",
       "  </tbody>\n",
       "</table>\n",
       "</div>"
      ],
      "text/plain": [
       "            ARIMA Predictions       Date\n",
       "2020-01-01           4.329415 2020-01-01\n",
       "2020-02-01           4.496141 2020-02-01\n",
       "2020-03-01           4.776542 2020-03-01\n",
       "2020-04-01           4.793961 2020-04-01\n",
       "2020-05-01           4.626394 2020-05-01\n",
       "2020-06-01           4.616415 2020-06-01\n",
       "2020-07-01           4.742333 2020-07-01\n",
       "2020-08-01           4.762828 2020-08-01\n",
       "2020-09-01           4.888787 2020-09-01\n",
       "2020-10-01           4.787606 2020-10-01\n",
       "2020-11-01           4.497757 2020-11-01\n",
       "2020-12-01           4.233066 2020-12-01\n",
       "2021-01-01           4.369121 2021-01-01\n",
       "2021-02-01           4.609684 2021-02-01\n",
       "2021-03-01           4.847478 2021-03-01\n",
       "2021-04-01           4.804343 2021-04-01"
      ]
     },
     "execution_count": 103,
     "metadata": {
      "tags": []
     },
     "output_type": "execute_result"
    }
   ],
   "source": [
    "pred_DF #ARIMA forecasts of bike theft"
   ]
  },
  {
   "cell_type": "code",
   "execution_count": 104,
   "metadata": {
    "colab": {
     "base_uri": "https://localhost:8080/",
     "height": 576
    },
    "executionInfo": {
     "elapsed": 207,
     "status": "ok",
     "timestamp": 1628868194436,
     "user": {
      "displayName": "Vineet Sivadasan",
      "photoUrl": "",
      "userId": "02154436300300776030"
     },
     "user_tz": -60
    },
    "id": "HoyRhGd22CU6",
    "outputId": "2d74b1ee-21f5-4246-c7df-af26dd4c0282"
   },
   "outputs": [
    {
     "data": {
      "text/html": [
       "<div>\n",
       "<style scoped>\n",
       "    .dataframe tbody tr th:only-of-type {\n",
       "        vertical-align: middle;\n",
       "    }\n",
       "\n",
       "    .dataframe tbody tr th {\n",
       "        vertical-align: top;\n",
       "    }\n",
       "\n",
       "    .dataframe thead th {\n",
       "        text-align: right;\n",
       "    }\n",
       "</style>\n",
       "<table border=\"1\" class=\"dataframe\">\n",
       "  <thead>\n",
       "    <tr style=\"text-align: right;\">\n",
       "      <th></th>\n",
       "      <th>ts</th>\n",
       "      <th>ds</th>\n",
       "      <th>ts_log</th>\n",
       "      <th>trend</th>\n",
       "      <th>seasonal</th>\n",
       "      <th>residuals</th>\n",
       "    </tr>\n",
       "    <tr>\n",
       "      <th>Epoch</th>\n",
       "      <th></th>\n",
       "      <th></th>\n",
       "      <th></th>\n",
       "      <th></th>\n",
       "      <th></th>\n",
       "      <th></th>\n",
       "    </tr>\n",
       "  </thead>\n",
       "  <tbody>\n",
       "    <tr>\n",
       "      <th>01/01/2020 12:00:00 AM</th>\n",
       "      <td>96</td>\n",
       "      <td>2020-01-01</td>\n",
       "      <td>4.564348</td>\n",
       "      <td>4.896271</td>\n",
       "      <td>-0.075227</td>\n",
       "      <td>-0.256695</td>\n",
       "    </tr>\n",
       "    <tr>\n",
       "      <th>02/01/2020 12:00:00 AM</th>\n",
       "      <td>90</td>\n",
       "      <td>2020-02-01</td>\n",
       "      <td>4.499810</td>\n",
       "      <td>4.608777</td>\n",
       "      <td>0.059732</td>\n",
       "      <td>-0.168700</td>\n",
       "    </tr>\n",
       "    <tr>\n",
       "      <th>03/01/2020 12:00:00 AM</th>\n",
       "      <td>117</td>\n",
       "      <td>2020-03-01</td>\n",
       "      <td>4.762174</td>\n",
       "      <td>4.560275</td>\n",
       "      <td>0.015495</td>\n",
       "      <td>0.186404</td>\n",
       "    </tr>\n",
       "    <tr>\n",
       "      <th>04/01/2020 12:00:00 AM</th>\n",
       "      <td>83</td>\n",
       "      <td>2020-04-01</td>\n",
       "      <td>4.418841</td>\n",
       "      <td>4.716943</td>\n",
       "      <td>-0.075227</td>\n",
       "      <td>-0.222875</td>\n",
       "    </tr>\n",
       "    <tr>\n",
       "      <th>05/01/2020 12:00:00 AM</th>\n",
       "      <td>144</td>\n",
       "      <td>2020-05-01</td>\n",
       "      <td>4.969813</td>\n",
       "      <td>4.812837</td>\n",
       "      <td>0.059732</td>\n",
       "      <td>0.097244</td>\n",
       "    </tr>\n",
       "    <tr>\n",
       "      <th>06/01/2020 12:00:00 AM</th>\n",
       "      <td>156</td>\n",
       "      <td>2020-06-01</td>\n",
       "      <td>5.049856</td>\n",
       "      <td>5.072722</td>\n",
       "      <td>0.015495</td>\n",
       "      <td>-0.038361</td>\n",
       "    </tr>\n",
       "    <tr>\n",
       "      <th>07/01/2020 12:00:00 AM</th>\n",
       "      <td>181</td>\n",
       "      <td>2020-07-01</td>\n",
       "      <td>5.198497</td>\n",
       "      <td>5.133882</td>\n",
       "      <td>-0.075227</td>\n",
       "      <td>0.139843</td>\n",
       "    </tr>\n",
       "    <tr>\n",
       "      <th>08/01/2020 12:00:00 AM</th>\n",
       "      <td>173</td>\n",
       "      <td>2020-08-01</td>\n",
       "      <td>5.153292</td>\n",
       "      <td>5.097810</td>\n",
       "      <td>0.059732</td>\n",
       "      <td>-0.004251</td>\n",
       "    </tr>\n",
       "    <tr>\n",
       "      <th>09/01/2020 12:00:00 AM</th>\n",
       "      <td>140</td>\n",
       "      <td>2020-09-01</td>\n",
       "      <td>4.941642</td>\n",
       "      <td>5.066960</td>\n",
       "      <td>0.015495</td>\n",
       "      <td>-0.140812</td>\n",
       "    </tr>\n",
       "    <tr>\n",
       "      <th>10/01/2020 12:00:00 AM</th>\n",
       "      <td>165</td>\n",
       "      <td>2020-10-01</td>\n",
       "      <td>5.105945</td>\n",
       "      <td>5.023823</td>\n",
       "      <td>-0.075227</td>\n",
       "      <td>0.157350</td>\n",
       "    </tr>\n",
       "    <tr>\n",
       "      <th>11/01/2020 12:00:00 AM</th>\n",
       "      <td>152</td>\n",
       "      <td>2020-11-01</td>\n",
       "      <td>5.023881</td>\n",
       "      <td>4.861391</td>\n",
       "      <td>0.059732</td>\n",
       "      <td>0.102757</td>\n",
       "    </tr>\n",
       "    <tr>\n",
       "      <th>12/01/2020 12:00:00 AM</th>\n",
       "      <td>86</td>\n",
       "      <td>2020-12-01</td>\n",
       "      <td>4.454347</td>\n",
       "      <td>4.575574</td>\n",
       "      <td>0.015495</td>\n",
       "      <td>-0.136722</td>\n",
       "    </tr>\n",
       "    <tr>\n",
       "      <th>01/01/2021 12:00:00 AM</th>\n",
       "      <td>70</td>\n",
       "      <td>2021-01-01</td>\n",
       "      <td>4.248495</td>\n",
       "      <td>4.361623</td>\n",
       "      <td>-0.075227</td>\n",
       "      <td>-0.037901</td>\n",
       "    </tr>\n",
       "    <tr>\n",
       "      <th>02/01/2021 12:00:00 AM</th>\n",
       "      <td>80</td>\n",
       "      <td>2021-02-01</td>\n",
       "      <td>4.382027</td>\n",
       "      <td>4.428161</td>\n",
       "      <td>0.059732</td>\n",
       "      <td>-0.105867</td>\n",
       "    </tr>\n",
       "    <tr>\n",
       "      <th>03/01/2021 12:00:00 AM</th>\n",
       "      <td>105</td>\n",
       "      <td>2021-03-01</td>\n",
       "      <td>4.653960</td>\n",
       "      <td>4.587792</td>\n",
       "      <td>0.015495</td>\n",
       "      <td>0.050674</td>\n",
       "    </tr>\n",
       "    <tr>\n",
       "      <th>04/01/2021 12:00:00 AM</th>\n",
       "      <td>113</td>\n",
       "      <td>2021-04-01</td>\n",
       "      <td>4.727388</td>\n",
       "      <td>4.676917</td>\n",
       "      <td>-0.075227</td>\n",
       "      <td>0.125698</td>\n",
       "    </tr>\n",
       "  </tbody>\n",
       "</table>\n",
       "</div>"
      ],
      "text/plain": [
       "                         ts         ds    ts_log     trend  seasonal  residuals\n",
       "Epoch                                                                          \n",
       "01/01/2020 12:00:00 AM   96 2020-01-01  4.564348  4.896271 -0.075227  -0.256695\n",
       "02/01/2020 12:00:00 AM   90 2020-02-01  4.499810  4.608777  0.059732  -0.168700\n",
       "03/01/2020 12:00:00 AM  117 2020-03-01  4.762174  4.560275  0.015495   0.186404\n",
       "04/01/2020 12:00:00 AM   83 2020-04-01  4.418841  4.716943 -0.075227  -0.222875\n",
       "05/01/2020 12:00:00 AM  144 2020-05-01  4.969813  4.812837  0.059732   0.097244\n",
       "06/01/2020 12:00:00 AM  156 2020-06-01  5.049856  5.072722  0.015495  -0.038361\n",
       "07/01/2020 12:00:00 AM  181 2020-07-01  5.198497  5.133882 -0.075227   0.139843\n",
       "08/01/2020 12:00:00 AM  173 2020-08-01  5.153292  5.097810  0.059732  -0.004251\n",
       "09/01/2020 12:00:00 AM  140 2020-09-01  4.941642  5.066960  0.015495  -0.140812\n",
       "10/01/2020 12:00:00 AM  165 2020-10-01  5.105945  5.023823 -0.075227   0.157350\n",
       "11/01/2020 12:00:00 AM  152 2020-11-01  5.023881  4.861391  0.059732   0.102757\n",
       "12/01/2020 12:00:00 AM   86 2020-12-01  4.454347  4.575574  0.015495  -0.136722\n",
       "01/01/2021 12:00:00 AM   70 2021-01-01  4.248495  4.361623 -0.075227  -0.037901\n",
       "02/01/2021 12:00:00 AM   80 2021-02-01  4.382027  4.428161  0.059732  -0.105867\n",
       "03/01/2021 12:00:00 AM  105 2021-03-01  4.653960  4.587792  0.015495   0.050674\n",
       "04/01/2021 12:00:00 AM  113 2021-04-01  4.727388  4.676917 -0.075227   0.125698"
      ]
     },
     "execution_count": 104,
     "metadata": {
      "tags": []
     },
     "output_type": "execute_result"
    }
   ],
   "source": [
    "New_Bike_theft_vlDF"
   ]
  },
  {
   "cell_type": "code",
   "execution_count": 105,
   "metadata": {
    "executionInfo": {
     "elapsed": 209,
     "status": "ok",
     "timestamp": 1628868197343,
     "user": {
      "displayName": "Vineet Sivadasan",
      "photoUrl": "",
      "userId": "02154436300300776030"
     },
     "user_tz": -60
    },
    "id": "S39SgRvnEeco"
   },
   "outputs": [],
   "source": [
    "New_vlDF_ts_DF = New_Bike_theft_vlDF.drop(['ts',    'trend',    'seasonal', 'residuals'], axis=1)"
   ]
  },
  {
   "cell_type": "code",
   "execution_count": 106,
   "metadata": {
    "colab": {
     "base_uri": "https://localhost:8080/",
     "height": 576
    },
    "executionInfo": {
     "elapsed": 4,
     "status": "ok",
     "timestamp": 1628868198405,
     "user": {
      "displayName": "Vineet Sivadasan",
      "photoUrl": "",
      "userId": "02154436300300776030"
     },
     "user_tz": -60
    },
    "id": "WOXCOU2VPvh0",
    "outputId": "52a02ce0-858e-4644-d963-a5c7f51316c2"
   },
   "outputs": [
    {
     "data": {
      "text/html": [
       "<div>\n",
       "<style scoped>\n",
       "    .dataframe tbody tr th:only-of-type {\n",
       "        vertical-align: middle;\n",
       "    }\n",
       "\n",
       "    .dataframe tbody tr th {\n",
       "        vertical-align: top;\n",
       "    }\n",
       "\n",
       "    .dataframe thead th {\n",
       "        text-align: right;\n",
       "    }\n",
       "</style>\n",
       "<table border=\"1\" class=\"dataframe\">\n",
       "  <thead>\n",
       "    <tr style=\"text-align: right;\">\n",
       "      <th></th>\n",
       "      <th>ds</th>\n",
       "      <th>ts_log</th>\n",
       "    </tr>\n",
       "    <tr>\n",
       "      <th>Epoch</th>\n",
       "      <th></th>\n",
       "      <th></th>\n",
       "    </tr>\n",
       "  </thead>\n",
       "  <tbody>\n",
       "    <tr>\n",
       "      <th>01/01/2020 12:00:00 AM</th>\n",
       "      <td>2020-01-01</td>\n",
       "      <td>4.564348</td>\n",
       "    </tr>\n",
       "    <tr>\n",
       "      <th>02/01/2020 12:00:00 AM</th>\n",
       "      <td>2020-02-01</td>\n",
       "      <td>4.499810</td>\n",
       "    </tr>\n",
       "    <tr>\n",
       "      <th>03/01/2020 12:00:00 AM</th>\n",
       "      <td>2020-03-01</td>\n",
       "      <td>4.762174</td>\n",
       "    </tr>\n",
       "    <tr>\n",
       "      <th>04/01/2020 12:00:00 AM</th>\n",
       "      <td>2020-04-01</td>\n",
       "      <td>4.418841</td>\n",
       "    </tr>\n",
       "    <tr>\n",
       "      <th>05/01/2020 12:00:00 AM</th>\n",
       "      <td>2020-05-01</td>\n",
       "      <td>4.969813</td>\n",
       "    </tr>\n",
       "    <tr>\n",
       "      <th>06/01/2020 12:00:00 AM</th>\n",
       "      <td>2020-06-01</td>\n",
       "      <td>5.049856</td>\n",
       "    </tr>\n",
       "    <tr>\n",
       "      <th>07/01/2020 12:00:00 AM</th>\n",
       "      <td>2020-07-01</td>\n",
       "      <td>5.198497</td>\n",
       "    </tr>\n",
       "    <tr>\n",
       "      <th>08/01/2020 12:00:00 AM</th>\n",
       "      <td>2020-08-01</td>\n",
       "      <td>5.153292</td>\n",
       "    </tr>\n",
       "    <tr>\n",
       "      <th>09/01/2020 12:00:00 AM</th>\n",
       "      <td>2020-09-01</td>\n",
       "      <td>4.941642</td>\n",
       "    </tr>\n",
       "    <tr>\n",
       "      <th>10/01/2020 12:00:00 AM</th>\n",
       "      <td>2020-10-01</td>\n",
       "      <td>5.105945</td>\n",
       "    </tr>\n",
       "    <tr>\n",
       "      <th>11/01/2020 12:00:00 AM</th>\n",
       "      <td>2020-11-01</td>\n",
       "      <td>5.023881</td>\n",
       "    </tr>\n",
       "    <tr>\n",
       "      <th>12/01/2020 12:00:00 AM</th>\n",
       "      <td>2020-12-01</td>\n",
       "      <td>4.454347</td>\n",
       "    </tr>\n",
       "    <tr>\n",
       "      <th>01/01/2021 12:00:00 AM</th>\n",
       "      <td>2021-01-01</td>\n",
       "      <td>4.248495</td>\n",
       "    </tr>\n",
       "    <tr>\n",
       "      <th>02/01/2021 12:00:00 AM</th>\n",
       "      <td>2021-02-01</td>\n",
       "      <td>4.382027</td>\n",
       "    </tr>\n",
       "    <tr>\n",
       "      <th>03/01/2021 12:00:00 AM</th>\n",
       "      <td>2021-03-01</td>\n",
       "      <td>4.653960</td>\n",
       "    </tr>\n",
       "    <tr>\n",
       "      <th>04/01/2021 12:00:00 AM</th>\n",
       "      <td>2021-04-01</td>\n",
       "      <td>4.727388</td>\n",
       "    </tr>\n",
       "  </tbody>\n",
       "</table>\n",
       "</div>"
      ],
      "text/plain": [
       "                               ds    ts_log\n",
       "Epoch                                      \n",
       "01/01/2020 12:00:00 AM 2020-01-01  4.564348\n",
       "02/01/2020 12:00:00 AM 2020-02-01  4.499810\n",
       "03/01/2020 12:00:00 AM 2020-03-01  4.762174\n",
       "04/01/2020 12:00:00 AM 2020-04-01  4.418841\n",
       "05/01/2020 12:00:00 AM 2020-05-01  4.969813\n",
       "06/01/2020 12:00:00 AM 2020-06-01  5.049856\n",
       "07/01/2020 12:00:00 AM 2020-07-01  5.198497\n",
       "08/01/2020 12:00:00 AM 2020-08-01  5.153292\n",
       "09/01/2020 12:00:00 AM 2020-09-01  4.941642\n",
       "10/01/2020 12:00:00 AM 2020-10-01  5.105945\n",
       "11/01/2020 12:00:00 AM 2020-11-01  5.023881\n",
       "12/01/2020 12:00:00 AM 2020-12-01  4.454347\n",
       "01/01/2021 12:00:00 AM 2021-01-01  4.248495\n",
       "02/01/2021 12:00:00 AM 2021-02-01  4.382027\n",
       "03/01/2021 12:00:00 AM 2021-03-01  4.653960\n",
       "04/01/2021 12:00:00 AM 2021-04-01  4.727388"
      ]
     },
     "execution_count": 106,
     "metadata": {
      "tags": []
     },
     "output_type": "execute_result"
    }
   ],
   "source": [
    "New_vlDF_ts_DF"
   ]
  },
  {
   "cell_type": "code",
   "execution_count": 108,
   "metadata": {
    "executionInfo": {
     "elapsed": 192,
     "status": "ok",
     "timestamp": 1628868211945,
     "user": {
      "displayName": "Vineet Sivadasan",
      "photoUrl": "",
      "userId": "02154436300300776030"
     },
     "user_tz": -60
    },
    "id": "FM6ASz0JUHRx"
   },
   "outputs": [],
   "source": [
    "from datetime import date, timedelta\n",
    " \n",
    "sdate = '2020-01-01'\n",
    "edate = '2021-04-01'\n",
    "date_list = pd.date_range(sdate, edate, periods=16).tolist()"
   ]
  },
  {
   "cell_type": "code",
   "execution_count": 109,
   "metadata": {
    "colab": {
     "base_uri": "https://localhost:8080/",
     "height": 296
    },
    "executionInfo": {
     "elapsed": 517,
     "status": "ok",
     "timestamp": 1628868213922,
     "user": {
      "displayName": "Vineet Sivadasan",
      "photoUrl": "",
      "userId": "02154436300300776030"
     },
     "user_tz": -60
    },
    "id": "oIjm5iq2QTdj",
    "outputId": "33a77459-9ebb-43da-f218-2d410bbab70e"
   },
   "outputs": [
    {
     "data": {
      "text/plain": [
       "Text(0, 0.5, \"'noise' of no. of bike thefts\")"
      ]
     },
     "execution_count": 109,
     "metadata": {
      "tags": []
     },
     "output_type": "execute_result"
    },
    {
     "data": {
      "image/png": "[encoded data removed]",
      "text/plain": [
       "<Figure size 432x288 with 1 Axes>"
      ]
     },
     "metadata": {
      "needs_background": "light",
      "tags": []
     },
     "output_type": "display_data"
    }
   ],
   "source": [
    "plot_1, = plt.plot(date_list, pred_DF['ARIMA Predictions'], color='red', label ='ARIMA monthly bike theft (log) predictions')\n",
    "plot_2, = plt.plot(date_list, New_vlDF_ts_DF['ts_log'], label ='monthly bike theft (log) from validation set')\n",
    "plt.legend(handles=[plot_1, plot_2])\n",
    "plt.xlabel(\"date\")\n",
    "plt.ylabel(\"'noise' of no. of bike thefts\")\n",
    "#plt.ylim([-0.3, 0.3])"
   ]
  },
  {
   "cell_type": "code",
   "execution_count": 112,
   "metadata": {
    "colab": {
     "base_uri": "https://localhost:8080/"
    },
    "executionInfo": {
     "elapsed": 195,
     "status": "ok",
     "timestamp": 1628868243722,
     "user": {
      "displayName": "Vineet Sivadasan",
      "photoUrl": "",
      "userId": "02154436300300776030"
     },
     "user_tz": -60
    },
    "id": "GipotvasKUvV",
    "outputId": "4b977e8c-62b9-409d-9140-2e2d98a11194"
   },
   "outputs": [
    {
     "name": "stdout",
     "output_type": "stream",
     "text": [
      "rmse: 0.2960299022768931\n"
     ]
    }
   ],
   "source": [
    "# rmse error on weekly sales residuals based on 29 week validation set using 114 week training set\n",
    "rss = sum((pred_DF['ARIMA Predictions']-New_vlDF_ts_DF['ts_log'])**2)\n",
    "rmse=np.sqrt(rss/len(New_vlDF_ts_DF['ts_log']))\n",
    "print('rmse:',rmse)"
   ]
  },
  {
   "cell_type": "markdown",
   "metadata": {
    "id": "7DVSvNFhdWVh"
   },
   "source": [
    "# Burglary over time across London"
   ]
  },
  {
   "cell_type": "code",
   "execution_count": null,
   "metadata": {
    "executionInfo": {
     "elapsed": 276,
     "status": "aborted",
     "timestamp": 1628865922042,
     "user": {
      "displayName": "Vineet Sivadasan",
      "photoUrl": "",
      "userId": "02154436300300776030"
     },
     "user_tz": -60
    },
    "id": "eVDpZn1UdWVi"
   },
   "outputs": [],
   "source": [
    "total_burglary_bydate = df_burglary.groupby(['Epoch']).sum()      #sum 'count' number of crimes by date\n",
    "total_burglary_bydate.drop(['Street ID', 'ID', 'Easting', 'Northing', 'Longitude','Latitude', 'Context'], axis=1, inplace=True)     #remove all other columns\n",
    "total_burglary_bydate['date'] = total_burglary_bydate.index        #create another column for the date, called date\n",
    "total_burglary_bydate"
   ]
  },
  {
   "cell_type": "code",
   "execution_count": null,
   "metadata": {
    "executionInfo": {
     "elapsed": 277,
     "status": "aborted",
     "timestamp": 1628865922043,
     "user": {
      "displayName": "Vineet Sivadasan",
      "photoUrl": "",
      "userId": "02154436300300776030"
     },
     "user_tz": -60
    },
    "id": "Q99FrXz9k_tz"
   },
   "outputs": [],
   "source": [
    "#change the date format in 'Epoch' column\n",
    "total_burglary_bydate['date'] = pd.to_datetime(total_burglary_bydate['date']).dt.date\n",
    "total_burglary_bydate['date'] = pd.to_datetime(total_burglary_bydate['date']).dt.strftime('%d-%m-%Y')\n",
    "total_burglary_bydate['date'] = pd.to_datetime(total_burglary_bydate.date)\n",
    "total_burglary_bydate = total_burglary_bydate.sort_values(by = 'date')\n",
    "total_burglary_bydate"
   ]
  },
  {
   "cell_type": "code",
   "execution_count": null,
   "metadata": {
    "executionInfo": {
     "elapsed": 278,
     "status": "aborted",
     "timestamp": 1628865922044,
     "user": {
      "displayName": "Vineet Sivadasan",
      "photoUrl": "",
      "userId": "02154436300300776030"
     },
     "user_tz": -60
    },
    "id": "baP8kwytk_t0"
   },
   "outputs": [],
   "source": [
    "# plot the total number of crimes committed in London over the full 7 year period given in the dataset\n",
    "plt.figure()\n",
    "plt.plot(total_burglary_bydate['date'], total_burglary_bydate['count'])\n",
    "plt.xlabel(\"date\")\n",
    "plt.ylabel(\"no.of burglary crimes\")\n",
    "plt.title(\"burglary crimes across London\")"
   ]
  },
  {
   "cell_type": "code",
   "execution_count": null,
   "metadata": {
    "executionInfo": {
     "elapsed": 280,
     "status": "aborted",
     "timestamp": 1628865922047,
     "user": {
      "displayName": "Vineet Sivadasan",
      "photoUrl": "",
      "userId": "02154436300300776030"
     },
     "user_tz": -60
    },
    "id": "oCzyRC8qa8bQ"
   },
   "outputs": [],
   "source": [
    "#plot of locations of the crimes, colour coded by crime category\n",
    "plt.scatter(df_burglary['Longitude'], df_burglary['Latitude'], c='peru',  s=6,  alpha=0.25)\n",
    "plt.xlabel('Longitude')\n",
    "plt.title('Burglary crimes across London borough of Camden')\n",
    "plt.ylabel('Latitude')"
   ]
  },
  {
   "cell_type": "markdown",
   "metadata": {
    "id": "XrYHROTSrKqB"
   },
   "source": [
    "# Criminal damage and arson over time across London"
   ]
  },
  {
   "cell_type": "code",
   "execution_count": null,
   "metadata": {
    "executionInfo": {
     "elapsed": 282,
     "status": "aborted",
     "timestamp": 1628865922049,
     "user": {
      "displayName": "Vineet Sivadasan",
      "photoUrl": "",
      "userId": "02154436300300776030"
     },
     "user_tz": -60
    },
    "id": "49pmxHNrrKqB"
   },
   "outputs": [],
   "source": [
    "total_arson_bydate = df_arson.groupby(['Epoch']).sum()      #sum 'count' number of crimes by date\n",
    "total_arson_bydate.drop(['Street ID', 'ID', 'Easting', 'Northing', 'Longitude','Latitude', 'Context'], axis=1, inplace=True)     #remove all other columns\n",
    "total_arson_bydate['date'] = total_arson_bydate.index        #create another column for the date, called date\n",
    "total_arson_bydate"
   ]
  },
  {
   "cell_type": "code",
   "execution_count": null,
   "metadata": {
    "executionInfo": {
     "elapsed": 283,
     "status": "aborted",
     "timestamp": 1628865922050,
     "user": {
      "displayName": "Vineet Sivadasan",
      "photoUrl": "",
      "userId": "02154436300300776030"
     },
     "user_tz": -60
    },
    "id": "fDQYxcnkrKqB"
   },
   "outputs": [],
   "source": [
    "#change the date format in 'Epoch' column\n",
    "total_arson_bydate['date'] = pd.to_datetime(total_arson_bydate['date']).dt.date\n",
    "total_arson_bydate['date'] = pd.to_datetime(total_arson_bydate['date']).dt.strftime('%d-%m-%Y')\n",
    "total_arson_bydate['date'] = pd.to_datetime(total_arson_bydate.date)\n",
    "total_arson_bydate = total_arson_bydate.sort_values(by = 'date')\n",
    "total_arson_bydate"
   ]
  },
  {
   "cell_type": "code",
   "execution_count": null,
   "metadata": {
    "executionInfo": {
     "elapsed": 284,
     "status": "aborted",
     "timestamp": 1628865922051,
     "user": {
      "displayName": "Vineet Sivadasan",
      "photoUrl": "",
      "userId": "02154436300300776030"
     },
     "user_tz": -60
    },
    "id": "gaoGByfZrKqB"
   },
   "outputs": [],
   "source": [
    "# plot the total number of crimes committed in London over the full 7 year period given in the dataset\n",
    "plt.figure()\n",
    "plt.plot(total_arson_bydate['date'], total_arson_bydate['count'])\n",
    "plt.xlabel(\"date\")\n",
    "plt.ylabel(\"no.of criminal damage and arson crimes\")\n",
    "plt.title(\"criminal damage and arson crimes across London\")"
   ]
  },
  {
   "cell_type": "code",
   "execution_count": null,
   "metadata": {
    "executionInfo": {
     "elapsed": 284,
     "status": "aborted",
     "timestamp": 1628865922051,
     "user": {
      "displayName": "Vineet Sivadasan",
      "photoUrl": "",
      "userId": "02154436300300776030"
     },
     "user_tz": -60
    },
    "id": "UiziW4XvbMtw"
   },
   "outputs": [],
   "source": [
    "#plot of locations of the crimes, colour coded by crime category\n",
    "plt.scatter(df_arson['Longitude'], df_arson['Latitude'], c='gold',  s=6,  alpha=0.25)\n",
    "plt.xlabel('Longitude')\n",
    "plt.title('Criminal damage and arson across London borough of Camden')\n",
    "plt.ylabel('Latitude')"
   ]
  },
  {
   "cell_type": "markdown",
   "metadata": {
    "id": "q6PgyQPAs14u"
   },
   "source": [
    "# Drug crimes over time across London"
   ]
  },
  {
   "cell_type": "code",
   "execution_count": null,
   "metadata": {
    "executionInfo": {
     "elapsed": 285,
     "status": "aborted",
     "timestamp": 1628865922053,
     "user": {
      "displayName": "Vineet Sivadasan",
      "photoUrl": "",
      "userId": "02154436300300776030"
     },
     "user_tz": -60
    },
    "id": "ELKcDHmWs14v"
   },
   "outputs": [],
   "source": [
    "total_drugs_bydate = df_drugs.groupby(['Epoch']).sum()      #sum 'count' number of crimes by date\n",
    "total_drugs_bydate.drop(['Street ID', 'ID', 'Easting', 'Northing', 'Longitude','Latitude', 'Context'], axis=1, inplace=True)     #remove all other columns\n",
    "total_drugs_bydate['date'] = total_drugs_bydate.index        #create another column for the date, called date\n",
    "total_drugs_bydate"
   ]
  },
  {
   "cell_type": "code",
   "execution_count": null,
   "metadata": {
    "executionInfo": {
     "elapsed": 286,
     "status": "aborted",
     "timestamp": 1628865922054,
     "user": {
      "displayName": "Vineet Sivadasan",
      "photoUrl": "",
      "userId": "02154436300300776030"
     },
     "user_tz": -60
    },
    "id": "KX4I0YmVs14v"
   },
   "outputs": [],
   "source": [
    "#change the date format in 'Epoch' column\n",
    "total_drugs_bydate['date'] = pd.to_datetime(total_drugs_bydate['date']).dt.date\n",
    "total_drugs_bydate['date'] = pd.to_datetime(total_drugs_bydate['date']).dt.strftime('%d-%m-%Y')\n",
    "total_drugs_bydate['date'] = pd.to_datetime(total_drugs_bydate.date)\n",
    "total_drugs_bydate = total_drugs_bydate.sort_values(by = 'date')\n",
    "total_drugs_bydate"
   ]
  },
  {
   "cell_type": "code",
   "execution_count": null,
   "metadata": {
    "executionInfo": {
     "elapsed": 287,
     "status": "aborted",
     "timestamp": 1628865922055,
     "user": {
      "displayName": "Vineet Sivadasan",
      "photoUrl": "",
      "userId": "02154436300300776030"
     },
     "user_tz": -60
    },
    "id": "UaY3ptZ2s14v"
   },
   "outputs": [],
   "source": [
    "# plot the total number of crimes committed in London over the full 7 year period given in the dataset\n",
    "plt.figure()\n",
    "plt.plot(total_drugs_bydate['date'], total_drugs_bydate['count'])\n",
    "plt.xlabel(\"date\")\n",
    "plt.ylabel(\"no.of drug crimes\")\n",
    "plt.title(\"drug crimes across London\")"
   ]
  },
  {
   "cell_type": "code",
   "execution_count": null,
   "metadata": {
    "executionInfo": {
     "elapsed": 288,
     "status": "aborted",
     "timestamp": 1628865922056,
     "user": {
      "displayName": "Vineet Sivadasan",
      "photoUrl": "",
      "userId": "02154436300300776030"
     },
     "user_tz": -60
    },
    "id": "JViEIBFabd_0"
   },
   "outputs": [],
   "source": [
    "#plot of locations of the crimes, colour coded by crime category\n",
    "plt.scatter(df_drugs['Longitude'], df_drugs['Latitude'], c='darkorange',  s=6,  alpha=0.25)\n",
    "plt.xlabel('Longitude')\n",
    "plt.title('drug crimes across London borough of Camden' )\n",
    "plt.ylabel('Latitude')"
   ]
  },
  {
   "cell_type": "markdown",
   "metadata": {
    "id": "MIKK1d5tupyv"
   },
   "source": [
    "# Other crimes over time across London"
   ]
  },
  {
   "cell_type": "code",
   "execution_count": null,
   "metadata": {
    "executionInfo": {
     "elapsed": 289,
     "status": "aborted",
     "timestamp": 1628865922057,
     "user": {
      "displayName": "Vineet Sivadasan",
      "photoUrl": "",
      "userId": "02154436300300776030"
     },
     "user_tz": -60
    },
    "id": "RwBGvfDSumo1"
   },
   "outputs": [],
   "source": [
    "total_other_crime_bydate = df_other_crime.groupby(['Epoch']).sum()      #sum 'count' number of crimes by date\n",
    "total_other_crime_bydate.drop(['Street ID', 'ID', 'Easting', 'Northing', 'Longitude','Latitude', 'Context'], axis=1, inplace=True)     #remove all other columns\n",
    "total_other_crime_bydate['date'] = total_other_crime_bydate.index        #create another column for the date, called date\n",
    "total_other_crime_bydate"
   ]
  },
  {
   "cell_type": "code",
   "execution_count": null,
   "metadata": {
    "executionInfo": {
     "elapsed": 289,
     "status": "aborted",
     "timestamp": 1628865922057,
     "user": {
      "displayName": "Vineet Sivadasan",
      "photoUrl": "",
      "userId": "02154436300300776030"
     },
     "user_tz": -60
    },
    "id": "Kkvzp0OKumo2"
   },
   "outputs": [],
   "source": [
    "#change the date format in 'Epoch' column\n",
    "total_other_crime_bydate['date'] = pd.to_datetime(total_other_crime_bydate['date']).dt.date\n",
    "total_other_crime_bydate['date'] = pd.to_datetime(total_other_crime_bydate['date']).dt.strftime('%d-%m-%Y')\n",
    "total_other_crime_bydate['date'] = pd.to_datetime(total_other_crime_bydate.date)\n",
    "total_other_crime_bydate = total_other_crime_bydate.sort_values(by = 'date')\n",
    "total_other_crime_bydate"
   ]
  },
  {
   "cell_type": "code",
   "execution_count": null,
   "metadata": {
    "executionInfo": {
     "elapsed": 289,
     "status": "aborted",
     "timestamp": 1628865922057,
     "user": {
      "displayName": "Vineet Sivadasan",
      "photoUrl": "",
      "userId": "02154436300300776030"
     },
     "user_tz": -60
    },
    "id": "Ck5LXmIAumo2"
   },
   "outputs": [],
   "source": [
    "# plot the total number of crimes committed in London over the full 7 year period given in the dataset\n",
    "plt.figure()\n",
    "plt.plot(total_other_crime_bydate['date'], total_other_crime_bydate['count'])\n",
    "plt.xlabel(\"date\")\n",
    "plt.ylabel(\"no.of other crimes\")\n",
    "plt.title(\"other crimes across London\")"
   ]
  },
  {
   "cell_type": "code",
   "execution_count": null,
   "metadata": {
    "executionInfo": {
     "elapsed": 289,
     "status": "aborted",
     "timestamp": 1628865922058,
     "user": {
      "displayName": "Vineet Sivadasan",
      "photoUrl": "",
      "userId": "02154436300300776030"
     },
     "user_tz": -60
    },
    "id": "BRqQNEvgxytr"
   },
   "outputs": [],
   "source": [
    "#plot of locations of the crimes, colour coded by crime category\n",
    "plt.scatter(df_other_crime['Longitude'], df_other_crime['Latitude'], c='green',  s=6,  alpha=0.25)\n",
    "plt.xlabel('Longitude')\n",
    "plt.title('other crimes across London borough of Camden' )\n",
    "plt.ylabel('Latitude')"
   ]
  },
  {
   "cell_type": "markdown",
   "metadata": {
    "id": "cmp9kRKIXft_"
   },
   "source": [
    "# Other theft over time across London\n"
   ]
  },
  {
   "cell_type": "code",
   "execution_count": null,
   "metadata": {
    "executionInfo": {
     "elapsed": 289,
     "status": "aborted",
     "timestamp": 1628865922058,
     "user": {
      "displayName": "Vineet Sivadasan",
      "photoUrl": "",
      "userId": "02154436300300776030"
     },
     "user_tz": -60
    },
    "id": "q8N7Vy_7XnRD"
   },
   "outputs": [],
   "source": [
    "total_other_theft_bydate = df_other_theft.groupby(['Epoch']).sum()      #sum 'count' number of crimes by date\n",
    "total_other_theft_bydate.drop(['Street ID', 'ID', 'Easting', 'Northing', 'Longitude','Latitude', 'Context'], axis=1, inplace=True)     #remove all other columns\n",
    "total_other_theft_bydate['date'] = total_other_theft_bydate.index        #create another column for the date, called date\n",
    "total_other_theft_bydate"
   ]
  },
  {
   "cell_type": "code",
   "execution_count": null,
   "metadata": {
    "executionInfo": {
     "elapsed": 290,
     "status": "aborted",
     "timestamp": 1628865922059,
     "user": {
      "displayName": "Vineet Sivadasan",
      "photoUrl": "",
      "userId": "02154436300300776030"
     },
     "user_tz": -60
    },
    "id": "LofuAKZEXnRE"
   },
   "outputs": [],
   "source": [
    "#change the date format in 'Epoch' column\n",
    "total_other_theft_bydate['date'] = pd.to_datetime(total_other_theft_bydate['date']).dt.date\n",
    "total_other_theft_bydate['date'] = pd.to_datetime(total_other_theft_bydate['date']).dt.strftime('%d-%m-%Y')\n",
    "total_other_theft_bydate['date'] = pd.to_datetime(total_other_theft_bydate.date)\n",
    "total_other_theft_bydate = total_other_theft_bydate.sort_values(by = 'date')\n",
    "total_other_theft_bydate"
   ]
  },
  {
   "cell_type": "code",
   "execution_count": null,
   "metadata": {
    "executionInfo": {
     "elapsed": 289,
     "status": "aborted",
     "timestamp": 1628865922059,
     "user": {
      "displayName": "Vineet Sivadasan",
      "photoUrl": "",
      "userId": "02154436300300776030"
     },
     "user_tz": -60
    },
    "id": "ZqIZuEU0XnRF"
   },
   "outputs": [],
   "source": [
    "# plot the total number of crimes committed in London over the full 7 year period given in the dataset\n",
    "plt.figure()\n",
    "plt.plot(total_other_theft_bydate['date'], total_other_theft_bydate['count'])\n",
    "plt.xlabel(\"date\")\n",
    "plt.ylabel(\"no.of other theft crimes\")\n",
    "plt.title(\"other theft crimes across London\")"
   ]
  },
  {
   "cell_type": "code",
   "execution_count": null,
   "metadata": {
    "executionInfo": {
     "elapsed": 290,
     "status": "aborted",
     "timestamp": 1628865922060,
     "user": {
      "displayName": "Vineet Sivadasan",
      "photoUrl": "",
      "userId": "02154436300300776030"
     },
     "user_tz": -60
    },
    "id": "LW8r0qaP2t-R"
   },
   "outputs": [],
   "source": [
    "#plot of locations of the crimes, colour coded by crime category\n",
    "plt.scatter(df_other_theft['Longitude'], df_other_theft['Latitude'], c='lightseagreen',  s=6,  alpha=0.25)\n",
    "plt.xlabel('Longitude')\n",
    "plt.title('other theft crimes across London borough of Camden' )\n",
    "plt.ylabel('Latitude')"
   ]
  },
  {
   "cell_type": "markdown",
   "metadata": {
    "id": "6GOtkuvo5gc-"
   },
   "source": [
    "# Possession of weapons crimes over time across London\n"
   ]
  },
  {
   "cell_type": "code",
   "execution_count": null,
   "metadata": {
    "executionInfo": {
     "elapsed": 291,
     "status": "aborted",
     "timestamp": 1628865922061,
     "user": {
      "displayName": "Vineet Sivadasan",
      "photoUrl": "",
      "userId": "02154436300300776030"
     },
     "user_tz": -60
    },
    "id": "KJBFB0D-5gc-"
   },
   "outputs": [],
   "source": [
    "total_weapons_bydate = df_weapons.groupby(['Epoch']).sum()      #sum 'count' number of crimes by date\n",
    "total_weapons_bydate.drop(['Street ID', 'ID', 'Easting', 'Northing', 'Longitude','Latitude', 'Context'], axis=1, inplace=True)     #remove all other columns\n",
    "total_weapons_bydate['date'] = total_weapons_bydate.index        #create another column for the date, called date\n",
    "total_weapons_bydate"
   ]
  },
  {
   "cell_type": "code",
   "execution_count": null,
   "metadata": {
    "executionInfo": {
     "elapsed": 291,
     "status": "aborted",
     "timestamp": 1628865922061,
     "user": {
      "displayName": "Vineet Sivadasan",
      "photoUrl": "",
      "userId": "02154436300300776030"
     },
     "user_tz": -60
    },
    "id": "qG4E8z6p5gc-"
   },
   "outputs": [],
   "source": [
    "#change the date format in 'Epoch' column\n",
    "total_weapons_bydate['date'] = pd.to_datetime(total_weapons_bydate['date']).dt.date\n",
    "total_weapons_bydate['date'] = pd.to_datetime(total_weapons_bydate['date']).dt.strftime('%d-%m-%Y')\n",
    "total_weapons_bydate['date'] = pd.to_datetime(total_weapons_bydate.date)\n",
    "total_weapons_bydate = total_weapons_bydate.sort_values(by = 'date')\n",
    "total_weapons_bydate"
   ]
  },
  {
   "cell_type": "code",
   "execution_count": null,
   "metadata": {
    "executionInfo": {
     "elapsed": 291,
     "status": "aborted",
     "timestamp": 1628865922062,
     "user": {
      "displayName": "Vineet Sivadasan",
      "photoUrl": "",
      "userId": "02154436300300776030"
     },
     "user_tz": -60
    },
    "id": "ulO8zREM5gc_"
   },
   "outputs": [],
   "source": [
    "# plot the total number of crimes committed in London over the full 7 year period given in the dataset\n",
    "plt.figure()\n",
    "plt.plot(total_weapons_bydate['date'], total_weapons_bydate['count'])\n",
    "plt.xlabel(\"date\")\n",
    "plt.ylabel(\"no.of weapons possession crimes\")\n",
    "plt.title(\"weapons possession crimes across London\")"
   ]
  },
  {
   "cell_type": "code",
   "execution_count": null,
   "metadata": {
    "executionInfo": {
     "elapsed": 291,
     "status": "aborted",
     "timestamp": 1628865922062,
     "user": {
      "displayName": "Vineet Sivadasan",
      "photoUrl": "",
      "userId": "02154436300300776030"
     },
     "user_tz": -60
    },
    "id": "_ZFto4u93SyZ"
   },
   "outputs": [],
   "source": [
    "#plot of locations of the crimes, colour coded by crime category\n",
    "plt.scatter(df_weapons['Longitude'], df_weapons['Latitude'], c='dodgerblue',  s=6,  alpha=0.25)\n",
    "plt.xlabel('Longitude')\n",
    "plt.title('weapons possession crimes across London borough of Camden' )\n",
    "plt.ylabel('Latitude')"
   ]
  },
  {
   "cell_type": "markdown",
   "metadata": {
    "id": "DlH-jt0jGGD2"
   },
   "source": [
    "# Public order crimes over time across London"
   ]
  },
  {
   "cell_type": "code",
   "execution_count": null,
   "metadata": {
    "executionInfo": {
     "elapsed": 65,
     "status": "aborted",
     "timestamp": 1628865922090,
     "user": {
      "displayName": "Vineet Sivadasan",
      "photoUrl": "",
      "userId": "02154436300300776030"
     },
     "user_tz": -60
    },
    "id": "qtCKcd8sF4Ea"
   },
   "outputs": [],
   "source": [
    "total_pub_order_bydate = df_pub_order.groupby(['Epoch']).sum()      #sum 'count' number of crimes by date\n",
    "total_pub_order_bydate.drop(['Street ID', 'ID', 'Easting', 'Northing', 'Longitude','Latitude', 'Context'], axis=1, inplace=True)     #remove all other columns\n",
    "total_pub_order_bydate['date'] = total_pub_order_bydate.index        #create another column for the date, called date\n",
    "total_pub_order_bydate"
   ]
  },
  {
   "cell_type": "code",
   "execution_count": null,
   "metadata": {
    "executionInfo": {
     "elapsed": 65,
     "status": "aborted",
     "timestamp": 1628865922091,
     "user": {
      "displayName": "Vineet Sivadasan",
      "photoUrl": "",
      "userId": "02154436300300776030"
     },
     "user_tz": -60
    },
    "id": "zQW4XKHaF4El"
   },
   "outputs": [],
   "source": [
    "#change the date format in 'Epoch' column\n",
    "total_pub_order_bydate['date'] = pd.to_datetime(total_pub_order_bydate['date']).dt.date\n",
    "total_pub_order_bydate['date'] = pd.to_datetime(total_pub_order_bydate['date']).dt.strftime('%d-%m-%Y')\n",
    "total_pub_order_bydate['date'] = pd.to_datetime(total_pub_order_bydate.date)\n",
    "total_pub_order_bydate = total_pub_order_bydate.sort_values(by = 'date')\n",
    "total_pub_order_bydate"
   ]
  },
  {
   "cell_type": "code",
   "execution_count": null,
   "metadata": {
    "executionInfo": {
     "elapsed": 66,
     "status": "aborted",
     "timestamp": 1628865922092,
     "user": {
      "displayName": "Vineet Sivadasan",
      "photoUrl": "",
      "userId": "02154436300300776030"
     },
     "user_tz": -60
    },
    "id": "txwqzXPDF4El"
   },
   "outputs": [],
   "source": [
    "# plot the total number of crimes committed in London over the full 7 year period given in the dataset\n",
    "plt.figure()\n",
    "plt.plot(total_pub_order_bydate['date'], total_pub_order_bydate['count'])\n",
    "plt.xlabel(\"date\")\n",
    "plt.ylabel(\"no.of public order crimes\")\n",
    "plt.title(\"public order crimes across London\")"
   ]
  },
  {
   "cell_type": "code",
   "execution_count": null,
   "metadata": {
    "executionInfo": {
     "elapsed": 67,
     "status": "aborted",
     "timestamp": 1628865922093,
     "user": {
      "displayName": "Vineet Sivadasan",
      "photoUrl": "",
      "userId": "02154436300300776030"
     },
     "user_tz": -60
    },
    "id": "htMuWDxd4G3R"
   },
   "outputs": [],
   "source": [
    "#plot of locations of the crimes, colour coded by crime category\n",
    "plt.scatter(df_pub_order['Longitude'], df_pub_order['Latitude'], c='lightgreen',  s=6,  alpha=0.25)\n",
    "plt.xlabel('Longitude')\n",
    "plt.title('public order crimes across London borough of Camden' )\n",
    "plt.ylabel('Latitude')"
   ]
  },
  {
   "cell_type": "markdown",
   "metadata": {
    "id": "dSq4MrtmHeBK"
   },
   "source": [
    "# Robbery crimes over time across London"
   ]
  },
  {
   "cell_type": "code",
   "execution_count": null,
   "metadata": {
    "executionInfo": {
     "elapsed": 70,
     "status": "aborted",
     "timestamp": 1628865922096,
     "user": {
      "displayName": "Vineet Sivadasan",
      "photoUrl": "",
      "userId": "02154436300300776030"
     },
     "user_tz": -60
    },
    "id": "-s6Fr9hRHeBK"
   },
   "outputs": [],
   "source": [
    "total_robbery_bydate = df_robbery.groupby(['Epoch']).sum()      #sum 'count' number of crimes by date\n",
    "total_robbery_bydate.drop(['Street ID', 'ID', 'Easting', 'Northing', 'Longitude','Latitude', 'Context'], axis=1, inplace=True)     #remove all other columns\n",
    "total_robbery_bydate['date'] = total_robbery_bydate.index        #create another column for the date, called date\n",
    "total_robbery_bydate"
   ]
  },
  {
   "cell_type": "code",
   "execution_count": null,
   "metadata": {
    "executionInfo": {
     "elapsed": 70,
     "status": "aborted",
     "timestamp": 1628865922097,
     "user": {
      "displayName": "Vineet Sivadasan",
      "photoUrl": "",
      "userId": "02154436300300776030"
     },
     "user_tz": -60
    },
    "id": "xbnpuL0EHeBM"
   },
   "outputs": [],
   "source": [
    "#change the date format in 'Epoch' column\n",
    "total_robbery_bydate['date'] = pd.to_datetime(total_robbery_bydate['date']).dt.date\n",
    "total_robbery_bydate['date'] = pd.to_datetime(total_robbery_bydate['date']).dt.strftime('%d-%m-%Y')\n",
    "total_robbery_bydate['date'] = pd.to_datetime(total_robbery_bydate.date)\n",
    "total_robbery_bydate = total_robbery_bydate.sort_values(by = 'date')\n",
    "total_robbery_bydate"
   ]
  },
  {
   "cell_type": "code",
   "execution_count": null,
   "metadata": {
    "executionInfo": {
     "elapsed": 71,
     "status": "aborted",
     "timestamp": 1628865922098,
     "user": {
      "displayName": "Vineet Sivadasan",
      "photoUrl": "",
      "userId": "02154436300300776030"
     },
     "user_tz": -60
    },
    "id": "NA4leyOrHeBM"
   },
   "outputs": [],
   "source": [
    "# plot the total number of crimes committed in London over the full 7 year period given in the dataset\n",
    "plt.figure()\n",
    "plt.plot(total_robbery_bydate['date'], total_robbery_bydate['count'])\n",
    "plt.xlabel(\"date\")\n",
    "plt.ylabel(\"no.of robbery crimes\")\n",
    "plt.title(\"robbery crimes across London\")"
   ]
  },
  {
   "cell_type": "code",
   "execution_count": null,
   "metadata": {
    "executionInfo": {
     "elapsed": 72,
     "status": "aborted",
     "timestamp": 1628865922099,
     "user": {
      "displayName": "Vineet Sivadasan",
      "photoUrl": "",
      "userId": "02154436300300776030"
     },
     "user_tz": -60
    },
    "id": "jNZ9Kn-F4eSV"
   },
   "outputs": [],
   "source": [
    "#plot of locations of the crimes, colour coded by crime category\n",
    "plt.scatter(df_robbery['Longitude'], df_robbery['Latitude'], c='palevioletred',  s=6,  alpha=0.25)\n",
    "plt.xlabel('Longitude')\n",
    "plt.title('robbery crimes across London borough of Camden' )\n",
    "plt.ylabel('Latitude')"
   ]
  },
  {
   "cell_type": "markdown",
   "metadata": {
    "id": "2zLglqUYRapz"
   },
   "source": [
    "# Shoplifting crimes over time across London"
   ]
  },
  {
   "cell_type": "code",
   "execution_count": null,
   "metadata": {
    "executionInfo": {
     "elapsed": 75,
     "status": "aborted",
     "timestamp": 1628865922102,
     "user": {
      "displayName": "Vineet Sivadasan",
      "photoUrl": "",
      "userId": "02154436300300776030"
     },
     "user_tz": -60
    },
    "id": "T8AUZTDbRapz"
   },
   "outputs": [],
   "source": [
    "total_shoplifting_bydate = df_shoplifting.groupby(['Epoch']).sum()      #sum 'count' number of crimes by date\n",
    "total_shoplifting_bydate.drop(['Street ID', 'ID', 'Easting', 'Northing', 'Longitude','Latitude', 'Context'], axis=1, inplace=True)     #remove all other columns\n",
    "total_shoplifting_bydate['date'] = total_shoplifting_bydate.index        #create another column for the date, called date\n",
    "total_shoplifting_bydate"
   ]
  },
  {
   "cell_type": "code",
   "execution_count": null,
   "metadata": {
    "executionInfo": {
     "elapsed": 86,
     "status": "aborted",
     "timestamp": 1628865922113,
     "user": {
      "displayName": "Vineet Sivadasan",
      "photoUrl": "",
      "userId": "02154436300300776030"
     },
     "user_tz": -60
    },
    "id": "w4O1qV6tRapz"
   },
   "outputs": [],
   "source": [
    "#change the date format in 'Epoch' column\n",
    "total_shoplifting_bydate['date'] = pd.to_datetime(total_shoplifting_bydate['date']).dt.date\n",
    "total_shoplifting_bydate['date'] = pd.to_datetime(total_shoplifting_bydate['date']).dt.strftime('%d-%m-%Y')\n",
    "total_shoplifting_bydate['date'] = pd.to_datetime(total_shoplifting_bydate.date)\n",
    "total_shoplifting_bydate = total_shoplifting_bydate.sort_values(by = 'date')\n",
    "total_shoplifting_bydate"
   ]
  },
  {
   "cell_type": "code",
   "execution_count": null,
   "metadata": {
    "executionInfo": {
     "elapsed": 88,
     "status": "aborted",
     "timestamp": 1628865922115,
     "user": {
      "displayName": "Vineet Sivadasan",
      "photoUrl": "",
      "userId": "02154436300300776030"
     },
     "user_tz": -60
    },
    "id": "DMdtZjgdRap0"
   },
   "outputs": [],
   "source": [
    "# plot the total number of crimes committed in London over the full 7 year period given in the dataset\n",
    "plt.figure()\n",
    "plt.plot(total_shoplifting_bydate['date'], total_shoplifting_bydate['count'])\n",
    "plt.xlabel(\"date\")\n",
    "plt.ylabel(\"no.of shoplifting crimes\")\n",
    "plt.title(\"shoplifting crimes across London\")"
   ]
  },
  {
   "cell_type": "code",
   "execution_count": null,
   "metadata": {
    "executionInfo": {
     "elapsed": 95,
     "status": "aborted",
     "timestamp": 1628865922123,
     "user": {
      "displayName": "Vineet Sivadasan",
      "photoUrl": "",
      "userId": "02154436300300776030"
     },
     "user_tz": -60
    },
    "id": "5cYg1Mdq41An"
   },
   "outputs": [],
   "source": [
    "#plot of locations of the crimes, colour coded by crime category\n",
    "plt.scatter(df_shoplifting['Longitude'], df_shoplifting['Latitude'], c='purple',  s=6,  alpha=0.25)\n",
    "plt.xlabel('Longitude')\n",
    "plt.title('shoplifting crimes across London borough of Camden' )\n",
    "plt.ylabel('Latitude')"
   ]
  },
  {
   "cell_type": "markdown",
   "metadata": {
    "id": "6Ys85tfvGVuH"
   },
   "source": [
    "# Muggings over time across London"
   ]
  },
  {
   "cell_type": "code",
   "execution_count": null,
   "metadata": {
    "executionInfo": {
     "elapsed": 106,
     "status": "aborted",
     "timestamp": 1628865922134,
     "user": {
      "displayName": "Vineet Sivadasan",
      "photoUrl": "",
      "userId": "02154436300300776030"
     },
     "user_tz": -60
    },
    "id": "HqdSG3b0_YA4"
   },
   "outputs": [],
   "source": [
    "total_mugging_bydate = df_mugging.groupby(['Epoch']).sum()      #sum 'count' number of crimes by date\n",
    "total_mugging_bydate.drop(['Street ID', 'ID', 'Easting', 'Northing', 'Longitude','Latitude', 'Context'], axis=1, inplace=True)     #remove all other columns\n",
    "total_mugging_bydate['date'] = total_mugging_bydate.index        #create another column for the date, called date\n",
    "total_mugging_bydate"
   ]
  },
  {
   "cell_type": "code",
   "execution_count": null,
   "metadata": {
    "executionInfo": {
     "elapsed": 107,
     "status": "aborted",
     "timestamp": 1628865922135,
     "user": {
      "displayName": "Vineet Sivadasan",
      "photoUrl": "",
      "userId": "02154436300300776030"
     },
     "user_tz": -60
    },
    "id": "vdDZ_i6hF3gO"
   },
   "outputs": [],
   "source": [
    "#change the date format in 'Epoch' column\n",
    "total_mugging_bydate['date'] = pd.to_datetime(total_mugging_bydate['date']).dt.date\n",
    "total_mugging_bydate['date'] = pd.to_datetime(total_mugging_bydate['date']).dt.strftime('%d-%m-%Y')\n",
    "total_mugging_bydate['date'] = pd.to_datetime(total_mugging_bydate.date)\n",
    "total_mugging_bydate = total_mugging_bydate.sort_values(by = 'date')\n",
    "total_mugging_bydate"
   ]
  },
  {
   "cell_type": "code",
   "execution_count": null,
   "metadata": {
    "executionInfo": {
     "elapsed": 110,
     "status": "aborted",
     "timestamp": 1628865922138,
     "user": {
      "displayName": "Vineet Sivadasan",
      "photoUrl": "",
      "userId": "02154436300300776030"
     },
     "user_tz": -60
    },
    "id": "PybNWPrlGN7T"
   },
   "outputs": [],
   "source": [
    "# plot the total number of crimes committed in London over the full 7 year period given in the dataset\n",
    "plt.figure()\n",
    "plt.plot(total_mugging_bydate['date'], total_mugging_bydate['count'])\n",
    "plt.xlabel(\"date\")\n",
    "plt.ylabel(\"no.of muggings\")\n",
    "plt.title(\"muggings across London\")"
   ]
  },
  {
   "cell_type": "code",
   "execution_count": null,
   "metadata": {
    "executionInfo": {
     "elapsed": 118,
     "status": "aborted",
     "timestamp": 1628865922147,
     "user": {
      "displayName": "Vineet Sivadasan",
      "photoUrl": "",
      "userId": "02154436300300776030"
     },
     "user_tz": -60
    },
    "id": "1hiKeBUm5ply"
   },
   "outputs": [],
   "source": [
    "#plot of locations of the crimes, colour coded by crime category\n",
    "plt.scatter(df_mugging['Longitude'], df_mugging['Latitude'], c='mediumslateblue',  s=6,  alpha=0.25)\n",
    "plt.xlabel('Longitude')\n",
    "plt.title('mugging crimes across London borough of Camden' )\n",
    "plt.ylabel('Latitude')"
   ]
  },
  {
   "cell_type": "markdown",
   "metadata": {
    "id": "r4EYQ8CCS3Al"
   },
   "source": [
    "# Vehicle crime over time across London"
   ]
  },
  {
   "cell_type": "code",
   "execution_count": null,
   "metadata": {
    "executionInfo": {
     "elapsed": 119,
     "status": "aborted",
     "timestamp": 1628865922148,
     "user": {
      "displayName": "Vineet Sivadasan",
      "photoUrl": "",
      "userId": "02154436300300776030"
     },
     "user_tz": -60
    },
    "id": "zeGDwnc6S3Al"
   },
   "outputs": [],
   "source": [
    "total_vehicle_bydate = df_vehicle.groupby(['Epoch']).sum()      #sum 'count' number of crimes by date\n",
    "total_vehicle_bydate.drop(['Street ID', 'ID', 'Easting', 'Northing', 'Longitude','Latitude', 'Context'], axis=1, inplace=True)     #remove all other columns\n",
    "total_vehicle_bydate['date'] = total_vehicle_bydate.index        #create another column for the date, called date\n",
    "total_vehicle_bydate"
   ]
  },
  {
   "cell_type": "code",
   "execution_count": null,
   "metadata": {
    "executionInfo": {
     "elapsed": 120,
     "status": "aborted",
     "timestamp": 1628865922150,
     "user": {
      "displayName": "Vineet Sivadasan",
      "photoUrl": "",
      "userId": "02154436300300776030"
     },
     "user_tz": -60
    },
    "id": "i-Fyg2eYS3Al"
   },
   "outputs": [],
   "source": [
    "#change the date format in 'Epoch' column\n",
    "total_vehicle_bydate['date'] = pd.to_datetime(total_vehicle_bydate['date']).dt.date\n",
    "total_vehicle_bydate['date'] = pd.to_datetime(total_vehicle_bydate['date']).dt.strftime('%d-%m-%Y')\n",
    "total_vehicle_bydate['date'] = pd.to_datetime(total_vehicle_bydate.date)\n",
    "total_vehicle_bydate = total_vehicle_bydate.sort_values(by = 'date')\n",
    "total_vehicle_bydate"
   ]
  },
  {
   "cell_type": "code",
   "execution_count": null,
   "metadata": {
    "executionInfo": {
     "elapsed": 121,
     "status": "aborted",
     "timestamp": 1628865922151,
     "user": {
      "displayName": "Vineet Sivadasan",
      "photoUrl": "",
      "userId": "02154436300300776030"
     },
     "user_tz": -60
    },
    "id": "-dj90nPLS3Al"
   },
   "outputs": [],
   "source": [
    "# plot the total number of crimes committed in London over the full 7 year period given in the dataset\n",
    "plt.figure()\n",
    "plt.plot(total_vehicle_bydate['date'], total_vehicle_bydate['count'])\n",
    "plt.xlabel(\"date\")\n",
    "plt.ylabel(\"no.of vehicle crimes\")\n",
    "plt.title(\"vehicle crimes across London\")"
   ]
  },
  {
   "cell_type": "code",
   "execution_count": null,
   "metadata": {
    "executionInfo": {
     "elapsed": 127,
     "status": "aborted",
     "timestamp": 1628865922157,
     "user": {
      "displayName": "Vineet Sivadasan",
      "photoUrl": "",
      "userId": "02154436300300776030"
     },
     "user_tz": -60
    },
    "id": "o6lFRwOl6I-7"
   },
   "outputs": [],
   "source": [
    "#plot of locations of the crimes, colour coded by crime category\n",
    "plt.scatter(df_vehicle['Longitude'], df_vehicle['Latitude'], c='blue',  s=6,  alpha=0.25)\n",
    "plt.xlabel('Longitude')\n",
    "plt.title('vehicle crimes across London borough of Camden' )\n",
    "plt.ylabel('Latitude')"
   ]
  },
  {
   "cell_type": "markdown",
   "metadata": {
    "id": "uPLLlyymUE8k"
   },
   "source": [
    "# Violence and sexual offences crimes over time across London"
   ]
  },
  {
   "cell_type": "code",
   "execution_count": 113,
   "metadata": {
    "colab": {
     "base_uri": "https://localhost:8080/",
     "height": 450
    },
    "executionInfo": {
     "elapsed": 201,
     "status": "ok",
     "timestamp": 1628868343412,
     "user": {
      "displayName": "Vineet Sivadasan",
      "photoUrl": "",
      "userId": "02154436300300776030"
     },
     "user_tz": -60
    },
    "id": "kETEkyvQUE8k",
    "outputId": "3a3d9011-75e0-4fa8-d28b-b71a5d4006ac"
   },
   "outputs": [
    {
     "data": {
      "text/html": [
       "<div>\n",
       "<style scoped>\n",
       "    .dataframe tbody tr th:only-of-type {\n",
       "        vertical-align: middle;\n",
       "    }\n",
       "\n",
       "    .dataframe tbody tr th {\n",
       "        vertical-align: top;\n",
       "    }\n",
       "\n",
       "    .dataframe thead th {\n",
       "        text-align: right;\n",
       "    }\n",
       "</style>\n",
       "<table border=\"1\" class=\"dataframe\">\n",
       "  <thead>\n",
       "    <tr style=\"text-align: right;\">\n",
       "      <th></th>\n",
       "      <th>count</th>\n",
       "      <th>date</th>\n",
       "    </tr>\n",
       "    <tr>\n",
       "      <th>Epoch</th>\n",
       "      <th></th>\n",
       "      <th></th>\n",
       "    </tr>\n",
       "  </thead>\n",
       "  <tbody>\n",
       "    <tr>\n",
       "      <th>01/01/2015 12:00:00 AM</th>\n",
       "      <td>459</td>\n",
       "      <td>01/01/2015 12:00:00 AM</td>\n",
       "    </tr>\n",
       "    <tr>\n",
       "      <th>01/01/2016 12:00:00 AM</th>\n",
       "      <td>569</td>\n",
       "      <td>01/01/2016 12:00:00 AM</td>\n",
       "    </tr>\n",
       "    <tr>\n",
       "      <th>01/01/2017 12:00:00 AM</th>\n",
       "      <td>469</td>\n",
       "      <td>01/01/2017 12:00:00 AM</td>\n",
       "    </tr>\n",
       "    <tr>\n",
       "      <th>01/01/2018 12:00:00 AM</th>\n",
       "      <td>612</td>\n",
       "      <td>01/01/2018 12:00:00 AM</td>\n",
       "    </tr>\n",
       "    <tr>\n",
       "      <th>01/01/2019 12:00:00 AM</th>\n",
       "      <td>575</td>\n",
       "      <td>01/01/2019 12:00:00 AM</td>\n",
       "    </tr>\n",
       "    <tr>\n",
       "      <th>...</th>\n",
       "      <td>...</td>\n",
       "      <td>...</td>\n",
       "    </tr>\n",
       "    <tr>\n",
       "      <th>12/01/2016 12:00:00 AM</th>\n",
       "      <td>587</td>\n",
       "      <td>12/01/2016 12:00:00 AM</td>\n",
       "    </tr>\n",
       "    <tr>\n",
       "      <th>12/01/2017 12:00:00 AM</th>\n",
       "      <td>582</td>\n",
       "      <td>12/01/2017 12:00:00 AM</td>\n",
       "    </tr>\n",
       "    <tr>\n",
       "      <th>12/01/2018 12:00:00 AM</th>\n",
       "      <td>635</td>\n",
       "      <td>12/01/2018 12:00:00 AM</td>\n",
       "    </tr>\n",
       "    <tr>\n",
       "      <th>12/01/2019 12:00:00 AM</th>\n",
       "      <td>649</td>\n",
       "      <td>12/01/2019 12:00:00 AM</td>\n",
       "    </tr>\n",
       "    <tr>\n",
       "      <th>12/01/2020 12:00:00 AM</th>\n",
       "      <td>505</td>\n",
       "      <td>12/01/2020 12:00:00 AM</td>\n",
       "    </tr>\n",
       "  </tbody>\n",
       "</table>\n",
       "<p>76 rows × 2 columns</p>\n",
       "</div>"
      ],
      "text/plain": [
       "                        count                    date\n",
       "Epoch                                                \n",
       "01/01/2015 12:00:00 AM    459  01/01/2015 12:00:00 AM\n",
       "01/01/2016 12:00:00 AM    569  01/01/2016 12:00:00 AM\n",
       "01/01/2017 12:00:00 AM    469  01/01/2017 12:00:00 AM\n",
       "01/01/2018 12:00:00 AM    612  01/01/2018 12:00:00 AM\n",
       "01/01/2019 12:00:00 AM    575  01/01/2019 12:00:00 AM\n",
       "...                       ...                     ...\n",
       "12/01/2016 12:00:00 AM    587  12/01/2016 12:00:00 AM\n",
       "12/01/2017 12:00:00 AM    582  12/01/2017 12:00:00 AM\n",
       "12/01/2018 12:00:00 AM    635  12/01/2018 12:00:00 AM\n",
       "12/01/2019 12:00:00 AM    649  12/01/2019 12:00:00 AM\n",
       "12/01/2020 12:00:00 AM    505  12/01/2020 12:00:00 AM\n",
       "\n",
       "[76 rows x 2 columns]"
      ]
     },
     "execution_count": 113,
     "metadata": {
      "tags": []
     },
     "output_type": "execute_result"
    }
   ],
   "source": [
    "total_viol_sex_bydate = df_viol_sex.groupby(['Epoch']).sum()      #sum 'count' number of crimes by date\n",
    "total_viol_sex_bydate.drop(['Street ID', 'ID', 'Easting', 'Northing', 'Longitude','Latitude', 'Context'], axis=1, inplace=True)     #remove all other columns\n",
    "total_viol_sex_bydate['date'] = total_viol_sex_bydate.index        #create another column for the date, called date\n",
    "total_viol_sex_bydate"
   ]
  },
  {
   "cell_type": "code",
   "execution_count": 114,
   "metadata": {
    "colab": {
     "base_uri": "https://localhost:8080/",
     "height": 450
    },
    "executionInfo": {
     "elapsed": 204,
     "status": "ok",
     "timestamp": 1628868346203,
     "user": {
      "displayName": "Vineet Sivadasan",
      "photoUrl": "",
      "userId": "02154436300300776030"
     },
     "user_tz": -60
    },
    "id": "cKT7ifvdUE8l",
    "outputId": "0c107d0f-9be7-4261-eeab-d486e49e5a91"
   },
   "outputs": [
    {
     "data": {
      "text/html": [
       "<div>\n",
       "<style scoped>\n",
       "    .dataframe tbody tr th:only-of-type {\n",
       "        vertical-align: middle;\n",
       "    }\n",
       "\n",
       "    .dataframe tbody tr th {\n",
       "        vertical-align: top;\n",
       "    }\n",
       "\n",
       "    .dataframe thead th {\n",
       "        text-align: right;\n",
       "    }\n",
       "</style>\n",
       "<table border=\"1\" class=\"dataframe\">\n",
       "  <thead>\n",
       "    <tr style=\"text-align: right;\">\n",
       "      <th></th>\n",
       "      <th>count</th>\n",
       "      <th>date</th>\n",
       "    </tr>\n",
       "    <tr>\n",
       "      <th>Epoch</th>\n",
       "      <th></th>\n",
       "      <th></th>\n",
       "    </tr>\n",
       "  </thead>\n",
       "  <tbody>\n",
       "    <tr>\n",
       "      <th>01/01/2015 12:00:00 AM</th>\n",
       "      <td>459</td>\n",
       "      <td>2015-01-01</td>\n",
       "    </tr>\n",
       "    <tr>\n",
       "      <th>02/01/2015 12:00:00 AM</th>\n",
       "      <td>458</td>\n",
       "      <td>2015-01-02</td>\n",
       "    </tr>\n",
       "    <tr>\n",
       "      <th>03/01/2015 12:00:00 AM</th>\n",
       "      <td>511</td>\n",
       "      <td>2015-01-03</td>\n",
       "    </tr>\n",
       "    <tr>\n",
       "      <th>04/01/2015 12:00:00 AM</th>\n",
       "      <td>476</td>\n",
       "      <td>2015-01-04</td>\n",
       "    </tr>\n",
       "    <tr>\n",
       "      <th>05/01/2015 12:00:00 AM</th>\n",
       "      <td>504</td>\n",
       "      <td>2015-01-05</td>\n",
       "    </tr>\n",
       "    <tr>\n",
       "      <th>...</th>\n",
       "      <td>...</td>\n",
       "      <td>...</td>\n",
       "    </tr>\n",
       "    <tr>\n",
       "      <th>12/01/2020 12:00:00 AM</th>\n",
       "      <td>505</td>\n",
       "      <td>2020-01-12</td>\n",
       "    </tr>\n",
       "    <tr>\n",
       "      <th>01/01/2021 12:00:00 AM</th>\n",
       "      <td>427</td>\n",
       "      <td>2021-01-01</td>\n",
       "    </tr>\n",
       "    <tr>\n",
       "      <th>02/01/2021 12:00:00 AM</th>\n",
       "      <td>418</td>\n",
       "      <td>2021-01-02</td>\n",
       "    </tr>\n",
       "    <tr>\n",
       "      <th>03/01/2021 12:00:00 AM</th>\n",
       "      <td>523</td>\n",
       "      <td>2021-01-03</td>\n",
       "    </tr>\n",
       "    <tr>\n",
       "      <th>04/01/2021 12:00:00 AM</th>\n",
       "      <td>483</td>\n",
       "      <td>2021-01-04</td>\n",
       "    </tr>\n",
       "  </tbody>\n",
       "</table>\n",
       "<p>76 rows × 2 columns</p>\n",
       "</div>"
      ],
      "text/plain": [
       "                        count       date\n",
       "Epoch                                   \n",
       "01/01/2015 12:00:00 AM    459 2015-01-01\n",
       "02/01/2015 12:00:00 AM    458 2015-01-02\n",
       "03/01/2015 12:00:00 AM    511 2015-01-03\n",
       "04/01/2015 12:00:00 AM    476 2015-01-04\n",
       "05/01/2015 12:00:00 AM    504 2015-01-05\n",
       "...                       ...        ...\n",
       "12/01/2020 12:00:00 AM    505 2020-01-12\n",
       "01/01/2021 12:00:00 AM    427 2021-01-01\n",
       "02/01/2021 12:00:00 AM    418 2021-01-02\n",
       "03/01/2021 12:00:00 AM    523 2021-01-03\n",
       "04/01/2021 12:00:00 AM    483 2021-01-04\n",
       "\n",
       "[76 rows x 2 columns]"
      ]
     },
     "execution_count": 114,
     "metadata": {
      "tags": []
     },
     "output_type": "execute_result"
    }
   ],
   "source": [
    "#change the date format in 'Epoch' column\n",
    "total_viol_sex_bydate['date'] = pd.to_datetime(total_viol_sex_bydate['date']).dt.date\n",
    "total_viol_sex_bydate['date'] = pd.to_datetime(total_viol_sex_bydate['date']).dt.strftime('%d-%m-%Y')\n",
    "total_viol_sex_bydate['date'] = pd.to_datetime(total_viol_sex_bydate.date)\n",
    "total_viol_sex_bydate = total_viol_sex_bydate.sort_values(by = 'date')\n",
    "total_viol_sex_bydate"
   ]
  },
  {
   "cell_type": "code",
   "execution_count": null,
   "metadata": {
    "executionInfo": {
     "elapsed": 135,
     "status": "aborted",
     "timestamp": 1628865922165,
     "user": {
      "displayName": "Vineet Sivadasan",
      "photoUrl": "",
      "userId": "02154436300300776030"
     },
     "user_tz": -60
    },
    "id": "wXbXIu1TUE8l"
   },
   "outputs": [],
   "source": [
    "# plot the total number of crimes committed in London over the full 7 year period given in the dataset\n",
    "plt.figure()\n",
    "plt.plot(total_viol_sex_bydate['date'], total_viol_sex_bydate['count'])\n",
    "plt.xlabel(\"date\")\n",
    "plt.ylabel(\"no.of violence and sexual offences crimes\")\n",
    "plt.title(\"violence and sexual offences crimes across London\")"
   ]
  },
  {
   "cell_type": "code",
   "execution_count": null,
   "metadata": {
    "executionInfo": {
     "elapsed": 137,
     "status": "aborted",
     "timestamp": 1628865922167,
     "user": {
      "displayName": "Vineet Sivadasan",
      "photoUrl": "",
      "userId": "02154436300300776030"
     },
     "user_tz": -60
    },
    "id": "jdvh1Ts46cbw"
   },
   "outputs": [],
   "source": [
    "#plot of locations of the crimes, colour coded by crime category\n",
    "plt.scatter(df_viol_sex['Longitude'], df_viol_sex['Latitude'], c='teal',  s=6,  alpha=0.25)\n",
    "plt.xlabel('Longitude')\n",
    "plt.title('violence and sexual assualt across London borough of Camden' )\n",
    "plt.ylabel('Latitude')"
   ]
  }
 ],
 "metadata": {
  "colab": {
   "authorship_tag": "ABX9TyN4MNKzcVM2M9ByryDdCTkf",
   "name": "ONS_crime_type.ipynb",
   "provenance": []
  },
  "kernelspec": {
   "display_name": "Python 3 (ipykernel)",
   "language": "python",
   "name": "python3"
  },
  "language_info": {
   "codemirror_mode": {
    "name": "ipython",
    "version": 3
   },
   "file_extension": ".py",
   "mimetype": "text/x-python",
   "name": "python",
   "nbconvert_exporter": "python",
   "pygments_lexer": "ipython3",
   "version": "3.10.9"
  }
 },
 "nbformat": 4,
 "nbformat_minor": 4
}
